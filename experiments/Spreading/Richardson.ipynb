{
 "cells": [
  {
   "cell_type": "markdown",
   "metadata": {},
   "source": [
    "# Richardson's for thirds law spreading\n",
    "\n",
    "This is a bitof code to mess with Richardson's 4/3 law spreading.\n",
    "\n",
    "The math:\n",
    "\n",
    "The diffusion coeff is a function of length scale:\n",
    "\n",
    "$D = \\alpha L^{4/3}$\n",
    "\n",
    "And the length scale (size of plume, $\\sigma$) grows with the Diffusion coef:\n",
    "\n",
    "$\\frac{d \\sigma^2}{dt} = 2 D  \\; \\; \\text{or} \\;\\; \\sigma^2 = 2 D t$\n",
    "\n",
    "where: $\\alpha$ is a constant that appears to be pretty consistent with environmental flows:\n",
    "\n",
    "(0.002 < $\\alpha$ < 0.01  $cm^{2/3}s^{-1}$ )\n",
    "\n",
    "Once all put together, you get the variance of the \"plume\" growing as:\n",
    "\n",
    "$\\sigma^2 = \\left({\\textstyle \\frac{2}{3}} \\alpha t \\right)^3$\n",
    "\n",
    "And the diffusion coeff as a function of the variance:\n",
    "\n",
    "$D = \\frac{1}{2} \\frac{d \\sigma^2}{dt} = \\alpha (\\sigma^2)^{2/3}$"
   ]
  },
  {
   "cell_type": "code",
   "execution_count": 1,
   "metadata": {
    "collapsed": true
   },
   "outputs": [],
   "source": [
    "import numpy as np\n",
    "import matplotlib.pyplot as plt\n",
    "%matplotlib inline\n"
   ]
  },
  {
   "cell_type": "code",
   "execution_count": 2,
   "metadata": {
    "collapsed": true
   },
   "outputs": [],
   "source": [
    "def var(t):\n",
    "    \"\"\" the variance as a function of time, according to the 4/3 law\"\"\"\n",
    "    return (2.0/3.0*alpha*t)**3\n",
    "\n",
    "def Diff(t):\n",
    "    \"\"\"The Diffusion coef as a function of time\"\"\"\n",
    "    "
   ]
  },
  {
   "cell_type": "code",
   "execution_count": null,
   "metadata": {
    "collapsed": true
   },
   "outputs": [],
   "source": []
  }
 ],
 "metadata": {
  "kernelspec": {
   "display_name": "Python 2",
   "language": "python",
   "name": "python2"
  },
  "language_info": {
   "codemirror_mode": {
    "name": "ipython",
    "version": 2
   },
   "file_extension": ".py",
   "mimetype": "text/x-python",
   "name": "python",
   "nbconvert_exporter": "python",
   "pygments_lexer": "ipython2",
   "version": "2.7.10"
  }
 },
 "nbformat": 4,
 "nbformat_minor": 0
}
