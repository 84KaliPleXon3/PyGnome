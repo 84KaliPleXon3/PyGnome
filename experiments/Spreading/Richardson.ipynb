{
 "cells": [
  {
   "cell_type": "markdown",
   "metadata": {},
   "source": [
    "# Richardson's for thirds law spreading\n",
    "\n",
    "This is a bitof code to mess with Richardson's 4/3 law spreading.\n",
    "\n",
    "The math:\n",
    "\n",
    "The diffusion coeff is a function of length scale:\n",
    "\n",
    "$D = \\alpha L^{4/3}$ or $L = (\\frac{D}{\\alpha})^\\frac{3}{4}$\n",
    "\n",
    "And the length scale (size of plume, $\\sigma$) grows with the Diffusion coef:\n",
    "\n",
    "$\\frac{d \\sigma^2}{dt} = 2 D  \\; \\; \\text{or} \\;\\; \\sigma^2 = 2 D t$\n",
    "\n",
    "where: $\\alpha$ is a constant that appears to be pretty consistent with environmental flows:\n",
    "\n",
    "(0.002 < $\\alpha$ < 0.01  $cm^{2/3}s^{-1}$ )\n",
    "\n",
    "Once all put together, you get the variance of the \"plume\" growing as:\n",
    "\n",
    "$\\sigma^2 = \\left({\\textstyle \\frac{2}{3}} \\alpha t \\right)^3$\n",
    "\n",
    "And the diffusion coeff as a function of the variance:\n",
    "\n",
    "$D = \\frac{1}{2} \\frac{d \\sigma^2}{dt} = \\alpha (\\sigma^2)^{2/3}$\n",
    "\n",
    "Resulting in a diffusion coeff as a function of time:\n",
    "\n",
    "$ D = \\frac{4}{9} \\alpha^3 t^2 $\n",
    "\n",
    "\n"
   ]
  },
  {
   "cell_type": "code",
   "execution_count": 1,
   "metadata": {
    "collapsed": true
   },
   "outputs": [],
   "source": [
    "import numpy as np\n",
    "import matplotlib.pyplot as plt\n",
    "%matplotlib inline\n"
   ]
  },
  {
   "cell_type": "code",
   "execution_count": 6,
   "metadata": {
    "collapsed": true
   },
   "outputs": [],
   "source": [
    "class Diffusion(object):\n",
    "\n",
    "    alpha = 0.06 # should be between 0.002 and 0.01 all in CGS units\n",
    "    \n",
    "    def var(self, t):\n",
    "        \"\"\" the variance as a function of time, according to the 4/3 law\"\"\"\n",
    "        return (2.0/3.0 * self.alpha * t)**3\n",
    "\n",
    "    def sigma(self, t):\n",
    "        return np.sqrt(self.var(t))\n",
    "\n",
    "    def Diff(self, t):\n",
    "        \"\"\"The Diffusion coef as a function of time\"\"\"\n",
    "        return 4.0/9.0 * self.alpha**3 * t**2\n",
    "    \n",
    "    def time(self, D):\n",
    "        \"\"\"time as a function of Diffusion coef\"\"\"\n",
    "        3.0 * 2.0 * np.sqrt(D / self.alpha**3)\n",
    "    \n",
    "    def Length(self, D):\n",
    "        \"\"\"comutes the mixing length scale\"\"\"\n",
    "        return D  / self.alpha\n",
    "\n",
    "    "
   ]
  },
  {
   "cell_type": "code",
   "execution_count": 7,
   "metadata": {
    "collapsed": false
   },
   "outputs": [
    {
     "name": "stdout",
     "output_type": "stream",
     "text": [
      "length scale is: 16666.6666667 m\n"
     ]
    }
   ],
   "source": [
    "# what's the time and length scale of GNOME diffusion???\n",
    "\n",
    "diff = Diffusion()\n",
    "D = 1e5 # typical value for GNOME in coastal regions\n",
    "L = diff.Length(D)\n",
    "print \"length scale is:\", L/100 , \"m\"\n"
   ]
  },
  {
   "cell_type": "code",
   "execution_count": null,
   "metadata": {
    "collapsed": true
   },
   "outputs": [],
   "source": []
  }
 ],
 "metadata": {
  "kernelspec": {
   "display_name": "Python 2",
   "language": "python",
   "name": "python2"
  },
  "language_info": {
   "codemirror_mode": {
    "name": "ipython",
    "version": 2
   },
   "file_extension": ".py",
   "mimetype": "text/x-python",
   "name": "python",
   "nbconvert_exporter": "python",
   "pygments_lexer": "ipython2",
   "version": "2.7.10"
  }
 },
 "nbformat": 4,
 "nbformat_minor": 0
}
