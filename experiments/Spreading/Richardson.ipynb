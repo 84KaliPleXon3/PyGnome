{
 "cells": [
  {
   "cell_type": "markdown",
   "metadata": {},
   "source": [
    "# Richardson's four thirds law spreading\n",
    "\n",
    "This is a bit of code to mess with Richardson's 4/3 law spreading.\n",
    "\n",
    "The math:\n",
    "\n",
    "The diffusion coeff is a function of length scale:\n",
    "\n",
    "$D = \\alpha L^{4/3}$ or $L = (\\frac{D}{\\alpha})^\\frac{3}{4}$\n",
    "\n",
    "And the length scale (size of plume, $\\sigma$) grows with the Diffusion coef:\n",
    "\n",
    "$\\frac{d \\sigma^2}{dt} = 2 D  \\; \\; \\text{or} \\;\\; \\sigma^2 = 2 D t$\n",
    "\n",
    "where: $\\alpha$ is a constant that appears to be pretty consistent with environmental flows:\n",
    "\n",
    "(0.002 < $\\alpha$ < 0.01  $cm^{2/3}s^{-1}$ )\n",
    "\n",
    "Once all put together, you get the variance of the \"plume\" growing as:\n",
    "\n",
    "$\\sigma^2 = \\left({\\textstyle \\frac{2}{3}} \\alpha t \\right)^3$\n",
    "\n",
    "or\n",
    "\n",
    "$\\sigma = \\left({\\textstyle \\frac{2}{3}} \\alpha t \\right)^{3/2}$\n",
    "\n",
    "And the diffusion coeff as a function of the variance:\n",
    "\n",
    "$D = \\frac{1}{2} \\frac{d \\sigma^2}{dt} = \\alpha (\\sigma^2)^{2/3}$\n",
    "\n",
    "Resulting in a diffusion coeff as a function of time:\n",
    "\n",
    "$ D = \\frac{4}{9} \\alpha^3 t^2 $\n",
    "\n",
    "\n"
   ]
  },
  {
   "cell_type": "code",
   "execution_count": 37,
   "metadata": {
    "collapsed": true
   },
   "outputs": [],
   "source": [
    "import numpy as np\n",
    "import matplotlib.pyplot as plt\n",
    "%matplotlib inline\n"
   ]
  },
  {
   "cell_type": "code",
   "execution_count": 38,
   "metadata": {
    "collapsed": true
   },
   "outputs": [],
   "source": [
    "class Diffusion(object):\n",
    "\n",
    "    alpha = 0.01 # should be between 0.002 and 0.01 all in CGS units\n",
    "                 # this is the larger number -- probably suited to coastal surface flows. \n",
    "    \n",
    "    def var(self, t):\n",
    "        \"\"\" the variance as a function of time, according to the 4/3 law\"\"\"\n",
    "        return (2.0/3.0 * self.alpha * t)**3\n",
    "\n",
    "    def area(self, t):\n",
    "        return np.pi * 4.0 * self.var(t)\n",
    "        \n",
    "    def sigma(self, t):\n",
    "        return np.sqrt(self.var(t))\n",
    "    \n",
    "    def Diff(self, t):\n",
    "        \"\"\"The Diffusion coef as a function of time\"\"\"\n",
    "        return 4.0/9.0 * self.alpha**3 * t**2\n",
    "    \n",
    "    def time(self, D):\n",
    "        \"\"\"time as a function of Diffusion coef\"\"\"\n",
    "        return 3.0 * 2.0 * np.sqrt(D / self.alpha**3)\n",
    "    \n",
    "    def Length(self, D):\n",
    "        \"\"\"comutes the mixing length scale\"\"\"\n",
    "        return D  / self.alpha\n",
    "\n",
    "    "
   ]
  },
  {
   "cell_type": "code",
   "execution_count": 39,
   "metadata": {
    "collapsed": false
   },
   "outputs": [
    {
     "name": "stdout",
     "output_type": "stream",
     "text": [
      "length scale is: 500000.000000 m with alpha = 0.002000\n",
      "time scale is: 5892.556510 hr (245.523188 days) with alpha = 0.002000\n",
      "length scale is: 100000.000000m with alpha = 0.010000\n",
      "time scale is: 527.046277 hr (21.960262 days) with alpha = 0.010000\n"
     ]
    }
   ],
   "source": [
    "# what's the time and length scale of GNOME diffusion???\n",
    "\n",
    "diff = Diffusion()\n",
    "D = 1e5 # typical value for GNOME in coastal regions\n",
    "#small alpha:\n",
    "diff.alpha = 0.002\n",
    "L = diff.Length(D)\n",
    "T = diff.time(D)\n",
    "print \"length scale is: %f m with alpha = %f\"%(L/100, diff.alpha)\n",
    "print \"time scale is: %f hr (%F days) with alpha = %f\"%(T/3600, T/3600/24,  diff.alpha)\n",
    "# or, with max alpha:\n",
    "diff.alpha = 0.01\n",
    "L = diff.Length(D)\n",
    "T = diff.time(D)\n",
    "print \"length scale is: %fm with alpha = %f\"%(L/100, diff.alpha)\n",
    "print \"time scale is: %f hr (%F days) with alpha = %f\"%(T/3600, T/3600/24,  diff.alpha)\n"
   ]
  },
  {
   "cell_type": "markdown",
   "metadata": {
    "collapsed": true
   },
   "source": [
    "So we are looking at 100 to 500 km diffusion scale!\n",
    "With time scales of 21 to 245! days\n",
    "\n",
    "This is why the spreading scale is totally different than the diffusion scale used in transport.\n",
    "\n",
    "## Check units!!"
   ]
  },
  {
   "cell_type": "markdown",
   "metadata": {},
   "source": [
    "## Spread if we use 4/3 law..."
   ]
  },
  {
   "cell_type": "code",
   "execution_count": 40,
   "metadata": {
    "collapsed": false
   },
   "outputs": [
    {
     "data": {
      "text/plain": [
       "<matplotlib.text.Text at 0x10d5d0310>"
      ]
     },
     "execution_count": 40,
     "metadata": {},
     "output_type": "execute_result"
    },
    {
     "data": {
      "image/png": "[encoded data removed]",
      "text/plain": [
       "<matplotlib.figure.Figure at 0x10d58a1d0>"
      ]
     },
     "metadata": {},
     "output_type": "display_data"
    }
   ],
   "source": [
    "diff = Diffusion() # using default alpha\n",
    "\n",
    "t = np.linspace(0, 24*3600,100) # time in seconds\n",
    "std = diff.sigma(t) / 100 # std dev in meters\n",
    "\n",
    "fig = plt.figure()  # a new figure window\n",
    "ax = fig.add_subplot(1, 1, 1)  # specify (nrows, ncols, axnum)\n",
    "ax.plot(t / 3600, std)\n",
    "ax.set_xlabel(\"time (hrs)\")\n",
    "ax.set_ylabel(\"std (meters)\")"
   ]
  },
  {
   "cell_type": "markdown",
   "metadata": {},
   "source": [
    "Hmm -- kinda slow??\n",
    "\n",
    "Say radius is 2 std... (95 of the oil)"
   ]
  },
  {
   "cell_type": "code",
   "execution_count": 41,
   "metadata": {
    "collapsed": false
   },
   "outputs": [],
   "source": [
    "area = 2 * np.pi * (2*std)**2"
   ]
  },
  {
   "cell_type": "code",
   "execution_count": 42,
   "metadata": {
    "collapsed": false
   },
   "outputs": [
    {
     "data": {
      "text/plain": [
       "<matplotlib.text.Text at 0x10d1c8350>"
      ]
     },
     "execution_count": 42,
     "metadata": {},
     "output_type": "execute_result"
    },
    {
     "data": {
      "image/png": "[encoded data removed]",
      "text/plain": [
       "<matplotlib.figure.Figure at 0x10d5d80d0>"
      ]
     },
     "metadata": {},
     "output_type": "display_data"
    }
   ],
   "source": [
    "fig2 = plt.figure()  # a new figure window\n",
    "ax = fig2.add_subplot(1, 1, 1)  # specify (nrows, ncols, axnum)\n",
    "ax.plot(t / 3600, area)\n",
    "ax.set_xlabel(\"time (hrs)\")\n",
    "ax.set_ylabel(\"area (m^2)\")"
   ]
  },
  {
   "cell_type": "markdown",
   "metadata": {},
   "source": [
    "# Computational checks...\n",
    "\n",
    "If we compute this all as a differential equation instead -- L as a functin of time, D as a function of L, etc... we can see if the math above is right:\n",
    "\n",
    "$D = \\alpha L^{4/3}$\n",
    "\n",
    "With fickian diffusion, $\\sigma^2$ increases with D:\n",
    "\n",
    "$ \\sigma^2 = 2Dt$\n",
    "\n",
    "In finite difference form:\n",
    "\n",
    "$\\sigma_{i+1} = \\sqrt{\\sigma^2_i + 2D * \\delta t}$\n",
    "\n",
    "\n",
    "If we substitute L for D, then we can compute the growth numerically.\n"
   ]
  },
  {
   "cell_type": "markdown",
   "metadata": {},
   "source": [
    "## Constant Diffusion (fickian)"
   ]
  },
  {
   "cell_type": "code",
   "execution_count": 135,
   "metadata": {
    "collapsed": false
   },
   "outputs": [],
   "source": [
    "# A numerical solution to constant diffusion\n",
    "from math import sqrt\n",
    "\n",
    "D = 10 # m^2/s -- 10^5cm^2/s\n",
    "\n",
    "time = np.linspace(0, 3600*24, 10)\n",
    "time2 = np.linspace(0, 3600*24, 100)\n",
    "dt = time[1] - time[0]\n",
    "Sigma = np.zeros_like(time)\n",
    "Sigma[0] = 0\n",
    "for i in xrange(len(time)-1):\n",
    "    Sigma[i+1] = sqrt( Sigma[i]**2 + 2*D*dt)\n"
   ]
  },
  {
   "cell_type": "code",
   "execution_count": 136,
   "metadata": {
    "collapsed": false
   },
   "outputs": [
    {
     "data": {
      "text/plain": [
       "<matplotlib.text.Text at 0x112741ed0>"
      ]
     },
     "execution_count": 136,
     "metadata": {},
     "output_type": "execute_result"
    },
    {
     "data": {
      "image/png": "[encoded data removed]",
      "text/plain": [
       "<matplotlib.figure.Figure at 0x1125ca550>"
      ]
     },
     "metadata": {},
     "output_type": "display_data"
    }
   ],
   "source": [
    "fig, ax = plt.subplots(1, 1)\n",
    "ax.plot(time, Sigma, 'o', label='Numerical')\n",
    "#analytical solution\n",
    "ax.plot(time2, np.sqrt(2*D*time2), label='Analytical')\n",
    "ax.legend(loc='upper left')\n",
    "ax.set_title(\"Comparison of analytical and numerical diffusion\")"
   ]
  },
  {
   "cell_type": "markdown",
   "metadata": {},
   "source": [
    "## Richardson's Diffusion\n",
    "\n",
    "This indicates that the math I did above works.\n",
    "\n",
    "Note that the timestep has to be quite small to make the solutions match well -- at least with the Euler method. So we need to be careful there if we do this numerically."
   ]
  },
  {
   "cell_type": "code",
   "execution_count": 159,
   "metadata": {
    "collapsed": true
   },
   "outputs": [],
   "source": [
    "# A numerical solution:\n",
    "from math import sqrt\n",
    "alpha = 0.01\n",
    "L_0 = 1\n",
    "dt = 3600\n",
    "fourthirds = (4.0 / 3.0)\n",
    "\n",
    "def DofL(L):\n",
    "    # \"Richardson's law\"\n",
    "    return alpha * L**fourthirds\n",
    "\n",
    "time = np.linspace(0, 3600*24, 1000)\n",
    "time2 = np.linspace(0, 3600*24, 10)\n",
    "dt = time[1] - time[0]\n",
    "Sigma = np.zeros_like(time)\n",
    "Sigma[0] = L_0\n",
    "for i in xrange(len(time)-1):\n",
    "    Sigma[i+1] = sqrt( Sigma[i]**2 + 2*DofL(Sigma[i])*dt)\n"
   ]
  },
  {
   "cell_type": "code",
   "execution_count": 160,
   "metadata": {
    "collapsed": false
   },
   "outputs": [
    {
     "data": {
      "text/plain": [
       "<matplotlib.text.Text at 0x113cdd150>"
      ]
     },
     "execution_count": 160,
     "metadata": {},
     "output_type": "execute_result"
    },
    {
     "data": {
      "image/png": "[encoded data removed]",
      "text/plain": [
       "<matplotlib.figure.Figure at 0x114934810>"
      ]
     },
     "metadata": {},
     "output_type": "display_data"
    }
   ],
   "source": [
    "fig, ax = plt.subplots(1, 1)\n",
    "ax.plot(time/3600, Sigma, label=\"Computational\")\n",
    "#analytical solution\n",
    "ax.plot(time2/3600, (2./3.*alpha*time2)**(3./2.), 'o', label='Analytical')\n",
    "ax.legend(loc='upper left')\n",
    "ax.set_title(\"Comparison of analytical and numerical diffusion\")"
   ]
  },
  {
   "cell_type": "code",
   "execution_count": null,
   "metadata": {
    "collapsed": true
   },
   "outputs": [],
   "source": []
  },
  {
   "cell_type": "code",
   "execution_count": null,
   "metadata": {
    "collapsed": true
   },
   "outputs": [],
   "source": []
  }
 ],
 "metadata": {
  "kernelspec": {
   "display_name": "Python 2",
   "language": "python",
   "name": "python2"
  },
  "language_info": {
   "codemirror_mode": {
    "name": "ipython",
    "version": 2
   },
   "file_extension": ".py",
   "mimetype": "text/x-python",
   "name": "python",
   "nbconvert_exporter": "python",
   "pygments_lexer": "ipython2",
   "version": "2.7.11"
  }
 },
 "nbformat": 4,
 "nbformat_minor": 0
}
