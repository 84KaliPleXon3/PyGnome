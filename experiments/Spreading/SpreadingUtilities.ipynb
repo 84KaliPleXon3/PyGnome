{
 "cells": [
  {
   "cell_type": "markdown",
   "metadata": {},
   "source": [
    "# Assorted Spreading Code...\n",
    "\n",
    "Stuff here to teset, etc..."
   ]
  },
  {
   "cell_type": "code",
   "execution_count": 21,
   "metadata": {
    "collapsed": true
   },
   "outputs": [],
   "source": [
    "import numpy as np\n",
    "import matplotlib.pyplot as plt\n",
    "%matplotlib inline"
   ]
  },
  {
   "cell_type": "markdown",
   "metadata": {},
   "source": [
    "# Fay Spreading...\n",
    "\n",
    "Fay spreading, as done in ADIOS2 (and Merv's book)\n"
   ]
  },
  {
   "cell_type": "markdown",
   "metadata": {},
   "source": [
    "## Initial area\n",
    "\n",
    "$A_0 = \\pi \\frac{K_1^4}{K_2^2}\\left( \\frac{g V_0^5 \\Delta}{\\nu_w^2} \\right)^{1/6}$\n",
    "\n",
    "## Initial radius\n",
    "\n",
    "$r_0 = \\frac{K_1^2}{K_2}\\left( \\frac{g V_0^5 \\Delta}{\\nu_w^2} \\right)^{1/12}$\n",
    "\n",
    "This is the end of the gravity-viscous stage -- essentially linear with initial volume\n",
    "\n",
    "### Continuous release?\n",
    "But what to do about a continuos release? We should be able to do something with the the release rate -- scaling to the time to get to the end of the gravity-viscous stage? The idea here is that the shorter the timestep, the smaller each LE mass is -- but we dont want the result to be a function of timestep."
   ]
  },
  {
   "cell_type": "code",
   "execution_count": 31,
   "metadata": {
    "collapsed": false
   },
   "outputs": [],
   "source": [
    "# Constants\n",
    "K1=1.53 # not sure where these come from -- slightly different than Fay (1971)\n",
    "K2=1.21\n",
    "\n",
    "visc_w = 1e-6 # viscoscity of water: m^2/s\n",
    "\n",
    "g = 9.806 # gavity, m/s^2\n",
    "\n",
    "def delta():\n",
    "    rho_oil = 0.8 # density of oil\n",
    "    rho_water = 1 # density of water\n",
    "    return (pw-po)/pw\n",
    "\n",
    "def init_area(V0):\n",
    "    return np.pi * (K1**4/K2**2) * ((g * V0**5 * delta())/visc_w**2 )**(1./6.) \n",
    "\n",
    "def init_radius(V0):\n",
    "    return         (K1**2/K2) * ((g * V0**5 * delta())/visc_w**2 )**(1./12.) \n"
   ]
  },
  {
   "cell_type": "code",
   "execution_count": 32,
   "metadata": {
    "collapsed": false
   },
   "outputs": [],
   "source": [
    "vol = np.linspace(1,100) # 1 to 100 cubic meters\n",
    "area = init_area(vol)\n",
    "radius = init_radius(vol)"
   ]
  },
  {
   "cell_type": "code",
   "execution_count": 33,
   "metadata": {
    "collapsed": false
   },
   "outputs": [
    {
     "data": {
      "text/plain": [
       "[<matplotlib.lines.Line2D at 0x10cfb1590>]"
      ]
     },
     "execution_count": 33,
     "metadata": {},
     "output_type": "execute_result"
    },
    {
     "data": {
      "image/png": "[encoded data removed]",
      "text/plain": [
       "<matplotlib.figure.Figure at 0x10ce462d0>"
      ]
     },
     "metadata": {},
     "output_type": "display_data"
    }
   ],
   "source": [
    "fig, ax = plt.subplots(1,1)\n",
    "ax.plot(vol, area)\n",
    "ax.plot(vol, np.pi * radius**2)"
   ]
  },
  {
   "cell_type": "code",
   "execution_count": 36,
   "metadata": {
    "collapsed": false
   },
   "outputs": [],
   "source": [
    "# A check on the radius / area code:\n",
    "assert np.allclose(np.pi * radius**2, area)"
   ]
  },
  {
   "cell_type": "markdown",
   "metadata": {},
   "source": [
    "## Gravity-viscous spreading\n",
    "\n",
    "The main \"Fay Spreading\"\n",
    "\n",
    "radius:\n",
    "\n",
    "$r(t) = K_2(\\frac{g \\Delta V_0^2 t^{3/2}}{\\nu^{1/2}})^{1/6}$\n",
    "\n",
    "area:\n",
    "\n",
    "$A(t) = \\pi K_2^2 (\\frac{g \\Delta V_0^2 t^{3/2}}{\\nu^{1/2}})^{1/3}$\n",
    "\n",
    "or\n",
    "\n",
    "$A(t) = \\pi K_2^2 (\\frac{g \\Delta V_0^2}{\\nu^{1/2}})^{1/3} \\sqrt(t)$\n",
    "\n"
   ]
  },
  {
   "cell_type": "code",
   "execution_count": 74,
   "metadata": {
    "collapsed": true
   },
   "outputs": [],
   "source": [
    "def Fay(V0, t):\n",
    "    return np.pi * k2**2 * (delta() * g * V0**2/np.sqrt(visc_w))**(1./3) * np.sqrt(t)"
   ]
  },
  {
   "cell_type": "code",
   "execution_count": 75,
   "metadata": {
    "collapsed": false
   },
   "outputs": [],
   "source": [
    "V0 = 100 # cubic meters ~ 16kgal\n",
    "time = np.linspace(1, 24*3600)\n",
    "fay_area = Fay(V0, time)"
   ]
  },
  {
   "cell_type": "code",
   "execution_count": 85,
   "metadata": {
    "collapsed": false
   },
   "outputs": [
    {
     "data": {
      "text/plain": [
       "<matplotlib.text.Text at 0x121c0d0d0>"
      ]
     },
     "execution_count": 85,
     "metadata": {},
     "output_type": "execute_result"
    },
    {
     "data": {
      "image/png": "[encoded data removed]",
      "text/plain": [
       "<matplotlib.figure.Figure at 0x121a37950>"
      ]
     },
     "metadata": {},
     "output_type": "display_data"
    }
   ],
   "source": [
    "fig, ax = plt.subplots(1,1)\n",
    "ax.plot(time / 3600, fay_area)\n",
    "#ax.hold(True)\n",
    "ax.hlines(init_area(V0), time[0]/3600, time[-1]/3600)\n",
    "ax.annotate('initial area', (24, init_area(V0) ))\n",
    "ax.legend(('Fay',))\n",
    "\n",
    "ax.set_xlabel('time ($hrs$)')\n",
    "ax.set_ylabel('area ($m^3$)')"
   ]
  },
  {
   "cell_type": "markdown",
   "metadata": {},
   "source": [
    "## Richardson's 4/3 Diffusion"
   ]
  },
  {
   "cell_type": "code",
   "execution_count": 77,
   "metadata": {
    "collapsed": true
   },
   "outputs": [],
   "source": [
    "#The code:\n",
    "\n",
    "class Diffusion(object):\n",
    "\n",
    "    alpha = 0.01 # should be between 0.002 and 0.01 all in CGS units\n",
    "                 # this is the larger number -- probably reasonably suited to coastal surface flows. \n",
    "    \n",
    "    def var(self, t):\n",
    "        \"\"\" the variance as a function of time, according to the 4/3 law\"\"\"\n",
    "        return (2.0/3.0 * self.alpha * t)**3\n",
    "\n",
    "    def area(self, t):\n",
    "        return np.pi * 4.0 * self.var(t)\n",
    "        \n",
    "    def sigma(self, t):\n",
    "        return np.sqrt(self.var(t))\n",
    "    \n",
    "    def Diff(self, t):\n",
    "        \"\"\"The Diffusion coef as a function of time\"\"\"\n",
    "        return 4.0/9.0 * self.alpha**3 * t**2\n",
    "    \n",
    "    def time(self, D):\n",
    "        \"\"\"time as a function of Diffusion coef\"\"\"\n",
    "        return 3.0 * 2.0 * np.sqrt(D / self.alpha**3)\n",
    "    \n",
    "    def Length(self, D):\n",
    "        \"\"\"comutes the mixing length scale\"\"\"\n",
    "        return D  / self.alpha\n",
    "\n",
    "diff = Diffusion()\n",
    "diff_area = diff.area(time)"
   ]
  },
  {
   "cell_type": "code",
   "execution_count": 80,
   "metadata": {
    "collapsed": false
   },
   "outputs": [
    {
     "data": {
      "text/plain": [
       "<matplotlib.legend.Legend at 0x120d59e50>"
      ]
     },
     "execution_count": 80,
     "metadata": {},
     "output_type": "execute_result"
    },
    {
     "data": {
      "image/png": "[encoded data removed]",
      "text/plain": [
       "<matplotlib.figure.Figure at 0x120a73410>"
      ]
     },
     "metadata": {},
     "output_type": "display_data"
    }
   ],
   "source": [
    "fig, ax = plt.subplots(1,1)\n",
    "ax.plot(time / 3600, fay_area,label='Fay')\n",
    "ax.plot(time / 3600, diff_area, label='Diff')\n",
    "\n",
    "ax.hlines(init_area(V0), time[0]/3600, time[-1]/3600)\n",
    "\n",
    "ax.annotate('initial area', (24, init_area(V0) ))\n",
    "ax.legend()"
   ]
  },
  {
   "cell_type": "code",
   "execution_count": null,
   "metadata": {
    "collapsed": true
   },
   "outputs": [],
   "source": []
  }
 ],
 "metadata": {
  "kernelspec": {
   "display_name": "Python 2",
   "language": "python",
   "name": "python2"
  },
  "language_info": {
   "codemirror_mode": {
    "name": "ipython",
    "version": 2
   },
   "file_extension": ".py",
   "mimetype": "text/x-python",
   "name": "python",
   "nbconvert_exporter": "python",
   "pygments_lexer": "ipython2",
   "version": "2.7.12"
  }
 },
 "nbformat": 4,
 "nbformat_minor": 0
}
