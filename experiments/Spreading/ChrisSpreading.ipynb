{
 "cells": [
  {
   "cell_type": "code",
   "execution_count": 1,
   "metadata": {
    "collapsed": false
   },
   "outputs": [],
   "source": [
    "import numpy as np\n",
    "import matplotlib.pyplot as plt\n",
    "%matplotlib inline"
   ]
  },
  {
   "cell_type": "code",
   "execution_count": 2,
   "metadata": {
    "collapsed": true
   },
   "outputs": [],
   "source": [
    "# a few utilities and constants\n",
    "\n",
    "# Constants\n",
    "## fixme: check where these came from -- slightly different than Fay (1971)\n",
    "## Fay(1971) has 1.45 and 1.14 (I  think -- nomenclature not clear)\n",
    "## I'm not even sure what K1 and K2 are -- in Fay (1971) K1 is one-dimensional, and k2 is axisymetric\n",
    "\n",
    "K1=1.53\n",
    "K2=1.21\n",
    "\n",
    "\n",
    "visc_w = 1e-6 # viscoscity of water: m^2/s\n",
    "\n",
    "g = 9.806 # gravity, m/s^2\n",
    "rho_water = 1025.0 # kg/m^3 (typical seawater)\n",
    "\n",
    "def Delta(rho_oil):\n",
    "    return (float(rho_water) - rho_oil) / rho_water\n",
    "\n",
    "def init_area(V0, rho_oil):\n",
    "    \"\"\"\n",
    "    initial area -- end of Fay gravity-inertial\n",
    "    \"\"\"\n",
    "    return np.pi * (K1**4/K2**2) * ((g * V0**5 * Delta(rho_oil))/visc_w**2 )**(1./6.) \n",
    "\n",
    "def init_radius(V0, rho_oil):\n",
    "    \"\"\"\n",
    "    initial radius -- end of Fay gravity-inertial\n",
    "    \"\"\"\n",
    "    return  (K1**2/K2) * ((g * V0**5 * delta())/visc_w**2 )**(1./12.) \n",
    "\n",
    "def min_thickness(visc_oil):\n",
    "    if visc_oil <= 1e-6:\n",
    "        return 1e-5    \n",
    "    elif visc_oil >= 1e-4:\n",
    "        return 1e-4\n",
    "    else:\n",
    "        return 1e-5 + (90.0 / 99.0) * (visc_oil - 1e-6)\n",
    "\n",
    "\n",
    "def max_area(volume, visc_oil):\n",
    "    return volume / min_thickness(visc_oil)\n",
    "\n",
    "def Fay_gv(V0, rho_oil, t):\n",
    "    \"\"\"\n",
    "    Fay Gravity-viscous phase analytical solution\n",
    "    \"\"\"\n",
    "    # fixme: why is K2 squared???\n",
    "    return np.pi * K2**2 * (Delta(rho_oil) * g * V0**2/np.sqrt(visc_w))**(1./3) * np.sqrt(t)\n",
    "\n"
   ]
  },
  {
   "cell_type": "code",
   "execution_count": 3,
   "metadata": {
    "collapsed": false
   },
   "outputs": [],
   "source": [
    "# Simple Euler method integration for area as a function of area\n",
    "def Euler(f, T, A_0):\n",
    "    dt = T[1] - T[0] # assume it's the same...\n",
    "    A = [A_0]\n",
    "    for t in enumerate(T[1:]):\n",
    "        A.append(A[-1] + f(A[-1]) * dt)\n",
    "    return np.array(A)\n",
    "\n"
   ]
  },
  {
   "cell_type": "code",
   "execution_count": 4,
   "metadata": {
    "collapsed": false
   },
   "outputs": [
    {
     "data": {
      "text/plain": [
       "<matplotlib.text.Text at 0x88e0048>"
      ]
     },
     "execution_count": 4,
     "metadata": {},
     "output_type": "execute_result"
    },
    {
     "data": {
      "image/png": "[encoded data removed]",
      "text/plain": [
       "<matplotlib.figure.Figure at 0x886d240>"
      ]
     },
     "metadata": {},
     "output_type": "display_data"
    }
   ],
   "source": [
    "# plot thickness computation\n",
    "nu_oil = np.logspace(-7,-3, 1000)\n",
    "fig, ax = plt.subplots()\n",
    "delta = np.array([min_thickness(nu) for nu in nu_oil])\n",
    "#ax.plot(nu_oil, delta * 1e-6)\n",
    "ax.semilogx(nu_oil, delta * 1e6)\n",
    "ax.set_xlim(1e-7, 1e-3)\n",
    "ax.set_ylim(0, 110)\n",
    "ax.set_xlabel(\"Oil Viscosity\")\n",
    "ax.set_ylabel(\"Terminal thickness ($\\mu m$)\")"
   ]
  },
  {
   "cell_type": "code",
   "execution_count": 5,
   "metadata": {
    "collapsed": false
   },
   "outputs": [
    {
     "name": "stdout",
     "output_type": "stream",
     "text": [
      "nu: 9.99900000e-07, delta: 1.00000000e-05\n",
      "nu: 1.00000000e-06, delta: 1.00000000e-05\n",
      "nu: 1.00000010e-06, delta: 1.00000001e-05\n",
      "nu: 1.00000000e-05, delta: 1.81818182e-05\n",
      "nu: 5.05000000e-05, delta: 5.50000000e-05\n",
      "nu: 9.99999990e-05, delta: 9.99999991e-05\n",
      "nu: 1.00000000e-04, delta: 1.00000000e-04\n",
      "nu: 1.10000000e-04, delta: 1.00000000e-04\n"
     ]
    }
   ],
   "source": [
    "half = (1e-4 - 1e-6) / 2.0 + 1e-6\n",
    "for nu in [9.999e-7, 1e-6, 1.0000001e-6, 1e-5, half, 9.9999999e-5, 1e-4, 1.1e-4]:\n",
    "    d = min_thickness(nu)\n",
    "    print \"nu: %.8e, delta: %.8e\"%(nu, d)"
   ]
  },
  {
   "cell_type": "markdown",
   "metadata": {
    "collapsed": false
   },
   "source": [
    "\n",
    "# Fay converted to a function of area\n",
    "\n",
    "## Original Fay Spreading (Gravity-viscous)\n",
    "\n",
    "$A(t) = \\pi \\cdot k_{\\nu}  ( \\frac{\\Delta \\rho \\cdot g \\cdot V^2 \\cdot t^{3/2}}{\\nu_w^{1/2}})$\n",
    "\n"
   ]
  },
  {
   "cell_type": "markdown",
   "metadata": {
    "collapsed": false
   },
   "source": [
    "## First the math/numerics  without real numbers:\n",
    "\n",
    "$ C = \\pi \\cdot k_{\\nu}  ( \\frac{\\Delta \\rho \\cdot g \\cdot V^2}{\\nu_w^{1/2}})^{1/3}$\n",
    "\n",
    "$A = C t^{1/2}$\n",
    "\n",
    "$ \\frac{dA}{dt} = \\frac{1}{2}C t^{-1/2} $\n",
    "\n",
    "$ \\frac{dA}{dt} = \\frac{1}{2} \\frac{C^2}{A} $"
   ]
  },
  {
   "cell_type": "code",
   "execution_count": 6,
   "metadata": {
    "collapsed": false
   },
   "outputs": [
    {
     "data": {
      "text/plain": [
       "<matplotlib.text.Text at 0x8de42b0>"
      ]
     },
     "execution_count": 6,
     "metadata": {},
     "output_type": "execute_result"
    },
    {
     "data": {
      "image/png": "[encoded data removed]",
      "text/plain": [
       "<matplotlib.figure.Figure at 0x8ac8898>"
      ]
     },
     "metadata": {},
     "output_type": "display_data"
    }
   ],
   "source": [
    "# as a function of time:\n",
    "C = 2 # shouldn't be 1! more likely to find errors this way!\n",
    "T = np.linspace(0, 10000)\n",
    "A1 = C * np.sqrt(T)\n",
    "\n",
    "fig, ax = plt.subplots()\n",
    "ax.plot(T, A1, label=\"Fay\")\n",
    "ax.legend()\n",
    "ax.set_xlabel(\"time\")\n",
    "ax.set_ylabel(\"Area\")\n"
   ]
  },
  {
   "cell_type": "code",
   "execution_count": 7,
   "metadata": {
    "collapsed": false
   },
   "outputs": [
    {
     "data": {
      "text/plain": [
       "<matplotlib.text.Text at 0x90935c0>"
      ]
     },
     "execution_count": 7,
     "metadata": {},
     "output_type": "execute_result"
    },
    {
     "data": {
      "image/png": "[encoded data removed]",
      "text/plain": [
       "<matplotlib.figure.Figure at 0x885ca58>"
      ]
     },
     "metadata": {},
     "output_type": "display_data"
    }
   ],
   "source": [
    "# as a differential equation:\n",
    "def dadt(t):\n",
    "    return 0.5 * C / np.sqrt(t)\n",
    "\n",
    "# simple Euler method:\n",
    "start = 10 # initilize with Fay\n",
    "A2 = np.zeros_like(T)\n",
    "A2[:start] = A1[:start]\n",
    "dt = T[1] - T[0] # assume it's the same...\n",
    "for i, t in enumerate(T[start:]):\n",
    "    i += start\n",
    "    A2[i] = A2[i-1] + dadt(t)*dt    \n",
    "    \n",
    "fig, ax = plt.subplots()\n",
    "ax.plot(T, A1, label=\"Fay\")\n",
    "ax.plot(T, A2, 'o', label=\"differential\")\n",
    "ax.legend()\n",
    "ax.set_xlabel(\"time\")\n",
    "ax.set_ylabel(\"Area\")\n"
   ]
  },
  {
   "cell_type": "markdown",
   "metadata": {},
   "source": [
    "Note how the solutions sit right on top of each-other if you initialize right and use small enough time steps.\n",
    "\n",
    "**NOTE:** maybe try RK method?"
   ]
  },
  {
   "cell_type": "code",
   "execution_count": 12,
   "metadata": {
    "collapsed": false
   },
   "outputs": [
    {
     "name": "stdout",
     "output_type": "stream",
     "text": [
      "(50L,)\n",
      "(48L,)\n"
     ]
    },
    {
     "data": {
      "text/plain": [
       "<matplotlib.text.Text at 0xa065e10>"
      ]
     },
     "execution_count": 12,
     "metadata": {},
     "output_type": "execute_result"
    },
    {
     "data": {
      "image/png": "[encoded data removed]",
      "text/plain": [
       "<matplotlib.figure.Figure at 0xa0052b0>"
      ]
     },
     "metadata": {},
     "output_type": "display_data"
    }
   ],
   "source": [
    "# differential equation in terms of Area\n",
    "\n",
    "# initilize from Fay time dependent:\n",
    "start = 10\n",
    "\n",
    "def dadt(a):\n",
    "    return 0.5 * C**2  / a\n",
    "\n",
    "A3 = Euler(dadt, T[2:], A1[1])\n",
    "\n",
    "## simple Euler method:\n",
    "#A3 = np.zeros_like(T)\n",
    "## small initial value to kick it off\n",
    "#A3[:start] = A1[:start]\n",
    "#dt = T[1] - T[0] # assume it's the same...\n",
    "#for i, t in enumerate(T[start:]):\n",
    "#    i += start\n",
    "#    A3[i] = A3[i-1] + dadt(A3[i-1])*dt\n",
    "    \n",
    "fig, ax = plt.subplots()\n",
    "ax.plot(T, A1, label=\"Fay\")\n",
    "print(T.shape)\n",
    "print(A3.shape)\n",
    "ax.plot(T[2:], A3, 'o', label=\"differential area\")\n",
    "ax.legend()\n",
    "ax.set_xlabel(\"time\")\n",
    "ax.set_ylabel(\"Area\")"
   ]
  },
  {
   "cell_type": "markdown",
   "metadata": {},
   "source": [
    "Solution exactly the same also -- with small enough time steps and the right initiliation."
   ]
  },
  {
   "cell_type": "markdown",
   "metadata": {},
   "source": [
    "## Compute with some real numbers:\n",
    "\n",
    "$ C = \\pi \\cdot k_{\\nu}  ( \\frac{\\Delta \\rho \\cdot g \\cdot V^2}{\\nu_w^{1/2}})$\n"
   ]
  },
  {
   "cell_type": "code",
   "execution_count": 44,
   "metadata": {
    "collapsed": false
   },
   "outputs": [
    {
     "name": "stdout",
     "output_type": "stream",
     "text": [
      "C =  5096.61951692\n"
     ]
    }
   ],
   "source": [
    "# Some values to play with:\n",
    "# Alaska North Slope Crude: middle pipeline\n",
    "rho_oil = 800 # kg/m^3 density of oil\n",
    "visc_oi = 3.834e-05 # m^2/s kinematic viscosity\n",
    "vol = 795 # initial volume (m^3 -- 5000bbl)\n",
    "\n",
    "#NOTE: why is this K2**2 ?????\n",
    "C = np.pi * K2**2 * ( Delta(rho_oil) * g * vol**2 / np.sqrt(visc_w) )**(1.0/3)\n",
    "print \"C = \", C\n"
   ]
  },
  {
   "cell_type": "code",
   "execution_count": 45,
   "metadata": {
    "collapsed": false
   },
   "outputs": [
    {
     "name": "stdout",
     "output_type": "stream",
     "text": [
      "timestep: 110.769230769 minutes\n"
     ]
    },
    {
     "data": {
      "text/plain": [
       "<matplotlib.text.Text at 0xc040ac8>"
      ]
     },
     "execution_count": 45,
     "metadata": {},
     "output_type": "execute_result"
    },
    {
     "data": {
      "image/png": "[encoded data removed]",
      "text/plain": [
       "<matplotlib.figure.Figure at 0xbc38668>"
      ]
     },
     "metadata": {},
     "output_type": "display_data"
    }
   ],
   "source": [
    "# differential equation in terms of Area\n",
    "\n",
    "# Time zero to 72 hrs\n",
    "T = np.linspace(0, 72*3600, 40)\n",
    "\n",
    "print \"timestep:\", (T[1] - T[0]) / 60, \"minutes\"\n",
    "\n",
    "#Fay_area = C * np.sqrt(T) # straight Fay Gravity-viscous\n",
    "Fay_area = Fay_gv(vol, rho_oil, T)\n",
    "\n",
    "\n",
    "A_0 = init_area(vol, rho_oil)\n",
    "\n",
    "A_max = max_area(vol, visc_oil)\n",
    "\n",
    "# initilize from Fay time dependent:\n",
    "start = 2\n",
    "\n",
    "def dadt(a):\n",
    "    return 0.5 * C**2  / a\n",
    "\n",
    "# simple Euler method:\n",
    "A = np.zeros_like(T)\n",
    "# small initial value to kick it off\n",
    "#A[:start] = Fay_area[:start]\n",
    "# start with initial-area\n",
    "start = 1\n",
    "A[0] = A_0\n",
    "dt = T[1] - T[0] # assume it's the same...\n",
    "for i, t in enumerate(T[start:]):\n",
    "    i += start\n",
    "    A[i] = A[i-1] + dadt(A[i-1])*dt\n",
    "\n",
    "Thr = T / 3600\n",
    "fig, ax = plt.subplots()\n",
    "ax.plot(Thr[:-1], Fay_area[1:], label=\"Fay\") # adjusted for initial area (approx)\n",
    "ax.plot(Thr, A, 'o',label=\"Numerical\")\n",
    "ax.legend(loc='upper left')\n",
    "\n",
    "ax.set_xlim(Thr[0], Thr[-1])\n",
    "\n",
    "ax.hlines(A_0, Thr[0], Thr[-1])\n",
    "ax.text(Thr[-1]+2, A_0, \"initial area\")\n",
    "\n",
    "#ax.hlines(A_max, Thr[0], Thr[-1])\n",
    "#ax.text(Thr[-1]+2, A_max, \"maximum area\")\n",
    "\n",
    "\n",
    "\n",
    "ax.set_xlabel(\"Time (hr)\")\n",
    "ax.set_ylabel(\"Area\")"
   ]
  },
  {
   "cell_type": "markdown",
   "metadata": {},
   "source": [
    "**NOTE:** The numerical solution closely matches the analytic solution with a time step of about 2 hours. Indicating that the Euler method is accurate enough for timesteps on order of an hour or less.\n",
    "\n",
    "The numerical solution starts with the initial area from Fay Gravity-inertial, and the analytical Fay gravity-viscous solution has been offset to approximate the same starting value."
   ]
  },
  {
   "cell_type": "code",
   "execution_count": 46,
   "metadata": {
    "collapsed": false
   },
   "outputs": [
    {
     "name": "stdout",
     "output_type": "stream",
     "text": [
      "total volume: 795.0\n"
     ]
    }
   ],
   "source": [
    "print \"total volume:\", A_max * min_thickness(visc_oil)"
   ]
  },
  {
   "cell_type": "markdown",
   "metadata": {},
   "source": [
    "## Add the diffusion\n",
    "\n",
    "Diffusion is a big player in spreading -- dominating after the first day or so.\n",
    "\n",
    "As the initial spread, and Fay gravity-viscous, and diffusion are all going on at once, the diffusive spread has been re-cast as a differential equaiton in area -- llke the Fay g-v solution:\n",
    "\n"
   ]
  },
  {
   "cell_type": "markdown",
   "metadata": {},
   "source": [
    "### Elliot Diffusion:\n",
    "\n",
    "$ D = 0.033 t^{0.16} $\n"
   ]
  },
  {
   "cell_type": "code",
   "execution_count": 16,
   "metadata": {
    "collapsed": false
   },
   "outputs": [
    {
     "data": {
      "text/plain": [
       "[<matplotlib.lines.Line2D at 0x9a31748>]"
      ]
     },
     "execution_count": 16,
     "metadata": {},
     "output_type": "execute_result"
    },
    {
     "data": {
      "image/png": "[encoded data removed]",
      "text/plain": [
       "<matplotlib.figure.Figure at 0x9a31470>"
      ]
     },
     "metadata": {},
     "output_type": "display_data"
    }
   ],
   "source": [
    "D = 0.033 * T**0.16\n",
    "\n",
    "fig, ax = plt.subplots()\n",
    "ax.plot(T, D)"
   ]
  },
  {
   "cell_type": "code",
   "execution_count": 17,
   "metadata": {
    "collapsed": false
   },
   "outputs": [
    {
     "data": {
      "text/plain": [
       "<matplotlib.legend.Legend at 0x9a6da58>"
      ]
     },
     "execution_count": 17,
     "metadata": {},
     "output_type": "execute_result"
    },
    {
     "data": {
      "image/png": "[encoded data removed]",
      "text/plain": [
       "<matplotlib.figure.Figure at 0xa7e87b8>"
      ]
     },
     "metadata": {},
     "output_type": "display_data"
    }
   ],
   "source": [
    "# Area as a function of time\n",
    "A_elliot = np.pi * 4 *0.066 * T**(1.16)\n",
    "\n",
    "fig, ax = plt.subplots()\n",
    "ax.plot(Thr, A_elliot, label=\"Elliot Diffusion\")\n",
    "ax.plot(Thr, A, label=\"Fay\")\n",
    "ax.legend(loc=\"upper left\")\n"
   ]
  },
  {
   "cell_type": "code",
   "execution_count": null,
   "metadata": {
    "collapsed": true
   },
   "outputs": [],
   "source": []
  }
 ],
 "metadata": {
  "kernelspec": {
   "display_name": "Python 2",
   "language": "python",
   "name": "python2"
  },
  "language_info": {
   "codemirror_mode": {
    "name": "ipython",
    "version": 2
   },
   "file_extension": ".py",
   "mimetype": "text/x-python",
   "name": "python",
   "nbconvert_exporter": "python",
   "pygments_lexer": "ipython2",
   "version": "2.7.11"
  }
 },
 "nbformat": 4,
 "nbformat_minor": 0
}
