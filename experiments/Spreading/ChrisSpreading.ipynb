{
 "cells": [
  {
   "cell_type": "code",
   "execution_count": 94,
   "metadata": {
    "collapsed": false
   },
   "outputs": [],
   "source": [
    "import numpy as np\n",
    "import matplotlib.pyplot as plt\n",
    "%matplotlib inline"
   ]
  },
  {
   "cell_type": "code",
   "execution_count": 95,
   "metadata": {
    "collapsed": true
   },
   "outputs": [],
   "source": [
    "# a few utilities and constants\n",
    "\n",
    "# Constants\n",
    "## fixme: check where these came from -- slightly different than Fay (1971)\n",
    "K1=1.53\n",
    "K2=1.21\n",
    "\n",
    "visc_w = 1e-6 # viscoscity of water: m^2/s\n",
    "\n",
    "g = 9.806 # gravity, m/s^2\n",
    "rho_water = 1025.0 # kg/m^3 (typical seawater)\n",
    "\n",
    "def Delta(rho_oil):\n",
    "    return (float(rho_water) - rho_oil) / rho_water\n",
    "\n",
    "def init_area(V0, rho_oil):\n",
    "    \"\"\"\n",
    "    initial area -- end of Fay gravity-inertial\n",
    "    \"\"\"\n",
    "    return np.pi * (K1**4/K2**2) * ((g * V0**5 * Delta(rho_oil))/visc_w**2 )**(1./6.) \n",
    "\n",
    "def init_radius(V0, rho_oil):\n",
    "    \"\"\"\n",
    "    initial radius -- end of Fay gravity-inertial\n",
    "    \"\"\"\n",
    "    return  (K1**2/K2) * ((g * V0**5 * delta())/visc_w**2 )**(1./12.) "
   ]
  },
  {
   "cell_type": "markdown",
   "metadata": {
    "collapsed": false
   },
   "source": [
    "\n",
    "# Fay converted to a function of area\n",
    "\n",
    "## Original Fay Spreading (Gravity-viscous)\n",
    "\n",
    "$A(t) = \\pi \\cdot k_{\\nu}  ( \\frac{\\Delta \\rho \\cdot g \\cdot V^2 \\cdot t^{3/2}}{\\nu_w^{1/2}})$\n",
    "\n"
   ]
  },
  {
   "cell_type": "markdown",
   "metadata": {
    "collapsed": false
   },
   "source": [
    "## First the math/numerics  without real numbers:\n",
    "\n",
    "$ C = \\pi \\cdot k_{\\nu}  ( \\frac{\\Delta \\rho \\cdot g \\cdot V^2}{\\nu_w^{1/2}})$\n",
    "\n",
    "$A = C t^{1/2}$\n",
    "\n",
    "$ \\frac{dA}{dt} = \\frac{1}{2}C t^{-1/2} $\n",
    "\n",
    "$ \\frac{dA}{dt} = \\frac{1}{2} \\frac{C^2}{A} $"
   ]
  },
  {
   "cell_type": "code",
   "execution_count": 96,
   "metadata": {
    "collapsed": false
   },
   "outputs": [
    {
     "data": {
      "text/plain": [
       "<matplotlib.text.Text at 0x118cd8cd0>"
      ]
     },
     "execution_count": 96,
     "metadata": {},
     "output_type": "execute_result"
    },
    {
     "data": {
      "image/png": "[encoded data removed]",
      "text/plain": [
       "<matplotlib.figure.Figure at 0x1189ef3d0>"
      ]
     },
     "metadata": {},
     "output_type": "display_data"
    }
   ],
   "source": [
    "# as a function of time:\n",
    "C = 2 # shouldn't be 1! more likely to find errors this way!\n",
    "T = np.linspace(0, 10000)\n",
    "A1 = C * np.sqrt(T)\n",
    "\n",
    "fig, ax = plt.subplots()\n",
    "ax.plot(T, A1, label=\"Fay\")\n",
    "ax.legend()\n",
    "ax.set_xlabel(\"time\")\n",
    "ax.set_ylabel(\"Area\")\n"
   ]
  },
  {
   "cell_type": "code",
   "execution_count": 97,
   "metadata": {
    "collapsed": false
   },
   "outputs": [
    {
     "data": {
      "text/plain": [
       "<matplotlib.text.Text at 0x118d617d0>"
      ]
     },
     "execution_count": 97,
     "metadata": {},
     "output_type": "execute_result"
    },
    {
     "data": {
      "image/png": "[encoded data removed]",
      "text/plain": [
       "<matplotlib.figure.Figure at 0x117c12250>"
      ]
     },
     "metadata": {},
     "output_type": "display_data"
    }
   ],
   "source": [
    "# as a differential equation:\n",
    "def dadt(t):\n",
    "    return 0.5 * C / np.sqrt(t)\n",
    "\n",
    "# simple Euler method:\n",
    "start = 10 # initilize with Fay\n",
    "A2 = np.zeros_like(T)\n",
    "A2[:start] = A1[:start]\n",
    "dt = T[1] - T[0] # assume it's the same...\n",
    "for i, t in enumerate(T[start:]):\n",
    "    i += start\n",
    "    A2[i] = A2[i-1] + dadt(t)*dt\n",
    "\n",
    "fig, ax = plt.subplots()\n",
    "ax.plot(T, A1, label=\"Fay\")\n",
    "ax.plot(T, A2, 'o', label=\"differential\")\n",
    "ax.legend()\n",
    "ax.set_xlabel(\"time\")\n",
    "ax.set_ylabel(\"Area\")\n"
   ]
  },
  {
   "cell_type": "markdown",
   "metadata": {},
   "source": [
    "Note how the solutions sit right on top of each-other if you initialize right and use small enough time steps.\n",
    "\n",
    "**NOTE:** maybe try RK method?"
   ]
  },
  {
   "cell_type": "code",
   "execution_count": 98,
   "metadata": {
    "collapsed": false
   },
   "outputs": [
    {
     "data": {
      "text/plain": [
       "<matplotlib.text.Text at 0x118d3c190>"
      ]
     },
     "execution_count": 98,
     "metadata": {},
     "output_type": "execute_result"
    },
    {
     "data": {
      "image/png": "[encoded data removed]",
      "text/plain": [
       "<matplotlib.figure.Figure at 0x117c12290>"
      ]
     },
     "metadata": {},
     "output_type": "display_data"
    }
   ],
   "source": [
    "# differential equation in terms of Area\n",
    "\n",
    "# initilize from Fay time dependent:\n",
    "start = 10\n",
    "\n",
    "def dadt(a):\n",
    "    return 0.5 * C**2  / a\n",
    "\n",
    "# simple Euler method:\n",
    "A3 = np.zeros_like(T)\n",
    "# small initial value to kick it off\n",
    "A3[:start] = A1[:start]\n",
    "dt = T[1] - T[0] # assume it's the same...\n",
    "for i, t in enumerate(T[start:]):\n",
    "    i += start\n",
    "    A3[i] = A3[i-1] + dadt(A3[i-1])*dt\n",
    "    \n",
    "fig, ax = plt.subplots()\n",
    "ax.plot(T, A1, label=\"Fay\")\n",
    "ax.plot(T, A3, 'o', label=\"differential area\")\n",
    "ax.legend()\n",
    "ax.set_xlabel(\"time\")\n",
    "ax.set_ylabel(\"Area\")"
   ]
  },
  {
   "cell_type": "markdown",
   "metadata": {},
   "source": [
    "Solution exactly the same also -- with small enough time steps and the right initiliation."
   ]
  },
  {
   "cell_type": "markdown",
   "metadata": {},
   "source": [
    "## Compute with some real numbers:\n",
    "\n",
    "$ C = \\pi \\cdot k_{\\nu}  ( \\frac{\\Delta \\rho \\cdot g \\cdot V^2}{\\nu_w^{1/2}})$\n"
   ]
  },
  {
   "cell_type": "code",
   "execution_count": 103,
   "metadata": {
    "collapsed": false
   },
   "outputs": [
    {
     "name": "stdout",
     "output_type": "stream",
     "text": [
      "C =  3632901286.62\n"
     ]
    }
   ],
   "source": [
    "# Some values to play with:\n",
    "rho_oil = 900 # density of oil\n",
    "vol = 795 # initial volume (m^3 -- 5000bbl)\n",
    "\n",
    "C = np.pi * K1 * ( Delta(rho_oil) * g * vol**2 / np.sqrt(visc_w) )\n",
    "print \"C = \", C\n"
   ]
  },
  {
   "cell_type": "code",
   "execution_count": 104,
   "metadata": {
    "collapsed": false
   },
   "outputs": [
    {
     "name": "stdout",
     "output_type": "stream",
     "text": [
      "timestep: 227.368421053 minutes\n"
     ]
    },
    {
     "data": {
      "text/plain": [
       "<matplotlib.text.Text at 0x119394090>"
      ]
     },
     "execution_count": 104,
     "metadata": {},
     "output_type": "execute_result"
    },
    {
     "data": {
      "image/png": "[encoded data removed]",
      "text/plain": [
       "<matplotlib.figure.Figure at 0x118a27ed0>"
      ]
     },
     "metadata": {},
     "output_type": "display_data"
    }
   ],
   "source": [
    "# differential equation in terms of Area\n",
    "\n",
    "# Time zero to 72 hrs\n",
    "T = np.linspace(0, 72*3600, 20)\n",
    "\n",
    "print \"timestep:\", (T[1] - T[0]) / 60, \"minutes\"\n",
    "\n",
    "Fay_area = C * np.sqrt(T) # straight Fay Gravity-viscous\n",
    "\n",
    "A_0 = init_area(vol, rho_oil)\n",
    "\n",
    "\n",
    "# initilize from Fay time dependent:\n",
    "start = 2\n",
    "\n",
    "def dadt(a):\n",
    "    return 0.5 * C**2  / a\n",
    "\n",
    "# simple Euler method:\n",
    "A = np.zeros_like(T)\n",
    "# small initial value to kick it off\n",
    "A[:start] = A1[:start]\n",
    "dt = T[1] - T[0] # assume it's the same...\n",
    "for i, t in enumerate(T[start:]):\n",
    "    i += start\n",
    "    A[i] = A[i-1] + dadt(A[i-1])*dt\n",
    "\n",
    "Thr = T / 3600\n",
    "fig, ax = plt.subplots()\n",
    "ax.plot(Thr, Fay_area, label=\"Fay\")\n",
    "#ax.plot(Thr, A, 'o',label=\"Numerical\")\n",
    "ax.legend(loc='upper left')\n",
    "ax.hlines(A_0, Thr[0], Thr[-1])\n",
    "#ax.annotate('initial area', 24, A_0)\n",
    "\n",
    "ax.set_xlabel(\"Time (hr)\")\n",
    "ax.set_ylabel(\"Area\")"
   ]
  },
  {
   "cell_type": "code",
   "execution_count": 102,
   "metadata": {
    "collapsed": false
   },
   "outputs": [
    {
     "data": {
      "text/plain": [
       "316419.9094847797"
      ]
     },
     "execution_count": 102,
     "metadata": {},
     "output_type": "execute_result"
    }
   ],
   "source": [
    "A_0\n",
    "\n",
    "\n"
   ]
  },
  {
   "cell_type": "code",
   "execution_count": null,
   "metadata": {
    "collapsed": false
   },
   "outputs": [],
   "source": []
  },
  {
   "cell_type": "code",
   "execution_count": null,
   "metadata": {
    "collapsed": true
   },
   "outputs": [],
   "source": [
    "\n"
   ]
  },
  {
   "cell_type": "code",
   "execution_count": null,
   "metadata": {
    "collapsed": true
   },
   "outputs": [],
   "source": []
  }
 ],
 "metadata": {
  "kernelspec": {
   "display_name": "Python 2",
   "language": "python",
   "name": "python2"
  },
  "language_info": {
   "codemirror_mode": {
    "name": "ipython",
    "version": 2
   },
   "file_extension": ".py",
   "mimetype": "text/x-python",
   "name": "python",
   "nbconvert_exporter": "python",
   "pygments_lexer": "ipython2",
   "version": "2.7.12"
  }
 },
 "nbformat": 4,
 "nbformat_minor": 0
}
