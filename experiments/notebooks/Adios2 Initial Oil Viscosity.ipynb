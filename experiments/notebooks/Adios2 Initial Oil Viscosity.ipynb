{
 "metadata": {
  "name": "",
  "signature": "sha256:8d946c254186991dd00f6e79a77a2ddc949518560f726400cd6027c57b28fa5a"
 },
 "nbformat": 3,
 "nbformat_minor": 0,
 "worksheets": [
  {
   "cells": [
    {
     "cell_type": "heading",
     "level": 1,
     "metadata": {},
     "source": [
      "<center>Adios2 Initial Oil Viscosity</center>"
     ]
    },
    {
     "cell_type": "markdown",
     "metadata": {},
     "source": [
      "Here we look at the method that Adios2 uses to determine initial oil viscosity.  This is based on an analysis of the Adios C++ code base."
     ]
    },
    {
     "cell_type": "markdown",
     "metadata": {},
     "source": [
      "Arguments:\n",
      "- <b>T</b>: Probably temperature in K\n",
      "- <b>c5</b>: Maybe a coefficient.  Correlating with Bill's viscosity document, this is most likely the $ k_{v2} $ component of the formula.\n",
      "- <b>rho0</b>: Density value used to calculate Kinematic Viscosity from Dynamic Viscosity\n",
      "- <b>visc0</b>: Output argument.  I believe this is where the viscosity output goes.\n",
      "- <b>CF</b>: Output argument.  Actually, I'm not sure.  It's a square root calcualation based on visc0"
     ]
    },
    {
     "cell_type": "code",
     "collapsed": false,
     "input": [
      "T = 288.15\n"
     ],
     "language": "python",
     "metadata": {},
     "outputs": [],
     "prompt_number": 1
    },
    {
     "cell_type": "code",
     "collapsed": false,
     "input": [],
     "language": "python",
     "metadata": {},
     "outputs": []
    }
   ],
   "metadata": {}
  }
 ]
}