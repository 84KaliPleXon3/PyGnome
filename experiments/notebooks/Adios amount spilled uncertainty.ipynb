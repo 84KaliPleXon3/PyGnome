{
 "metadata": {
  "name": "",
  "signature": "sha256:5a4601ac66ebf17f62d343a7f0dbaa3101bc7f4f5aca0825430f7a6b7ab934b3"
 },
 "nbformat": 3,
 "nbformat_minor": 0,
 "worksheets": [
  {
   "cells": [
    {
     "cell_type": "markdown",
     "metadata": {},
     "source": [
      "The initial spill volume,  $ Vol_0 $ is assumed to be described by a normal distribution where:"
     ]
    },
    {
     "cell_type": "markdown",
     "metadata": {},
     "source": [
      "$$\n",
      "\\begin{align}\n",
      "\\overline V = Vol_0, \\quad\\quad \\{ \\sigma \\in \\Bbb R : 0 \\leq \\sigma \\leq \\frac 2 3 Vol_0 \\}\n",
      "\\end{align}\n",
      "$$"
     ]
    },
    {
     "cell_type": "markdown",
     "metadata": {},
     "source": [
      "Where the value $ \\sigma = 0 $ implies exact knowledge of the spill amount, and increases with increasing user uncertainty of spillage size."
     ]
    },
    {
     "cell_type": "markdown",
     "metadata": {},
     "source": [
      "We will use the following equations to describe our min uncertain, certain, and max uncertain values $ (V_1, V_2, V_3) $"
     ]
    },
    {
     "cell_type": "markdown",
     "metadata": {},
     "source": [
      "$$\n",
      "V_1 = Vol_0 - \\sigma, \\quad V_2 = Vol_0, \\quad V_3 = Vol_0 + \\sigma\n",
      "$$"
     ]
    },
    {
     "cell_type": "markdown",
     "metadata": {},
     "source": [
      "Ok, all this is well and good, but we don't want to use a $ \\sigma $ value that has a weird, unexpected, or hard-to-calculate  interval like\n",
      "$ \\{ 0 \\leq \\sigma \\leq {2 \\over 3} Vol_0 \\} $.  It would be better if we could use an uncertainty scale value $ \\delta $ that has a normal range of values like $ \\{ 0 \\leq \\delta \\leq 1 \\} $.  This would be much easier to implement from the perspective of a web form that creates a spill."
     ]
    },
    {
     "cell_type": "markdown",
     "metadata": {},
     "source": [
      "So let's look at our equations, starting with $ V_3 $."
     ]
    },
    {
     "cell_type": "markdown",
     "metadata": {},
     "source": [
      "If we chose a maximum $ \\sigma $ value $ \\sigma_{max} = {2 \\over 3} Vol_0 $, and incorporate it into our $ V_3 $ equation, we get"
     ]
    },
    {
     "cell_type": "markdown",
     "metadata": {},
     "source": [
      "$$\n",
      "\\begin{align}\n",
      "V_3 & = Vol_0 + \\sigma_{max} \\\\\n",
      "& = Vol_0 + {2 \\over 3} Vol_0 \\\\\n",
      "& = Vol_0 (1 + {2 \\over 3})\n",
      "\\end{align}\n",
      "$$"
     ]
    },
    {
     "cell_type": "markdown",
     "metadata": {},
     "source": [
      "In the same way, our $ V_1 $ would be"
     ]
    },
    {
     "cell_type": "markdown",
     "metadata": {},
     "source": [
      "$$\n",
      "V_1 = Vol_0 (1 - {2 \\over 3})\n",
      "$$"
     ]
    },
    {
     "cell_type": "markdown",
     "metadata": {},
     "source": [
      "Now if we want to incorporate a scale $ \\delta $ for our $ \\sigma $ value as described above, our $ V_3 $ equation changes in this way"
     ]
    },
    {
     "cell_type": "markdown",
     "metadata": {},
     "source": [
      "$$\n",
      "\\begin{align}\n",
      "V_3 & = Vol_0 + \\sigma_{max} \\delta \\\\\n",
      "& = Vol_0 + {2 \\over 3} Vol_0 \\delta \\\\\n",
      "& = Vol_0 (1 + {2 \\over 3} \\delta)\n",
      "\\end{align}\n",
      "$$"
     ]
    },
    {
     "cell_type": "markdown",
     "metadata": {},
     "source": [
      "In the same way, our $ V_1 $ would be"
     ]
    },
    {
     "cell_type": "markdown",
     "metadata": {},
     "source": [
      "$$\n",
      "V_1 = Vol_0 (1 - {2 \\over 3} \\delta)\n",
      "$$"
     ]
    },
    {
     "cell_type": "code",
     "collapsed": false,
     "input": [],
     "language": "python",
     "metadata": {},
     "outputs": []
    }
   ],
   "metadata": {}
  }
 ]
}