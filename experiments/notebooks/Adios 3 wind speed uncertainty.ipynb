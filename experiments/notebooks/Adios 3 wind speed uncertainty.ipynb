{
 "cells": [
  {
   "cell_type": "markdown",
   "metadata": {},
   "source": [
    "# <center><u>Adios 3 Wind Speed Uncertainty Methods</u></center>"
   ]
  },
  {
   "cell_type": "markdown",
   "metadata": {},
   "source": [
    "Ok, here is what we were given by Bill for calculating the upper and lower uncertainty values for wind speed."
   ]
  },
  {
   "cell_type": "markdown",
   "metadata": {},
   "source": [
    "$$\n",
    "\\begin{align}\n",
    "u_1(t_k) &= \\left( 1 - \\delta\\sqrt{2 \\over \\pi} \\right) U_{10}(t_k) \\\\\n",
    "u_2(t_k) &= U_{10}(t_k) \\\\\n",
    "u_3(t_k) &= \\left( 1 + \\delta\\sqrt{2 \\over \\pi} \\right) U_{10}(t_k) \\\\\n",
    "\\end{align}\n",
    "$$"
   ]
  },
  {
   "cell_type": "markdown",
   "metadata": {},
   "source": [
    "This presumably links back to the Rayleigh distribution functions, which are shown in bills document as follows:"
   ]
  },
  {
   "cell_type": "markdown",
   "metadata": {},
   "source": [
    "$$\n",
    "\\begin{align}\n",
    "\\sigma &= \\sqrt{2 \\over \\pi} \\overline U_{10} \\\\\n",
    "PDF: \\space f(u_j) &= { u_j \\over \\sigma^2 } e^ \\left( -{u_j}^2 / 2 \\sigma ^ 2 \\right) \\\\\n",
    "CDF: \\space F(u_j) &= 1 - e^ \\left( -{u_j}^2 / 2 \\sigma ^ 2 \\right) \\\\\n",
    "\\end{align}\n",
    "$$"
   ]
  },
  {
   "cell_type": "markdown",
   "metadata": {},
   "source": [
    "Let's look closer at the calculation for our Rayleigh parameter ($ \\sigma $).  This is the one that was used to calculate the upper and lower bounds of our uncertainty.\n",
    "<br><br><br><br><br><br><br><br><br><br><br><br><br><br><br><br><br><br>"
   ]
  },
  {
   "cell_type": "markdown",
   "metadata": {},
   "source": [
    "Ok, I believe $ \\sigma $, calculated from average wind speed $ \\overline U_{10} $, is based on the Mean equation for the Rayleigh distribution.  So for completeness:"
   ]
  },
  {
   "cell_type": "markdown",
   "metadata": {},
   "source": [
    "$$\n",
    "\\begin{align}\n",
    "Mean &= \\sigma \\sqrt{\\pi \\over 2} \\\\\n",
    "\\sigma \\sqrt{\\pi \\over 2} &= \\overline U_{10} \\\\\n",
    "\\sigma &= {\\overline U_{10} \\over \\sqrt{\\pi \\over 2} }\\\\\n",
    "\\sigma &= {\\overline U_{10} \\over {\\left( \\sqrt \\pi \\over \\sqrt 2 \\right) } } \\\\\n",
    "\\sigma &= {\\overline U_{10} \\sqrt 2 \\over \\sqrt \\pi } \\\\\n",
    "\\sigma &= \\sqrt {2 \\over \\pi } \\overline U_{10} \\\\\n",
    "\\end{align}\n",
    "$$"
   ]
  },
  {
   "cell_type": "markdown",
   "metadata": {},
   "source": [
    "Now let's get our distribution functions going."
   ]
  },
  {
   "cell_type": "code",
   "execution_count": 3,
   "metadata": {
    "collapsed": false
   },
   "outputs": [],
   "source": [
    "import numpy as np"
   ]
  },
  {
   "cell_type": "code",
   "execution_count": 4,
   "metadata": {
    "collapsed": false
   },
   "outputs": [],
   "source": [
    "def rayleigh_sigma_from_wind(avg_speed):\n",
    "    return np.sqrt(2.0 / np.pi) * avg_speed\n",
    "\n",
    "def rayleigh_pdf(x, sigma):\n",
    "    return (x / sigma ** 2.0) * np.exp((-1.0 / 2.0) * (x ** 2.0 / sigma ** 2.0))\n",
    "\n",
    "def rayleigh_cdf(x, sigma):\n",
    "    return 1.0 - np.exp((-1.0 / 2.0) * (x ** 2.0 / sigma ** 2.0))"
   ]
  },
  {
   "cell_type": "code",
   "execution_count": 5,
   "metadata": {
    "collapsed": false
   },
   "outputs": [
    {
     "name": "stdout",
     "output_type": "stream",
     "text": [
      "0.303265329856\n",
      "0.393469340287\n",
      "0.202176886571\n",
      "0.393469340287\n"
     ]
    }
   ],
   "source": [
    "print rayleigh_pdf(2.0, 2.0)\n",
    "print rayleigh_cdf(2.0, 2.0)\n",
    "\n",
    "print rayleigh_pdf(3.0, 3.0)\n",
    "print rayleigh_cdf(3.0, 3.0)"
   ]
  },
  {
   "cell_type": "markdown",
   "metadata": {},
   "source": [
    "Ok, this seems to track the peaks that I am seeing in the example graphs for the Rayleigh distribution."
   ]
  },
  {
   "cell_type": "markdown",
   "metadata": {},
   "source": [
    "Alright, the PDF and the CDF seem to work ok, and the CDF gets us pretty close to what we want.<br>\n",
    "The nature of the CDF is that we plug in a wind speed, and it gives us the fraction of speeds contained in our distribution that are lower than that speed."
   ]
  },
  {
   "cell_type": "markdown",
   "metadata": {},
   "source": [
    "But what we would really like to know is at what point our CDF gets past a certain percentage of the distribution.\n",
    "In other words, we would like to plug in a fractional amount and get the wind speed that is immediately above that fractional amount in our distribution.<br>\n",
    "So the function that we would really like to implement is a Quantile (aka. inverse CDF or percent point function)<br>\n",
    "This will allow us to give a percent value (say, 20%) and come up with a wind speed at which 20% of our statistical speeds should fall below"
   ]
  },
  {
   "cell_type": "markdown",
   "metadata": {},
   "source": [
    "The Rayleigh distribution has a quantile function described as:"
   ]
  },
  {
   "cell_type": "markdown",
   "metadata": {},
   "source": [
    "$$\n",
    "\\begin{align}\n",
    "Q(F; \\sigma) &= \\sigma \\sqrt{ -ln [(1 -F)^2]}\n",
    "\\end{align}\n",
    "$$"
   ]
  },
  {
   "cell_type": "markdown",
   "metadata": {},
   "source": [
    "There are problems I see with this, such as taking the square root of a negative.  But if we just take the magnitude of the imaginary component, we might be ok.  (Unsure of how this will play out in practice however)<br>\n",
    "Alright, let's give it a try:"
   ]
  },
  {
   "cell_type": "code",
   "execution_count": 6,
   "metadata": {
    "collapsed": false
   },
   "outputs": [],
   "source": [
    "def rayleigh_quantile(f, sigma):\n",
    "    return (sigma * np.sqrt((-1.0 * np.log((1.0 - f) ** 2.0)) + 0j)).real"
   ]
  },
  {
   "cell_type": "code",
   "execution_count": 7,
   "metadata": {
    "collapsed": false
   },
   "outputs": [
    {
     "name": "stdout",
     "output_type": "stream",
     "text": [
      "0.393469340287\n",
      "0.5\n",
      "\n",
      "0.393469340287\n",
      "1.0\n",
      "\n",
      "0.393469340287\n",
      "2.0\n",
      "\n",
      "0.393469340287\n",
      "4.0\n",
      "\n",
      "0.544061872232\n",
      "20.0\n",
      "\n"
     ]
    }
   ],
   "source": [
    "percent_value = rayleigh_cdf(0.5, 0.5)\n",
    "print percent_value\n",
    "print rayleigh_quantile(percent_value, 0.5)  # should be our original value of 0.5\n",
    "print\n",
    "\n",
    "percent_value = rayleigh_cdf(1.0, 1.0)\n",
    "print percent_value\n",
    "print rayleigh_quantile(percent_value, 1.0)  # should be our original value of 1.0\n",
    "print\n",
    "\n",
    "percent_value = rayleigh_cdf(2.0, 2.0)\n",
    "print percent_value\n",
    "print rayleigh_quantile(percent_value, 2.0)  # should be our original value of 2.0\n",
    "print\n",
    "\n",
    "percent_value = rayleigh_cdf(4.0, 4.0)\n",
    "print percent_value\n",
    "print rayleigh_quantile(percent_value, 4.0)  # should be our original value of 4.0\n",
    "print\n",
    "\n",
    "percent_value = rayleigh_cdf(20.0, 15.9576912161)\n",
    "print percent_value\n",
    "print rayleigh_quantile(percent_value, 15.9576912161)  # should be our original value of 20.0\n",
    "print\n"
   ]
  },
  {
   "cell_type": "markdown",
   "metadata": {},
   "source": [
    "Alright, our quantile function seems to be a pretty good inverse of the CDF\n",
    "<br><br><br><br>"
   ]
  },
  {
   "cell_type": "markdown",
   "metadata": {},
   "source": [
    "## Putting it all together"
   ]
  },
  {
   "cell_type": "markdown",
   "metadata": {},
   "source": [
    "Ok, here is what we will do.\n",
    "\n",
    "For each wind in our time series:\n",
    "- assume that the speed is an average wind speed for that time sample\n",
    "- compute our $ \\sigma $ value based on average wind speed\n",
    "- compute our high and low values based on the percent uncertainty we would like to represent using the Rayleigh quantile function"
   ]
  },
  {
   "cell_type": "markdown",
   "metadata": {},
   "source": [
    "Let's give this a try using somewhat reasonable values."
   ]
  },
  {
   "cell_type": "code",
   "execution_count": 8,
   "metadata": {
    "collapsed": false
   },
   "outputs": [
    {
     "name": "stdout",
     "output_type": "stream",
     "text": [
      "30.0 23.9365368241\n"
     ]
    }
   ],
   "source": [
    "U_10 = 30.0  # right now we just use an arbitrary value for average wind speed.\n",
    "percent_uncertainty = 0.1  # ten percent\n",
    "\n",
    "sigma = rayleigh_sigma_from_wind(U_10)\n",
    "print U_10, sigma"
   ]
  },
  {
   "cell_type": "code",
   "execution_count": 9,
   "metadata": {
    "collapsed": false
   },
   "outputs": [
    {
     "name": "stdout",
     "output_type": "stream",
     "text": [
      "24.1942771369 32.4035775011\n"
     ]
    }
   ],
   "source": [
    "low = rayleigh_quantile(0.5 - percent_uncertainty, sigma)  # wind speed at 40% of our distribution\n",
    "high = rayleigh_quantile(0.5 + percent_uncertainty, sigma)  # wind speed at 60% of our distribution\n",
    "print low, high"
   ]
  },
  {
   "cell_type": "markdown",
   "metadata": {},
   "source": [
    "Alright, now let's try and plot some wind speeds with their associated uncertainty thresholds to give us a visual feel for how it might fit our distribution.\n",
    "<br><br><br><br><br><br><br><br><br><br><br><br><br><br>"
   ]
  },
  {
   "cell_type": "code",
   "execution_count": 10,
   "metadata": {
    "collapsed": false
   },
   "outputs": [],
   "source": [
    "from pylab import *"
   ]
  },
  {
   "cell_type": "code",
   "execution_count": 11,
   "metadata": {
    "collapsed": false
   },
   "outputs": [],
   "source": [
    "%matplotlib inline"
   ]
  },
  {
   "cell_type": "code",
   "execution_count": 12,
   "metadata": {
    "collapsed": false
   },
   "outputs": [
    {
     "data": {
      "image/png": "[encoded data removed]",
      "text/plain": [
       "<matplotlib.figure.Figure at 0x1096bc090>"
      ]
     },
     "metadata": {},
     "output_type": "display_data"
    }
   ],
   "source": [
    "ax = subplot(111)\n",
    "\n",
    "# Initial wind conditions\n",
    "ws = 30.0\n",
    "pu = 0.1\n",
    "\n",
    "sigma = rayleigh_sigma_from_wind(ws)\n",
    "height = rayleigh_pdf(sigma, sigma) * 1.2\n",
    "width = ws * 3.0\n",
    "\n",
    "x = arange(0, width, 0.01)\n",
    "y = rayleigh_pdf(x, sigma)\n",
    "\n",
    "low = rayleigh_quantile(0.5 - pu, rayleigh_sigma_from_wind(ws))\n",
    "high = rayleigh_quantile(0.5 + pu, rayleigh_sigma_from_wind(ws))\n",
    "plot(x, y, linewidth=1)\n",
    "\n",
    "# make the shaded region\n",
    "ix = arange(low, high, 0.01)\n",
    "iy = rayleigh_pdf(ix, sigma)\n",
    "verts = [(low,0)] + list(zip(ix,iy)) + [(high,0)]\n",
    "poly = Polygon(verts, facecolor='0.8', edgecolor='k')\n",
    "ax.add_patch(poly)\n",
    "\n",
    "axis([0, width, 0, height])\n",
    "figtext(0.9, 0.05, 'x')\n",
    "figtext(0.1, 0.9, 'y')\n",
    "ax.set_xticks((low, ws, high))\n",
    "ax.set_xticklabels(('low={0:.2f}'.format(low),\n",
    "                    'windspeed={0:.2f}'.format(ws),\n",
    "                    'high={0:.2f}'.format(high)))\n",
    "ax.set_title('+-{0}% Wind Speed Uncertainty'.format(pu * 100))\n",
    "\n",
    "for tick in ax.xaxis.get_major_ticks():\n",
    "                tick.label.set_fontsize(10) \n",
    "                # specify integer or one of preset strings, e.g.\n",
    "                #tick.label.set_fontsize('x-small') \n",
    "                tick.label.set_rotation('vertical')\n",
    "ax.set_yticks([])\n",
    "show()"
   ]
  },
  {
   "cell_type": "code",
   "execution_count": 14,
   "metadata": {
    "collapsed": false
   },
   "outputs": [
    {
     "data": {
      "image/png": "[encoded data removed]",
      "text/plain": [
       "<matplotlib.figure.Figure at 0x109b7d990>"
      ]
     },
     "metadata": {},
     "output_type": "display_data"
    },
    {
     "data": {
      "text/plain": [
       "<matplotlib.figure.Figure at 0x109b7db90>"
      ]
     },
     "metadata": {},
     "output_type": "display_data"
    }
   ],
   "source": [
    "winds = np.linspace(5, 25, 100)\n",
    "x = range(len(winds))\n",
    "pu = 0.2\n",
    "\n",
    "low = [rayleigh_quantile(0.5 - pu, rayleigh_sigma_from_wind(ws))\n",
    "       for ws in winds]\n",
    "high = [rayleigh_quantile(0.5 + pu, rayleigh_sigma_from_wind(ws))\n",
    "        for ws in winds]\n",
    "\n",
    "\n",
    "fig, ax = plt.subplots()\n",
    "figure()\n",
    "\n",
    "ax.plot(x, winds, label=\"windspeed\")\n",
    "ax.plot(x, low, label=\"low\")\n",
    "ax.plot(x, high, label=\"high\")\n",
    "\n",
    "ax.legend(loc=2); # upper left corner\n",
    "ax.set_xlabel('x')\n",
    "ax.set_title('+-{0}% Wind Speed Uncertainty'.format(pu * 100))\n",
    "show()"
   ]
  },
  {
   "cell_type": "code",
   "execution_count": 13,
   "metadata": {
    "collapsed": false
   },
   "outputs": [],
   "source": []
  }
 ],
 "metadata": {
  "kernelspec": {
   "display_name": "Python 2",
   "language": "python",
   "name": "python2"
  },
  "language_info": {
   "codemirror_mode": {
    "name": "ipython",
    "version": 2
   },
   "file_extension": ".py",
   "mimetype": "text/x-python",
   "name": "python",
   "nbconvert_exporter": "python",
   "pygments_lexer": "ipython2",
   "version": "2.7.11"
  }
 },
 "nbformat": 4,
 "nbformat_minor": 0
}
