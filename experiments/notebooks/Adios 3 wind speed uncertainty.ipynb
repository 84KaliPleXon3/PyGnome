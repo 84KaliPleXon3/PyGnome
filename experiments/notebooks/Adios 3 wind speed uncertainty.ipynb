{
 "metadata": {
  "name": "",
  "signature": "sha256:68b0125151de82ffe8561f72c0cfa7ab2611edaa7c855caa0880beb08e0daf3b"
 },
 "nbformat": 3,
 "nbformat_minor": 0,
 "worksheets": [
  {
   "cells": [
    {
     "cell_type": "heading",
     "level": 1,
     "metadata": {},
     "source": [
      "<center><u>Adios 3 Wind Speed Uncertainty Methods</u></center>"
     ]
    },
    {
     "cell_type": "markdown",
     "metadata": {},
     "source": [
      "Ok, here is what we were given by Bill for calculating the upper and lower uncertainty values for wind speed."
     ]
    },
    {
     "cell_type": "markdown",
     "metadata": {},
     "source": [
      "$$\n",
      "\\begin{align}\n",
      "u_1(t_k) &= \\left( 1 - \\delta\\sqrt{2 \\over \\pi} \\right) U_{10}(t_k) \\\\\n",
      "u_2(t_k) &= U_{10}(t_k) \\\\\n",
      "u_3(t_k) &= \\left( 1 + \\delta\\sqrt{2 \\over \\pi} \\right) U_{10}(t_k) \\\\\n",
      "\\end{align}\n",
      "$$"
     ]
    },
    {
     "cell_type": "markdown",
     "metadata": {},
     "source": [
      "This presumably links back to the Rayleigh distribution functions, which are shown in bills document as follows:"
     ]
    },
    {
     "cell_type": "markdown",
     "metadata": {},
     "source": [
      "$$\n",
      "\\begin{align}\n",
      "\\sigma &= \\sqrt{2 \\over \\pi} \\overline U_{10} \\\\\n",
      "PDF: \\space f(u_j) &= { u_j \\over \\sigma^2 } e^ \\left( -{u_j}^2 / 2 \\sigma ^ 2 \\right) \\\\\n",
      "CDF: \\space F(u_j) &= 1 - e^ \\left( -{u_j}^2 / 2 \\sigma ^ 2 \\right) \\\\\n",
      "\\end{align}\n",
      "$$"
     ]
    },
    {
     "cell_type": "markdown",
     "metadata": {},
     "source": [
      "Let's look closer at the calculation for our Rayleigh parameter ($ \\sigma $).  This is the one I am not sure of."
     ]
    },
    {
     "cell_type": "markdown",
     "metadata": {},
     "source": [
      "Ok, I believe $ \\sigma $, calculated from average wind speed $ \\overline U_{10} $, is based on the Mean equation for the Rayleigh distribution.  So for completeness:"
     ]
    },
    {
     "cell_type": "markdown",
     "metadata": {},
     "source": [
      "$$\n",
      "\\begin{align}\n",
      "Mean &= \\sigma \\sqrt{\\pi \\over 2} \\\\\n",
      "\\sigma \\sqrt{\\pi \\over 2} &= \\overline U_{10} \\\\\n",
      "\\sigma &= {\\overline U_{10} \\over \\sqrt{\\pi \\over 2} }\\\\\n",
      "\\sigma &= {\\overline U_{10} \\over {\\left( \\sqrt \\pi \\over \\sqrt 2 \\right) } } \\\\\n",
      "\\sigma &= {\\overline U_{10} \\sqrt 2 \\over \\sqrt \\pi } \\\\\n",
      "\\sigma &= \\sqrt {2 \\over \\pi } \\overline U_{10} \\\\\n",
      "\\end{align}\n",
      "$$"
     ]
    },
    {
     "cell_type": "markdown",
     "metadata": {},
     "source": [
      "Now let's get our distribution functions going."
     ]
    },
    {
     "cell_type": "code",
     "collapsed": false,
     "input": [
      "import numpy as np"
     ],
     "language": "python",
     "metadata": {},
     "outputs": [],
     "prompt_number": 1
    },
    {
     "cell_type": "code",
     "collapsed": false,
     "input": [
      "def rayleigh_sigma_from_wind(avg_speed):\n",
      "    return np.sqrt(2.0 / np.pi) * avg_speed\n",
      "\n",
      "def rayleigh_pdf(x, sigma):\n",
      "    return (x / sigma ** 2.0) * np.exp((-1.0 / 2.0) * (x ** 2.0 / sigma ** 2.0))\n",
      "\n",
      "def rayleigh_cdf(x, sigma):\n",
      "    return 1.0 - np.exp((-1.0 / 2.0) * (x ** 2.0 / sigma ** 2.0))"
     ],
     "language": "python",
     "metadata": {},
     "outputs": [],
     "prompt_number": 2
    },
    {
     "cell_type": "code",
     "collapsed": false,
     "input": [
      "print rayleigh_pdf(2.0, 2.0)\n",
      "print rayleigh_cdf(2.0, 2.0)\n",
      "\n",
      "print rayleigh_pdf(3.0, 3.0)\n",
      "print rayleigh_cdf(3.0, 3.0)"
     ],
     "language": "python",
     "metadata": {},
     "outputs": [
      {
       "output_type": "stream",
       "stream": "stdout",
       "text": [
        "0.303265329856\n",
        "0.393469340287\n",
        "0.202176886571\n",
        "0.393469340287\n"
       ]
      }
     ],
     "prompt_number": 3
    },
    {
     "cell_type": "markdown",
     "metadata": {},
     "source": [
      "Ok, this seems to track the peaks that I am seeing in the example graphs for the Rayleigh distribution."
     ]
    },
    {
     "cell_type": "markdown",
     "metadata": {},
     "source": [
      "Alright, the PDF and the CDF seem to work ok, and the CDF gets us pretty close to what we want.<br>\n",
      "The nature of the CDF is that we plug in a wind speed, and it gives us the fraction of speeds contained in our distribution that are lower than that speed."
     ]
    },
    {
     "cell_type": "markdown",
     "metadata": {},
     "source": [
      "But what we would really like to know is at what point our CDF gets past a certain percentage of the distribution.\n",
      "In other words, we would like to plug in a fractional amount and get the wind speed that is immediately above that fractional amount in our distribution.<br>\n",
      "So the function that we would really like to implement is a Quantile (aka. inverse CDF or percent point function)<br>\n",
      "This will allow us to give a percent value (say, 20%) and come up with a wind speed at which 20% of our statistical speeds should fall below"
     ]
    },
    {
     "cell_type": "markdown",
     "metadata": {},
     "source": [
      "The Rayleigh distribution has a quantile function described as:"
     ]
    },
    {
     "cell_type": "markdown",
     "metadata": {},
     "source": [
      "$$\n",
      "\\begin{align}\n",
      "Q(F; \\sigma) &= \\sigma \\sqrt{ -ln [(1 -F)^2]}\n",
      "\\end{align}\n",
      "$$"
     ]
    },
    {
     "cell_type": "markdown",
     "metadata": {},
     "source": [
      "There are problems I see with this, such as taking the square root of a negative.  But if we just take the magnitude of the imaginary component, we might be ok.  (Unsure of how this will play out in practice however)<br>\n",
      "Alright, let's give it a try:"
     ]
    },
    {
     "cell_type": "code",
     "collapsed": false,
     "input": [
      "def rayleigh_quantile(f, sigma):\n",
      "    return (sigma * np.sqrt((-1.0 * np.log((1.0 - f) ** 2.0)) + 0j)).real"
     ],
     "language": "python",
     "metadata": {},
     "outputs": [],
     "prompt_number": 4
    },
    {
     "cell_type": "code",
     "collapsed": false,
     "input": [
      "percent_value = rayleigh_cdf(2.0, 2.0)\n",
      "print percent_value\n",
      "print rayleigh_quantile(percent_value, 2.0)  # should be our original value of 2.0\n",
      "print\n",
      "\n",
      "percent_value = rayleigh_cdf(4.0, 4.0)\n",
      "print percent_value\n",
      "print rayleigh_quantile(percent_value, 4.0)  # should be our original value of 4.0\n",
      "print\n",
      "\n",
      "percent_value = rayleigh_cdf(20.0, 15.9576912161)\n",
      "print percent_value\n",
      "print rayleigh_quantile(percent_value, 15.9576912161)  # should be our original value of 20.0\n",
      "print\n"
     ],
     "language": "python",
     "metadata": {},
     "outputs": [
      {
       "output_type": "stream",
       "stream": "stdout",
       "text": [
        "0.393469340287\n",
        "2.0\n",
        "\n",
        "0.393469340287\n",
        "4.0\n",
        "\n",
        "0.544061872232\n",
        "20.0\n",
        "\n"
       ]
      }
     ],
     "prompt_number": 5
    },
    {
     "cell_type": "markdown",
     "metadata": {},
     "source": [
      "Alright, our quantile function seems to be a pretty good inverse of the CDF"
     ]
    },
    {
     "cell_type": "heading",
     "level": 2,
     "metadata": {},
     "source": [
      "Putting it all together"
     ]
    },
    {
     "cell_type": "markdown",
     "metadata": {},
     "source": [
      "Ok, what we will do then is:\n",
      "- compute our average wind speed from the samples we are given\n",
      "- compute our $ \\sigma $ value based on average wind speed\n",
      "- compute our high and low values based on the percent uncertainty we would like to represent using the Rayleigh quantile function"
     ]
    },
    {
     "cell_type": "markdown",
     "metadata": {},
     "source": [
      "Let's give this a try using somewhat reasonable values"
     ]
    },
    {
     "cell_type": "code",
     "collapsed": false,
     "input": [
      "U_10 = 20.0  # right now we just use an arbitrary value for average wind speed.\n",
      "percent_uncertainty = 0.1  # ten percent\n",
      "\n",
      "sigma = rayleigh_sigma_from_wind(U_10)\n",
      "print U_10, sigma"
     ],
     "language": "python",
     "metadata": {},
     "outputs": [
      {
       "output_type": "stream",
       "stream": "stdout",
       "text": [
        "20.0 15.9576912161\n"
       ]
      }
     ],
     "prompt_number": 10
    },
    {
     "cell_type": "code",
     "collapsed": false,
     "input": [
      "low = rayleigh_quantile(0.5 - (percent_uncertainty / 2.0), sigma)  # wind speed at 45% of our distribution\n",
      "high = rayleigh_quantile(0.5 + (percent_uncertainty / 2.0), sigma)  # wind speed at 55% of our distribution\n",
      "print low, high"
     ],
     "language": "python",
     "metadata": {},
     "outputs": [
      {
       "output_type": "stream",
       "stream": "stdout",
       "text": [
        "17.4492373549 20.1662249873\n"
       ]
      }
     ],
     "prompt_number": 12
    },
    {
     "cell_type": "code",
     "collapsed": false,
     "input": [],
     "language": "python",
     "metadata": {},
     "outputs": []
    }
   ],
   "metadata": {}
  }
 ]
}