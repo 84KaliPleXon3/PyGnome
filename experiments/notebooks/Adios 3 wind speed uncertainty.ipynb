{
 "metadata": {
  "name": "",
  "signature": "sha256:c13adb9d7ee14b7ca09055662e685d36ce0996b5903c1e9a7eec2276691a00b7"
 },
 "nbformat": 3,
 "nbformat_minor": 0,
 "worksheets": [
  {
   "cells": [
    {
     "cell_type": "markdown",
     "metadata": {},
     "source": [
      "Ok, here is what we were given by Bill for calculating the upper and lower uncertainty values for wind speed."
     ]
    },
    {
     "cell_type": "markdown",
     "metadata": {},
     "source": [
      "$$\n",
      "\\begin{align}\n",
      "u_1(t_k) &= \\left( 1 - \\delta\\sqrt{2 \\over \\pi} \\right) U_{10}(t_k) \\\\\n",
      "u_2(t_k) &= U_{10}(t_k) \\\\\n",
      "u_3(t_k) &= \\left( 1 + \\delta\\sqrt{2 \\over \\pi} \\right) U_{10}(t_k) \\\\\n",
      "\\end{align}\n",
      "$$"
     ]
    },
    {
     "cell_type": "markdown",
     "metadata": {},
     "source": [
      "This presumably links back to the Rayleigh distribution which is shown as follows:"
     ]
    },
    {
     "cell_type": "markdown",
     "metadata": {},
     "source": [
      "$$\n",
      "\\begin{align}\n",
      "\\sigma &= \\sqrt{2 \\over \\pi} \\overline U_{10} \\\\\n",
      "PDF: \\space f(u_j) &= { u_j \\over \\sigma^2 } e^ \\left( -{u_j}^2 / 2 \\sigma ^ 2 \\right) \\\\\n",
      "CDF: \\space F(u_j) &= 1 - e^ \\left( -{u_j}^2 / 2 \\sigma ^ 2 \\right) \\\\\n",
      "\\end{align}\n",
      "$$"
     ]
    },
    {
     "cell_type": "markdown",
     "metadata": {},
     "source": [
      "Let's look closer at the calculation for our Rayleigh parameter.  This is the one I am not sure of."
     ]
    },
    {
     "cell_type": "code",
     "collapsed": false,
     "input": [
      "from math import pi, sqrt, exp, log\n",
      "import numpy as np"
     ],
     "language": "python",
     "metadata": {},
     "outputs": [],
     "prompt_number": 51
    },
    {
     "cell_type": "code",
     "collapsed": false,
     "input": [
      "U_10 = 20.0\n",
      "sigma = sqrt(2 / pi) * U_10\n",
      "print U_10, sigma"
     ],
     "language": "python",
     "metadata": {},
     "outputs": [
      {
       "output_type": "stream",
       "stream": "stdout",
       "text": [
        "20.0 15.9576912161\n"
       ]
      }
     ],
     "prompt_number": 27
    },
    {
     "cell_type": "markdown",
     "metadata": {},
     "source": [
      "Ok, we have selected $ \\overline U_{10} $ to be 20.0.  This is, I believe, the average (mean) wind speed we are dealing with.<br>\n",
      "So with that, our $ \\sigma $ is calculated from average wind speed.<br>\n",
      "I believe the above equation is based on the Mean equation for the Rayleigh distribution.  So for completeness:"
     ]
    },
    {
     "cell_type": "markdown",
     "metadata": {},
     "source": [
      "$$\n",
      "\\begin{align}\n",
      "\\overline U_{10} &= Mean = \\sigma \\sqrt{\\pi \\over 2} \\\\\n",
      "\\sigma \\sqrt{\\pi \\over 2} &= \\overline U_{10} \\\\\n",
      "\\sigma &= {\\overline U_{10} \\over \\sqrt{\\pi \\over 2} }\\\\\n",
      "\\sigma &= {\\overline U_{10} \\over {\\left( \\sqrt \\pi \\over \\sqrt 2 \\right) } } \\\\\n",
      "\\sigma &= {\\overline U_{10} \\sqrt 2 \\over \\sqrt \\pi } \\\\\n",
      "\\sigma &= \\overline U_{10} \\sqrt {2 \\over \\pi } \\\\\n",
      "\\end{align}\n",
      "$$"
     ]
    },
    {
     "cell_type": "markdown",
     "metadata": {},
     "source": [
      "Now let's get our distribution functions going."
     ]
    },
    {
     "cell_type": "code",
     "collapsed": false,
     "input": [
      "def rayleigh_pdf(x, sigma):\n",
      "    return (x / sigma ** 2.0) * exp((-1.0 / 2.0) * (x ** 2.0 / sigma ** 2.0))\n",
      "\n",
      "def rayleigh_cdf(x, sigma):\n",
      "    return 1.0 - exp((-1.0 / 2.0) * (x ** 2.0 / sigma ** 2.0))"
     ],
     "language": "python",
     "metadata": {},
     "outputs": [],
     "prompt_number": 73
    },
    {
     "cell_type": "code",
     "collapsed": false,
     "input": [
      "print rayleigh_pdf(U_10, sigma)\n",
      "print rayleigh_cdf(U_10, sigma)"
     ],
     "language": "python",
     "metadata": {},
     "outputs": [
      {
       "output_type": "stream",
       "stream": "stdout",
       "text": [
        "9.64374923982e-22\n",
        "1.0\n"
       ]
      }
     ],
     "prompt_number": 74
    },
    {
     "cell_type": "code",
     "collapsed": false,
     "input": [
      "print rayleigh_pdf(2., 2.)"
     ],
     "language": "python",
     "metadata": {},
     "outputs": [
      {
       "output_type": "stream",
       "stream": "stdout",
       "text": [
        "0.303265329856\n"
       ]
      }
     ],
     "prompt_number": 75
    },
    {
     "cell_type": "code",
     "collapsed": false,
     "input": [
      "for v in np.linspace(10.0, 18.0, 30):\n",
      "    print v, rayleigh_pdf(v, sigma)"
     ],
     "language": "python",
     "metadata": {},
     "outputs": [
      {
       "output_type": "stream",
       "stream": "stdout",
       "text": [
        "10.0 9.3166329302e-06\n",
        "10.275862069 4.75808937479e-06\n",
        "10.5517241379 2.3824876751e-06\n",
        "10.8275862069 1.16968615507e-06\n",
        "11.1034482759 5.63071568268e-07\n",
        "11.3793103448 2.65783032809e-07\n",
        "11.6551724138 1.23019273955e-07\n",
        "11.9310344828 5.5835867091e-08\n",
        "12.2068965517 2.48518483712e-08\n",
        "12.4827586207 1.08472545366e-08\n",
        "12.7586206897 4.64308220332e-09\n",
        "13.0344827586 1.94906981996e-09\n",
        "13.3103448276 8.02400905896e-10\n",
        "13.5862068966 3.23971194064e-10\n",
        "13.8620689655 1.28286175294e-10\n",
        "14.1379310345 4.9821735396e-11\n",
        "14.4137931034 1.89771078684e-11\n",
        "14.6896551724 7.08956606979e-12\n",
        "14.9655172414 2.59772788134e-12\n",
        "15.2413793103 9.33593086422e-13\n",
        "15.5172413793 3.29091650064e-13\n",
        "15.7931034483 1.13782737876e-13\n",
        "16.0689655172 3.8586992532e-14\n",
        "16.3448275862 1.28355661428e-14\n",
        "16.6206896552 4.18796418501e-15\n",
        "16.8965517241 1.34032091501e-15\n",
        "17.1724137931 4.20761903836e-16\n",
        "17.4482758621 1.29565537242e-16\n",
        "17.724137931 3.9135562225e-17\n",
        "18.0 1.15954069912e-17\n"
       ]
      }
     ],
     "prompt_number": 76
    },
    {
     "cell_type": "markdown",
     "metadata": {},
     "source": [
      "Alright, the PDF and the CDF seem to work ok, but we would like to know at what point our CDF gets past a certain percentage of the distribution.<br>\n",
      "In other words, we would like a Quantile (aka. inverse CDF or percent point function)<br>\n",
      "This will allow us to give a percent value (say, 20%) and come up with a wind speed at which 20% of our statistical speeds should fall below"
     ]
    },
    {
     "cell_type": "markdown",
     "metadata": {},
     "source": [
      "The Rayleigh distribution has a quantile function described as:"
     ]
    },
    {
     "cell_type": "markdown",
     "metadata": {},
     "source": [
      "$$\n",
      "\\begin{align}\n",
      "Q(F; \\sigma) &= \\sigma \\sqrt{ -ln [(1 -F)^2]}\n",
      "\\end{align}\n",
      "$$"
     ]
    },
    {
     "cell_type": "markdown",
     "metadata": {},
     "source": [
      "There are problems I see with this, such as taking the square root of a negative.  But if we just take the magnitude of the imaginary component, we might be ok.  (unsure of this however)<br>\n",
      "Alright, let's give it a try:"
     ]
    },
    {
     "cell_type": "code",
     "collapsed": false,
     "input": [
      "def rayleigh_quantile(f, sigma):\n",
      "    return (sigma * np.sqrt((-1.0 * np.log((1.0 - f) ** 2.0)) + 0j)).real"
     ],
     "language": "python",
     "metadata": {},
     "outputs": [],
     "prompt_number": 103
    },
    {
     "cell_type": "code",
     "collapsed": false,
     "input": [
      "percent_value = rayleigh_cdf(2.0, 2.0)\n",
      "print percent_value\n",
      "print rayleigh_quantile(percent_value, 2.0)  # should be our original value of 2.0\n",
      "print\n",
      "\n",
      "percent_value = rayleigh_cdf(4.0, 4.0)\n",
      "print percent_value\n",
      "print rayleigh_quantile(percent_value, 4.0)  # should be our original value of 4.0\n",
      "print\n",
      "\n",
      "percent_value = rayleigh_cdf(20.0, 15.9576912161)\n",
      "print percent_value\n",
      "print rayleigh_quantile(percent_value, 15.9576912161)  # should be our original value of 20.0\n",
      "print\n"
     ],
     "language": "python",
     "metadata": {},
     "outputs": [
      {
       "output_type": "stream",
       "stream": "stdout",
       "text": [
        "0.393469340287\n",
        "2.0\n",
        "\n",
        "0.393469340287\n",
        "4.0\n",
        "\n",
        "0.544061872232\n",
        "20.0\n",
        "\n"
       ]
      }
     ],
     "prompt_number": 105
    },
    {
     "cell_type": "markdown",
     "metadata": {},
     "source": [
      "Alright, our quantile function seems to be a pretty good inverse of the CDF"
     ]
    }
   ],
   "metadata": {}
  }
 ]
}