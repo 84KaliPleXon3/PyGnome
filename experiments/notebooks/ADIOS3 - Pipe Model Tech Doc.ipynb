{
 "metadata": {
  "name": "",
  "signature": "sha256:d84c3cd81b85991030bf61ece77cb6c6e7f50d01676158a76f52757b00161e34"
 },
 "nbformat": 3,
 "nbformat_minor": 0,
 "worksheets": [
  {
   "cells": [
    {
     "cell_type": "heading",
     "level": 1,
     "metadata": {},
     "source": [
      "<center>ADIOS3</center>"
     ]
    },
    {
     "cell_type": "heading",
     "level": 2,
     "metadata": {},
     "source": [
      "<center>Mathematical Model for the Prediction of Oil Volume<br/>\n",
      "    from the Discharge of a Ruptured Underwater Pipeline.</center>"
     ]
    },
    {
     "cell_type": "heading",
     "level": 3,
     "metadata": {},
     "source": [
      "Mathematical Model:"
     ]
    },
    {
     "cell_type": "markdown",
     "metadata": {},
     "source": [
      "Per Fannelop's (1977) approach, we separate the release into two stages: early time loss and late time loss.<br/>\n",
      "The pipeline is assumed to suddenly break wit a clean cut.<br/>\n",
      "The break is assumed to have occurred a considerable distance from the end points of the line.<br/>\n",
      "The temperature of the petroleum product in the pipeline is equal to the ambient water temperature."
     ]
    },
    {
     "cell_type": "heading",
     "level": 4,
     "metadata": {},
     "source": [
      "Early Time Loss:"
     ]
    },
    {
     "cell_type": "markdown",
     "metadata": {},
     "source": [
      "Early time loss processes considered are:\n",
      "- shutdown time\n",
      "- compressibility\n",
      "- initial momentum\n",
      "\n",
      "These processes are assumed uncoupled"
     ]
    },
    {
     "cell_type": "markdown",
     "metadata": {},
     "source": [
      "For turbulent conditions, the flow rate in the pipeline is very nearly proportional to the square root of the pressure drop between endpoints.  ADIOS3 uses this concept to estimate the pressure at the site of the rupture."
     ]
    },
    {
     "cell_type": "markdown",
     "metadata": {},
     "source": [
      "ADIOS3 calculates an initial Reynolds number, $R_e$, to make sure the pipeline is fully turbulent $(R_e > 4000)$ before the break."
     ]
    },
    {
     "cell_type": "markdown",
     "metadata": {},
     "source": [
      "$$\n",
      "R_e = {Q_i D_i \\over \\mu A_i}\n",
      "$$"
     ]
    },
    {
     "cell_type": "markdown",
     "metadata": {},
     "source": [
      "where:\n",
      "$$\n",
      "\\begin{align}\n",
      "Q_i & = \\text{Initial pipeline flow rate before the break, } {m^3 \\over s} \\\\\n",
      "D_i & = \\text{Inner diameter of the pipe, } {m} \\\\\n",
      "\\mu & = \\text{Oil dynamic viscosity, } {m^2 \\over s} \\\\\n",
      "A_i & = \\text{Initial cross-sectional area of the pipe, } {m^2} \\\\\n",
      "\\end{align}\n",
      "$$"
     ]
    },
    {
     "cell_type": "markdown",
     "metadata": {},
     "source": [
      "*** #TODO: code up this formula ***"
     ]
    },
    {
     "cell_type": "markdown",
     "metadata": {},
     "source": [
      "Fannelop(1977) states that as the break occurs, the pressure drops abruptly to the hydrostatic pressure and a pressure relief wave propagates through the pipeline at a very high velocity, $a$, that is typically between 970-1160 m/s."
     ]
    },
    {
     "cell_type": "markdown",
     "metadata": {},
     "source": [
      "Based on this analysis, ADIOS3 utilized the average value of $a = 1065 {m \\over s}$."
     ]
    },
    {
     "cell_type": "markdown",
     "metadata": {},
     "source": [
      "The time for the pressure pulse to reach Station 1 ($\\Delta t_1$) and Station 2 ($\\Delta t_2$) represents the minimum shutdown time (Mundheim and Fannelop, 1976)."
     ]
    },
    {
     "cell_type": "code",
     "collapsed": false,
     "input": [],
     "language": "python",
     "metadata": {},
     "outputs": []
    }
   ],
   "metadata": {}
  }
 ]
}