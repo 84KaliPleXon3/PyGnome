{
 "metadata": {
  "name": "",
  "signature": "sha256:75795447b6eb5ca08876b90e6173bd9c7719bb4aab1d2f9fb94f3cdde3245ef5"
 },
 "nbformat": 3,
 "nbformat_minor": 0,
 "worksheets": [
  {
   "cells": [
    {
     "cell_type": "heading",
     "level": 1,
     "metadata": {},
     "source": [
      "<center>ADIOS3</center>"
     ]
    },
    {
     "cell_type": "heading",
     "level": 2,
     "metadata": {},
     "source": [
      "<center>Mathematical Model for the Prediction of Oil Volume<br/>\n",
      "    from the Discharge of a Ruptured Underwater Pipeline.</center>"
     ]
    },
    {
     "cell_type": "heading",
     "level": 3,
     "metadata": {},
     "source": [
      "Mathematical Model:"
     ]
    },
    {
     "cell_type": "markdown",
     "metadata": {},
     "source": [
      "Per Fannelop's (1977) approach, we separate the release into two stages: early time loss and late time loss.<br/>\n",
      "The pipeline is assumed to suddenly break wit a clean cut.<br/>\n",
      "The break is assumed to have occurred a considerable distance from the end points of the line.<br/>\n",
      "The temperature of the petroleum product in the pipeline is equal to the ambient water temperature."
     ]
    },
    {
     "cell_type": "heading",
     "level": 4,
     "metadata": {},
     "source": [
      "Early Time Loss:"
     ]
    },
    {
     "cell_type": "markdown",
     "metadata": {},
     "source": [
      "Early time loss processes considered are:\n",
      "- shutdown time\n",
      "- compressibility\n",
      "- initial momentum\n",
      "\n",
      "These processes are assumed uncoupled"
     ]
    },
    {
     "cell_type": "markdown",
     "metadata": {},
     "source": [
      "For turbulent conditions, the flow rate in the pipeline is very nearly proportional to the square root of the pressure drop between endpoints.  ADIOS3 uses this concept to estimate the pressure at the site of the rupture."
     ]
    },
    {
     "cell_type": "markdown",
     "metadata": {},
     "source": [
      "ADIOS3 calculates an initial Reynolds number, $R_e$, to make sure the pipeline is fully turbulent $(R_e > 4000)$ before the break."
     ]
    },
    {
     "cell_type": "markdown",
     "metadata": {},
     "source": [
      "$$\n",
      "R_e = {Q_i D_i \\over \\mu A_i}\n",
      "$$"
     ]
    },
    {
     "cell_type": "markdown",
     "metadata": {},
     "source": [
      "where:\n",
      "$$\n",
      "\\begin{align}\n",
      "Q_i & = \\text{Initial pipeline flow rate before the break, } {m^3 \\over s} \\\\\n",
      "D_i & = \\text{Inner diameter of the pipe, } {m} \\\\\n",
      "\\mu & = \\text{Oil dynamic viscosity, } {m^2 \\over s} \\\\\n",
      "A_i & = \\text{Initial cross-sectional area of the pipe, } {m^2} \\\\\n",
      "\\end{align}\n",
      "$$"
     ]
    },
    {
     "cell_type": "markdown",
     "metadata": {},
     "source": [
      "Example code:"
     ]
    },
    {
     "cell_type": "code",
     "collapsed": false,
     "input": [
      "import math\n",
      "\n",
      "def reynolds_number(Q_i, D_i, mu):\n",
      "    # We assume a circuler cross-section\n",
      "    A_i = math.pi * (D_i / 2) ** 2\n",
      "\n",
      "    return (Q_i * D_i) / (mu * A_i)\n",
      "\n",
      "Q_i = 0.05026\n",
      "D_i = 1.0\n",
      "mu = 16.0 / 1000000  # cSt/1000000 = m^2/s\n",
      "\n",
      "print 'Pipe diameter: {0} m, Oil Kinematic Viscosity: {1} m^2/s'.format(D_i, mu)\n",
      "flow_rate_transient_to_turbulent = (4000 * mu * (math.pi * (D_i / 2) ** 2)) / D_i\n",
      "print 'Flow rate from transient to turbulent: {0} m^3/s'.format(flow_rate_transient_to_turbulent)\n",
      "print ('At a flow rate of {0} m^3/s, the oil is moving lengthwise through the pipe {1} m/s'\n",
      "       .format(Q_i, Q_i / (math.pi * (D_i / 2) ** 2)))\n",
      "\n",
      "print 'Reynolds number:', reynolds_number(Q_i, D_i, mu)"
     ],
     "language": "python",
     "metadata": {},
     "outputs": [
      {
       "output_type": "stream",
       "stream": "stdout",
       "text": [
        "Pipe diameter: 1.0 m, Oil Kinematic Viscosity: 1.6e-05 m^2/s\n",
        "Flow rate from transient to turbulent: 0.0502654824574 m^3/s\n",
        "At a flow rate of 0.05026 m^3/s, the oil is moving lengthwise through the pipe 0.0639930195184 m/s\n",
        "Reynolds number: 3999.5637199\n"
       ]
      }
     ],
     "prompt_number": 32
    },
    {
     "cell_type": "markdown",
     "metadata": {},
     "source": [
      "Fannelop(1977) states that as the break occurs, the pressure drops abruptly to the hydrostatic pressure and a pressure relief wave propagates through the pipeline at a very high velocity, $a$, that is typically between 970-1160 m/s."
     ]
    },
    {
     "cell_type": "markdown",
     "metadata": {},
     "source": [
      "Based on this analysis, ADIOS3 utilizes the average value of $a = 1065 {m \\over s}$."
     ]
    },
    {
     "cell_type": "markdown",
     "metadata": {},
     "source": [
      "The time for the pressure pulse to reach Station 1 ($\\Delta t_1$) and Station 2 ($\\Delta t_2$) represents the minimum shutdown time (Mundheim and Fannelop, 1976)."
     ]
    },
    {
     "cell_type": "markdown",
     "metadata": {},
     "source": [
      "$$\n",
      "\\Delta t_1 = {L_1 \\over a}, \\Delta t_2 = {L_2 \\over a}\n",
      "$$"
     ]
    },
    {
     "cell_type": "markdown",
     "metadata": {},
     "source": [
      "Where:"
     ]
    },
    {
     "cell_type": "markdown",
     "metadata": {},
     "source": [
      "$$\n",
      "\\begin{align}\n",
      "L_1 & = \\text{length of the active segment} \\\\\n",
      "L_2 & = \\text{length of the passive segment} \\\\\n",
      "a & = 1065 {m \\over s}\n",
      "\\end{align}\n",
      "$$"
     ]
    },
    {
     "cell_type": "code",
     "collapsed": false,
     "input": [
      "def propagation_time(total_length, active_segment):\n",
      "    a = 1065.0\n",
      "    passive_segment = total_length - active_segment\n",
      "    return (active_segment / a), (passive_segment / a)\n",
      "\n",
      "total_length = 10000  # 10 km\n",
      "active_segment = 3000  # 3 km\n",
      "print ('propagation times: active segment = {0}, passive segment = {1}'\n",
      "       .format(*propagation_time(total_length, active_segment)))"
     ],
     "language": "python",
     "metadata": {},
     "outputs": [
      {
       "output_type": "stream",
       "stream": "stdout",
       "text": [
        "propagation times: active segment = 2.81690140845, passive segment = 6.57276995305\n"
       ]
      }
     ],
     "prompt_number": 31
    },
    {
     "cell_type": "code",
     "collapsed": false,
     "input": [],
     "language": "python",
     "metadata": {},
     "outputs": []
    }
   ],
   "metadata": {}
  }
 ]
}