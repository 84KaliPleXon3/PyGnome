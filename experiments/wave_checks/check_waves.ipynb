{
 "metadata": {
  "name": "",
  "signature": "sha256:7e6322ff77095b3775b1c7fad8eafef1265e8ec326f69cf9bce56f277117b631"
 },
 "nbformat": 3,
 "nbformat_minor": 0,
 "worksheets": [
  {
   "cells": [
    {
     "cell_type": "markdown",
     "metadata": {},
     "source": [
      "# Notebook to check waves code\n",
      "\n",
      "Is doing reasonable things?\n",
      "\n",
      "Does it match SPM?\n",
      "\n",
      "etc...."
     ]
    },
    {
     "cell_type": "code",
     "collapsed": false,
     "input": [
      "# plotting imports\n",
      "import numpy as np\n",
      "%pylab inline"
     ],
     "language": "python",
     "metadata": {},
     "outputs": [
      {
       "output_type": "stream",
       "stream": "stdout",
       "text": [
        "Populating the interactive namespace from numpy and matplotlib\n"
       ]
      },
      {
       "output_type": "stream",
       "stream": "stderr",
       "text": [
        "WARNING: pylab import has clobbered these variables: ['f']\n",
        "`%matplotlib` prevents importing * from pylab and numpy\n"
       ]
      }
     ],
     "prompt_number": 146
    },
    {
     "cell_type": "code",
     "collapsed": false,
     "input": [
      "import datetime\n",
      "# first imort stuff from GNOME:\n",
      "import gnome\n",
      "import gnome.environment.waves\n",
      "reload(gnome.environment.waves)\n",
      "Waves = gnome.environment.waves.Waves\n",
      "\n",
      "from gnome.environment import wind\n",
      "from gnome.environment import Water\n",
      "from gnome.basic_types import datetime_value_2d"
     ],
     "language": "python",
     "metadata": {},
     "outputs": [],
     "prompt_number": 147
    },
    {
     "cell_type": "markdown",
     "metadata": {},
     "source": [
      "## fetch unlimited wave height"
     ]
    },
    {
     "cell_type": "code",
     "collapsed": false,
     "input": [
      "# create some sample wind and water objects\n",
      "#start_time = datetime.datetime(2014, 12, 1, 0)\n",
      "# 5 m/s\n",
      "#series = np.array((start_time, (5, 45)),\n",
      "#                      dtype=datetime_value_2d).reshape((1, ))\n",
      "test_wind_5 = wind.constant_wind(5, 45)\n",
      "default_water = Water()"
     ],
     "language": "python",
     "metadata": {},
     "outputs": [],
     "prompt_number": 148
    },
    {
     "cell_type": "code",
     "collapsed": false,
     "input": [
      "w = Waves(test_wind_5, default_water)\n",
      "U = range(40)\n",
      "H = [w.compute_H(u) for u in U]\n",
      "#print H"
     ],
     "language": "python",
     "metadata": {},
     "outputs": [],
     "prompt_number": 149
    },
    {
     "cell_type": "code",
     "collapsed": false,
     "input": [
      "fig, ax = plt.subplots()\n",
      "ax.plot(U,H)\n",
      "fig.suptitle('wave height with unlimited fetch')\n",
      "ax.set_xlabel('wind speed ($m/s$)')\n",
      "ax.set_ylabel('H (m)')"
     ],
     "language": "python",
     "metadata": {},
     "outputs": [
      {
       "metadata": {},
       "output_type": "pyout",
       "prompt_number": 150,
       "text": [
        "<matplotlib.text.Text at 0x111bd7a50>"
       ]
      },
      {
       "metadata": {},
       "output_type": "display_data",
       "png": "[encoded data removed]",
       "text": [
        "<matplotlib.figure.Figure at 0x110fe7590>"
       ]
      }
     ],
     "prompt_number": 150
    },
    {
     "cell_type": "markdown",
     "metadata": {},
     "source": [
      "**NOTE:** This seem to be pretty high for the large wind speeds -- which we dont really expect to do well anyway, but still. I think there are issues with wave hieght being depth limitied, etc, when it gets big. Also tiem scale -- a 3 or 6 or whatever time average isn't going to cut it with waves potentially this big."
     ]
    },
    {
     "cell_type": "code",
     "collapsed": false,
     "input": [
      "water = Water()\n",
      "w = Waves(test_wind_5, water)\n",
      "H = []\n",
      "# fetch range from 1km to 100km\n",
      "fetch = range(1000, 100000, 1000)\n",
      "for f in fetch:\n",
      "    water.fetch = f\n",
      "    H.append(w.compute_H(10))"
     ],
     "language": "python",
     "metadata": {},
     "outputs": [],
     "prompt_number": 151
    },
    {
     "cell_type": "code",
     "collapsed": false,
     "input": [
      "fig, ax = plt.subplots()\n",
      "ax.plot(fetch, H)\n",
      "fig.suptitle('wave height for 10 m/s wind')\n",
      "ax.set_xlabel('fetch (m)')\n",
      "ax.set_ylabel('H (m)')"
     ],
     "language": "python",
     "metadata": {},
     "outputs": [
      {
       "metadata": {},
       "output_type": "pyout",
       "prompt_number": 152,
       "text": [
        "<matplotlib.text.Text at 0x111b03110>"
       ]
      },
      {
       "metadata": {},
       "output_type": "display_data",
       "png": "[encoded data removed]",
       "text": [
        "<matplotlib.figure.Figure at 0x111d7f7d0>"
       ]
      }
     ],
     "prompt_number": 152
    },
    {
     "cell_type": "markdown",
     "metadata": {},
     "source": [
      "## Whitecap Fraction\n",
      "\n",
      "Note that the slolution for $U < 4$ is pretty fudged -- used to be zero or $U < 3$, now it is a linear interpolation form 0 to the $U=4$ value. maybe an exponential or quadratic would be better?"
     ]
    },
    {
     "cell_type": "code",
     "collapsed": false,
     "input": [
      "water = Water()\n",
      "w = Waves(test_wind_5, water)\n",
      "wf = [] # whitecap fraction\n",
      "U = np.arange(0,20,0.2)\n",
      "for u in U:\n",
      "    wf.append(w.comp_whitecap_fraction(u))"
     ],
     "language": "python",
     "metadata": {},
     "outputs": [],
     "prompt_number": 153
    },
    {
     "cell_type": "code",
     "collapsed": false,
     "input": [
      "fig, ax = plt.subplots()\n",
      "ax.plot(U, wf)\n",
      "fig.suptitle('Whitecap Fraction')\n",
      "ax.set_xlabel('Wind speed (m/s)')\n",
      "ax.set_ylabel('Fraction')\n"
     ],
     "language": "python",
     "metadata": {},
     "outputs": [
      {
       "metadata": {},
       "output_type": "pyout",
       "prompt_number": 154,
       "text": [
        "<matplotlib.text.Text at 0x111ddb6d0>"
       ]
      },
      {
       "metadata": {},
       "output_type": "display_data",
       "png": "[encoded data removed]",
       "text": [
        "<matplotlib.figure.Figure at 0x111f0bb50>"
       ]
      }
     ],
     "prompt_number": 154
    },
    {
     "cell_type": "code",
     "collapsed": false,
     "input": [],
     "language": "python",
     "metadata": {},
     "outputs": [],
     "prompt_number": 154
    }
   ],
   "metadata": {}
  }
 ]
}