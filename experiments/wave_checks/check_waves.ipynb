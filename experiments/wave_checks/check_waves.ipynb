{
 "cells": [
  {
   "cell_type": "markdown",
   "metadata": {},
   "source": [
    "# Notebook to check waves code\n",
    "\n",
    "Is doing reasonable things?\n",
    "\n",
    "Does it match SPM?\n",
    "\n",
    "etc...."
   ]
  },
  {
   "cell_type": "code",
   "execution_count": 1,
   "metadata": {
    "collapsed": false
   },
   "outputs": [],
   "source": [
    "# plotting imports\n",
    "import numpy as np\n",
    "%matplotlib inline\n",
    "from matplotlib import pyplot as plt"
   ]
  },
  {
   "cell_type": "code",
   "execution_count": 2,
   "metadata": {
    "collapsed": false
   },
   "outputs": [],
   "source": [
    "import datetime\n",
    "# first imort stuff from GNOME:\n",
    "import gnome\n",
    "import gnome.environment.waves\n",
    "reload(gnome.environment.waves)\n",
    "Waves = gnome.environment.waves.Waves\n",
    "\n",
    "from gnome.environment import wind\n",
    "from gnome.environment import Water\n",
    "from gnome.basic_types import datetime_value_2d"
   ]
  },
  {
   "cell_type": "markdown",
   "metadata": {},
   "source": [
    "## fetch unlimited wave height"
   ]
  },
  {
   "cell_type": "code",
   "execution_count": 3,
   "metadata": {
    "collapsed": false
   },
   "outputs": [],
   "source": [
    "# create some sample wind and water objects\n",
    "#start_time = datetime.datetime(2014, 12, 1, 0)\n",
    "# 5 m/s\n",
    "#series = np.array((start_time, (5, 45)),\n",
    "#                      dtype=datetime_value_2d).reshape((1, ))\n",
    "test_wind_5 = wind.constant_wind(5, 45)\n",
    "default_water = Water()"
   ]
  },
  {
   "cell_type": "code",
   "execution_count": 4,
   "metadata": {
    "collapsed": false
   },
   "outputs": [],
   "source": [
    "w = Waves(test_wind_5, default_water)\n",
    "U = range(40)\n",
    "H = [w.compute_H(u) for u in U]\n",
    "#print H"
   ]
  },
  {
   "cell_type": "code",
   "execution_count": 5,
   "metadata": {
    "collapsed": false
   },
   "outputs": [
    {
     "data": {
      "text/plain": [
       "<matplotlib.text.Text at 0x11ca84950>"
      ]
     },
     "execution_count": 5,
     "metadata": {},
     "output_type": "execute_result"
    },
    {
     "data": {
      "image/png": "[encoded data removed]",
      "text/plain": [
       "<matplotlib.figure.Figure at 0x11aa51510>"
      ]
     },
     "metadata": {},
     "output_type": "display_data"
    }
   ],
   "source": [
    "fig, ax = plt.subplots()\n",
    "ax.plot(U,H)\n",
    "fig.suptitle('wave height with unlimited fetch')\n",
    "ax.set_xlabel('wind speed ($m/s$)')\n",
    "ax.set_ylabel('H (m)')"
   ]
  },
  {
   "cell_type": "markdown",
   "metadata": {},
   "source": [
    "**NOTE:** This seem to be pretty high for the large wind speeds -- which we dont really expect to do well anyway, but still. I think there are issues with wave hieght being depth limitied, etc, when it gets big. Also tiem scale -- a 3 or 6 or whatever time average isn't going to cut it with waves potentially this big."
   ]
  },
  {
   "cell_type": "code",
   "execution_count": 6,
   "metadata": {
    "collapsed": false
   },
   "outputs": [],
   "source": [
    "water = Water()\n",
    "w = Waves(test_wind_5, water)\n",
    "H = []\n",
    "# fetch range from 1km to 100km\n",
    "fetch = range(1000, 100000, 1000)\n",
    "for f in fetch:\n",
    "    water.fetch = f\n",
    "    H.append(w.compute_H(10))"
   ]
  },
  {
   "cell_type": "code",
   "execution_count": 7,
   "metadata": {
    "collapsed": false
   },
   "outputs": [
    {
     "data": {
      "text/plain": [
       "<matplotlib.text.Text at 0x11cb7bd10>"
      ]
     },
     "execution_count": 7,
     "metadata": {},
     "output_type": "execute_result"
    },
    {
     "data": {
      "image/png": "[encoded data removed]",
      "text/plain": [
       "<matplotlib.figure.Figure at 0x11aa51150>"
      ]
     },
     "metadata": {},
     "output_type": "display_data"
    }
   ],
   "source": [
    "fig, ax = plt.subplots()\n",
    "ax.plot(fetch, H)\n",
    "fig.suptitle('wave height for 10 m/s wind')\n",
    "ax.set_xlabel('fetch (m)')\n",
    "ax.set_ylabel('H (m)')"
   ]
  },
  {
   "cell_type": "markdown",
   "metadata": {},
   "source": [
    "## NOTE:\n",
    "\n",
    "This seems kind of small -- only just over 1 m waves for 20 knot wind?\n",
    "\n",
    "We need to check against the SPM.\n",
    "\n",
    "This calculator:\n",
    "https://woodshole.er.usgs.gov/project-pages/coastal_model/Tools/fetch_limited.html\n",
    "\n",
    "gives 1.8m for 10m/s and very high fetch and duration (and deep water).\n"
   ]
  },
  {
   "cell_type": "markdown",
   "metadata": {},
   "source": [
    "## Whitecap Fraction\n",
    "\n",
    "Note that the slolution for $U < 4$ is pretty fudged -- used to be zero or $U < 3$, now it is a linear interpolation form 0 to the $U=4$ value. maybe an exponential or quadratic would be better?"
   ]
  },
  {
   "cell_type": "code",
   "execution_count": 11,
   "metadata": {
    "collapsed": false
   },
   "outputs": [],
   "source": [
    "water = Water()\n",
    "w = Waves(test_wind_5, water)\n",
    "wf = [] # whitecap fraction\n",
    "U = np.arange(0,20,0.2)\n",
    "for u in U:\n",
    "    wf.append(w.whitecap_fraction(u))"
   ]
  },
  {
   "cell_type": "code",
   "execution_count": 15,
   "metadata": {
    "collapsed": false
   },
   "outputs": [
    {
     "data": {
      "text/plain": [
       "<matplotlib.text.Text at 0x11cb97e10>"
      ]
     },
     "execution_count": 15,
     "metadata": {},
     "output_type": "execute_result"
    },
    {
     "data": {
      "image/png": "[encoded data removed]",
      "text/plain": [
       "<matplotlib.figure.Figure at 0x11cfd7c10>"
      ]
     },
     "metadata": {},
     "output_type": "display_data"
    }
   ],
   "source": [
    "fig, ax = plt.subplots()\n",
    "ax.plot(U, wf)\n",
    "fig.suptitle('Whitecap Fraction')\n",
    "ax.set_xlabel('Wind speed (m/s)')\n",
    "ax.set_ylabel('Fraction')\n"
   ]
  },
  {
   "cell_type": "markdown",
   "metadata": {
    "collapsed": false
   },
   "source": [
    "## Energy Disspation rate\n",
    "\n"
   ]
  },
  {
   "cell_type": "code",
   "execution_count": 16,
   "metadata": {
    "collapsed": false
   },
   "outputs": [],
   "source": [
    "water = Water()\n",
    "w = Waves(test_wind_5, water)\n",
    "H = np.linspace(0, 3, 10)\n",
    "eps = w.dissipative_wave_energy(H)\n"
   ]
  },
  {
   "cell_type": "code",
   "execution_count": 17,
   "metadata": {
    "collapsed": false
   },
   "outputs": [
    {
     "data": {
      "text/plain": [
       "<matplotlib.text.Text at 0x11ce4a210>"
      ]
     },
     "execution_count": 17,
     "metadata": {},
     "output_type": "execute_result"
    },
    {
     "data": {
      "image/png": "[encoded data removed]",
      "text/plain": [
       "<matplotlib.figure.Figure at 0x11d0d2ad0>"
      ]
     },
     "metadata": {},
     "output_type": "display_data"
    }
   ],
   "source": [
    "fig, ax = plt.subplots()\n",
    "ax.plot(H, eps)\n",
    "fig.suptitle('Energy Dissipation rate')\n",
    "ax.set_xlabel('Wave height (m)')\n",
    "ax.set_ylabel('Energy Dissipatioin rate (kg/s^2)')"
   ]
  },
  {
   "cell_type": "code",
   "execution_count": null,
   "metadata": {
    "collapsed": true
   },
   "outputs": [],
   "source": []
  }
 ],
 "metadata": {
  "kernelspec": {
   "display_name": "Python 2",
   "language": "python",
   "name": "python2"
  },
  "language_info": {
   "codemirror_mode": {
    "name": "ipython",
    "version": 2
   },
   "file_extension": ".py",
   "mimetype": "text/x-python",
   "name": "python",
   "nbconvert_exporter": "python",
   "pygments_lexer": "ipython2",
   "version": "2.7.12"
  }
 },
 "nbformat": 4,
 "nbformat_minor": 0
}
