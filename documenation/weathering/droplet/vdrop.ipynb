{
 "cells": [
  {
   "cell_type": "markdown",
   "metadata": {},
   "source": [
    "# <center>VDROP</center>"
   ]
  },
  {
   "cell_type": "markdown",
   "metadata": {},
   "source": [
    "## <center>A comprehensive model for droplet formation of oils and gases in liquids</center>"
   ]
  },
  {
   "cell_type": "markdown",
   "metadata": {},
   "source": [
    "### 1. Introduction"
   ]
  },
  {
   "cell_type": "markdown",
   "metadata": {},
   "source": [
    "Study of droplet formation and breakup processes is important for oil spill events in the marine environment.  The movement of oil droplets in the water column is greatly affected by the droplet size.<br/>\n",
    "For a given oil, large droplets have larger buoyancy than smaller droplets, and thus rise to the water surface rapidly when submerged.  Studies by Elliott et al. [1] reported rapid transport of large oil droplets and slow transport of smaller droplets, causing the formation of the comet-shaped oil slick on the water surface.<br/>\n",
    "Boufadel eta al. [2] evaluated the effect of buoyancy on the transport of oil droplets, and demonstrated that large droplets get advected faster than small droplets due to the larger Stokes drift [3] near the surface, resulting in the comet shape distribution."
   ]
  },
  {
   "cell_type": "markdown",
   "metadata": {},
   "source": [
    "The droplet size distribution (DSD) is not only important for the transport of oil but also for is fate, as increasing the portion of small droplets results in an increase in the surface area (per unit mass).  A large surface area enhances the dissolution of hydrocarbon components in the water column [4].  In addition, as the biodegradation of low solubility oil components in the droplets occurs at the water-oil interface, and increase in the surface area increases oil biodegradation [5, 6].<br/>\n",
    "Therefore, there is a need to obtain the droplet size distribution and its evolution with time an oil spill occurs at the surface of subsurface of a water body."
   ]
  },
  {
   "cell_type": "markdown",
   "metadata": {},
   "source": [
    "Models for the droplet size distribution range from correlations to detailed simulation of DSD.  Correlations (or correlation models) rely on dimensionless numbers, such as the Weber number - ratio of destructive forces to resisting forces due to interfacial tension (IFT), and the Reynolds number to obtain characteristic diameters at steady state (i.e., after a long time of mixing) [e.g. [7-10]].<br/>\n",
    "In situations where viscosity also contributes to the resistance to breakup of droplets, a modified Weber number was used through the incorporation of a viscosity group [7,11,12] to obtain the equilibrium (i.e. steady state) characteristic size.  Droplet coalescence was accounted for explicitly in these approaches.<br/>\n",
    "In addition, since correlation approaches can only provide characteristic diameters, the DSD was assumed to follow analytical functions, such as the normal distribution [13,14], the lognormal distribution [9,15,16], and the Rossin-Ramler distribution [9,12,17]."
   ]
  },
  {
   "cell_type": "markdown",
   "metadata": {},
   "source": [
    "Population balance models rely on solving differential equations numerically for the droplet size distribution (DSD).  The models take account of various mechanisms causing breakup and coalescence of droplets in a phenomenological way along with mechanisms resisting breakup [18-22].<br/>\n",
    "Successful population balance models are those that incorporate the physics of the problem to the maximum extent possible without making the code too complex or dependent on a large number of parameters.<br/>\n",
    "In these models:\n",
    "<ul>\n",
    "  <li>Breakup of oil droplets in turbulent flow is viewed as the result of collision of droplets with turbulent eddies and of a breakage efficiency that depends on oil properties and mixing intensity [23,24].</li>\n",
    "  <li>Coalescence is typically assumed to occur as a result of collision between droplets due to mixing and a collision efficiency that depends on oil properties [23,25].</li>\n",
    "</ul>"
   ]
  },
  {
   "cell_type": "markdown",
   "metadata": {},
   "source": [
    "A major advantage of numerical population balance models over correlation models is that the prior provide the transient DSD.  The steady-state DSD is obtained by simply running the numerical model for a long enough duration (typically less than a few hours), and obtaining the output.  In spite of many peer reviewed studies using population balance models, only few studies considered oil viscosity effects in droplet breakage, and these occurred under steady-state conditions [11,26].<br/>\n",
    "Accounting for the role of the droplet viscosity in resisting breakup is not only important for high viscosity oils, but also for situations where surfactants are used reducing the surface tension forces by orders of magnitude, which would render viscosity forces (of even low viscosity oils) important in resisting the breakup of droplets [27-29]."
   ]
  },
  {
   "cell_type": "markdown",
   "metadata": {},
   "source": [
    "Therefore, in the context of dealing with oil spills in marine environment, the objective of this paper was to develop a numerical model - VDROP using population balance equation to predict the transient and steady-state DSD of oils of various properties.  In particular, the model accounts for resistance to breakup of droplets due to viscous forces within the droplet.  The VDROP model was extensively validated using experimental data from chemical reactors.  The model was then used to simulate the DSD resulting from an oil slick in breaking waves."
   ]
  },
  {
   "cell_type": "markdown",
   "metadata": {},
   "source": [
    "### 2. Methodology"
   ]
  },
  {
   "cell_type": "markdown",
   "metadata": {},
   "source": [
    "For a liquid-liquid dispersion system, the population balance equation has been widely used for predictions of droplet formation processes.  Most previous studies used different forms of integral-differential equation of the population balance equation [e.g. [24-26]].  And thus, the following population balance equation is introduced for discrete droplet classes:"
   ]
  },
  {
   "cell_type": "markdown",
   "metadata": {},
   "source": [
    "$$\n",
    "\\begin{align}\n",
    "t &= \\text{time} (seconds) \\cr\n",
    "d_i &= \\text{droplet diameter at a given time (meters)} \\cr\n",
    "n &= \\text{number concentration (number of droplets} / m^3 \\text{) of droplets of diameter } d_i \\cr\n",
    "\\beta(d_i,d_j) &= \\text{breakage probability density function for the creation of droplets} (d_i) \\text{due to the breakage of larger droplets} (d_j) \\cr\n",
    "g(d_j) &= \\text{breakage frequency of droplets} (d_j) \\cr\n",
    "\\Gamma(d_j,d_k) &= \\text{the coalescence rate} (m^3/s) \\cr\n",
    "\\cr\n",
    "{\\partial n(d_i, t) \\over \\partial t} &= \\underbrace{\\sum_{j=i+1}^n \\beta(d_i,d_j) g(d_j) n(d_j,t) - g(d_i)n(d_i,t)}_{\\text{Droplet Breakup}} \\cr\n",
    "&\\quad + \\underbrace{\\underbrace{\\sum_{j=1}^n \\sum_{k=1}^n}_{v_j + v_k = v_i} \\Gamma(d_j,d_k) n(d_j,t) n(d_k,t) - n(d_i,t) \\sum_{j=1}^n \\Gamma(d_i,d_j) n(d_j,t)}_{\\text{Droplet Coalescence}} \\cr\n",
    "\\end{align}\n",
    "$$"
   ]
  },
  {
   "cell_type": "markdown",
   "metadata": {},
   "source": [
    "For the Droplet Breakup portion of this equation:\n",
    "<ul>\n",
    "    <li>The first term represents the birth of droplets $d_i$ resulting from the breakup of droplets $d_j$</li>\n",
    "    <li>The second term represents the death of droplets $d_i$ due to breakup into smaller droplets</li>\n",
    "</ul>"
   ]
  },
  {
   "cell_type": "markdown",
   "metadata": {},
   "source": [
    "For the Droplet Coalescence portion of this equation:\n",
    "<ul>\n",
    "    <li>The first term represents the birth of droplets $d_i$ as a result of coalescence events occurring between droplets $d_k$ and $d_j$ to form droplets of size $d_i$</li>\n",
    "    <li>The second term represents the death of droplets $d_i$ due to the coalescence of droplets $d_i$ with all other droplets (including droplets of size $d_i$ to themselves) to form larger droplets</li>\n",
    "</ul>"
   ]
  },
  {
   "cell_type": "markdown",
   "metadata": {},
   "source": [
    "Detailed information and description of each term are presented below."
   ]
  },
  {
   "cell_type": "markdown",
   "metadata": {},
   "source": [
    "#### 2.1. Droplet Breakup"
   ]
  },
  {
   "cell_type": "markdown",
   "metadata": {},
   "source": [
    "There are a number of mechanisms for droplet breakup.  The major mechanism is the bombardment of droplets by turbulent eddies [24,26,30,31].  When energy forces induced by fluctuating eddies exceed the resisting forces (interfacial tension and viscous effects) of the dispersed phase, droplets burst into smaller droplets.<br/>\n",
    "Such mechanism was employed in the current study, of which droplet breakup is posited to be caused by the collision of droplets with eddies during the mixing.  The breakage rate of a droplet can be written as the product of the <b><u>collision frequency</u></b> (total number of collisions per time) between the droplet and all the surrounding eddies, and <b><u>breakage efficiency</u></b> $BE$ which presents the probable occurrence of breakage events due to drop-eddy collisions, since collisions only induce a certain number of drop breakups.<br/>\n",
    "In addition, the model VDROP contains a formulation that accounts for resistance to breakage due to the viscosity of the droplet.  With this concept in the model development, the breakage rate $g(d_i)$ can thus be expressed as [24]:"
   ]
  },
  {
   "cell_type": "markdown",
   "metadata": {},
   "source": [
    "$$\n",
    "\\begin{align}\n",
    "K_b &= \\text{a system-dependent parameter for droplet breakup (obtained by calibration to experimental data)} \\cr\n",
    "S_{ed} &= \\text{the cross section area of eddy-droplet} \\cr\n",
    "BE &= \\text{breakage efficiency} \\cr\n",
    "u_e &= \\text{the turbulent velocity of an eddy} \\cr\n",
    "u_d &= \\text{droplet velocity} \\cr\n",
    "\\cr\n",
    "g(d_i) &= K_b \\int_{n_e} S_{ed}(u_e^2 + u_d^2)^{1/2} BE(d_i, d_e, t)dn_e\n",
    "\\end{align}\n",
    "$$"
   ]
  },
  {
   "cell_type": "markdown",
   "metadata": {},
   "source": [
    "##### 2.1.1. Collision Frequency $\\theta_b(d_i)$"
   ]
  },
  {
   "cell_type": "markdown",
   "metadata": {},
   "source": [
    "The collision frequency for droplet breakup was estimated based on the analogy of kinetic collisions of ideal gas molecules first developed by Kennard [32].  Accordingly, one has:"
   ]
  },
  {
   "cell_type": "markdown",
   "metadata": {},
   "source": [
    "$\\theta_b(d_i) = \\int_{n_e} S_{ed}(u_e^2 + u_d^2)^{1/2} dn_e$"
   ]
  },
  {
   "cell_type": "markdown",
   "metadata": {},
   "source": [
    "where $S_{ed}$ represents the cross section area of eddy-droplet.  For an eddy with a diameter of $d_e$ and a droplet $d_i$, $S_{ed}$ can be estimated as:"
   ]
  },
  {
   "cell_type": "markdown",
   "metadata": {},
   "source": [
    "$S_{ed} = {\\pi \\over 4} (d_e + d_i)^2$"
   ]
  },
  {
   "cell_type": "markdown",
   "metadata": {},
   "source": [
    "In the inertial subrange of the energy spectrum [33], the turbulent velocity of an eddy $u_e$ and droplet velocity $u_d$ can be expressed as [24,34]:"
   ]
  },
  {
   "cell_type": "markdown",
   "metadata": {},
   "source": [
    "$$\n",
    "\\begin{align}\n",
    "\\varepsilon &= \\text{the energy dissipation rate} (W/kg) \\quad \\text{(Ref: Pizzo & Melville, eq. 1.1)} \\cr\n",
    "\\cr\n",
    "u_e &= 2.27 (\\varepsilon d_e)^{1/3} \\cr\n",
    "u_d &= 1.03 (\\varepsilon d_i)^{1/3} \\cr\n",
    "\\end{align}\n",
    "$$"
   ]
  },
  {
   "cell_type": "markdown",
   "metadata": {
    "collapsed": true
   },
   "source": [
    "The velocities are obtained as an average of the eddy and droplet velocities, respectively."
   ]
  },
  {
   "cell_type": "markdown",
   "metadata": {},
   "source": [
    "It is reasonable to assume isotropic turbulence at the scale of the droplets even though the large scale of the flow is anisotropic, as the droplets are normally less than a few millimeters in size.  Using isotropic turbulence for the energy spectrum in the inertial subrange [i.e., the -5/3 law of 33], Azbel [34] estimated the number of eddies per unit volume $dn_e$ (Eq. 3) as:"
   ]
  },
  {
   "cell_type": "markdown",
   "metadata": {},
   "source": [
    "$ dn_e = -0.812 {1 \\over d_e^4} d(d_e) $"
   ]
  },
  {
   "cell_type": "markdown",
   "metadata": {},
   "source": [
    "It is widely accepted that eddies larger than the droplet advet it while those of equal size and smaller contribute to its breakage [30,35,36].  Of course, this does not preclude the breakage of droplets to shear from the large eddies, which is known as viscous turbulence, but the rate of breakup due to this process is usually small.<br/>\n",
    "Therefore, the upper limit of the integration in Eq. 3 is set to the droplet diameter.  As indicated above, the initial droplet size has been assumed to lie in the inertial subrange.<br/>\n",
    "Tennekes and Lumley [37] suggested that the lower end of the inertial subrange is approximately between 10 and 30 times the size of the Kolmogorov microscale $\\eta$ given by:"
   ]
  },
  {
   "cell_type": "markdown",
   "metadata": {},
   "source": [
    "$$\n",
    "\\begin{align}\n",
    "v_c &= \\text{the kinematic viscosity of the continuous phase} \\cr\n",
    "\\eta &= \\left( {v_c^3 \\over \\varepsilon} \\right)^{1/4} \\cr\n",
    "\\end{align}\n",
    "$$"
   ]
  },
  {
   "cell_type": "markdown",
   "metadata": {},
   "source": [
    "Using a mixing energy equal to 0.1 W/kg in a water tank, for example, one has $\\eta \\approx 56 \\mu m$.  Stopping the integration to 10-30 times the Kolmogorov scale would result in no breakup of droplets of size $1000 \\mu m$ ($20$ times of $50 \\mu m$), which is in contrast with experiments, where the maximum droplet size was $200 \\mu m$ [29].<br/>\n",
    "Thus, in the current study the integration in Eq. 3 is taken all the way down to the Kolmogorov scale (eq. 8).<br/>\n",
    "Improvements on this approach would consist of adopting a different expression between $30 \\eta$ and $\\eta$ that accounts for the rapid fall of the spectral curve when approaching $\\eta$.  However, this was not pursued in this work for simplicity."
   ]
  },
  {
   "cell_type": "markdown",
   "metadata": {},
   "source": [
    "##### 2.1.2. Breakage Efficiency: time-dependent viscous effects $BE$"
   ]
  },
  {
   "cell_type": "markdown",
   "metadata": {},
   "source": [
    "The breakage efficiency term $BE(d_i, d_e, t)$ in Eq. 2 can be written as:"
   ]
  },
  {
   "cell_type": "markdown",
   "metadata": {},
   "source": [
    "$$\n",
    "\\begin{align}\n",
    "E_c &= \\text{formation energy (average excess surface energy needed to form daughter droplets)} \\cr\n",
    "E_v &= \\text{resistance energy due to viscous forces within the droplet} \\cr\n",
    "e &= \\text{the energy of the turbulent eddy that would cause breakup of the droplet} \\cr\n",
    "c_1 &= \\text{an empirical constant equal to 1.3 [24]} \\cr\n",
    "\\cr\n",
    "BE(d_i, d_e, t) &= exp \\left[ - {1 \\over c_1} \\left( E_c + E_v \\over e \\right) \\right] \\cr\n",
    "\\end{align}\n",
    "$$"
   ]
  },
  {
   "cell_type": "markdown",
   "metadata": {},
   "source": [
    "For binary breakage (i.e., for a parent droplet breaking into two daughter droplets), the expression for the formation energy $(E_c)$ can be estimated as:"
   ]
  },
  {
   "cell_type": "markdown",
   "metadata": {},
   "source": [
    "$$\n",
    "\\begin{align}\n",
    "ef_{min} &= \\text{minimum formation energy associated with the generated surface [24,38]} \\cr\n",
    "ef_{max} &= \\text{maximum formation energy associated with the generated surface} \\cr\n",
    "\\cr\n",
    "E_c &= {1 \\over 2} \\left[ ef_{max} + ef_{min} \\right]\n",
    "\\end{align}\n",
    "$$"
   ]
  },
  {
   "cell_type": "markdown",
   "metadata": {},
   "source": [
    "$ef_{min}$ and $ef_{max}$ themselves can be estimated for a particular droplet of diameter $d_i$ as:"
   ]
  },
  {
   "cell_type": "markdown",
   "metadata": {},
   "source": [
    "$$\n",
    "\\begin{align}\n",
    "\\sigma &= \\text{the IFT (interfacial tension???) between dispersed phase and the continuous phase} \\cr\n",
    "d_{min} &= \\text{a minimum (user selected) droplet size} \\cr\n",
    "\\cr\n",
    "ef_{min}(d_i) &= \\pi \\sigma \\left\\lfloor (d_i^3 - d_{min}^3)^{2/3} + d_{min}^2 - d_i^2 \\right\\rfloor \\cr\n",
    "\\cr\n",
    "ef_{max}(d_i) &= \\pi \\sigma \\left[ 2 \\left({d_i \\over 2^{1/3}} \\right)^2 - d_i^2 \\right] \\cr\n",
    "\\end{align}\n",
    "$$"
   ]
  },
  {
   "cell_type": "markdown",
   "metadata": {},
   "source": [
    "A $d_{min}$ of one micron is chosen in this study.  Note that the previous two equations only provide an estimate of the minimum energy input that is required to disperse oil as droplets in the water column [39]."
   ]
  },
  {
   "cell_type": "markdown",
   "metadata": {},
   "source": [
    "The quantity $e$ in the equation for $BE(d_i, d_e, t)$ is the kinetic energy of an eddy, given by:"
   ]
  },
  {
   "cell_type": "markdown",
   "metadata": {},
   "source": [
    "$$\n",
    "\\begin{align}\n",
    "m_e &= \\text{the mass of the eddy} \\cr\n",
    "u_e &= \\text{the turbulent velocity of the eddy} \\cr\n",
    "\\rho_c &= \\text{the density of the continuous phase} \\cr\n",
    "\\cr\n",
    "e &= {1 \\over 2} m_e u_e^2 \\cr\n",
    "&= {1 \\over 2} \\left( \\rho_c {4 \\over 3} \\pi (d_e / 2)^3 \\right) u_e^2 \\quad \\text{(density & volume substituted for mass)} \\cr\n",
    "&= {2 \\over 3} \\left( \\rho_c \\pi (d_e^3 / 2^3) \\right) u_e^2 \\cr\n",
    "&= {2 \\over 3} \\left( \\pi \\rho_c d_e^3 \\over 8 \\right) u_e^2 \\cr\n",
    "&= {1 \\over 12} \\pi \\rho_c d_e^3 u_e^2 \\cr\n",
    "\\cr\n",
    "&= {1 \\over 12} \\pi \\rho_c d_e^3 (2.27 (\\varepsilon d_e)^{1/3})^2 \\quad \\text{(eddy velocity obtained from droplet size & energy dissipation rate)} \\cr\n",
    "&= {1 \\over 12} \\pi \\rho_c d_e^3 (2.27 (\\varepsilon^{1/3} d_e^{1/3}))^2 \\cr\n",
    "&= {1 \\over 12} \\pi \\rho_c d_e^3 (2.27^2 \\varepsilon^{2/3} d_e^{2/3}) \\cr\n",
    "&= {1 \\over 12} \\pi (2.27)^2 \\rho_c d_e^3 d_e^{2/3} \\quad \\varepsilon^{2/3} \\cr\n",
    "\\cr\n",
    "&\\text{finally...} \\cr\n",
    "\\cr\n",
    "e &= 1.35 \\rho_c d_e^{11/3} \\varepsilon^{2/3} \\cr\n",
    "\\end{align}\n",
    "$$"
   ]
  },
  {
   "cell_type": "markdown",
   "metadata": {},
   "source": [
    "The few works that considered resistance due to viscosity addressed only the steady-state DSD [11,26,35].  The viscous energy induced by the dispersed phase viscosity $SE_v$ at steady-state can be expressed as [11,35]:"
   ]
  },
  {
   "cell_type": "markdown",
   "metadata": {},
   "source": [
    "$$\n",
    "\\begin{align}\n",
    "\\alpha_1 &= \\text{a constant (see appendix A)} \\cr\n",
    "\\varepsilon &= \\text{energy dissipation rate} \\cr\n",
    "\\mu_d &= \\text{viscosity of dispersed phase} \\cr\n",
    "\\rho_c &= \\text{density of continuous phase} \\cr\n",
    "\\rho_d &= \\text{density of dispersed phase} \\cr\n",
    "\\cr\n",
    "SE_v &= \\alpha_1 \\left( {\\pi \\over 6} \\varepsilon^{1/3} d_i^{7/3} \\mu_d \\root \\of {\\rho_c \\over \\rho_d} \\right) \\quad \\quad \\quad \\text{(Eq. 14)} \\cr\n",
    "\\end{align}\n",
    "$$"
   ]
  },
  {
   "cell_type": "markdown",
   "metadata": {},
   "source": [
    "When we attempted to use Eq. 14 to simulate the transient DSD of high viscosity oils, we noted that there was not one value of $\\alpha_1$ that matched the data; when $\\alpha_1$ was small, the model overestimated the amount of earlier breakup, and when $\\alpha_1$ was large, the model underestimated the amount of breakup.  Only by allowing $\\alpha_1$ to decrease as a function of time were we able to match the data.<br/>\n",
    "Upon further inspection, we noted that the decrease of $E_v$ with time (due to a decrease in $\\alpha_1$) is directly related to the breakage mechanism of high viscosity oil (and/or low IFT oils); the droplet breaks by elongation of the droplet until reaching an unstable length, typically 2-3 times the initial diameter [40], while the breakup of low viscosity and/or high IFT oils occur through \"bursting\"<br/>\n",
    "For the high viscosity oils, the elongation takes place when the droplet is subjected to stresses of a given intensity.  The droplet would elongate to reach the unstable length in a time $T_E$, which is related to the viscosity of the droplet and inversely related to the intensity of the stresses.  If the elongation time $T_E$ is smaller than the time of applied stress, $T_S$, the droplet would reach its breaking length before the stresses are removed, and it breaks.  Otherwise, the droplet does not break.<br/>\n",
    "As turbulence is inhomogeneous [41,43], the volume of high intensity mixing is usually small relative to the whole domain, and thus, only time evolution would ensure that a droplet is subjected to a high mixing intensity for a sufficiently long duration.<br/>\n",
    "Using physical arguments based on Hinze [7] and Calabrese et al. [35] who introduced a viscosity term to Weber number (e.g., $(N_{We})_{crit} = C[1 + f(N_{vi})]$ in Hinze [7]), we introduced a time-dependent term $[1 + f(t)]$ to replace $\\alpha_1$ in Eq. 14, and the resulting viscous force energy is expressed as:"
   ]
  },
  {
   "cell_type": "markdown",
   "metadata": {},
   "source": [
    "$$\n",
    "\\begin{align}\n",
    "a &= \\text{a constant calibrated to be 1.1} \\cr\n",
    "t &= \\text{the simulation time} \\cr\n",
    "T &= \\text{some mean residence time of droplets in the system.} \\cr\n",
    "\\cr\n",
    "E_v &= \\left( 1 + a \\exp\\left( - {t \\over T} \\right) \\right) \\left( {\\pi \\over 6} \\varepsilon^{1/3} d_i^{7/3} \\mu_d \\root \\of {\\rho_c \\over \\rho_d} \\right) \\quad \\quad \\quad \\text{(Eq. 15)} \\cr\n",
    "\\end{align}\n",
    "$$"
   ]
  },
  {
   "cell_type": "markdown",
   "metadata": {},
   "source": [
    "The mean residence time $T$ has been estimated, by fitting to data, to be 8400 seconds.  Further discussion of these terms is presented in Section 5."
   ]
  },
  {
   "cell_type": "markdown",
   "metadata": {},
   "source": [
    "##### 2.1.3. Breakage probability density function $\\beta (d_i, d_j)$"
   ]
  },
  {
   "cell_type": "markdown",
   "metadata": {},
   "source": [
    "The breakage is assumed to be binary.  From energetic point of view, Tsouris and Tavlarides [24] proposed a daughter drop probability density function, which considered that the energy requirement for a breakup into a small and a large drop is less than the energy requirement for a breakup into two equal-size droplets, suggesting that breakup into different volume droplets is more probable.  The probability of obtaining a droplet of size $d_i$ due to the breakup of a parent droplet of size $d_j$, $\\beta(d_i, d_j)$ can be expressed as [24]:"
   ]
  },
  {
   "cell_type": "markdown",
   "metadata": {},
   "source": [
    "$$\n",
    "\\begin{align}\n",
    "\\beta(d_i, d_j) &= {ef_{min} + [ef_{max} - ef(d_i)] \\over \\sum_{k=1}^{j-1} (ef_{min} + [ef_{max} - ef(d_k)]} \\cr\n",
    "&\\text{where} \\cr\n",
    "ef(d_i) &= \\pi \\sigma [(d_j^3 - d_i^3)^{2/3} + d_i^2 - d_j^2] \\cr\n",
    "\\end{align}\n",
    "$$"
   ]
  },
  {
   "cell_type": "markdown",
   "metadata": {},
   "source": [
    "#### 2.2. Droplet Coalescence"
   ]
  },
  {
   "cell_type": "markdown",
   "metadata": {},
   "source": [
    "The coalescence rate $\\Gamma(d_i, d_j)$ can be described as the product of collision frequency and coalescence efficiency,  Collision events of two droplets are considered herein as due only to turbulence.  Other mechanisms, such as differential buoyancy and lateral shear [23] will be considered in future work."
   ]
  },
  {
   "cell_type": "code",
   "execution_count": null,
   "metadata": {
    "collapsed": true
   },
   "outputs": [],
   "source": []
  }
 ],
 "metadata": {
  "kernelspec": {
   "display_name": "Python 2",
   "language": "python",
   "name": "python2"
  },
  "language_info": {
   "codemirror_mode": {
    "name": "ipython",
    "version": 2
   },
   "file_extension": ".py",
   "mimetype": "text/x-python",
   "name": "python",
   "nbconvert_exporter": "python",
   "pygments_lexer": "ipython2",
   "version": "2.7.11"
  }
 },
 "nbformat": 4,
 "nbformat_minor": 0
}
