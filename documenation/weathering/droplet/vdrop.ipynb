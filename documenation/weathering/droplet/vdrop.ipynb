{
 "cells": [
  {
   "cell_type": "markdown",
   "metadata": {},
   "source": [
    "# <center>VDROP</center>"
   ]
  },
  {
   "cell_type": "markdown",
   "metadata": {},
   "source": [
    "## <center>A comprehensive model for droplet formation of oils and gases in liquids</center>"
   ]
  },
  {
   "cell_type": "markdown",
   "metadata": {},
   "source": [
    "### 1. Introduction"
   ]
  },
  {
   "cell_type": "markdown",
   "metadata": {},
   "source": [
    "Study of droplet formation and breakup processes is important for oil spill events in the marine environment.  The movement of oil droplets in the water column is greatly affected by the droplet size.<br/>\n",
    "For a given oil, large droplets have larger buoyancy than smaller droplets, and thus rise to the water surface rapidly when submerged.  Studies by Elliott et al. [1] reported rapid transport of large oil droplets and slow transport of smaller droplets, causing the formation of the comet-shaped oil slick on the water surface.<br/>\n",
    "Boufadel eta al. [2] evaluated the effect of buoyancy on the transport of oil droplets, and demonstrated that large droplets get advected faster than small droplets due to the larger Stokes drift [3] near the surface, resulting in the comet shape distribution."
   ]
  },
  {
   "cell_type": "markdown",
   "metadata": {},
   "source": [
    "The droplet size distribution (DSD) is not only important for the transport of oil but also for is fate, as increasing the portion of small droplets results in an increase in the surface area (per unit mass).  A large surface area enhances the dissolution of hydrocarbon components in the water column [4].  In addition, as the biodegradation of low solubility oil components in the droplets occurs at the water-oil interface, and increase in the surface area increases oil biodegradation [5, 6].<br/>\n",
    "Therefore, there is a need to obtain the droplet size distribution and its evolution with time an oil spill occurs at the surface of subsurface of a water body."
   ]
  },
  {
   "cell_type": "markdown",
   "metadata": {},
   "source": [
    "Models for the droplet size distribution range from correlations to detailed simulation of DSD.  Correlations (or correlation models) rely on dimensionless numbers, such as the Weber number - ratio of destructive forces to resisting forces due to interfacial tension (IFT), and the Reynolds number to obtain characteristic diameters at steady state (i.e., after a long time of mixing) [e.g. [7-10]].<br/>\n",
    "In situations where viscosity also contributes to the resistance to breakup of droplets, a modified Weber number was used through the incorporation of a viscosity group [7,11,12] to obtain the equilibrium (i.e. steady state) characteristic size.  Droplet coalescence was accounted for explicitly in these approaches.<br/>\n",
    "In addition, since correlation approaches can only provide characteristic diameters, the DSD was assumed to follow analytical functions, such as the normal distribution [13,14], the lognormal distribution [9,15,16], and the Rossin-Ramler distribution [9,12,17]."
   ]
  },
  {
   "cell_type": "markdown",
   "metadata": {},
   "source": [
    "Population balance models rely on solving differential equations numerically for the droplet size distribution (DSD).  The models take account of various mechanisms causing breakup and coalescence of droplets in a phenomenological way along with mechanisms resisting breakup [18-22].<br/>\n",
    "Successful population balance models are those that incorporate the physics of the problem to the maximum extent possible without making the code too complex or dependent on a large number of parameters.<br/>\n",
    "In these models:\n",
    "<ul>\n",
    "  <li>Breakup of oil droplets in turbulent flow is viewed as the result of collision of droplets with turbulent eddies and of a breakage efficiency that depends on oil properties and mixing intensity [23,24].</li>\n",
    "  <li>Coalescence is typically assumed to occur as a result of collision between droplets due to mixing and a collision efficiency that depends on oil properties [23,25].</li>\n",
    "</ul>"
   ]
  },
  {
   "cell_type": "markdown",
   "metadata": {},
   "source": [
    "A major advantage of numerical population balance models over correlation models is that the prior provide the transient DSD.  The steady-state DSD is obtained by simply running the numerical model for a long enough duration (typically less than a few hours), and obtaining the output.  In spite of many peer reviewed studies using population balance models, only few studies considered oil viscosity effects in droplet breakage, and these occurred under steady-state conditions [11,26].<br/>\n",
    "Accounting for the role of the droplet viscosity in resisting breakup is not only important for high viscosity oils, but also for situations where surfactants are used reducing the surface tension forces by orders of magnitude, which would render viscosity forces (of even low viscosity oils) important in resisting the breakup of droplets [27-29]."
   ]
  },
  {
   "cell_type": "markdown",
   "metadata": {},
   "source": [
    "Therefore, in the context of dealing with oil spills in marine environment, the objective of this paper was to develop a numerical model - VDROP using population balance equation to predict the transient and steady-state DSD of oils of various properties.  In particular, the model accounts for resistance to breakup of droplets due to viscous forces within the droplet.  The VDROP model was extensively validated using experimental data from chemical reactors.  The model was then used to simulate the DSD resulting from an oil slick in breaking waves."
   ]
  },
  {
   "cell_type": "markdown",
   "metadata": {},
   "source": [
    "### 2. Methodology"
   ]
  },
  {
   "cell_type": "markdown",
   "metadata": {},
   "source": [
    "For a liquid-liquid dispersion system, the population balance equation has been widely used for predictions of droplet formation processes.  Most previous studies used different forms of integral-differential equation of the population balance equation [e.g. [24-26]].  And thus, the following population balance equation is introduced for discrete droplet classes:"
   ]
  },
  {
   "cell_type": "markdown",
   "metadata": {},
   "source": [
    "$$\n",
    "\\begin{align}\n",
    "t &= \\text{time} (seconds) \\cr\n",
    "d_i &= \\text{droplet diameter at a given time (meters)} \\cr\n",
    "n &= \\text{number concentration (number of droplets} / m^3 \\text{) of droplets of diameter } d_i \\cr\n",
    "\\beta(d_i,d_j) &= \\text{breakage probability density function for the creation of droplets} (d_i) \\text{due to the breakage of larger droplets} (d_j) \\cr\n",
    "g(d_j) &= \\text{breakage frequency of droplets} (d_j) \\cr\n",
    "\\Gamma(d_j,d_k) &= \\text{the coalescence rate} (m^3/s) \\cr\n",
    "\\cr\n",
    "{\\partial n(d_i, t) \\over \\partial t} &= \\underbrace{\\sum_{j=i+1}^n \\beta(d_i,d_j) g(d_j) n(d_j,t) - g(d_i)n(d_i,t)}_{\\text{Droplet Breakup}} \\cr\n",
    "&\\quad + \\underbrace{\\underbrace{\\sum_{j=1}^n \\sum_{k=1}^n}_{v_j + v_k = v_i} \\Gamma(d_j,d_k) n(d_j,t) n(d_k,t) - n(d_i,t) \\sum_{j=1}^n \\Gamma(d_i,d_j) n(d_j,t)}_{\\text{Droplet Coalescence}} \\cr\n",
    "\\end{align}\n",
    "$$"
   ]
  },
  {
   "cell_type": "markdown",
   "metadata": {},
   "source": [
    "For the Droplet Breakup portion of this equation:\n",
    "<ul>\n",
    "    <li>The first term represents the birth of droplets $d_i$ resulting from the breakup of droplets $d_j$</li>\n",
    "    <li>The second term represents the death of droplets $d_i$ due to breakup into smaller droplets</li>\n",
    "</ul>"
   ]
  },
  {
   "cell_type": "markdown",
   "metadata": {},
   "source": [
    "For the Droplet Coalescence portion of this equation:\n",
    "<ul>\n",
    "    <li>The first term represents the birth of droplets $d_i$ as a result of coalescence events occurring between droplets $d_k$ and $d_j$ to form droplets of size $d_i$</li>\n",
    "    <li>The second term represents the death of droplets $d_i$ due to the coalescence of droplets $d_i$ with all other droplets (including droplets of size $d_i$ to themselves) to form larger droplets</li>\n",
    "</ul>"
   ]
  },
  {
   "cell_type": "markdown",
   "metadata": {},
   "source": [
    "Detailed information and description of each term are presented below."
   ]
  },
  {
   "cell_type": "markdown",
   "metadata": {},
   "source": [
    "#### 2.1. Droplet Breakup"
   ]
  },
  {
   "cell_type": "markdown",
   "metadata": {},
   "source": [
    "There are a number of mechanisms for droplet breakup.  The major mechanism is the bombardment of droplets by turbulent eddies [24,26,30,31].  When energy forces induced by fluctuating eddies exceed the resisting forces (interfacial tension and viscous effects) of the dispersed phase, droplets burst into smaller droplets.<br/>\n",
    "Such mechanism was employed in the current study, of which droplet breakup is posited to be caused by the collision of droplets with eddies during the mixing.  The breakage rate of a droplet can be written as the product of the <b><u>collision frequency</u></b> (total number of collisions per time) between the droplet and all the surrounding eddies, and <b><u>breakage efficiency</u></b> $BE$ which presents the probable occurrence of breakage events due to drop-eddy collisions, since collisions only induce a certain number of drop breakups.<br/>\n",
    "In addition, the model VDROP contains a formulation that accounts for resistance to breakage due to the viscosity of the droplet.  With this concept in the model development, the breakage rate $g(d_i)$ can thus be expressed as [24]:"
   ]
  },
  {
   "cell_type": "markdown",
   "metadata": {},
   "source": [
    "$$\n",
    "\\begin{align}\n",
    "K_b &= \\text{a system-dependent parameter for droplet breakup (obtained by calibration to experimental data)} \\cr\n",
    "S_{ed} &= \\text{the cross section area of eddy-droplet} \\cr\n",
    "BE &= \\text{breakage efficiency} \\cr\n",
    "u_e &= \\text{the turbulent velocity of an eddy} \\cr\n",
    "u_d &= \\text{droplet velocity} \\cr\n",
    "\\cr\n",
    "g(d_i) &= K_b \\int_{n_e} S_{ed}(u_e^2 + u_d^2)^{1/2} BE(d_i, d_e, t)dn_e\n",
    "\\end{align}\n",
    "$$"
   ]
  },
  {
   "cell_type": "markdown",
   "metadata": {},
   "source": [
    "##### 2.1.1. Collision Frequency $\\theta_b(d_i)$"
   ]
  },
  {
   "cell_type": "markdown",
   "metadata": {},
   "source": [
    "The collision frequency for droplet breakup was estimated based on the analogy of kinetic collisions of ideal gas molecules first developed by Kennard [32].  Accordingly, one has:"
   ]
  },
  {
   "cell_type": "markdown",
   "metadata": {},
   "source": [
    "$\\theta_b(d_i) = \\int_{n_e} S_{ed}(u_e^2 + u_d^2)^{1/2} dn_e$"
   ]
  },
  {
   "cell_type": "markdown",
   "metadata": {},
   "source": [
    "where $S_{ed}$ represents the cross section area of eddy-droplet.  For an eddy with a diameter of $d_e$ and a droplet $d_i$, $S_{ed}$ can be estimated as:"
   ]
  },
  {
   "cell_type": "markdown",
   "metadata": {},
   "source": [
    "$S_{ed} = {\\pi \\over 4} (d_e + d_i)^2$"
   ]
  },
  {
   "cell_type": "markdown",
   "metadata": {},
   "source": [
    "In the inertial subrange of the energy spectrum [33], the turbulent velocity of an eddy $u_e$ and droplet velocity $u_d$ can be expressed as [24,34]:"
   ]
  },
  {
   "cell_type": "markdown",
   "metadata": {},
   "source": [
    "$$\n",
    "\\begin{align}\n",
    "\\varepsilon &= \\text{the energy dissipation rate} (W/kg) \\quad \\text{(Ref: Pizzo & Melville, eq. 1.1)} \\cr\n",
    "\\cr\n",
    "u_e &= 2.27 (\\varepsilon d_e)^{1/3} \\cr\n",
    "u_d &= 1.03 (\\varepsilon d_i)^{1/3} \\cr\n",
    "\\end{align}\n",
    "$$"
   ]
  },
  {
   "cell_type": "code",
   "execution_count": null,
   "metadata": {
    "collapsed": true
   },
   "outputs": [],
   "source": []
  }
 ],
 "metadata": {
  "kernelspec": {
   "display_name": "Python 2",
   "language": "python",
   "name": "python2"
  },
  "language_info": {
   "codemirror_mode": {
    "name": "ipython",
    "version": 2
   },
   "file_extension": ".py",
   "mimetype": "text/x-python",
   "name": "python",
   "nbconvert_exporter": "python",
   "pygments_lexer": "ipython2",
   "version": "2.7.11"
  }
 },
 "nbformat": 4,
 "nbformat_minor": 0
}
