{
 "metadata": {
  "name": ""
 },
 "nbformat": 3,
 "nbformat_minor": 0,
 "worksheets": [
  {
   "cells": [
    {
     "cell_type": "code",
     "collapsed": false,
     "input": [
      "%%latex\n",
      "The area and volume are defined for a blob of oil with same age released from the same spill. It is not broken up into LEs.\n",
      "The blob will weather at the same rate.\n",
      "Variable definitions:\n",
      "    \\[\n",
      "      \\begin{array}{rl}\n",
      "      \\\\\n",
      "        t_o & \\mbox{starting time, this is 0 and time is measured as delta from here} \\\\\n",
      "        A(t) & \\mbox{area of blob of oil at time $t > 0$} \\\\\n",
      "        A_o & \\mbox{area at end of gravity inertial spreading - initialize to this value} = A(t_o) \\\\\n",
      "        V_o & \\mbox{initial volume of blob of oil released together} = V(t_o) \\\\\n",
      "        K(t) & \\mbox{mass transfer coefficient: function of wind velocity} \\\\\n",
      "        VP_i & \\mbox{vapor pressure of component $i$ - property of substance} \\\\\n",
      "        R & \\mbox{universal gas constant,} 8.314 \\frac{J}{K\\cdot mol} \\\\\n",
      "        T_w & \\mbox{current water temperature} \\\\\n",
      "        mw_k & \\mbox{molecular weight of component $i$} \\\\\n",
      "        f_w & \\mbox{fractional water content} \\\\\n",
      "        g & \\mbox{gravitation constant, $9.80665 m/s^2$} \\\\\n",
      "        \\rho_r & \\mbox{relative buoyancy of oil wrt water; a constant with density of oil at time of release} = \\frac{\\rho_w - \\rho_o}{\\rho_w} \\\\\n",
      "        \\nu_w & \\mbox{viscosity of water} \\\\\n",
      "        (k_1, k_2) & \\mbox{dimensionless empirically derived constants: (1.53, 1.21)} \\\\\n",
      "        A_{max} & \\mbox{once oil reaches this max area, it is no longer updated} \\\\\n",
      "        \\\\\n",
      "       \\end{array}\n",
      "    \\]\n",
      "    "
     ],
     "language": "python",
     "metadata": {},
     "outputs": [
      {
       "latex": [
        "The area and volume are defined for a blob of oil with same age released from the same spill. It is not broken up into LEs.\n",
        "The blob will weather at the same rate.\n",
        "Variable definitions:\n",
        "    \\[\n",
        "      \\begin{array}{rl}\n",
        "      \\\\\n",
        "        t_o & \\mbox{starting time, this is 0 and time is measured as delta from here} \\\\\n",
        "        A(t) & \\mbox{area of blob of oil at time $t > 0$} \\\\\n",
        "        A_o & \\mbox{area at end of gravity inertial spreading - initialize to this value} = A(t_o) \\\\\n",
        "        V_o & \\mbox{initial volume of blob of oil released together} = V(t_o) \\\\\n",
        "        K(t) & \\mbox{mass transfer coefficient: function of wind velocity} \\\\\n",
        "        VP_i & \\mbox{vapor pressure of component $i$ - property of substance} \\\\\n",
        "        R & \\mbox{universal gas constant,} 8.314 \\frac{J}{K\\cdot mol} \\\\\n",
        "        T_w & \\mbox{current water temperature} \\\\\n",
        "        mw_k & \\mbox{molecular weight of component $i$} \\\\\n",
        "        f_w & \\mbox{fractional water content} \\\\\n",
        "        g & \\mbox{gravitation constant, $9.80665 m/s^2$} \\\\\n",
        "        \\rho_r & \\mbox{relative buoyancy of oil wrt water; a constant with density of oil at time of release} = \\frac{\\rho_w - \\rho_o}{\\rho_w} \\\\\n",
        "        \\nu_w & \\mbox{viscosity of water} \\\\\n",
        "        (k_1, k_2) & \\mbox{dimensionless empirically derived constants: (1.53, 1.21)} \\\\\n",
        "        A_{max} & \\mbox{once oil reaches this max area, it is no longer updated} \\\\\n",
        "        \\\\\n",
        "       \\end{array}\n",
        "    \\]\n",
        "    "
       ],
       "metadata": {},
       "output_type": "display_data",
       "text": [
        "<IPython.core.display.Latex at 0x101db7a50>"
       ]
      }
     ],
     "prompt_number": 1
    },
    {
     "cell_type": "raw",
     "metadata": {},
     "source": [
      "Assume area is not constant over a timestep and find the analytic form of time dependent decay constant."
     ]
    },
    {
     "cell_type": "code",
     "collapsed": false,
     "input": [
      "%%latex\n",
      "Initialize Fay Area; this is used in 1st timestep:\n",
      "\\[\n",
      "  \\begin{aligned}\n",
      "  \\\\\n",
      "    A_o &= \\pi \\cdot \\frac{k_1^4}{k_2^2} \\left(\n",
      "                                               \\frac{V_o^5 \\cdot g \\cdot \\rho_r}{\\nu_w^2}\n",
      "                                               \\right)^{1/6} \\\\\n",
      "  \\\\\n",
      "  \\end{aligned}\n",
      "\\]\n",
      "\n",
      "Time to reach this area is dependent on intial volume, though it is on the order of minutes:\n",
      "    \\[\n",
      "      \\begin{aligned}\\\\\n",
      "      t_{max} &= \\left( \\frac{k_2}{k_1}\\right)^4 \\left( \\frac{V_o}{\\nu_w \\cdot g \\cdot \\rho_r} \\right)^{1/3} \\\\\n",
      "      \\\\ \n",
      "    \\end{aligned}\n",
      "    \\]\n",
      "    \n",
      "Area as a function of time is a function of particle age, given by $t$, and initial conditions: $V_o, \\rho_r$.\n",
      "In the following, $c$ is a constant for a blob of oil once it is released. Also, once maximum spreading is\n",
      "achieved, area is no longer updated. If $t_{max}$ is the time to reach $A_{max}$, the area as function of time is:\n",
      "\\[\n",
      "  \\begin{array}{rcll}\\\\\n",
      "  c &=& \\pi \\cdot k_2^2 \\left(\\frac{V_o^2 \\cdot g \\cdot \\rho_r}\n",
      "                                  {\\sqrt{\\nu_w}}\\right) \\\\\n",
      "  A(t) &=& c \\cdot \\sqrt{t} & t < t_{max}\\\\\n",
      "  A(t) &=& A_{max} & t \\geq t_{max} \\\\\n",
      "  \\\\\n",
      "  \\end{array}\n",
      "\\]"
     ],
     "language": "python",
     "metadata": {},
     "outputs": [
      {
       "latex": [
        "Initialize Fay Area; this is used in 1st timestep:\n",
        "\\[\n",
        "  \\begin{aligned}\n",
        "  \\\\\n",
        "    A_o &= \\pi \\cdot \\frac{k_1^4}{k_2^2} \\left(\n",
        "                                               \\frac{V_o^5 \\cdot g \\cdot \\rho_r}{\\nu_w^2}\n",
        "                                               \\right)^{1/6} \\\\\n",
        "  \\\\\n",
        "  \\end{aligned}\n",
        "\\]\n",
        "\n",
        "Time to reach this area is dependent on intial volume, though it is on the order of minutes:\n",
        "    \\[\n",
        "      \\begin{aligned}\\\\\n",
        "      t_{max} &= \\left( \\frac{k_2}{k_1}\\right)^4 \\left( \\frac{V_o}{\\nu_w \\cdot g \\cdot \\rho_r} \\right)^{1/3} \\\\\n",
        "      \\\\ \n",
        "    \\end{aligned}\n",
        "    \\]\n",
        "    \n",
        "Area as a function of time is a function of particle age, given by $t$, and initial conditions: $V_o, \\rho_r$.\n",
        "In the following, $c$ is a constant for a blob of oil once it is released. Also, once maximum spreading is\n",
        "achieved, area is no longer updated. If $t_{max}$ is the time to reach $A_{max}$, the area as function of time is:\n",
        "\\[\n",
        "  \\begin{array}{rcll}\\\\\n",
        "  c &=& \\pi \\cdot k_2^2 \\left(\\frac{V_o^2 \\cdot g \\cdot \\rho_r}\n",
        "                                  {\\sqrt{\\nu_w}}\\right) \\\\\n",
        "  A(t) &=& c \\cdot \\sqrt{t} & t < t_{max}\\\\\n",
        "  A(t) &=& A_{max} & t \\geq t_{max} \\\\\n",
        "  \\\\\n",
        "  \\end{array}\n",
        "\\]"
       ],
       "metadata": {},
       "output_type": "display_data",
       "text": [
        "<IPython.core.display.Latex at 0x101db7a50>"
       ]
      }
     ],
     "prompt_number": 2
    },
    {
     "cell_type": "code",
     "collapsed": false,
     "input": [
      "%%latex\n",
      "Evaporation equation for volume of oil released together from same spill:\n",
      "\n",
      "    \\[\n",
      "      \\begin{aligned}\n",
      "      \\\\\n",
      "        \\dot{m}_i(t) = -(1-f_w(t))\n",
      "                      \\frac{A(t) \\cdot K \\cdot VP_i}\n",
      "                             {R \\cdot T_{water} \\cdot \\sum_{k=0}^{N} {m_i(t)}/mw_k} m_i(t) \\\\\n",
      "      \\\\\n",
      "      \\end{aligned}\n",
      "    \\]\n",
      "\n",
      "Assume everything is constant over small timestep $\\Delta t$ and the initial condition at $t$ is known; and solve:\n",
      "    \\[\n",
      "      \\begin{aligned} \\\\\n",
      "          l(t) &= -(1-f_w(t))\\frac{K \\cdot VP_i}\n",
      "                             {R \\cdot T_{water} \\cdot \\sum_{k=0}^{N} {m_i(t)}/mw_k} \\\\\n",
      "          L &= l(t) \\cdot A(t) \\\\\n",
      "          m_i(t + \\Delta t) &= m_i(t) \\cdot exp(-L \\Delta t) \\\\\n",
      "          \\\\\n",
      "      \\end{aligned}\n",
      "    \\]\n",
      "For small timestep, $\\Delta t$, assume $m_i(t), l(t), A(t)$ are constant."
     ],
     "language": "python",
     "metadata": {},
     "outputs": [
      {
       "latex": [
        "Evaporation equation for volume of oil released together from same spill:\n",
        "\n",
        "    \\[\n",
        "      \\begin{aligned}\n",
        "      \\\\\n",
        "        \\dot{m}_i(t) = -(1-f_w(t))\n",
        "                      \\frac{A(t) \\cdot K \\cdot VP_i}\n",
        "                             {R \\cdot T_{water} \\cdot \\sum_{k=0}^{N} {m_i(t)}/mw_k} m_i(t) \\\\\n",
        "      \\\\\n",
        "      \\end{aligned}\n",
        "    \\]\n",
        "\n",
        "Assume everything is constant over small timestep $\\Delta t$ and the initial condition at $t$ is known; and solve:\n",
        "    \\[\n",
        "      \\begin{aligned} \\\\\n",
        "          l(t) &= -(1-f_w(t))\\frac{K \\cdot VP_i}\n",
        "                             {R \\cdot T_{water} \\cdot \\sum_{k=0}^{N} {m_i(t)}/mw_k} \\\\\n",
        "          L &= l(t) \\cdot A(t) \\\\\n",
        "          m_i(t + \\Delta t) &= m_i(t) \\cdot exp(-L \\Delta t) \\\\\n",
        "          \\\\\n",
        "      \\end{aligned}\n",
        "    \\]\n",
        "For small timestep, $\\Delta t$, assume $m_i(t), l(t), A(t)$ are constant."
       ],
       "metadata": {},
       "output_type": "display_data",
       "text": [
        "<IPython.core.display.Latex at 0x101db77d0>"
       ]
      }
     ],
     "prompt_number": 3
    },
    {
     "cell_type": "code",
     "collapsed": false,
     "input": [
      "%%latex\n",
      "Solution can be improved by assuming everything is constant except $A(t)$, which goes as $\\sqrt{t}$ per\n",
      "fay spreading for $t < t_{max}$.\n",
      "    \\[\n",
      "      \\begin{aligned} \\\\\n",
      "          m_i(t + \\Delta t) &= m_i(t) \\cdot exp\\left( -l(t) \\cdot \\int_t^{t + \\Delta t} {A(t) dt}\\right) \\\\\n",
      "                            &= m_i(t) \\cdot exp\\left(-l(t) \\cdot \\frac{2}{3} \\cdot c \\cdot t^{\\frac{3}{2}}\n",
      "                                                      \\Big|_t^{t + \\Delta t}\n",
      "                                                      \\right) & t < t_{max}\\\\\n",
      "                            &= m_i(t) \\cdot exp\\left( -l(t) \\cdot \\frac{2}{3} \\cdot A(t) \\cdot\n",
      "                                                      \\left( \\frac{1}{\\sqrt t} (t + \\Delta t)^{3/2} - t \\right)\n",
      "                                                      \\right) & t < t_{max}\\\\\n",
      "                            &= m_i(t) \\cdot exp\\left( -l(t) \\cdot A_{max} \\Delta t \\right) & t \\geq t_{max}\\\\\n",
      "          \\\\\n",
      "      \\end{aligned}\n",
      "    \\]    "
     ],
     "language": "python",
     "metadata": {},
     "outputs": [
      {
       "latex": [
        "Solution can be improved by assuming everything is constant except $A(t)$, which goes as $\\sqrt{t}$ per\n",
        "fay spreading for $t < t_{max}$.\n",
        "    \\[\n",
        "      \\begin{aligned} \\\\\n",
        "          m_i(t + \\Delta t) &= m_i(t) \\cdot exp\\left( -l(t) \\cdot \\int_t^{t + \\Delta t} {A(t) dt}\\right) \\\\\n",
        "                            &= m_i(t) \\cdot exp\\left(-l(t) \\cdot \\frac{2}{3} \\cdot c \\cdot t^{\\frac{3}{2}}\n",
        "                                                      \\Big|_t^{t + \\Delta t}\n",
        "                                                      \\right) & t < t_{max}\\\\\n",
        "                            &= m_i(t) \\cdot exp\\left( -l(t) \\cdot \\frac{2}{3} \\cdot A(t) \\cdot\n",
        "                                                      \\left( \\frac{1}{\\sqrt t} (t + \\Delta t)^{3/2} - t \\right)\n",
        "                                                      \\right) & t < t_{max}\\\\\n",
        "                            &= m_i(t) \\cdot exp\\left( -l(t) \\cdot A_{max} \\Delta t \\right) & t \\geq t_{max}\\\\\n",
        "          \\\\\n",
        "      \\end{aligned}\n",
        "    \\]    "
       ],
       "metadata": {},
       "output_type": "display_data",
       "text": [
        "<IPython.core.display.Latex at 0x101db7390>"
       ]
      }
     ],
     "prompt_number": 4
    },
    {
     "cell_type": "code",
     "collapsed": false,
     "input": [
      "%pylab inline\n",
      "from datetime import timedelta, datetime\n",
      "\n",
      "from gnome.constants import gravity\n",
      "from gnome.model import Model\n",
      "from gnome.spill import point_line_release_spill\n",
      "from gnome.environment import constant_wind, Water\n",
      "from gnome.weatherers.evaporation import BlobEvaporation, Evaporation\n",
      "from gnome.outputters import WeatheringOutput"
     ],
     "language": "python",
     "metadata": {},
     "outputs": [
      {
       "output_type": "stream",
       "stream": "stdout",
       "text": [
        "Populating the interactive namespace from numpy and matplotlib\n"
       ]
      }
     ],
     "prompt_number": 5
    },
    {
     "cell_type": "code",
     "collapsed": false,
     "input": [
      "amount = 16   # in m^3\n",
      "units = 'm^3'\n",
      "oil = u'ALASKA NORTH SLOPE (MIDDLE PIPELINE)'\n",
      "\n",
      "def setup_test(num_les=[1, 1]):\n",
      "    stime = datetime(2015, 1, 1, 12, 0)\n",
      "    st_pos = (0, 0, 0)\n",
      "    ts = 300.\n",
      "\n",
      "    m1 = Model(start_time=stime, time_step=ts)\n",
      "    m1.environment += constant_wind(0, 0)\n",
      "    m1.water = Water()\n",
      "    m1.weatherers += [Evaporation(m1.water, m1.environment[0])]\n",
      "    m1.spills += point_line_release_spill(num_les[0], st_pos, stime,\n",
      "                                          substance=oil,\n",
      "                                          amount=amount, units=units)\n",
      "    m1.outputters += WeatheringOutput()\n",
      "\n",
      "    m2 = Model(start_time=stime, time_step=ts)\n",
      "    m2.environment += constant_wind(0, 0)\n",
      "    m2.water = Water()\n",
      "    m2.weatherers += [BlobEvaporation(m2.water, m2.environment[0])]\n",
      "    m2.spills += point_line_release_spill(num_les[1], st_pos, stime,\n",
      "                                          substance=oil,\n",
      "                                          amount=amount, units=units)\n",
      "    m2.outputters += WeatheringOutput()\n",
      "    return (m1, m2)\n"
     ],
     "language": "python",
     "metadata": {},
     "outputs": [],
     "prompt_number": 6
    },
    {
     "cell_type": "code",
     "collapsed": false,
     "input": [
      "# modeled as 1 LE\n",
      "(m1, m2) = setup_test((1, 1))\n",
      "m1.time_step = 100\n",
      "m1.duration = timedelta(hours=24 * 2.5)\n",
      "m2.time_step = 100\n",
      "m2.duration = timedelta(hours=24 * 2.5)\n",
      "\n",
      "subs = m1.spills[0].get('substance')"
     ],
     "language": "python",
     "metadata": {},
     "outputs": [],
     "prompt_number": 36
    },
    {
     "cell_type": "code",
     "collapsed": false,
     "input": [
      "# since this is experimental code, this is a bit hacky right now - will fix\n",
      "# but BlobEvaporation() will need to know A_max\n",
      "w_vis = m1.water.get('kinematic_viscosity')\n",
      "k = (1.53, 1.21)\n",
      "#vo = sc2['bulk_init_volume'][0]\n",
      "rel_b = (m1.water.get('density')-subs.get_density(m1.water.get('temperature')))/m1.water.get('density')\n",
      "th_lim = 0.0001\n",
      "x = (np.pi * (k[1]**2/k[0])**2 * (gravity * rel_b/np.sqrt(w_vis)) **(1./6))**6\n",
      "vo = (th_lim * np.pi * (k[1]**2/k[0])**2 * (gravity * rel_b/np.sqrt(w_vis)) **(1./6))**6\n",
      "#print vo\n",
      "#print vo/th_lim\n",
      "\n",
      "m1.spills[0].amount = vo\n",
      "m2.spills[0].amount = vo\n",
      "\n",
      "#print \"Looking at Model 2, expected results for V0:\", np.round(vo, 3), \"m^3\"\n",
      "#print \"\\tterminal thickness: \".ljust(25), th_lim, \"m\"\n",
      "#print \"\\tinitial spread: \".ljust(25), round(t0), \"sec\"\n",
      "#print \"\\tdays to achieve: \".ljust(25), np.round(c_end_time/60/60/24, 3), \"days\"\n",
      "#print 'Instantaneous spill: '.ljust(25), m1_amount_si\n",
      "#print 'Sample oil: '.ljust(25), m1.spills[0].get('substance')"
     ],
     "language": "python",
     "metadata": {},
     "outputs": [],
     "prompt_number": 24
    },
    {
     "cell_type": "code",
     "collapsed": false,
     "input": [
      "m1_amount_si = m1.spills[0].get_mass()\n",
      "m2_amount_si = m1.spills[0].get_mass()"
     ],
     "language": "python",
     "metadata": {},
     "outputs": [],
     "prompt_number": 29
    },
    {
     "cell_type": "code",
     "collapsed": false,
     "input": [
      "print 'Substance: '.ljust(20), subs.name\n",
      "print 'Mass in kg: '.ljust(20), m1_amount_si"
     ],
     "language": "python",
     "metadata": {},
     "outputs": [
      {
       "output_type": "stream",
       "stream": "stdout",
       "text": [
        "Substance:           ALASKA NORTH SLOPE (MIDDLE PIPELINE)\n",
        "Mass in kg:          14015.0577447\n"
       ]
      }
     ],
     "prompt_number": 37
    },
    {
     "cell_type": "code",
     "collapsed": false,
     "input": [
      "t1 = []\n",
      "evap1 = []\n",
      "fay_area1 = []\n",
      "m1.rewind()\n",
      "sc = m1.spills.items()[0]\n",
      "while m1.current_time_step < m1.num_time_steps - 1:\n",
      "    w1 = m1.step()['WeatheringOutput']\n",
      "    #print 'evap volume', w1['evaporated']/w1['avg_density']\n",
      "    #print 'evaporated:', w1['evaporated']\n",
      "    #print 'max_decay', np.max(sc['evap_decay_constant'])\n",
      "    #print 'min_decay', np.min(sc['evap_decay_constant']), '\\n'\n",
      "    area = np.mean(m1.spills.items()[0]['fay_area'])\n",
      "    time = (m1.model_time - m1.start_time).total_seconds()\n",
      "    t1.append(time)\n",
      "    evap1.append(w1['evaporated'])\n",
      "    fay_area1.append(area)\n",
      "\n",
      "evap1 = np.asarray(evap1)\n",
      "fay_area1 = np.asarray(fay_area1)\n",
      "t1 = np.asarray(t1)"
     ],
     "language": "python",
     "metadata": {},
     "outputs": [],
     "prompt_number": 33
    },
    {
     "cell_type": "code",
     "collapsed": false,
     "input": [
      "t2 = []\n",
      "evap2 = []\n",
      "fay_area2 = []\n",
      "m2.rewind()\n",
      "\n",
      "while m2.current_time_step < m2.num_time_steps - 1:\n",
      "    w2 = m2.step()['WeatheringOutput']\n",
      "    area = np.mean(m2.spills.items()[0]['fay_area'])\n",
      "    time = (m2.model_time - m2.start_time).total_seconds()\n",
      "    t2.append(time)\n",
      "    evap2.append(w2['evaporated'])\n",
      "    fay_area2.append(area)\n",
      "\n",
      "evap2 = np.asarray(evap2)\n",
      "fay_area2 = np.asarray(fay_area2)\n",
      "t2 = np.asarray(t2)"
     ],
     "language": "python",
     "metadata": {},
     "outputs": [],
     "prompt_number": 34
    },
    {
     "cell_type": "code",
     "collapsed": false,
     "input": [
      "if m1.time_step == m2.time_step:\n",
      "    ix = 1\n",
      "else:\n",
      "    ix = int(m1.time_step/m2.time_step)\n",
      "\n",
      "#print \"Model 2 matches time: \", np.allclose(t1 - t2[0::ix], 0.), \". At every \", ix, \" steps.\"\n",
      "#print \"diff in evap at same time: \", evap1-evap2[0:len(t2):ix]\n",
      "\n",
      "plt.figure()\n",
      "plt.cla()\n",
      "plt.plot(t1/3600., evap1/m1_amount_si * 100, '.b', t2/3600., evap2/m2_amount_si * 100, '.r')\n",
      "plt.xlabel('time [hours]'); plt.ylabel('% Evap')\n",
      "plt.legend(['fix area over ts', 'vary area'], loc=4)\n",
      "plt.title('Evap amount. Time step {0}'.format(m1.time_step))\n",
      "plt.grid()\n",
      "\n",
      "plt.figure()\n",
      "plt.cla()\n",
      "plt.plot(t1/3600., (evap2[0::ix]-evap1)/m1_amount_si * 100, '*')\n",
      "plt.xlabel('time [hours]'); plt.ylabel('Diff in Evap as % of amount')\n",
      "plt.title('% diff at same age')\n",
      "plt.grid()\n",
      "\n",
      "plt.figure()\n",
      "plt.cla()\n",
      "plt.plot(t1/3600., fay_area1, '.b', t2/3600., fay_area2, '.r')\n",
      "plt.xlabel('time [hours]'); plt.ylabel('Fay Area')\n",
      "plt.title(('Fay area is same for both models\\n'\n",
      "           'Max area reached'))\n",
      "plt.grid()"
     ],
     "language": "python",
     "metadata": {},
     "outputs": [
      {
       "metadata": {},
       "output_type": "display_data",
       "png": "[encoded data removed]",
       "text": [
        "<matplotlib.figure.Figure at 0x10b46af50>"
       ]
      },
      {
       "metadata": {},
       "output_type": "display_data",
       "png": "[encoded data removed]",
       "text": [
        "<matplotlib.figure.Figure at 0x10b45a690>"
       ]
      },
      {
       "metadata": {},
       "output_type": "display_data",
       "png": "[encoded data removed]",
       "text": [
        "<matplotlib.figure.Figure at 0x10b462e50>"
       ]
      }
     ],
     "prompt_number": 35
    },
    {
     "cell_type": "code",
     "collapsed": false,
     "input": [],
     "language": "python",
     "metadata": {},
     "outputs": [],
     "prompt_number": 12
    }
   ],
   "metadata": {}
  }
 ]
}