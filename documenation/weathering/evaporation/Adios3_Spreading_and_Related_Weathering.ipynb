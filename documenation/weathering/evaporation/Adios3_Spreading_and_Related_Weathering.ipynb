{
 "cells": [
  {
   "cell_type": "markdown",
   "metadata": {},
   "source": [
    "# <center>Adios 3 Spreading & Related Weathering<center>"
   ]
  },
  {
   "cell_type": "markdown",
   "metadata": {},
   "source": [
    "### <center>From Bill's document dated June 2016<center>"
   ]
  },
  {
   "cell_type": "markdown",
   "metadata": {},
   "source": [
    "## <u>Background Discussion & Assumptions</u>"
   ]
  },
  {
   "cell_type": "markdown",
   "metadata": {},
   "source": [
    "Adios3, like Adios2, only models the spread of dark oil, i.e. oil that is at least 100 microns or thicker.  The assumption is that this represents the major mass of the slick and sheen oil can be neglected.  Because of this assumption, Adios area predictions will not match radar observations of surface oil."
   ]
  },
  {
   "cell_type": "markdown",
   "metadata": {},
   "source": [
    "Oil spreads or converges on the water surface due to buoyancy differences (Fay spreading), horizontal dispersion of surface water, wind transport, shoreline interaction, and surface water convergences (Langmuir effects).  For most spills, a rapid initial area of the slick is formed by gravitational slumping (Fay gravity-inertial spreading).  This is followed by slower gravity spreading (Fay gravity-viscous spreading), circular dispersion and stretching along the direction of the wind.  Gradually the slick breaks into wind rows due to Langmuir forces."
   ]
  },
  {
   "cell_type": "markdown",
   "metadata": {},
   "source": [
    "Slick spreading can be represented as an Eulerian process (Lehr et al, 1984) or a Lagrangian process (Koziy and Maderich, 2003).  Figure 1 gives the preference between the two methods in modeling the spreading processes."
   ]
  },
  {
   "cell_type": "markdown",
   "metadata": {},
   "source": [
    "![Figure 1](Adios3_Spreading_Figure_1.png)<br>\n",
    "<center>Figure 1</center>"
   ]
  },
  {
   "cell_type": "markdown",
   "metadata": {},
   "source": [
    "ASA and Adios2 use Lagrangian methods and then deal with Eulerian impact in different ways (ASA=spillets; Adios2=Thiessian polygons).  Both of these approaches have drawbacks.  Thiessian polygons are computationally intensive and spillets ignore global spill forces.  Adios3 will track the movements of the surface oil as a collection of LEs that individually contain information of surface oil thickness.  Each LE will represent a certain volume of oil along with this given thickness but not an individual area.  Total slick area will be computed as needed as a function of the sum of individual LE properties.  Global forces such as shorelines will require some gridding of LEs."
   ]
  },
  {
   "cell_type": "markdown",
   "metadata": {},
   "source": [
    "LEs will initially have a thickness assigned based upon the end of Fay gravity-inertial spreading and then further reduced by Fay gravity-viscous spreading.  This latter spreading stops at a minimum thickness dependent upon initial oil viscosity."
   ]
  },
  {
   "cell_type": "markdown",
   "metadata": {},
   "source": [
    "$$\n",
    "\\begin{align}\n",
    "v_0 &= \\text{initial oil kinematic viscosity} (m^2/s) \\cr\n",
    "\\cr\n",
    "\\delta_{th} &= 10^{-4} m \\text{ if } v_0 \\geq 10^{-4} m^2 / s \\cr\n",
    "\\delta_{th} &= 10^{-5} m \\text{ if } v_0 \\leq 10^{-6} m^2 / s \\cr\n",
    "\\delta_{th} &= 10^{-5} m + 0.1(v_0 - 10^{-6}) \\qquad \\{ 10^{-6} \\leq v_0 \\leq 10^{-4} \\} \\cr\n",
    "\\end{align}\n",
    "$$"
   ]
  },
  {
   "cell_type": "markdown",
   "metadata": {},
   "source": [
    "<center><b><i>-- Note -- </i></b></center>\n",
    "Graphing the minimum thickness calculation, the high limiter seems a bit asymtotic.  Any reason we don't just clip the results of the formula?  It could mathematically look something like this:\n",
    "$$\n",
    "\\begin{align}\n",
    "\\delta_{th} &= \\left[ 10^{-5} m + 0.1(v_0 - 10^{-6}) \\right]_{\\bot 10^{-5}}^{\\top 10^{-4}} \\cr\n",
    "\\end{align}\n",
    "$$\n",
    "And it would be simpler to program.\n",
    "<center><b><i>-- End Note -- </i></b></center>\n"
   ]
  },
  {
   "cell_type": "code",
   "execution_count": 47,
   "metadata": {
    "collapsed": false
   },
   "outputs": [],
   "source": [
    "import numpy as np\n",
    "from numbers import Number\n",
    "\n",
    "from pylab import *\n",
    "%matplotlib inline\n",
    "\n",
    "def get_minimum_thickness(initial_kvis):\n",
    "    v_0 = initial_kvis\n",
    "    delta_th = 1e-5 + 0.1 * (v_0 - 1e-6)\n",
    "\n",
    "    return np.clip(delta_th, 1e-5, 1e-4)\n"
   ]
  },
  {
   "cell_type": "code",
   "execution_count": 48,
   "metadata": {
    "collapsed": false
   },
   "outputs": [
    {
     "data": {
      "image/png": "[encoded data removed]",
      "text/plain": [
       "<matplotlib.figure.Figure at 0x11408e150>"
      ]
     },
     "metadata": {},
     "output_type": "display_data"
    }
   ],
   "source": [
    "plt.figure(1, figsize=(15, 6))\n",
    "ax = subplot(121)\n",
    "\n",
    "x = initial_kvis = np.logspace(-7, -2, 100)\n",
    "\n",
    "#y = get_minimum_thickness(initial_kvis)\n",
    "y = [get_minimum_thickness(k) for k in initial_kvis]\n",
    "\n",
    "plot(x, y, linewidth=2)\n",
    "ax.set_xscale(\"log\", nonposx='clip')\n",
    "ax.set_yscale(\"log\", nonposx='clip')\n",
    "ax.set_ylim([1e-6, 1e-3])\n",
    "\n",
    "verts = [(1e-6, 0), (1e-6, 1e-3), (1e-3, 1e-3), (1e-3, 0)]\n",
    "poly = Polygon(verts, facecolor='0.8', edgecolor='k')\n",
    "ax.add_patch(poly)\n",
    "\n",
    "plt.title(r'Minimum Thickness (scalar calculation)', fontsize=16)\n",
    "plt.xlabel(r'$v_0$', fontsize=16)\n",
    "plt.ylabel(r'$\\delta_{th}$', fontsize=16)\n",
    "\n",
    "ax = subplot(122)\n",
    "\n",
    "x = initial_kvis = np.logspace(-7, -2, 100)\n",
    "y = get_minimum_thickness(initial_kvis)\n",
    "\n",
    "plot(x, y, linewidth=2)\n",
    "ax.set_xscale(\"log\", nonposx='clip')\n",
    "ax.set_yscale(\"log\", nonposx='clip')\n",
    "ax.set_ylim([1e-6, 1e-3])\n",
    "\n",
    "verts = [(1e-6, 0), (1e-6, 1e-3), (1e-3, 1e-3), (1e-3, 0)]\n",
    "poly = Polygon(verts, facecolor='0.8', edgecolor='k')\n",
    "ax.add_patch(poly)\n",
    "\n",
    "plt.title(r'Minimum Thickness (array calculation)', fontsize=16)\n",
    "plt.xlabel(r'$v_0$', fontsize=16)\n",
    "plt.ylabel(r'$\\delta_{th}$', fontsize=16)\n",
    "\n",
    "show()"
   ]
  },
  {
   "cell_type": "markdown",
   "metadata": {},
   "source": [
    "\n",
    "This approach is adequate for forecasting weathering processes since, surprisingly, slick area has little impact on other weathering processes.  It is a secondary process in the Thibodeaux dissolution model and is not a factor in dispersion, emulsification, sedimentation, or biodegradation.  Only evaporation is affected, with most, but not all, models assuming a nearly linear relationship between evaporation rate and slick surface area."
   ]
  },
  {
   "cell_type": "markdown",
   "metadata": {},
   "source": [
    "## <u>Spreading in Adios3</u>"
   ]
  },
  {
   "cell_type": "markdown",
   "metadata": {},
   "source": [
    "Adios3 will take advantage of the relatively large LE numbers needed for a Gnome run and, if appropriate, stay with a complete Lagrangian approach.  Each LE will move in a random direction in such a fashion that the LE boundaries will match approximately the Eulerian spreading formula.  If, however, the LEs contain individually large amounts of oil, it may be necessary to calculate spread factors separately for each LE."
   ]
  },
  {
   "cell_type": "markdown",
   "metadata": {},
   "source": [
    "### Rapid Spill Case:"
   ]
  },
  {
   "cell_type": "markdown",
   "metadata": {},
   "source": [
    "In the rapid spill case, the oil is presumed to spill within a few time steps.  Based on the simple leaking tank model in Adios2:"
   ]
  },
  {
   "cell_type": "markdown",
   "metadata": {},
   "source": [
    "$$\n",
    "\\begin{align}\n",
    "\\dot V_{oil} &= \\text{oil volume spill rate} \\cr\n",
    "V_{oil} &= \\text{volume of oil in vessel} \\cr\n",
    "A_{hole} &= \\text{area of hole} \\cr\n",
    "g &= \\text{gravitational acceleration} (9.80665 \\, m/s^2) \\cr\n",
    "\\Delta h &= \\text{distance from the surface of the oil in the tank to the bottom of the tank} \\cr\n",
    "\\cr\n",
    "\\dot V_{oil} &= 0.6 A_{hole} \\sqrt{2 g \\Delta h} \\qquad \\qquad (eq. 1.1)\\cr\n",
    "&\\cong 0.8 A_{hole} \\sqrt{g \\cdot V_{oil}^{1/6}} \\cr\n",
    "\\end{align}\n",
    "$$"
   ]
  },
  {
   "cell_type": "markdown",
   "metadata": {},
   "source": [
    "where the ship or tank is treated as a full cube with a hole at the bottom."
   ]
  },
  {
   "cell_type": "markdown",
   "metadata": {},
   "source": [
    "Assuming a $1 m^2$ hole then we get the following graph and integrating both sides allows the time $T_{drain}$ to drain the vessel as:"
   ]
  },
  {
   "cell_type": "markdown",
   "metadata": {},
   "source": [
    "$$\n",
    "\\begin{align}\n",
    "T_{drain}(min) &\\simeq {1 \\over 125} V_0^{5/6} \\qquad \\qquad (eq. 1.2)\\cr\n",
    "\\end{align}\n",
    "$$"
   ]
  },
  {
   "cell_type": "code",
   "execution_count": 19,
   "metadata": {
    "collapsed": true
   },
   "outputs": [],
   "source": [
    "def min_time_to_drain_in_minutes(volume):\n",
    "    return 1.0 / 125.0 * volume ** (5.0 / 6.0)"
   ]
  },
  {
   "cell_type": "code",
   "execution_count": 28,
   "metadata": {
    "collapsed": false
   },
   "outputs": [
    {
     "data": {
      "image/png": "[encoded data removed]",
      "text/plain": [
       "<matplotlib.figure.Figure at 0x10d22f510>"
      ]
     },
     "metadata": {},
     "output_type": "display_data"
    }
   ],
   "source": [
    "ax = subplot(111)\n",
    "\n",
    "x = vols = np.linspace(1e1, 1e4, 100)\n",
    "y = min_time_to_drain_in_minutes(vols)\n",
    "\n",
    "plot(x, y, linewidth=1)\n",
    "ax.set_xscale(\"log\", nonposx='clip')\n",
    "\n",
    "plt.title(r'Minutes to Drain', fontsize=16)\n",
    "plt.xlabel(r'$m^3$', fontsize=16)\n",
    "plt.ylabel(r'minutes')\n",
    "\n",
    "show()"
   ]
  },
  {
   "cell_type": "markdown",
   "metadata": {},
   "source": [
    "Of course, real accidents would likely involve smaller, less regular holes and would include water ingestion, slowing the process.  As a rule of thumb, Adios3 will assume that a rapid spill will involve the following criteria:"
   ]
  },
  {
   "cell_type": "markdown",
   "metadata": {},
   "source": [
    "<ul>\n",
    "    <li>If $V_{oil} < 1000 \\, bbl$, then $T_{drain}$ will be the larger of 1 time step or 15 minutes. </li>\n",
    "    <li>If $1000 < V_{oil} < 10000 \\, (bbl)$, then $T_{drain}$ will be the larger of 1 time step or 1 hour. </li>\n",
    "    <li>If $V_{oil} > 10000 \\, bbl$, then $T_{drain}$ will be the larger of 1 time step or 2 hours. </li>\n",
    "</ul>"
   ]
  },
  {
   "cell_type": "markdown",
   "metadata": {},
   "source": [
    "For a rapid spill, the slick will spread quickly, due to Fay gravity inertial spreading.  This will occur, according to Dodge et al (1983), at time $T_0$, where:"
   ]
  },
  {
   "cell_type": "markdown",
   "metadata": {},
   "source": [
    "$$\n",
    "\\begin{align}\n",
    "v_w &= \\text{water kinematic viscosity} \\, 1 m^2 / s \\cr\n",
    "\\Delta\\rho &= \\text{relative oil-water density difference} \\cr\n",
    "\\cr\n",
    "T_0 &= 0.4 \\root 3 \\of {V_{oil} \\over v_w \\cdot g \\cdot \\Delta\\rho} \\qquad \\qquad (eq. 1.3)\\cr\n",
    "\\end{align}\n",
    "$$"
   ]
  },
  {
   "cell_type": "markdown",
   "metadata": {},
   "source": [
    "Assuming some realistic values for oil density we get:"
   ]
  },
  {
   "cell_type": "markdown",
   "metadata": {},
   "source": [
    "$$\n",
    "\\begin{align}\n",
    "T_0 &= {V_{oil}^{1/3} \\over 2} \\qquad \\qquad (eq. 1.4)\\cr\n",
    "\\end{align}\n",
    "$$"
   ]
  },
  {
   "cell_type": "code",
   "execution_count": 30,
   "metadata": {
    "collapsed": true
   },
   "outputs": [],
   "source": [
    "def end_of_gravity_inertial_spreading1(volume_in_bbls, delta_rho):\n",
    "    g = 9.80665  # m/s^2\n",
    "    v_w = 1e-6  # viscosity of water at 20C (m^2/s)\n",
    "\n",
    "def end_of_gravity_inertial_spreading(volume_in_bbls):\n",
    "    return volume_in_bbls ** (1.0 / 3.0) / 2.0"
   ]
  },
  {
   "cell_type": "code",
   "execution_count": 34,
   "metadata": {
    "collapsed": false
   },
   "outputs": [
    {
     "data": {
      "image/png": "[encoded data removed]",
      "text/plain": [
       "<matplotlib.figure.Figure at 0x115885d10>"
      ]
     },
     "metadata": {},
     "output_type": "display_data"
    }
   ],
   "source": [
    "ax = subplot(111)\n",
    "\n",
    "x = vols = np.linspace(1e0, 1e4, 100)\n",
    "y = end_of_gravity_inertial_spreading(vols)\n",
    "\n",
    "plot(x, y, linewidth=1)\n",
    "ax.set_xscale(\"log\", nonposx='clip')\n",
    "\n",
    "plt.title(r'End of Gravity - Inertial Spreading', fontsize=16)\n",
    "plt.xlabel(r'bbls spilled', fontsize=16)\n",
    "plt.ylabel(r'minutes')\n",
    "\n",
    "show()"
   ]
  },
  {
   "cell_type": "markdown",
   "metadata": {},
   "source": [
    "The time frames are on the order of, and somewhat smaller than, the time it takes to leak out of the vessel.  Hence the restrictions on leakage time and assignment of initial thickness remain the same.  The initial (circular) area of the slick is given by:"
   ]
  },
  {
   "cell_type": "markdown",
   "metadata": {},
   "source": [
    "$$\n",
    "\\begin{align}\n",
    "A_0 &\\simeq {16 \\left( V_0^5 g \\Delta\\rho \\over v_w^2 \\right)^{1/6} } \\qquad \\qquad (eq. 1.5)\\cr\n",
    "\\end{align}\n",
    "$$"
   ]
  },
  {
   "cell_type": "markdown",
   "metadata": {},
   "source": [
    "The end (of Fay inertial spreading) thickness $\\delta_0$ is uniform across the whole slick and is equal to the volume of the spill divided by the initial area:"
   ]
  },
  {
   "cell_type": "markdown",
   "metadata": {},
   "source": [
    "$$\n",
    "\\begin{align}\n",
    "\\delta_0 &= {V_0 \\over A_0} \\cr\n",
    "\\end{align}\n",
    "$$"
   ]
  },
  {
   "cell_type": "code",
   "execution_count": 77,
   "metadata": {
    "collapsed": true
   },
   "outputs": [],
   "source": [
    "def initial_slick_area(vol_in_sq_meters, oil_rho, water_rho):\n",
    "    g = 9.80665  # m/s^2\n",
    "    v_w = 1e-6  # viscosity of water at 20C (m^2/s)\n",
    "    V_0 = vol_in_sq_meters\n",
    "    delta_rho = (water_rho - oil_rho) / oil_rho\n",
    "\n",
    "    return 16.0 * (V_0 ** 5.0 *\n",
    "                   g * delta_rho /\n",
    "                   v_w ** 2.0) ** (1.0 / 6.0)\n",
    "\n",
    "def end_of_inertial_spreading_thickness(vol_in_sq_meters, oil_rho, water_rho):\n",
    "    return vol_in_sq_meters / initial_slick_area(vol_in_sq_meters, oil_rho, water_rho)\n"
   ]
  },
  {
   "cell_type": "markdown",
   "metadata": {},
   "source": [
    "Assuming realistic values for oil density we get the following plot for LE initial thickness:"
   ]
  },
  {
   "cell_type": "code",
   "execution_count": 78,
   "metadata": {
    "collapsed": false
   },
   "outputs": [
    {
     "data": {
      "image/png": "[encoded data removed]",
      "text/plain": [
       "<matplotlib.figure.Figure at 0x114762ad0>"
      ]
     },
     "metadata": {},
     "output_type": "display_data"
    }
   ],
   "source": [
    "ax = subplot(111)\n",
    "\n",
    "water_rho = 1000.0  # in kg/m^3\n",
    "oil_rho = 800.0  # in kg/m^3\n",
    "\n",
    "x = vols = np.linspace(1e0, 1e4, 100)\n",
    "y = end_of_inertial_spreading_thickness(vols, oil_rho, water_rho) * 1000  # to get millimeters\n",
    "\n",
    "plot(x, y, linewidth=1)\n",
    "ax.set_xscale(\"log\", nonposx='clip')\n",
    "\n",
    "plt.title(r'LE Initial Thickness', fontsize=16)\n",
    "plt.xlabel(r'spill in $m^3$', fontsize=16)\n",
    "plt.ylabel(r'mm')\n",
    "\n",
    "show()"
   ]
  },
  {
   "cell_type": "markdown",
   "metadata": {},
   "source": [
    "<b><i>(Note: Looking at Bill's results, I seem to be off by a factor of 1/10.  Need to verify this with Bill.)</i></b>"
   ]
  },
  {
   "cell_type": "markdown",
   "metadata": {},
   "source": [
    "This same thickness value is assigned to each LE at time $T_0$.  The LE locations will be randomly assigned over the domain $A_0$ with the exception noted below.  The initial volume of each LE, $vLE_0$, will be given by:"
   ]
  },
  {
   "cell_type": "markdown",
   "metadata": {},
   "source": [
    "$$\n",
    "\\begin{align}\n",
    "N_{LE} &= \\text{the number of LEs released at time} \\, T_0 \\cr\n",
    "\\cr\n",
    "vLE_0 &= {V_0 \\over N_{LE}} \\qquad \\qquad (eq. 1.6)\\cr\n",
    "\\end{align}\n",
    "$$"
   ]
  },
  {
   "cell_type": "markdown",
   "metadata": {},
   "source": [
    "![Figure 2](Adios3_Spreading_Figure_2.png)<br>\n",
    "<center>Figure 2</center>"
   ]
  },
  {
   "cell_type": "markdown",
   "metadata": {},
   "source": [
    "### Exception:"
   ]
  },
  {
   "cell_type": "markdown",
   "metadata": {},
   "source": [
    "If the area $A_0$ is such that it overlaps land, e.g. a spill next to the shoreline, then reduce $A_0$ appropriately (subtract the land portion), move the initial LE locations to the water side, and increase the initial LE thickness based on the reduced area (initial LE volume remains unchanged)."
   ]
  },
  {
   "cell_type": "markdown",
   "metadata": {},
   "source": [
    "![Figure 3](Adios3_Spreading_Figure_3.png)<br>\n",
    "<center>Figure 3</center>"
   ]
  },
  {
   "cell_type": "markdown",
   "metadata": {},
   "source": [
    "### Continuous Spill Case:"
   ]
  },
  {
   "cell_type": "markdown",
   "metadata": {},
   "source": [
    "We can have a continuous spill under two circumstances:\n",
    "<ol>\n",
    "<li>Continuous spill from a fixed location</li>\n",
    "<li>Spill from a moving vessel</li>\n",
    "</ol>"
   ]
  },
  {
   "cell_type": "markdown",
   "metadata": {},
   "source": [
    "Both cases require modification of Fay gravity intertial spreading since this spreading assumes an instantaneous spill.  Ideally, we want the initial area to be determined by the leak rate and environmental conditions, not the size of the time step.  From the figure that follows eq. 1.7, Fay gravity inertial spreading is of the order or smaller than a typical Gnome/Adios time step.  This means that for most spill rates, it is acceptable to distribute the new LEs released in that time step over an area given by eq. 1.8 where $V_0 = V_0 \\Delta t$, $t$ is the time step, and $V_0$ is the volume leak rate.  However, depending upon the oil transport vector and the flow rate, the spilled oil may tend to pile up at the source."
   ]
  },
  {
   "cell_type": "markdown",
   "metadata": {},
   "source": [
    "#### <center>Case 1: Fixed Spill Location</center>"
   ]
  },
  {
   "cell_type": "markdown",
   "metadata": {},
   "source": [
    "The user enters a leak rate $V_0$ and a duration of the leak, which is a multiple of $J$ time steps such that:"
   ]
  },
  {
   "cell_type": "markdown",
   "metadata": {},
   "source": [
    "$$\n",
    "\\begin{align}\n",
    "J \\cdot \\Delta t &= \\Delta T \\cr\n",
    "\\end{align}\n",
    "$$"
   ]
  },
  {
   "cell_type": "markdown",
   "metadata": {},
   "source": [
    "Define $\\bar U_{10}$ as the average wind speed over the time period $\\Delta T$.  According to Fay (1971), linear spread velocity of the leading edge of the slick, $u_{edge}$, is given by:"
   ]
  },
  {
   "cell_type": "markdown",
   "metadata": {},
   "source": [
    "$$\n",
    "\\begin{align}\n",
    "u_{edge} &= \\sqrt { \\lambda g \\Delta \\rho {V_0 \\over A_0}} \\qquad \\qquad (eq. 1.7)\\cr\n",
    "\\end{align}\n",
    "$$"
   ]
  },
  {
   "cell_type": "markdown",
   "metadata": {},
   "source": [
    "while the oil is transported downwind at an average drift velocity of 3% of $\\bar U_{10}$.  Assuming a linear reduction in the edge velocity during inertial spreading, set $\\lambda = 4$."
   ]
  },
  {
   "cell_type": "markdown",
   "metadata": {},
   "source": [
    "<ul>\n",
    "<li>if $U_{edge} < 0.03 \\bar U_{10}$, then each batch of LEs released at time step $j$ will be distributed randomly over an area $A_0$ that can either be a circle or a square.</li>\n",
    "<li>if $U_{edge} > 0.03 \\bar U_{10}$, then the oil piles up and the LEs should be distributed over a rectangle of area $A_0$ where the length (direction downwind) is narrowed to $0.03 \\bar U_{10} t$ and the width is $A_0 \\over 0.03 \\bar U_{10} t$</li>\n",
    "<li>In both circumstances the oil thickness at the end of Fay gravity-inertial spreading is given by $\\delta_0 = {V_0 \\over A_0}$</li>\n",
    "</ul>"
   ]
  },
  {
   "cell_type": "markdown",
   "metadata": {},
   "source": [
    "#### <center>Case 2: Leak From a Moving Vessel</center>"
   ]
  },
  {
   "cell_type": "markdown",
   "metadata": {},
   "source": [
    "Replace wind transport by the motion of the vessel.  The interface will need to know the vessel speed or the times of the start and end point."
   ]
  },
  {
   "cell_type": "markdown",
   "metadata": {},
   "source": [
    "## <u>Spreading of the Slick</u>"
   ]
  },
  {
   "cell_type": "markdown",
   "metadata": {},
   "source": [
    "Oil spreading is modeled by moving the individual Lagrangian elements.  The three processes included in spreading are:"
   ]
  },
  {
   "cell_type": "markdown",
   "metadata": {},
   "source": [
    "<ul>\n",
    "<li>Fay gravity-viscous spreading</li>\n",
    "<li>Eddy diffusion of surface water</li>\n",
    "<li>Langmuir processes</li>\n",
    "</ul>"
   ]
  },
  {
   "cell_type": "markdown",
   "metadata": {},
   "source": [
    "Fay gravity-viscous spreading and eddy diffusion of the surface water cause the oil to spread uniformly in all directions.  Both predict uniform coverage of the oil on the water surface.  This contrasts with Langmuir processes that cause the oil to collect in bands with open water in between.  It is instructive to compare Fay spreading with eddy-related spreading.  One way to do it is to treat Fay gravity-viscous as if it were a diffusion process and compare relative diffusion coefficients."
   ]
  },
  {
   "cell_type": "markdown",
   "metadata": {},
   "source": [
    "### Fay Diffusion:"
   ]
  },
  {
   "cell_type": "markdown",
   "metadata": {},
   "source": [
    "Following the suggestion of Ahlstrom (1975), Adios2 represented Fay gravity-viscous spreading as a circular diffusion process with the diffusion coefficient being a function of oil density, spill volume, and time:"
   ]
  },
  {
   "cell_type": "markdown",
   "metadata": {},
   "source": [
    "$$\n",
    "\\begin{align}\n",
    "D_{Fay} &= 0.1 \\root 3 \\of { \\Delta\\rho \\cdot g \\cdot V_0^2 \\over \\sqrt{v_w} } \\cdot t^{-1/2} \\qquad \\qquad (eq. 1.8) \\cr\n",
    "&= 0.1 \\left( \\Delta\\rho \\cdot g \\cdot V_0^2 \\over v_w^{1/2} \\right)^{1/3} \\cdot t^{-1/2} \\cr\n",
    "\\end{align}\n",
    "$$"
   ]
  },
  {
   "cell_type": "code",
   "execution_count": 81,
   "metadata": {
    "collapsed": true
   },
   "outputs": [],
   "source": [
    "def fay_gravity_viscous_spreading(volume, water_rho, oil_rho, time):\n",
    "    g = 9.80665  # m/s^2\n",
    "    v_w = 1e-6  # viscosity of water at 20C (m^2/s)\n",
    "    V_0 = volume\n",
    "    t = time\n",
    "    delta_rho = (water_rho - oil_rho) / oil_rho\n",
    "\n",
    "    D_fay = (0.1 *\n",
    "             (delta_rho * g * V_0 ** 2.0 / v_w ** (1.0 / 2.0)) ** (1.0 / 3.0) *\n",
    "             t ** (-1.0 / 2.0))\n",
    "\n",
    "    return D_fay\n"
   ]
  },
  {
   "cell_type": "code",
   "execution_count": 82,
   "metadata": {
    "collapsed": false
   },
   "outputs": [
    {
     "data": {
      "image/png": "[encoded data removed]",
      "text/plain": [
       "<matplotlib.figure.Figure at 0x114e56990>"
      ]
     },
     "metadata": {},
     "output_type": "display_data"
    }
   ],
   "source": [
    "ax = subplot(111)\n",
    "\n",
    "volume = 7000.0  # bbls\n",
    "water_rho = 1000.0  # in kg/m^3\n",
    "oil_rho = 800.0  # in kg/m^3\n",
    "\n",
    "x = time = np.linspace(10.0, 120.0, 100)\n",
    "y = fay_gravity_viscous_spreading(volume * 0.15899,  # bbls -> m^3\n",
    "                                  water_rho, oil_rho,\n",
    "                                  time * 60.0  # min -> sec\n",
    "                                 )\n",
    "\n",
    "plot(x, y, linewidth=1)\n",
    "\n",
    "plt.title(r'Fay Diffusion ({} bbls)'.format(volume), fontsize=16)\n",
    "plt.xlabel(r'minutes', fontsize=16)\n",
    "plt.ylabel(r'$D_{fay} (m^2/s)$', fontsize=16)\n",
    "\n",
    "show()"
   ]
  },
  {
   "cell_type": "markdown",
   "metadata": {},
   "source": [
    "<b><i>(Note: Looking at Bill's results, I seem to be off by a factor of $4 / 0.017 \\approx 230$.  Also Bill's graph shows units of $m^2 / s$, and I was expecting units of $kg \\cdot m / s$.  Need to verify this with Bill.)</i></b>"
   ]
  },
  {
   "cell_type": "markdown",
   "metadata": {},
   "source": [
    "### Eddy Diffusion:"
   ]
  },
  {
   "cell_type": "markdown",
   "metadata": {},
   "source": [
    "Elliot and Hurford (1989) recommended a non-Fickian circular diffusion coefficient to accurately describe eddy diffusion.  As the oil spreads, larger eddies are included in the diffusive processes, causing the diffusion coefficient to slowly increase in time. "
   ]
  },
  {
   "cell_type": "markdown",
   "metadata": {},
   "source": [
    "$$\n",
    "\\begin{align}\n",
    "D_{eddy} &= 0.033 t^{0.16} \\qquad \\qquad (eq. 1.9) \\cr\n",
    "\\end{align}\n",
    "$$"
   ]
  },
  {
   "cell_type": "code",
   "execution_count": 71,
   "metadata": {
    "collapsed": true
   },
   "outputs": [],
   "source": [
    "def eddy_diffusion_coeff(time):\n",
    "    D_eddy = 0.033 * time ** 0.16  # I'll bet the 0.16 is actually (1.0 / 6.0)\n",
    "    return D_eddy"
   ]
  },
  {
   "cell_type": "code",
   "execution_count": 72,
   "metadata": {
    "collapsed": false
   },
   "outputs": [
    {
     "data": {
      "image/png": "[encoded data removed]",
      "text/plain": [
       "<matplotlib.figure.Figure at 0x115611690>"
      ]
     },
     "metadata": {},
     "output_type": "display_data"
    }
   ],
   "source": [
    "ax = subplot(111)\n",
    "\n",
    "x = time = np.linspace(1.0, 120.0, 100)\n",
    "y = eddy_diffusion_coeff(time * 60)\n",
    "\n",
    "plot(x, y, linewidth=1)\n",
    "\n",
    "plt.title(r'Fay Diffusion ({} bbls)'.format(volume), fontsize=16)\n",
    "plt.xlabel(r'minutes', fontsize=16)\n",
    "plt.ylabel(r'$D_{fay} (m^2/s)$', fontsize=16)\n",
    "\n",
    "show()"
   ]
  },
  {
   "cell_type": "markdown",
   "metadata": {},
   "source": [
    "<b><i>(Note: Okay, this is tracking pretty well with Bill's graph.  It gives me confidence that we are at least trying to use seconds as a unit of time)</i></b>"
   ]
  },
  {
   "cell_type": "markdown",
   "metadata": {},
   "source": [
    "Except for the extremely large spill, eddy diffusion will quickly dominate Fay gravity-viscous spreading.  Therefore, Adios3 will treat Fay spreading as an intrinsic process internal to each LE that leaves the LE location unchanged, while eddy diffusion leaves the LE properties alone but moves the LE.  Note, however, the later discussion of the appropriate coefficients for eddy diffusion."
   ]
  },
  {
   "cell_type": "markdown",
   "metadata": {},
   "source": [
    "### Fay Gravity-Viscous Spreading:"
   ]
  },
  {
   "cell_type": "markdown",
   "metadata": {},
   "source": [
    "Fay gravity-inertial spreading assigns the same initial thickness value $\\delta_0$ to each LE.  This thickness reduces by Fay gravity-viscous spreading until a minimum thickness is reached.  Fay gravity-viscous spreading includes water, but not oil, viscosity.  This is counter to our common experience where, for example, motor oil spreads more slowly than gasoline.  At minimum, the model should slow spreading as the oil becomes more viscous over time.  Adopting a modified version of Venkatesh (1988), Adios3 changes standard Fay gravity-viscous spreading to:"
   ]
  },
  {
   "cell_type": "markdown",
   "metadata": {},
   "source": [
    "$$\n",
    "\\begin{align}\n",
    "\\Delta t &= \\text{the model time step} \\cr\n",
    "t_{LE} &= \\text{the age of the LE} \\cr\n",
    "\\cr\n",
    "\\delta_{LE}(t) &= { \\delta_0 \\over \\sqrt{t_{LE} / \\Delta t} } \\cdot \\left( v_{oil}(t_{LE}) \\over v_0 \\right)^{1/6} \\qquad \\qquad (eq. 1.10)\\cr\n",
    "\\end{align}\n",
    "$$"
   ]
  },
  {
   "cell_type": "markdown",
   "metadata": {},
   "source": [
    "The viscosity refers to the viscosity of the particular LE, not the average viscosity.  The original Fay formulas include a third spreading phase after gravity-viscous spreading where the driving force is oil-water surface tension.  However, this phase is generally absent for the actual spreading of thick oil in a real spill incident.  Therefore, Adios3 stops Fay spreading at the end of gravity-viscous spreading and assigns a minimum thickness, $\\delta_{min}$, to the weathered oil.  The time period for termination of Fay gravity-viscous spreading can be estimated as:"
   ]
  },
  {
   "cell_type": "markdown",
   "metadata": {},
   "source": [
    "$$\n",
    "\\begin{align}\n",
    "t_{Fay} &= \\left( v_{oil} \\over v_0 \\right)^{1/3} \\cdot \\left( \\delta_0 \\over \\delta_{min} \\right)^2 \\qquad \\qquad (eq. 1.11)\\cr\n",
    "\\end{align}\n",
    "$$"
   ]
  },
  {
   "cell_type": "markdown",
   "metadata": {},
   "source": [
    "Based upon experimental spill results, Lehr et al (1984) recommend that minimum thickness for crude oils and more viscous refined products $(v_{oil} \\geq 100 \\, cSt)$ is 0.1 mm.  Small scale experiments in Canada (Venkatesh, 1990) observed higher final thicknesses when oil viscosity was higher."
   ]
  },
  {
   "cell_type": "markdown",
   "metadata": {},
   "source": [
    "Assuming that kerosene $(v_{oil} = 10 \\, cSt)$ and less viscous products form virtually all sheen with no dark oil (< 10 microns) then, Adios3 will use the following formula to estimate minimum thickness $\\delta{min}$ based upon oil viscosity, $v_{oil}$:"
   ]
  },
  {
   "cell_type": "markdown",
   "metadata": {},
   "source": [
    "<ul>\n",
    "    <li><b>If</b> $V_{oil} \\geq 10^{-4} \\, (m^2/s)$, <b>then</b> $\\delta_{min} = 10^{-4} \\, m$</li>\n",
    "    <li><b>Else If</b> $V_{oil} \\geq 10^{-5} \\, (m^2/s)$, <b>then</b> $\\delta_{min} = 10^{-5} \\, m$</li>\n",
    "    <li><b>Else</b> $\\delta_{min}(m) = v_{oil}(m^2/s) \\qquad \\qquad \\qquad \\qquad \\qquad (eq. 1.12)$</li>\n",
    "</ul>"
   ]
  },
  {
   "cell_type": "markdown",
   "metadata": {},
   "source": [
    "### Langmuir:"
   ]
  },
  {
   "cell_type": "markdown",
   "metadata": {},
   "source": [
    "Langmuir processes cause the oil to:\n",
    "<ul>\n",
    "    <li>Gather into wind rows</li>\n",
    "    <li>Move the oil within the wind rows at at faster pace than the average wind drift</li>\n",
    "<ul>"
   ]
  },
  {
   "cell_type": "markdown",
   "metadata": {},
   "source": [
    "#### Gathering Into Wind Rows"
   ]
  },
  {
   "cell_type": "markdown",
   "metadata": {},
   "source": [
    "According to Thorpe (1994) Langmuir cell separation in the open ocean $l_s$ is given by:"
   ]
  },
  {
   "cell_type": "markdown",
   "metadata": {},
   "source": [
    "$$\n",
    "\\begin{align}\n",
    "l_s(m) &\\simeq {U_{10} + 20 \\over 2} \\qquad \\qquad (eq. 1.13)\\cr\n",
    "\\end{align}\n",
    "$$"
   ]
  },
  {
   "cell_type": "markdown",
   "metadata": {},
   "source": [
    "The mean convergence speed $U_c$ between the cells is approximately:"
   ]
  },
  {
   "cell_type": "markdown",
   "metadata": {},
   "source": [
    "$$\n",
    "\\begin{align}\n",
    "u_c &= 0.003 U_{10} \\qquad \\qquad (eq. 1.14)\\cr\n",
    "\\end{align}\n",
    "$$"
   ]
  },
  {
   "cell_type": "markdown",
   "metadata": {},
   "source": [
    "making the sweep time for oil to collect in the convergence as:"
   ]
  },
  {
   "cell_type": "markdown",
   "metadata": {},
   "source": [
    "$$\n",
    "\\begin{align}\n",
    "\\tau_{sweep} &= {l_s \\over u_c} \\cr\n",
    "&\\simeq {U_{10} + 20 \\over 2} \\cdot {1 \\over 0.003 U_{10}} \\cr\n",
    "&\\simeq {U_{10} + 20 \\over 2 \\cdot 0.003 U_{10}} \\cr\n",
    "&\\simeq {U_{10} + 20 \\over 0.006 U_{10}} \\cr\n",
    "&\\simeq {U_{10} \\over 0.006 U_{10}} + {20 \\over 0.006 U_{10}} \\cr\n",
    "&\\simeq {1 \\over 0.006} + {20 \\over 0.006 U_{10}} \\cr\n",
    "&\\simeq {166.66} + {3333.33 \\over U_{10}} \\qquad \\qquad (eq. 1.15)\\cr\n",
    "\\end{align}\n",
    "$$"
   ]
  },
  {
   "cell_type": "markdown",
   "metadata": {},
   "source": [
    "Adios3 needs to estimate the fractional coverage of the surface water caused by the gathering of the oil into wind rows with open water in between.  Using the diagram below, the following non-dimensional variables can be defined."
   ]
  },
  {
   "cell_type": "markdown",
   "metadata": {},
   "source": [
    "$$\n",
    "\\begin{align}\n",
    "\\alpha &= {\\Delta x \\over l_c } \\, \\{ 0 < \\alpha < 1 \\}\\qquad \\qquad (eq. 1.16)\\cr\n",
    "\\beta &= {\\Delta z \\over h_0 } \\cr\n",
    "\\end{align}\n",
    "$$"
   ]
  },
  {
   "cell_type": "markdown",
   "metadata": {},
   "source": [
    "<ul>\n",
    "<li><b><i>Note:</i></b> It seems from the description that we want $\\alpha$ to be clipped, since it is the result of the formula.<br>  Therefore I would use the notation $\\alpha = \\left( \\Delta x \\over I_c \\right)_{\\top 0}^{\\bot 1} $, indicating that we clip the output of the function.</li>\n",
    "<li><b><i>Note:</i></b> I have no idea what $\\Delta x$, $\\Delta z$, or $h_0$ are, or how to calculate them.</li>\n",
    "</ul>"
   ]
  },
  {
   "cell_type": "markdown",
   "metadata": {},
   "source": [
    "The fractional coverage $f_{cov}$ is given by:"
   ]
  },
  {
   "cell_type": "markdown",
   "metadata": {},
   "source": [
    "$$\n",
    "\\begin{align}\n",
    "f_{cov} &= {l_s - \\Delta x \\over l_s} \\qquad \\qquad (eq. 1.17)\\cr\n",
    "&= 1 - \\alpha \\cr\n",
    "\\end{align}\n",
    "$$"
   ]
  },
  {
   "cell_type": "markdown",
   "metadata": {},
   "source": [
    "By conservation of oil volume:"
   ]
  },
  {
   "cell_type": "markdown",
   "metadata": {},
   "source": [
    "$$\n",
    "\\begin{align}\n",
    "\\beta &= {\\alpha \\over 1 - \\alpha} \\qquad \\qquad (eq. 1.18)\\cr\n",
    "&\\text{and...} \\cr\n",
    "\\alpha &= {\\beta \\over 1 + \\beta} \\cr\n",
    "\\end{align}\n",
    "$$"
   ]
  },
  {
   "cell_type": "markdown",
   "metadata": {},
   "source": [
    "By comparing the kinetic energy in the converging oil with the static gravitational energy in the thicker wind row oil, the following heuristic equation (also see eq. 1.20) can be derived:"
   ]
  },
  {
   "cell_type": "markdown",
   "metadata": {},
   "source": [
    "$$\n",
    "\\begin{align}\n",
    "\\beta &\\simeq {u_c^2 \\over h_0 \\cdot \\Delta g} \\qquad \\qquad (eq. 1.19)\\cr\n",
    "&\\text{where...} \\cr\n",
    "\\Delta g &= \\Delta\\rho \\cdot g \\cr\n",
    "\\end{align}\n",
    "$$"
   ]
  },
  {
   "cell_type": "markdown",
   "metadata": {},
   "source": [
    "As an example, consider a typical crude oil spill with the following conditions:"
   ]
  },
  {
   "cell_type": "markdown",
   "metadata": {},
   "source": [
    "$$\n",
    "\\begin{align}\n",
    "u_c &= 0.03 \\, m/s \\cr\n",
    "h_0 &= 0.0001 \\, m \\cr\n",
    "\\Delta g &= 2 \\, m/s^2 \\cr\n",
    "\\end{align}\n",
    "$$"
   ]
  },
  {
   "cell_type": "markdown",
   "metadata": {},
   "source": [
    "Then $\\beta = 4.5$ and $\\alpha = 0.8$"
   ]
  },
  {
   "cell_type": "code",
   "execution_count": 73,
   "metadata": {
    "collapsed": false
   },
   "outputs": [
    {
     "name": "stdout",
     "output_type": "stream",
     "text": [
      "alpha = 0.818181818182, beta = 4.5\n"
     ]
    }
   ],
   "source": [
    "def get_alpha_beta_coeffs(convergence_speed, initial_h, delta_g):\n",
    "    u_c = convergence_speed\n",
    "    h_0 = initial_h  # what do we name this exactly???\n",
    "    \n",
    "    beta = u_c ** 2.0 / (h_0 * delta_g)\n",
    "    alpha = beta / (1.0 + beta)\n",
    "    \n",
    "    return alpha, beta\n",
    "\n",
    "print 'alpha = {}, beta = {}'.format(*get_alpha_beta_coeffs(0.03, 0.0001, 2.0))"
   ]
  },
  {
   "cell_type": "markdown",
   "metadata": {},
   "source": [
    "![Figure 4](Adios3_Spreading_Figure_4.png)<br>\n",
    "<center>Figure 4</center>"
   ]
  },
  {
   "cell_type": "markdown",
   "metadata": {},
   "source": [
    "Equation 1.19 represents a final state where the wind has been blowing consistently long to allow enough time for all the thick oil to collect in wind rows.  However, varying wind direction means that time is needed for new Langmuir cells to form and established wind rows are broken up.  Also, the slick image of an experimental 50 bbl oil spill shown at the beginning of this report demonstrates that wind rows do not form right away for new spills.  Modeling this process in detail is challenging and not justified by the already existing simplifying assujmptions.  Instead, Adios3 will modify equation 1.19 to be:"
   ]
  },
  {
   "cell_type": "markdown",
   "metadata": {},
   "source": [
    "$$\n",
    "\\begin{align}\n",
    "\\beta &\\simeq {u_c^2 \\over h_0 \\cdot \\Delta g} \\cdot \\min \\left\\{ 1, {t \\over \\tau_{sweep} + \\tau_{fay}} \\right\\} \\qquad \\qquad (eq. 1.20)\\cr\n",
    "\\end{align}\n",
    "$$"
   ]
  },
  {
   "cell_type": "markdown",
   "metadata": {},
   "source": [
    "where the appropriate 'average' wijnd speed is used to compute $\\tau_{sweep}$."
   ]
  },
  {
   "cell_type": "markdown",
   "metadata": {},
   "source": [
    "For computational simplicity, Langmuir 'correction' will be applied individually to each LE (assign $h_0 = \\delta_{LE}$) who will now have, in addition to a thickness, a fractional coverage parameter as well."
   ]
  },
  {
   "cell_type": "markdown",
   "metadata": {},
   "source": [
    "<ul>\n",
    "<li>LE thickness = $\\delta_{LE}$ before Langmuir calculation</li>\n",
    "<li>LE thickness = $\\beta \\cdot \\delta_{LE}$ after Langmuir calculation</li>\n",
    "<li>LE fractional coverage = $1$ before Langmuir calculation</li>\n",
    "<li>LE fractional coverage = $1 - \\alpha$ after Langmuir calculation</li>\n",
    "</ul>"
   ]
  },
  {
   "cell_type": "markdown",
   "metadata": {},
   "source": [
    "### Reconciling EH and Gnome Diffusion Coefficients:"
   ]
  },
  {
   "cell_type": "markdown",
   "metadata": {},
   "source": [
    "Gnome has its own diffusion coefficient that is much larger $(1 m^2/s)$ than the non-Fickian diffusion coefficient of Elliot and Hurford (EH).  Eddy coefficients do not scale well and the experiments of EH may not be appropriate to a large real spill.  On the other hand, Gnome diffusion does not accurately represent small spill diffusion.  A compromise solution is to scale the initial diffusion coefficient to the initial Fay area and time (Eq's 1.7 and 1.8).  Then the black LE' diffusion coefficient $D_{LE}$ is given by"
   ]
  },
  {
   "cell_type": "markdown",
   "metadata": {},
   "source": [
    "$$\n",
    "\\begin{align}\n",
    "D_{LE} &= min \\left\\{ D_{eddy}, D_{GNOME} \\right\\} \\qquad \\qquad (eq. 1.21)\\cr\n",
    "\\end{align}\n",
    "$$"
   ]
  },
  {
   "cell_type": "markdown",
   "metadata": {},
   "source": [
    "where:"
   ]
  },
  {
   "cell_type": "markdown",
   "metadata": {},
   "source": [
    "$$\n",
    "\\begin{align}\n",
    "c_{eddy} &= \\text{empirical constant depending on} \\cr\n",
    "&\\ \\quad \\text{spill size and conditions} \\cr\n",
    "\\cr\n",
    "D_{eddy} &= c_{eddy} {A_0 \\over T_0} \\cdot t^{0.16} \\qquad \\qquad (eq. 1.22)\\cr\n",
    "\\end{align}\n",
    "$$"
   ]
  },
  {
   "cell_type": "markdown",
   "metadata": {},
   "source": [
    "Red LE diffusion, representing an increase in our uncertainty in oil location, not the actual dispersion of the oil, does not change."
   ]
  },
  {
   "cell_type": "markdown",
   "metadata": {},
   "source": [
    "## <u>Adjusting Area for Overlapping LEs and Computing Total Slick Area</u>"
   ]
  },
  {
   "cell_type": "markdown",
   "metadata": {},
   "source": [
    "Each LE will include values for the following parameters related to spreading:"
   ]
  },
  {
   "cell_type": "markdown",
   "metadata": {},
   "source": [
    "<ul>\n",
    "<li>Initial LE volume</li>\n",
    "<li>LE volume at time $t$</li>\n",
    "<li>LE thickness atd time $t$</li>\n",
    "<li>Minimum LE thickness</li>\n",
    "<li>Fractional thick oil coverage</li>\n",
    "</ul>"
   ]
  },
  {
   "cell_type": "markdown",
   "metadata": {},
   "source": [
    "Notice that individual LE area is NOT an included parameter.  LE area can be computed at any time by dividing LE volume $V_{LE}(t)$ by LE thickness $\\delta_{LE}(t)$.  Total slick area $A_{slick}(t)$ could then be computed by summing the calculated LE individual areas.  This is not the area necessarily defined by the actual LE location boundaries."
   ]
  },
  {
   "cell_type": "markdown",
   "metadata": {},
   "source": [
    "$$\n",
    "\\begin{align}\n",
    "A_{slick}(t) &= \\sum_{nLE} {V_{LE} \\over \\delta_{LE}} \\qquad \\qquad (eq. 1.23)\\cr\n",
    "&\\text{and...} \\cr\n",
    "\\bar A_{LE} &= { A_{slick} \\over nLE } \\cr\n",
    "\\end{align}\n",
    "$$"
   ]
  },
  {
   "cell_type": "markdown",
   "metadata": {},
   "source": [
    "If LEs are close to each other, as in a spill along a shoreline, then LE thickness adjustment is necessary.  The procedure is as follows:"
   ]
  },
  {
   "cell_type": "markdown",
   "metadata": {},
   "source": [
    "<ol>\n",
    "    <li>Grid the spill location area.  Grid boundaries are determined by the four extreme LE locations (east, west north, south).  Grid size is set to the average value of the individual LE areas $\\bar A_{LE}$.</li>\n",
    "    <li>Count the number of LEs, $nLE(j,k)$ in each grid element $j,k$.\n",
    "        <ol>\n",
    "            <li>If $nLE(j,k) = \\{ 0.1 \\}$, then do nothing</li>\n",
    "            <li>If $nLE(j,k) = M$, where $M > 1$, then\n",
    "                <ol>\n",
    "                  <li>for the set {m=1 to M} of LEs located in grid j,k</li>\n",
    "                  <li>$f_{cov} = min \\left\\{ \\sum_{m=1}^M {f_{cov}(m), 1} \\right\\}$</li>\n",
    "                  <li>new $\\delta_{LE}(m) = \\delta_{LE}(m) \\cdot max \\left\\{ 1, f_{cov} \\cdot M \\right\\}$</li>\n",
    "                  <li>Oil Volume of each LE remains the same</li>\n",
    "                </ol>\n",
    "            </li>\n",
    "        <ol>\n",
    "    </li>\n",
    "<ol>"
   ]
  },
  {
   "cell_type": "markdown",
   "metadata": {},
   "source": [
    "## <u>Digression Into Evaporation</u>"
   ]
  },
  {
   "cell_type": "markdown",
   "metadata": {},
   "source": [
    "There are two major competing model systems for mass evaporation rate:"
   ]
  },
  {
   "cell_type": "markdown",
   "metadata": {},
   "source": [
    "<ol>\n",
    "    <li>Well-mixed slick where the surface boundary layer controls oil mass evaporation rate, and slick viscosity and thickness are not important.  This is the current approach used in most models.  Adios2, ASA, and SINTEF use a version of the Payne pseudo-component model and S.L. Ross and some of the Europeans use some modification of the Mackay-Stiver single but time-varying component model.</li>\n",
    "    <li>Diffusion-limited model where the controlling mass loss rate factors are the oil viscosity and thickness.  The Fingas model is an empirical fit version of this model.</li>\n",
    "</ol>"
   ]
  },
  {
   "cell_type": "markdown",
   "metadata": {},
   "source": [
    "The Mass transfer Biot number gives an indication which of these two approaches is appropriate for any spill."
   ]
  },
  {
   "cell_type": "markdown",
   "metadata": {},
   "source": [
    "$$\n",
    "\\begin{align}\n",
    "\\delta_{oil} &= \\text{oil slick thickness} (m) \\cr\n",
    "D_{oil} &= \\text{diffusion coefficient} (m^2 / s) \\cr\n",
    "k_w &= \\text{air side mass transfer velocity} (m/s) \\cr\n",
    "\\cr\n",
    "N_{Bi} &= {k_w \\cdot \\delta_{oil} \\over D_{oil}} \\qquad \\qquad \\qquad \\qquad (eq. 1.24)\\cr\n",
    "\\end{align}\n",
    "$$"
   ]
  },
  {
   "cell_type": "markdown",
   "metadata": {},
   "source": [
    "According to Buchanan and Hurford (1988)"
   ]
  },
  {
   "cell_type": "markdown",
   "metadata": {},
   "source": [
    "$$\n",
    "\\begin{align}\n",
    "k_w &= 0.0025 U_{10}^{7/9} \\qquad \\qquad \\qquad \\qquad (eq. 1.25)\\cr\n",
    "\\end{align}\n",
    "$$"
   ]
  },
  {
   "cell_type": "markdown",
   "metadata": {},
   "source": [
    "with $U_{10} =$ wind speed at 10m.  And yes, the units are wrong.  Higher wind speeds will cause sea-spray and an increase in the wind exponent."
   ]
  },
  {
   "cell_type": "markdown",
   "metadata": {},
   "source": [
    "Adios3 will use the following approach:"
   ]
  },
  {
   "cell_type": "markdown",
   "metadata": {},
   "source": [
    "$$\n",
    "\\begin{align}\n",
    "&\\text{if } U_{10} \\leq 10 m/s, \\text{then:} \\qquad \\qquad (eq. 1.26)\\cr\n",
    "&\\ \\qquad K_{evap} = c_{evap} U_{10}^{7/9} \\cr\n",
    "&\\text{else:} \\cr\n",
    "&\\ \\qquad K_{evap} = 0.06 \\, c_{evap} U_{10}^{2}\n",
    "\\end{align}\n",
    "$$"
   ]
  },
  {
   "cell_type": "markdown",
   "metadata": {},
   "source": [
    "If $K_{evap}$ is expressed in m/s, then Buchanan and Hurford set $c_{evap} = 0.0025$."
   ]
  },
  {
   "cell_type": "code",
   "execution_count": 124,
   "metadata": {
    "collapsed": false
   },
   "outputs": [],
   "source": [
    "from numbers import Number\n",
    "\n",
    "def get_k_evap(wind_speed):  # need a better description of K_evap\n",
    "    c_evap = 0.0025  # an evaporation coefficient describing ???\n",
    "\n",
    "    # the conditional in this function requires a special case\n",
    "    # for numpy arrays and other sequences.\n",
    "    if isinstance(wind_speed, Number):\n",
    "        U_10 = wind_speed\n",
    "        if U_10 <= 10.0:\n",
    "            K_evap = c_evap * U_10 ** (7.0 / 9.0)\n",
    "        else:\n",
    "            K_evap = 0.06 * c_evap * U_10 ** 2.0\n",
    "    else:\n",
    "        # assume it is a sequence in which some elements > 10\n",
    "        # and some elements are <= 10\n",
    "        U_10 = np.array(wind_speed)\n",
    "        K_evap = np.zeros_like(wind_speed)\n",
    "        leq = U_10 <= 10.0\n",
    "        gt = leq ^ True\n",
    "\n",
    "        K_evap[leq] = c_evap * U_10[leq] ** (7.0 / 9.0)\n",
    "        K_evap[gt] = 0.06 * c_evap * U_10[gt] ** 2.0\n",
    "\n",
    "    return K_evap"
   ]
  },
  {
   "cell_type": "code",
   "execution_count": 91,
   "metadata": {
    "collapsed": false
   },
   "outputs": [
    {
     "data": {
      "image/png": "[encoded data removed]",
      "text/plain": [
       "<matplotlib.figure.Figure at 0x1154716d0>"
      ]
     },
     "metadata": {},
     "output_type": "display_data"
    }
   ],
   "source": [
    "ax = subplot(111)\n",
    "\n",
    "x = wind_speed = np.linspace(0.0, 20.0, 50)\n",
    "y = get_k_evap(wind_speed)\n",
    "\n",
    "plot(x, y, linewidth=1)\n",
    "\n",
    "plt.title(r'$K_{evap}$', fontsize=16)\n",
    "plt.xlabel(r'wind (m/s)', fontsize=16)\n",
    "plt.ylabel(r'$K_{evap} (m/s)$', fontsize=16)\n",
    "\n",
    "show()"
   ]
  },
  {
   "cell_type": "markdown",
   "metadata": {},
   "source": [
    "<ul>\n",
    "<li><b><i>Note:</i></b> Bill's graph has a range of only (0 ... 10), and this graph correlates within that range.  But I would like to see what he would graph for wind speeds greater than 10.</li>\n",
    "</ul>"
   ]
  },
  {
   "cell_type": "markdown",
   "metadata": {},
   "source": [
    "According to Hiss and Cussler (1973):"
   ]
  },
  {
   "cell_type": "markdown",
   "metadata": {},
   "source": [
    "$$\n",
    "\\begin{align}\n",
    "\\eta_{oil} &= \\text{the oil dynamic viscosity} \\cr\n",
    "\\cr\n",
    "D_{oil} &\\propto \\eta_{oil}^{-2/3} \\qquad \\qquad (eq. 1.27) \\cr\n",
    "\\end{align}\n",
    "$$"
   ]
  },
  {
   "cell_type": "markdown",
   "metadata": {},
   "source": [
    "However, the same authors note that others find the exponent in the above equation to be unity.  Adios3 could consider the Biot-Fingas number defined as:"
   ]
  },
  {
   "cell_type": "markdown",
   "metadata": {},
   "source": [
    "$$\n",
    "\\begin{align}\n",
    "N_{BF} &= {U_{10} \\cdot \\delta_{oil} \\over v_{oil}} \\qquad \\qquad (eq. 1.28) \\cr\n",
    "\\end{align}\n",
    "$$"
   ]
  },
  {
   "cell_type": "markdown",
   "metadata": {},
   "source": [
    "A large Biot-Fingas number indicates that a Fingas-type model is the correct choice while a small Biot-Fingas number suggests that Payne is the correct model.  An oil could start out with a small Biot number and then change to a large number if viscosity or thickness greatly increased.  Fingas (2013) has suggested that oil thicker than 2 mm will show diffusion limitations.  Stronach and Hospital (2014) concluded that 7 mm was a more appropriate number.  However, oil spilled on the open sea will not usually form slicks this thick unless it was either highly viscous to begin with or has emulsified.  The Fingas model also, does not provide information on the change in the intrinsic properties of the oil due to evaporation.  In particular, no data is available to estimate changes in relative SARA fraction.  Therefore, Adios3 will not use the Fingas model in its first release."
   ]
  },
  {
   "cell_type": "markdown",
   "metadata": {},
   "source": [
    "## <u>Payne Model Assumptions About Area</u>"
   ]
  },
  {
   "cell_type": "markdown",
   "metadata": {},
   "source": [
    "The Payne model assumes that mass evaporation rate is a linear function of the whole area of the slick.  Adios2 assigned the appropriate Thiessien polygon area to any individual LE when calculating LE specific evaporative mass loss but Adios3 does not use Thiessian polygons.  Instead, it will use the LE volume divided by its thickness.  LEs of equal age, volume, and thickness will have equal evaporative mass loss."
   ]
  },
  {
   "cell_type": "markdown",
   "metadata": {},
   "source": [
    "For each LE numbered $\\{n_{LE} = 1 ... N_{LE} \\}$, there will be $\\{ ipc = 1 ... IPC \\}$ pseudo components for aromatics and the same number for saturates.  Resins and asphaltenes are assumed to be non-volatile."
   ]
  },
  {
   "cell_type": "markdown",
   "metadata": {},
   "source": [
    "Adios3 evaporation will calculate separately the individual LE mass loss rate:"
   ]
  },
  {
   "cell_type": "markdown",
   "metadata": {},
   "source": [
    "$$\n",
    "\\begin{align}\n",
    "dm_{LE}(ipc) \\over dt\n",
    "\\end{align}\n",
    "$$"
   ]
  },
  {
   "cell_type": "markdown",
   "metadata": {},
   "source": [
    "for each pseudo-component."
   ]
  },
  {
   "cell_type": "markdown",
   "metadata": {},
   "source": [
    "Robert's notes (Draft Evaporation in Adios3, June 23, 2014) need to be modified as follows:"
   ]
  },
  {
   "cell_type": "markdown",
   "metadata": {},
   "source": [
    "The mass loss rate per pseudo component $i$ (separate pseudo-components for saturates and aromatics) is modified as:"
   ]
  },
  {
   "cell_type": "markdown",
   "metadata": {},
   "source": [
    "$$\n",
    "\\begin{align}\n",
    "{dm_{LE}(ipc) \\over dt} = {Vol_{LE} \\over \\delta_{LE}} \\cdot K_{evap} \\cdot { Sc_{ipc} \\cdot m_{ipc} \\cdot Pv_{ipc} \\over mw_{ipc} \\cdot R \\cdot T_w \\cdot \\sum\\limits_{ii=1}^{IPC} { m_{ii} \\over mw_{ii}}} \\qquad \\qquad (eq. 1.29) \\cr\n",
    "\\end{align}\n",
    "$$"
   ]
  },
  {
   "cell_type": "markdown",
   "metadata": {},
   "source": [
    "If the slick has emulsified, then the right side of eq. 1.29 needs to be multiplied by the fraction of the emulsion that is oil i.e. $(1 - f_w)$."
   ]
  },
  {
   "cell_type": "markdown",
   "metadata": {},
   "source": [
    "Note that slick area or downwind diameter are no longer included in the formula.  Definitions of the undefined terms in eq. 1.29 are found in Robert's notes.\n",
    "Molecular weight calculations use the reference <i>Characterization and Properties of Petroleum Fractions</i>, authored by Dr. M. R. Riazi, Professor of Chemical Engineering at Kuwait University, published in 2005 by American Society for Testing and Materials (ASTM), International, Stock number MNL50"
   ]
  },
  {
   "cell_type": "markdown",
   "metadata": {},
   "source": [
    "Some checks to make sure the formula is working:"
   ]
  },
  {
   "cell_type": "markdown",
   "metadata": {},
   "source": [
    "<table>\n",
    "    <tr>\n",
    "        <th>Hydrocarbon</th>\n",
    "        <th>Type</th> \n",
    "        <th>Boiling Pt. $(\\ ^\\circ C)$</th>\n",
    "        <th>Molecular Weight $(kg/kmol)$</th>\n",
    "    </tr>\n",
    "    <tr>\n",
    "        <td>benzene</td>\n",
    "        <td>aromatic</td> \n",
    "        <td>80</td>\n",
    "        <td>78</td>\n",
    "    </tr>\n",
    "    <tr>\n",
    "        <td>pentane</td>\n",
    "        <td>saturate</td> \n",
    "        <td>36</td>\n",
    "        <td>72</td>\n",
    "    </tr>\n",
    "</table>"
   ]
  },
  {
   "cell_type": "markdown",
   "metadata": {},
   "source": [
    "It is important that all terms in equation 1.29 be expressed in the right MKS (IS) units.  For example, molecular weight is in kg/kmol, vapor pressure in Pascals, temperature in Kelvin, and mass evaporation rate in kg/s."
   ]
  },
  {
   "cell_type": "markdown",
   "metadata": {},
   "source": [
    "$$\n",
    "\\begin{align}\n",
    "R &= \\text{gas constant} (KJ/kmol \\ ^\\circ K) \\cr\n",
    "&= 8.314 \\cr\n",
    "\\end{align}\n",
    "$$"
   ]
  },
  {
   "cell_type": "code",
   "execution_count": null,
   "metadata": {
    "collapsed": true
   },
   "outputs": [],
   "source": []
  }
 ],
 "metadata": {
  "kernelspec": {
   "display_name": "Python 2",
   "language": "python",
   "name": "python2"
  },
  "language_info": {
   "codemirror_mode": {
    "name": "ipython",
    "version": 2
   },
   "file_extension": ".py",
   "mimetype": "text/x-python",
   "name": "python",
   "nbconvert_exporter": "python",
   "pygments_lexer": "ipython2",
   "version": "2.7.11"
  }
 },
 "nbformat": 4,
 "nbformat_minor": 0
}
