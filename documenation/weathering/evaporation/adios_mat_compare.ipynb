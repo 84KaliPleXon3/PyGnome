{
 "metadata": {
  "name": ""
 },
 "nbformat": 3,
 "nbformat_minor": 0,
 "worksheets": [
  {
   "cells": [
    {
     "cell_type": "raw",
     "metadata": {},
     "source": [
      "Take Robert's MATLAB script and write ipython notebook to repro the results.\n",
      "This uses an Euler method to model evaporation."
     ]
    },
    {
     "cell_type": "code",
     "collapsed": false,
     "input": [
      "%pylab inline\n",
      "import numpy as np"
     ],
     "language": "python",
     "metadata": {},
     "outputs": [
      {
       "output_type": "stream",
       "stream": "stdout",
       "text": [
        "Populating the interactive namespace from numpy and matplotlib\n"
       ]
      }
     ],
     "prompt_number": 1
    },
    {
     "cell_type": "code",
     "collapsed": false,
     "input": [
      "from oil_library import get_oil_props"
     ],
     "language": "python",
     "metadata": {},
     "outputs": [],
     "prompt_number": 2
    },
    {
     "cell_type": "code",
     "collapsed": false,
     "input": [
      "op = get_oil_props(u'ALASKA NORTH SLOPE (MIDDLE PIPELINE)')"
     ],
     "language": "python",
     "metadata": {},
     "outputs": [],
     "prompt_number": 3
    },
    {
     "cell_type": "code",
     "collapsed": false,
     "input": [
      "# NorthSlopeTestData\n",
      "\n",
      "# AK North Slope (Middle Pipeline) used to test ADIOS 3 evaporation\n",
      "# This is the PC data that James generates, not the distillation data\n",
      "\n",
      "Sample=0\n",
      "API=0\n",
      "DensityInit = 875.94\n",
      "\n",
      "# temperature of the PC\n",
      "BP=np.asarray([313, 353, 393, 433, 473, 573, 673, 773, 873, 973, 1015])\n",
      "\n",
      "# pressure for the distillation in mmHg\n",
      "CutPressure=np.asarray([760, 760, 760, 760, 760, 760, 760, 760, 760, 760, 760])\n",
      "\n",
      "# cumulative weight fraction PCs\n",
      "Fractn = np.asarray([.03, .07, .13, .19, .25, .42, .6, .76, .88, .908, .9999])\n",
      "\n",
      "#\tMain_TestAdios\n",
      "#\tThis program is the ADIOS II evaporation method\n",
      "#\tIn ADIOS II the oil is reduced to a mixture of discrete components.  The volume\n",
      "#\tboiling point of each component are taken directly from standard distallation data.\n",
      "#\tThe boiling point is the terminal temperature of the cut.  The final component is\n",
      "#\ttaken as the volume of oil remaining after the last measured temperature and its\n",
      "#\tboiling point is found from extrapolation.  \n",
      "#\tThe Antoine equation (see section 14-3 of Lyman) is used to derive the vapor pressure\n",
      "#\tfrom the boiling point.  Mackay's formulation for the mass transfer coefficient.\n",
      "#\tEuler's method is used to solve the differential equations.\n",
      "#\t\n",
      "#\t\t\t\t\t\t\t\t\t\t\t\t\tMay 18, 2015\n",
      "#Output1=fopen('TestResults','w');\n",
      "#fprintf(Output1,'\\nOutput from TestAdios with North Slope');\n",
      "\n",
      "# different than distillation data\n",
      "TempK=300.\t\t\t# nominal water temp\n",
      "TempF=((TempK-273.15)*9./5.) + 32.\t# water temp in Farenheit\n",
      "R=8.3144\n",
      "\n",
      "Vinit=16.\t\t\t\t\t\t# initial volume of oil\n",
      "MassInit=DensityInit*Vinit      # initial mass of oil\n",
      "thickness=0.001\t\t\t\t# initial thickness\n",
      "nom_Area=Vinit/thickness\t\t# nominal surface area\n",
      "D=sqrt(nom_Area)\t\t\t\t# side of square pool\n",
      "nom_U=5\t\t\t\t\t\t# nominal wind speed \n",
      "\n",
      "#fprintf(Output1,'\\nTemperature =#10.2e',nom_Temp)\n",
      "#fprintf(Output1,'\\nInitial Volume =#10.2f',Vinit)\n",
      "#fprintf(Output1,'\\nWind speed =#10.2f',nom_U)\n",
      "#fprintf(Output1,'\\nArea =#10.2f',nom_Area)\n",
      "#fprintf(Output1,'\\n\\nhours')\n",
      "#fprintf(Output1,'\\tVolFrctn')\n",
      "\n",
      "# EVAPORATION USING ADIOS II PSEUDO-COMPONENT METHOD\n",
      "U=nom_U\n",
      "Area=nom_Area\t\n",
      "#Dpower=(2*(np.sqrt(Area/np.pi)))**0.1111\t\t# diameter of puddle to 1/9 power\n",
      "Dpower=1   # should match what we are doing in ADIOS 3\n",
      "\n",
      "delS = 8.75 + (1.987*np.log(BP))\n",
      "eq15 = 0.19 * BP - 18.0\n",
      "eq14 = 1./(BP - eq15) - 1./(TempK - eq15);\n",
      "eq14 = delS*(BP - eq15)*(BP - eq15)*eq14/(0.97*1.987*BP)\n",
      "VP = 101325. * exp(eq14)\n",
      "MW = 0.04132-((1.985e-4)*BP)+(9.494e-7*BP**2) # molecular weight\n",
      "crootMW = MW**0.33333\n",
      "\n",
      "# compute the initial moles and initial mass\n",
      "mass_fracs = np.insert(np.diff(Fractn), 0, Fractn[0])\n",
      "mass_fracs[-1] += (1.0 - mass_fracs.sum())\n",
      "i_c_mass = MassInit * mass_fracs\n",
      "i_moles = i_c_mass/MW\n"
     ],
     "language": "python",
     "metadata": {},
     "outputs": [],
     "prompt_number": 4
    },
    {
     "cell_type": "code",
     "collapsed": false,
     "input": [
      "# VP is the same for the same boiling point so just use one for each cut\n",
      "# and compare with data generated from Robert's script\n",
      "vp_gnome = op.vapor_pressure(TempK)\n",
      "mask = np.logical_or(op._sara['type'] == 'Aromatics', op._sara['type'] == 'Resins')\n",
      "\n",
      "if np.allclose(vp_gnome[mask], VP):\n",
      "    print 'Vapor pressures match'\n",
      "\n",
      "if np.allclose(op.molecular_weight[mask], MW):\n",
      "    print 'Molecular weights match'\n",
      "\n",
      "if i_c_mass.sum() == MassInit:\n",
      "    print 'Sum of component masses add upto total initial mass'\n",
      "\n",
      "print MW"
     ],
     "language": "python",
     "metadata": {},
     "outputs": [
      {
       "output_type": "stream",
       "stream": "stdout",
       "text": [
        "Vapor pressures match\n",
        "Molecular weights match\n",
        "Sum of component masses add upto total initial mass\n",
        "[ 0.07220127  0.08955328  0.10994338  0.13337156  0.15983781  0.23929505\n",
        "  0.33774029  0.45517353  0.59159477  0.74700401  0.81793812]\n"
       ]
      }
     ],
     "prompt_number": 5
    },
    {
     "cell_type": "code",
     "collapsed": false,
     "input": [
      "to=0\t\t\t\t\t# initial time\n",
      "tfhours=50.\t\t    # final time in hours\n",
      "tf=tfhours*3600.\t\t# final time in seconds\n",
      "\n",
      "stepsize = 10.\t\t\t\t# size of initial time step\n",
      "num_steps = int(np.ceil(tf/stepsize))\n",
      "print num_steps\n",
      "#num_steps = 2\n",
      "\n",
      "time = np.zeros((num_steps,), dtype=np.float64)\n",
      "c_mass = np.zeros((num_steps, len(BP)), dtype=np.float64)\n",
      "c_mass[0] = i_c_mass.copy()\n",
      "c_mass_exp = np.zeros((num_steps, len(BP)), dtype=np.float64)\n",
      "c_mass_exp[0] = i_c_mass.copy()\n",
      "\n",
      "tot_moles = np.zeros((num_steps,), dtype=np.float64)\n",
      "tot_moles[0] = i_moles.sum()\n",
      "\n",
      "K = .0025*(U**0.78)\n",
      "c_numer = K * Area * VP\n",
      "c_denom = TempK * R\n",
      "\n",
      "for ix in xrange(1, num_steps):\n",
      "    time[ix] = ix * stepsize\n",
      "    numer = -c_numer * c_mass[ix-1]\n",
      "    denom = c_denom * tot_moles[ix-1]\n",
      "    delta_mass = numer/denom * time[ix]\n",
      "    c_mass[ix] = c_mass[ix-1] + delta_mass\n",
      "    c_mass[ix][c_mass[ix] < 0] = 0\n",
      "    tot_moles[ix] = (c_mass[ix]/MW).sum()\n",
      "\n",
      "    delta_exp = np.exp(numer/(c_denom * (c_mass_exp[ix-1]/MW).sum()) * time[ix])\n",
      "    c_mass_exp[ix] = c_mass_exp[ix-1] * delta_exp\n",
      "    c_mass_exp[ix][c_mass_exp[ix] < 0] = 0"
     ],
     "language": "python",
     "metadata": {},
     "outputs": [
      {
       "output_type": "stream",
       "stream": "stdout",
       "text": [
        "18000\n"
       ]
      }
     ],
     "prompt_number": 6
    },
    {
     "cell_type": "code",
     "collapsed": false,
     "input": [
      "plt.figure()\n",
      "plt.plot(time/3600.0, (1-c_mass.sum(1)/MassInit) * 100, '.b')\n",
      "plt.grid()\n",
      "\n",
      "plt.figure()\n",
      "plt.plot(time/3600.0, (1-c_mass_exp.sum(1)/MassInit) * 100, '.b')\n",
      "plt.grid()"
     ],
     "language": "python",
     "metadata": {},
     "outputs": [
      {
       "metadata": {},
       "output_type": "display_data",
       "png": "[encoded data removed]",
       "text": [
        "<matplotlib.figure.Figure at 0x108dae510>"
       ]
      },
      {
       "metadata": {},
       "output_type": "display_data",
       "png": "[encoded data removed]",
       "text": [
        "<matplotlib.figure.Figure at 0x109472650>"
       ]
      }
     ],
     "prompt_number": 7
    },
    {
     "cell_type": "code",
     "collapsed": false,
     "input": [],
     "language": "python",
     "metadata": {},
     "outputs": []
    }
   ],
   "metadata": {}
  }
 ]
}