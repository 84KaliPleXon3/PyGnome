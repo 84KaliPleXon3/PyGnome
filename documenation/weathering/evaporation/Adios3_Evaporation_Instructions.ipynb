{
 "cells": [
  {
   "cell_type": "markdown",
   "metadata": {},
   "source": [
    "# <center>Adios3 Evaporation Instructions</center>"
   ]
  },
  {
   "cell_type": "markdown",
   "metadata": {},
   "source": [
    "## <center>Based on document updated 09-11-2015</center>"
   ]
  },
  {
   "cell_type": "markdown",
   "metadata": {},
   "source": [
    "## <u>Construction of the Pseudo Components</u>"
   ]
  },
  {
   "cell_type": "markdown",
   "metadata": {},
   "source": [
    "### Data Condition 1: distillation data available (crudes and refined products)"
   ]
  },
  {
   "cell_type": "markdown",
   "metadata": {},
   "source": [
    "Inputs:\n",
    "<ul>\n",
    "<li>cumulative distilled mass</li>\n",
    "<li>true boiling points</li>\n",
    "</ul>"
   ]
  },
  {
   "cell_type": "markdown",
   "metadata": {},
   "source": [
    "If two or more vapor temperature distillation date points are available, then this data is used to determine the properties of the pseudo-components (PC).  If distillation data is measured at a reduced pressure, it must be adjusted to atmospheric pressure.<br>\n",
    "The data are stored as pairs of values:\n",
    "<ul>\n",
    "    <li>The temperature of the distillate $(T_i)$</li>\n",
    "    <li>The cumulative fraction of oil distilled $(f_i)$</li>\n",
    "</ul>"
   ]
  },
  {
   "cell_type": "markdown",
   "metadata": {},
   "source": [
    "The temperature of the initial fraction is found by extrapolating the first two points:"
   ]
  },
  {
   "cell_type": "markdown",
   "metadata": {},
   "source": [
    "$$\n",
    "\\begin{align}\n",
    "f_i &= \\text{the cumulative mass fraction of oil distilled} \\cr\n",
    "T_i &= \\text{measured temperature of distillate} (K) \\cr\n",
    "\\cr\n",
    "T_0 &= T_1 - f_1 \\left( T_2 - T_1 \\over f_2 - f_1 \\right) \\cr\n",
    "\\end{align}\n",
    "$$"
   ]
  },
  {
   "cell_type": "markdown",
   "metadata": {},
   "source": [
    "The temperature of the <b>final</b> fraction is found by extrapolating the first and last distillation points."
   ]
  },
  {
   "cell_type": "markdown",
   "metadata": {},
   "source": [
    "$$\n",
    "\\begin{align}\n",
    "T_{n + 1} &= T_n + (1 - f_1) \\left( T_n - T_1 \\over f_n - f_1 \\right) \\cr\n",
    "\\end{align}\n",
    "$$"
   ]
  },
  {
   "cell_type": "markdown",
   "metadata": {},
   "source": [
    "Or a linear least squares fit to the distillation data can be used.<br>\n",
    "Five PCs, each containing 20% of the oil by mass, are constructed as follows:\n",
    "<ul>\n",
    "    <li>The boiling point (BP) of the first PC is the average of the lower and upper cut temperatures.  The lower temperature is the temperature of the initial fraction; upper temperature is found through a linear interpolation of the points that bracket 20% distilled.</li>\n",
    "    <li>The BP of the second, third, and fourth PCs are found in a similar manner, where the lower temperature is the upper temperature of the previous PC.</li>\n",
    "    <li>The BP of the fifth PC is the average of the upper temperature of the fourth PC and the temperature of the final fraction.</li>\n",
    "</ul>"
   ]
  },
  {
   "cell_type": "markdown",
   "metadata": {},
   "source": [
    "### <center>(JLM Comments) </center>"
   ]
  },
  {
   "cell_type": "markdown",
   "metadata": {},
   "source": [
    "I think I might prefer the least squares fit approach, but let's try out the above formulas, shall we?"
   ]
  },
  {
   "cell_type": "markdown",
   "metadata": {},
   "source": [
    "First, $T_0$ seems pretty straight forward, but what is the intent?  Is it to determine at what temperature we will find 0% distillation?<br>\n",
    "Second, $T_{n+1}$ seems to me to be an attempt to determine at what temperature we will find 100% distillation.<br>\n",
    "Fair enough, but the equation should probably be:<br>"
   ]
  },
  {
   "cell_type": "markdown",
   "metadata": {},
   "source": [
    "$$\n",
    "\\begin{align}\n",
    "T_{n + 1} &= T_n + (1 - f_n) \\left( T_n - T_1 \\over f_n - f_1 \\right) \\cr\n",
    "\\end{align}\n",
    "$$"
   ]
  },
  {
   "cell_type": "code",
   "execution_count": 6,
   "metadata": {
    "collapsed": false
   },
   "outputs": [
    {
     "name": "stdout",
     "output_type": "stream",
     "text": [
      "Populating the interactive namespace from numpy and matplotlib\n",
      "[ 313.15  353.15  393.15  433.15  473.15  573.15  673.15  773.15  873.15\n",
      "  973.15] [ 0.03  0.07  0.13  0.19  0.25  0.42  0.6   0.76  0.88  0.95]\n",
      "(t_min, t_max) =  (283.14999999999998, 1009.0195652173913)\n"
     ]
    }
   ],
   "source": [
    "%pylab inline\n",
    "import numpy as np\n",
    "\n",
    "# here is the cut data from AK North slope (Middle Pipeline)\n",
    "boiling_points, cum_fractions = [np.array(l)\n",
    "                                 for l in zip(*((313.15, 0.03),\n",
    "                                                (353.15, 0.07),\n",
    "                                                (393.15, 0.13),\n",
    "                                                (433.15, 0.19),\n",
    "                                                (473.15, 0.25),\n",
    "                                                (573.15, 0.42),\n",
    "                                                (673.15, 0.6),\n",
    "                                                (773.15, 0.76),\n",
    "                                                (873.15, 0.88),\n",
    "                                                (973.15, 0.95)))]\n",
    "\n",
    "print boiling_points, cum_fractions\n",
    "\n",
    "t_min = boiling_points[0] - cum_fractions[0] * ((boiling_points[1] - boiling_points[0]) /\n",
    "                                                (cum_fractions[1] - cum_fractions[0]))\n",
    "\n",
    "t_max = (boiling_points[-1] +\n",
    "         (1. - cum_fractions[-1]) *\n",
    "         ((boiling_points[-1] - boiling_points[0]) /\n",
    "          (cum_fractions[-1] - cum_fractions[0]))\n",
    "         )\n",
    "\n",
    "print '(t_min, t_max) = ', (t_min, t_max)"
   ]
  },
  {
   "cell_type": "markdown",
   "metadata": {},
   "source": [
    "Ok, that's not too bad.  We might be able to work with that.<br>\n",
    "But just for fun, let's try out a least squares (or some kind of) optimization."
   ]
  },
  {
   "cell_type": "code",
   "execution_count": 93,
   "metadata": {
    "collapsed": false
   },
   "outputs": [
    {
     "name": "stdout",
     "output_type": "stream",
     "text": [
      "j = 1.00000013943, k = 3.40672469007, lamb = 6.73589894114\n"
     ]
    },
    {
     "data": {
      "text/plain": [
       "<matplotlib.legend.Legend at 0x11bcfd550>"
      ]
     },
     "execution_count": 93,
     "metadata": {},
     "output_type": "execute_result"
    },
    {
     "data": {
      "image/png": "[encoded data removed]",
      "text/plain": [
       "<matplotlib.figure.Figure at 0x11cb1cd10>"
      ]
     },
     "metadata": {},
     "output_type": "display_data"
    }
   ],
   "source": [
    "from scipy.optimize import curve_fit\n",
    "\n",
    "plt.figure(1, figsize=(12,6))\n",
    "plt.subplot(111)\n",
    "\n",
    "plt.plot(boiling_points, cum_fractions, '.b', label=\"Cut Fractions\")\n",
    "\n",
    "plt.xlabel(r'$T_i$')\n",
    "plt.ylabel('% Evap')\n",
    "plt.grid()\n",
    "\n",
    "#def func(x, a, b, c, d):\n",
    "#    return a*x**3 + b*x**2 +c*x + d\n",
    "def func(x, j, k, lamb):\n",
    "    # intuitively, our cut fractions seem to approximate\n",
    "    # a similar shape as a cumulative distribution function.\n",
    "    return (1.0 - j ** (-1.0 * (x / lamb) ** k))\n",
    "\n",
    "\"\"\"\n",
    "make the curve_fit\n",
    "\"\"\"\n",
    "popt, pcov = curve_fit(func, boiling_points, cum_fractions)\n",
    "print \"j = {}, k = {}, lamb = {}\".format(*popt)\n",
    "plt.title(r'$f(T_i)= '\n",
    "          '1 - {0}^{{-(T_i / {2})^{{{1}}} }} + '\n",
    "          '$'.format(*popt),\n",
    "          fontsize=18)\n",
    "\n",
    "# now plot our curve with a bunch of boiling points from 273K to 1015K\n",
    "new_bps = np.linspace(100., 1200., 100)\n",
    "plt.plot(new_bps, func(new_bps, *popt), '-r', label=\"Fitted Curve\")\n",
    "\n",
    "plt.legend(loc='upper left')\n"
   ]
  },
  {
   "cell_type": "markdown",
   "metadata": {},
   "source": [
    "Alright, our oil record has a reasonably large number of samples, and our function fits the data pretty closely.<br>\n",
    "Of course that does not mean it will work for every oil, particularly the oils that have a sparse number of cuts.  But I think this is promising."
   ]
  },
  {
   "cell_type": "markdown",
   "metadata": {},
   "source": [
    "So if we imagine our function approximating $(1 - j^{-(x / \\lambda)^k})$ resulting in a set of values in the range\n",
    "$\\{ 0 < f < 1 \\, | \\,\\, f \\in \\Bbb R \\}$, then we can also imagine an inverse function, similar to the quantile function.  This function should be able to determine the temperatures at which we approach 0% and 100% mass fractions.<br>\n",
    "Here is the form this function might take:"
   ]
  },
  {
   "cell_type": "markdown",
   "metadata": {},
   "source": [
    "$$\n",
    "\\begin{align}\n",
    "T(f_i; j, k, \\lambda) &= \\lambda (-log_j(1 - f_i))^{1/k}\n",
    "\\end{align}\n",
    "$$"
   ]
  },
  {
   "cell_type": "markdown",
   "metadata": {},
   "source": [
    "Let's try it out..."
   ]
  },
  {
   "cell_type": "code",
   "execution_count": 139,
   "metadata": {
    "collapsed": false
   },
   "outputs": [
    {
     "name": "stdout",
     "output_type": "stream",
     "text": [
      "j = 1.00000013943, k = 3.40672469007, lamb = 6.73589894114\n"
     ]
    },
    {
     "data": {
      "text/plain": [
       "<matplotlib.legend.Legend at 0x123d9fe10>"
      ]
     },
     "execution_count": 139,
     "metadata": {},
     "output_type": "execute_result"
    },
    {
     "data": {
      "image/png": "[encoded data removed]",
      "text/plain": [
       "<matplotlib.figure.Figure at 0x123026190>"
      ]
     },
     "metadata": {},
     "output_type": "display_data"
    }
   ],
   "source": [
    "def func(x, j, k, lamb):\n",
    "    # intuitively, our cut fractions seem to approximate\n",
    "    # a similar shape as a cumulative distribution function.\n",
    "    return (1.0 - j ** (-1.0 * (x / lamb) ** k))\n",
    "\n",
    "def quant(f, j, k, lamb):\n",
    "    # inverse to our cut fraction function\n",
    "    # (note: numpy has no direct log_n function so we need to use the rule\n",
    "    #        log_n(x) = log(x) / log(n))\n",
    "    return (lamb *\n",
    "            (-1.0 * (np.log(1.0 - f) / np.log(j))) ** (1.0 / k))\n",
    "\n",
    "\"\"\"\n",
    "make the curve_fit\n",
    "\"\"\"\n",
    "popt, pcov = curve_fit(func, boiling_points, cum_fractions)\n",
    "print \"j = {}, k = {}, lamb = {}\".format(*popt)\n",
    "\n",
    "plt.figure(1, figsize=(12,6))\n",
    "plt.subplot(111)\n",
    "\n",
    "plt.plot(cum_fractions, boiling_points, '.b', label=\"Boiling_points\")\n",
    "\n",
    "plt.xlabel('% Evap')\n",
    "plt.ylabel(r'$T_i$')\n",
    "plt.grid()\n",
    "\n",
    "plt.title(r'$Q(f_i)= '\n",
    "          '{2} (-log_{{{0}}}(1 - f_i))^{{(1 / {1} )}} '\n",
    "          '$'.format(*popt),\n",
    "          fontsize=18)\n",
    "\n",
    "# now plot our curve with a bunch of boiling points from 273K to 1015K\n",
    "new_fracs = np.linspace(0.0001, 0.9999, 100)\n",
    "plt.plot(new_fracs, quant(new_fracs, *popt), '-r', label=\"Fitted Curve\")\n",
    "plt.plot([new_fracs[i] for i in [0, -1]],\n",
    "         [quant(new_fracs[i], *popt) for i in [0, -1]],\n",
    "         'xb', label=\"(min, max)\")\n",
    "\n",
    "plt.annotate('({:.4f}, {:.4f})'.format(0.0001, quant(0.0001, *popt)),\n",
    "             xy=(0.0001, quant(0.0001, *popt)),\n",
    "             xytext=(20,0), textcoords='offset points')\n",
    "plt.annotate('({:.4f}, {:.4f})'.format(0.9999, quant(0.9999, *popt)),\n",
    "             xy=(0.9999, quant(0.9999, *popt)),\n",
    "             xytext=(-110,0), textcoords='offset points')\n",
    "\n",
    "plt.legend(loc='upper left')\n"
   ]
  },
  {
   "cell_type": "markdown",
   "metadata": {},
   "source": [
    "Ok, $T_{max}$ seems pretty reasonable; although a bit higher than with the simple interpolation.<br>\n",
    "$T_{min}$ seems a bit low however.  $46^\\circ K$ is very, very cold.<br><br>\n",
    "I dunno, I think I will show this to Bill & Robert to see if they like this at all."
   ]
  },
  {
   "cell_type": "markdown",
   "metadata": {},
   "source": [
    "### <center>(End JLM Comments) </center>"
   ]
  },
  {
   "cell_type": "markdown",
   "metadata": {},
   "source": [
    "### Data Condition 2: distillation data not available (crudes only)"
   ]
  },
  {
   "cell_type": "markdown",
   "metadata": {},
   "source": [
    "Inputs:\n",
    "<ul>\n",
    "<li>API or density</li>\n",
    "</ul>"
   ]
  },
  {
   "cell_type": "markdown",
   "metadata": {},
   "source": [
    "As a first order approximation, $T_0$ and $dT \\over df$ are based on the API from an empirical correlation using all the DOE oils in Adios:"
   ]
  },
  {
   "cell_type": "markdown",
   "metadata": {},
   "source": [
    "$$\n",
    "\\begin{align}\n",
    "T_0 &= 457.16 - 3.3447 \\cdot API \\cr\n",
    "{dT \\over df} &= 1356.7 - 247.36 \\cdot \\ln(API) \\cr\n",
    "\\end{align}\n",
    "$$"
   ]
  },
  {
   "cell_type": "markdown",
   "metadata": {},
   "source": [
    "The constants used above are based on average properties of oils in the Adios library."
   ]
  },
  {
   "cell_type": "markdown",
   "metadata": {},
   "source": [
    "5 PCs initially of equal mass are constructed and their boiling points $(BP_i)$ are determined using $T_0$ and $dT \\over df$:"
   ]
  },
  {
   "cell_type": "markdown",
   "metadata": {},
   "source": [
    "$$\n",
    "\\begin{align}\n",
    "BP_i &= T_0 + {(i - {1 \\over 2}) \\over 5} \\cdot {dT \\over df}\\cr\n",
    "\\end{align}\n",
    "$$"
   ]
  },
  {
   "cell_type": "markdown",
   "metadata": {},
   "source": [
    "And the cumulative fraction of each PC is found using:"
   ]
  },
  {
   "cell_type": "markdown",
   "metadata": {},
   "source": [
    "$$\n",
    "\\begin{align}\n",
    "f_i &= {i \\over 5} \\cr\n",
    "\\end{align}\n",
    "$$"
   ]
  },
  {
   "cell_type": "markdown",
   "metadata": {},
   "source": [
    "<i>Note: For refined products, I suggest that we link products in the database so when a user chooses a product, we jump to a product for which data exists and notify the user.  In this way we will have no refined products without distillation data.</i>"
   ]
  },
  {
   "cell_type": "markdown",
   "metadata": {},
   "source": [
    "### <center>(JLM Comments) </center>"
   ]
  },
  {
   "cell_type": "markdown",
   "metadata": {},
   "source": [
    "First, let's work out $T_0$, $dT \\over df$, $BP_i$, and $f_i$:"
   ]
  },
  {
   "cell_type": "code",
   "execution_count": 142,
   "metadata": {
    "collapsed": true
   },
   "outputs": [],
   "source": [
    "def t_min(api):\n",
    "    return 457.16 - 3.3447 * api\n",
    "\n",
    "def delta_t_f(api):\n",
    "    return 1356.7 - 247.36 * np.log(api)\n",
    "\n",
    "def boiling_point(i, t_min, delta_t_f):\n",
    "    return t_min + ((i - 1. / 2.) / 5.) * delta_t_f\n",
    "\n",
    "def cum_fraction(i):\n",
    "    return i / 5."
   ]
  },
  {
   "cell_type": "markdown",
   "metadata": {},
   "source": [
    "Ok, let's compare our calculated cuts to a record for which the cuts are known (AK North Slope, as before)"
   ]
  },
  {
   "cell_type": "code",
   "execution_count": 164,
   "metadata": {
    "collapsed": false
   },
   "outputs": [],
   "source": [
    "akns_api = 29.9  # this is the API for AK North Slope (Middle Pipeline)\n",
    "\n",
    "t_0 = t_min(akns_api)\n",
    "dtf = delta_t_f(akns_api)\n",
    "\n",
    "api_boiling_points, api_cum_fractions = [np.array(l)\n",
    "                                         for l in zip(*[(boiling_point(i, t_0, dtf),\n",
    "                                                         cum_fraction(i))\n",
    "                                                        for i in range(1, 6) ])]\n"
   ]
  },
  {
   "cell_type": "code",
   "execution_count": 165,
   "metadata": {
    "collapsed": false
   },
   "outputs": [
    {
     "data": {
      "text/plain": [
       "<matplotlib.legend.Legend at 0x1266c8b90>"
      ]
     },
     "execution_count": 165,
     "metadata": {},
     "output_type": "execute_result"
    },
    {
     "data": {
      "image/png": "[encoded data removed]",
      "text/plain": [
       "<matplotlib.figure.Figure at 0x1264fd610>"
      ]
     },
     "metadata": {},
     "output_type": "display_data"
    }
   ],
   "source": [
    "plt.figure(1, figsize=(12,6))\n",
    "plt.subplot(111)\n",
    "\n",
    "plt.plot(boiling_points, cum_fractions, 'bo', label=\"Measured Cut Fractions\")\n",
    "plt.plot(boiling_points, cum_fractions, 'b-')\n",
    "plt.plot(api_boiling_points, api_cum_fractions, 'ro', label=\"Cut Fractions Estimated from API\")\n",
    "plt.plot(api_boiling_points, api_cum_fractions, 'r-')\n",
    "\n",
    "plt.xlabel(r'$T_i$')\n",
    "plt.ylabel('% Evap')\n",
    "plt.grid()\n",
    "\n",
    "plt.legend(loc='upper left')\n"
   ]
  },
  {
   "cell_type": "markdown",
   "metadata": {},
   "source": [
    "Well, I suppose this estimation is not too far off considering we are choosing constants based on the average of all oils in our database.  It would be interesting to make this comparison for all oils that contain distillation cuts."
   ]
  },
  {
   "cell_type": "markdown",
   "metadata": {},
   "source": [
    "### <center>(End JLM Comments) </center>"
   ]
  },
  {
   "cell_type": "markdown",
   "metadata": {},
   "source": [
    "### Properties of PCs for data conditions 1 & 2:"
   ]
  },
  {
   "cell_type": "markdown",
   "metadata": {},
   "source": [
    "Each PC generated through the above data conditions is split into two sub-components, which are themselves PCs representing saturates and aromatics at a given boiling point $(PC_s \\text{ and } PC_a)$.  The vapor pressure of each PC is based on Antoine's equation as discussed by Lyman et al."
   ]
  },
  {
   "cell_type": "markdown",
   "metadata": {},
   "source": [
    "$$\n",
    "\\begin{align}\n",
    "P_i &= \\text{the PC vapor pressure } (Pa) \\cr\n",
    "P^0 &= \\text{atmospheric pressure } (Pa) \\cr\n",
    "BP_i &= \\text{the PC boiling point} \\cr\n",
    "C_{2,i} &= 0.19 \\cdot BP_i - 18 = \\text{???} \\cr\n",
    "\\Delta S_i &= 8.75 + 1.987 log(BP_i) = \\text{???} \\cr\n",
    "\\Delta Z_b &= 0.97 = \\text{???} \\cr\n",
    "R_{cal} &= 1.987 = \\text{???} \\cr\n",
    "T_{water} &= \\text{ambient water temperature} (K) \\cr\n",
    "\\cr\n",
    "ln {P_i \\over P^0} &= {\\Delta S_i (BP_i - C_{2,i})^2 \\over \\Delta Z_b R_{cal} BP_i} \\left[{1 \\over BP_i - C_{2,i}} - {1 \\over T_{water} - C_{2,i}} \\right] \\cr\n",
    "\\end{align}\n",
    "$$"
   ]
  },
  {
   "cell_type": "markdown",
   "metadata": {},
   "source": [
    "The effective molecular weight of each pseudo-component is based on correlations for alkanes (saturates) and aromatic compounds."
   ]
  },
  {
   "cell_type": "markdown",
   "metadata": {},
   "source": [
    "$$\n",
    "\\begin{align}\n",
    "mw_i^S &= 0.04132 - (1.985 \\cdot 10^{-4} \\cdot BP_i) + (9.494 \\cdot 10^{-7} \\cdot (BP_i)^2) \\cr\n",
    "mw_i^A &= E - (F \\cdot BP_i) + (G \\cdot (BP_i)^2) \\cr\n",
    "\\end{align}\n",
    "$$"
   ]
  },
  {
   "cell_type": "markdown",
   "metadata": {},
   "source": [
    "Where the constants E, F, and G are based on a correlation <b><u>to be determined</u></b>."
   ]
  },
  {
   "cell_type": "markdown",
   "metadata": {},
   "source": [
    "### <center>(JLM Comments) </center>"
   ]
  },
  {
   "cell_type": "markdown",
   "metadata": {},
   "source": [
    "Ok, this section does not seem to be very well defined at all, and in fact seems incomplete.  I am not sure I can do anything with this until we can fill in some of the blanks.<br>\n",
    "However we are currently calculating the molecular weights in the oil library based on the following equations based on Bills oil property estimation document:"
   ]
  },
  {
   "cell_type": "markdown",
   "metadata": {},
   "source": [
    "$$\n",
    "\\begin{align}\n",
    "mw_i^S &= 49.7 \\cdot (6.983 - ln(1070 - BP_i))^{3/2} \\cr\n",
    "mw_i^A &= 44.5 \\cdot (6.91 - ln(1015 - BP_i))^{3/2} \\cr\n",
    "\\end{align}\n",
    "$$"
   ]
  },
  {
   "cell_type": "markdown",
   "metadata": {},
   "source": [
    "### <center>(End JLM Comments) </center>"
   ]
  },
  {
   "cell_type": "markdown",
   "metadata": {},
   "source": [
    "## <u>Calculating Evaporation</u>"
   ]
  },
  {
   "cell_type": "markdown",
   "metadata": {
    "collapsed": true
   },
   "source": [
    "Evaporation of saturate and aromatic PCs is found from the solution of coupled simple differential equations:"
   ]
  },
  {
   "cell_type": "markdown",
   "metadata": {},
   "source": [
    "$$\n",
    "\\begin{align}\n",
    "f_w &= \\text{the fractional water content in the emulsion} \\cr\n",
    "V_{LE} &= \\text{the volume of the LE???} \\cr\n",
    "K_i &= \\text{the PC mass transport coefficient} (m / s) \\cr\n",
    "m_i &= \\text{the PC mass} (kg) \\cr\n",
    "mw_i &= \\text{the PC molecular weight} (kg / mole) \\cr\n",
    "P_i &= \\text{the PC vapor pressure} (Pa) \\cr\n",
    "\\zeta &= \\text{the thickness of the LE???} \\cr\n",
    "R &= \\text{gas constant} = 8.3144 J/K, mole \\cr\n",
    "T_{water} &= \\text{ambient water temperature} (K) \\cr\n",
    "\\cr\n",
    "{dm_i \\over dt} &= -(1 - f_w) {V_{LE} K_i mw_i P_i \\over \\zeta RT_{water}} \\left[{m_i / mw_i \\over \\sum{m_i / mw_i}}\\right] \\cr\n",
    "\\end{align}\n",
    "$$"
   ]
  },
  {
   "cell_type": "markdown",
   "metadata": {},
   "source": [
    "The form of the mass transport coefficient is now defined by Bill.  Earlier I thought it could be proportional to a power series in wind speed based on the work of Wanninkhof, but no longer feel confident in that.<br>\n",
    "I think the form can be expressed as an undefined function of wind speed (Bill has proposed a functional dependence)."
   ]
  },
  {
   "cell_type": "markdown",
   "metadata": {},
   "source": [
    "$$\n",
    "\\begin{align}\n",
    "\\beta &= 0.0048 = \\text{a constant} \\cr\n",
    "Sc_i &= \\text{the PC Schmidt number (0.6 for water)} \\cr\n",
    "D &= \\text{the along-wind pool diameter (set to 1m)} \\cr\n",
    "U &= \\text{wind speed at 10 meters (m/sec)} \\cr\n",
    "\\cr\n",
    "K_i &= \\beta \\cdot Sc_i^{-2/3} \\cdot D^{-1/9} \\cdot f(U) \\cr\n",
    "\\end{align}\n",
    "$$"
   ]
  },
  {
   "cell_type": "markdown",
   "metadata": {},
   "source": [
    "The Schmidt number can be estimated from the molecular weight and the Schmidt number for water is found by:"
   ]
  },
  {
   "cell_type": "markdown",
   "metadata": {},
   "source": [
    "$$\n",
    "\\begin{align}\n",
    "Sc_i = 0.6 \\cdot \\root \\of {mw_i \\over mw_{water}} \\cr\n",
    "\\end{align}\n",
    "$$"
   ]
  },
  {
   "cell_type": "markdown",
   "metadata": {},
   "source": [
    "Output:<br>\n",
    "A CSV file with (mass / sum(mass))s, and mass fraction evaporated for every hour of spill."
   ]
  },
  {
   "cell_type": "markdown",
   "metadata": {},
   "source": [
    "Notation:<br>\n",
    "<i>The following notation is used in this summary:</i>"
   ]
  },
  {
   "cell_type": "markdown",
   "metadata": {},
   "source": [
    "$$\n",
    "\\begin{align}\n",
    "A &= \\text{surface area of the spill} (m^2) \\cr\n",
    "BP_i &= \\text{the boiling point of the } i_{th} \\text{ pseudo component} (K) \\cr\n",
    "f_i &= \\text{the cumulative mass fraction of oil distilled} \\cr\n",
    "K_i &= \\text{the reference mass transport coefficient} (m / s) \\cr\n",
    "m_i &= \\text{the mass component i in the slick} (kg) \\cr\n",
    "mw_i &= \\text{the molecular weight of component i} (kg / mole) \\cr\n",
    "P &= \\text{the vapor pressure of the oil as a function of time} (Pa) \\cr\n",
    "P_i &= \\text{the vapor pressure of pseudo component i} (Pa) \\cr\n",
    "P_0 &= \\text{atmospheric pressure} (Pa) \\cr\n",
    "R &= \\text{gas constant} = 8.3144 J/K, mole \\cr\n",
    "T_{water} &= \\text{ambient water temperature} (K) \\cr\n",
    "T_i &= \\text{measured temperature of distillate} (K) \\cr\n",
    "t &= \\text{time since release} (s) \\cr\n",
    "U &= \\text{wind speed at 10m elevation above slick} (m / s) \\cr\n",
    "\\end{align}\n",
    "$$"
   ]
  },
  {
   "cell_type": "markdown",
   "metadata": {},
   "source": [
    "### Notes"
   ]
  },
  {
   "cell_type": "markdown",
   "metadata": {},
   "source": [
    "Some constants need to be evaluated yet.<br>\n",
    "Payne used the density of the cuts to refine the correlations for vapor pressure and molecular weight (referring back to a 109944 publication by Gamson and Watson).  Since we don't anticipate having density of cuts, it is not useful."
   ]
  },
  {
   "cell_type": "markdown",
   "metadata": {},
   "source": [
    "A suggested further study would be to examine the effects of Fickian diffusion within the oil phase.  To diffuse or not to diffuse."
   ]
  },
  {
   "cell_type": "markdown",
   "metadata": {},
   "source": [
    "Pros:<br>\n",
    "<ul>\n",
    "    <li>Low hanging fruit: well defined problem, level of effort is moderate and can be assessed.</li>\n",
    "    <li>Bragging rights included.</li>\n",
    "    <li>It's fun.</li>\n",
    "</ul>\n",
    "Cons:<br>\n",
    "<ul>\n",
    "    <li>Best theory reproduces and predicts observations.  No observations=very simple theory.  There is no need.</li>\n",
    "    <li>No one is complaining.</li>\n",
    "    <li>We are state of the art right now.</li>\n",
    "</ul>\n",
    "Unknowns:<br>\n",
    "<ul>\n",
    "    <li>Does it fit in the schedule? (TBD)</li>\n",
    "</ul>\n"
   ]
  },
  {
   "cell_type": "markdown",
   "metadata": {},
   "source": [
    "My feeling is that there are lots of things broken in Adios, and things that could be improved in the way we do weathering.  Some might be too difficult to take on, others are worth taking a whack at, or at least learning enough to know whether they are tractable problems:\n",
    "<ul>\n",
    "    <li>Photo-oxidation</li>\n",
    "    <li>Database design, diesels, standard oils</li>\n",
    "    <li>Observational methods for emulsions</li>\n",
    "</ul>\n"
   ]
  },
  {
   "cell_type": "markdown",
   "metadata": {},
   "source": [
    "Bill sent me one of Merv's manuscripts with some references.  There are a couple other papers that Merv references that might shed some light on the problem of evaporation: references 28 and 29 deal with photo-oxidation.  Fig. 14 shows evaporation of stirred and non-stirred oil where the oil visibly skinned over.  Not an enormous difference but I don't know the thickness without digging up references, and even then might not know because it was just an AMOP presentation."
   ]
  },
  {
   "cell_type": "markdown",
   "metadata": {},
   "source": [
    "Evaporation at sea might be quite complicated.  The level of acceptable uncertainty has not been established so we have no design criteria.<br>\n",
    "Operationally, our very simple models seem to be just fine.  The stirred vs. non-stirred experiments might give us some insight into how far off we might be, but it is not definitive."
   ]
  },
  {
   "cell_type": "markdown",
   "metadata": {},
   "source": [
    "<u>July 9, 2014</u><br>\n",
    "Evan Variano from Berkeley talked to us about the effects of waves and sea spray on evaporation.  He suggested that the mass transfer coefficient is proportional to the square of the wind speed and left some papers."
   ]
  },
  {
   "cell_type": "markdown",
   "metadata": {},
   "source": [
    "Ho's paper \"assumes\" quadratic wind speed dependence.  And the lowest wind speed measured was 7 m/s.<br>\n",
    "The review by Wanninkhof is more interesting.  He says the data fit a 3rd order polynomial, and suggests that there is a positive intercept, but below 8 m/s the cubic term is insignificant."
   ]
  },
  {
   "cell_type": "markdown",
   "metadata": {},
   "source": [
    "I'm thinking the best way to do this is to have the mass transfer coefficient proportional to $a + bU +cU^2$.  That leaves 3 parameters to find if we buy the non-zero intercept argument."
   ]
  },
  {
   "cell_type": "markdown",
   "metadata": {},
   "source": [
    "Mackay and Matsugu (1973) is where we got our formula for mass transfer coefficient for Adios2.  The exponent was based on earlier literature, and they did not specify the wind speed since it occurred over several days on the roof of their building."
   ]
  },
  {
   "cell_type": "markdown",
   "metadata": {},
   "source": [
    "I guess Brighton is the next place to look."
   ]
  },
  {
   "cell_type": "code",
   "execution_count": null,
   "metadata": {
    "collapsed": true
   },
   "outputs": [],
   "source": []
  }
 ],
 "metadata": {
  "kernelspec": {
   "display_name": "Python 2",
   "language": "python",
   "name": "python2"
  },
  "language_info": {
   "codemirror_mode": {
    "name": "ipython",
    "version": 2
   },
   "file_extension": ".py",
   "mimetype": "text/x-python",
   "name": "python",
   "nbconvert_exporter": "python",
   "pygments_lexer": "ipython2",
   "version": "2.7.11"
  }
 },
 "nbformat": 4,
 "nbformat_minor": 0
}
