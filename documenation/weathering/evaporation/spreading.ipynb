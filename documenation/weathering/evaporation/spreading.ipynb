{
 "metadata": {
  "name": ""
 },
 "nbformat": 3,
 "nbformat_minor": 0,
 "worksheets": [
  {
   "cells": [
    {
     "cell_type": "code",
     "collapsed": false,
     "input": [
      "%pylab inline\n",
      "from datetime import timedelta, datetime\n",
      "from gnome.model import Model\n",
      "from gnome.spill import point_line_release_spill\n",
      "from gnome.environment import constant_wind, Water, Wind\n",
      "from gnome.weatherers import (Evaporation,\n",
      "                              Langmuir,\n",
      "                              WeatheringData)\n",
      "from gnome.outputters import WeatheringOutput"
     ],
     "language": "python",
     "metadata": {},
     "outputs": [
      {
       "output_type": "stream",
       "stream": "stdout",
       "text": [
        "Populating the interactive namespace from numpy and matplotlib\n"
       ]
      }
     ],
     "prompt_number": 1
    },
    {
     "cell_type": "code",
     "collapsed": false,
     "input": [
      "amount = 36.  # in 'kg'\n",
      "\n",
      "def setup_test(delay, num_les):\n",
      "    stime = datetime(2015, 1, 1, 12, 0)\n",
      "    etime = stime + delay\n",
      "    st_pos = (0, 0, 0)\n",
      "    oil = u'ALASKA NORTH SLOPE (MIDDLE PIPELINE)'\n",
      "    ts = 3600.\n",
      "\n",
      "    m1 = Model(start_time=stime, time_step=ts)\n",
      "    m1.environment += constant_wind(5, 0)\n",
      "    m1.water = Water()\n",
      "    m1.weatherers += [Evaporation(m1.water, m1.environment[0])]\n",
      "    m1.spills += point_line_release_spill(num_les[0], st_pos, stime,\n",
      "                                          end_release_time=etime,\n",
      "                                          substance=oil,\n",
      "                                          amount=amount, units='kg')\n",
      "    m1.outputters += WeatheringOutput()\n",
      "\n",
      "    m2 = Model(start_time=stime, time_step=ts)\n",
      "    m2.environment += constant_wind(5, 0)\n",
      "    m2.water = Water()\n",
      "    m2.weatherers += [Langmuir(m2.water, m2.environment[0]),\n",
      "                      Evaporation(m2.water, m2.environment[0])]\n",
      "    m2.spills += point_line_release_spill(num_les[1], st_pos, stime,\n",
      "                                          end_release_time=etime,\n",
      "                                          substance=oil,\n",
      "                                          amount=amount, units='kg')\n",
      "    m2.outputters += WeatheringOutput()\n",
      "    return (m1, m2)"
     ],
     "language": "python",
     "metadata": {},
     "outputs": [],
     "prompt_number": 2
    },
    {
     "cell_type": "code",
     "collapsed": false,
     "input": [
      "(m1, m2) = setup_test(timedelta(0), (1, 1))\n",
      "m1.duration = timedelta(days=3)\n",
      "m2.duration = timedelta(days=3)\n",
      "#print m1 == m2"
     ],
     "language": "python",
     "metadata": {},
     "outputs": [],
     "prompt_number": 3
    },
    {
     "cell_type": "code",
     "collapsed": false,
     "input": [
      "t1 = np.zeros(m1.num_time_steps, dtype=np.float64)\n",
      "evap1 = np.zeros(m1.num_time_steps, dtype=np.float64)\n",
      "fay_area1 = np.zeros(m1.num_time_steps, dtype=np.float64)\n",
      "area1 = np.zeros(m1.num_time_steps, dtype=np.float64)\n",
      "\n",
      "m1.rewind()\n",
      "sc1 = m1.spills.items()[0]\n",
      "\n",
      "for ix in xrange(m1.num_time_steps):\n",
      "    w1 = m1.step()['WeatheringOutput']\n",
      "\n",
      "    t1[ix] = (m1.model_time - m1.start_time).total_seconds()\n",
      "    evap1[ix] = w1['evaporated']\n",
      "    fay_area1[ix] = np.mean(sc1['fay_area'])\n",
      "    area1[ix] = np.mean(sc1['area'])"
     ],
     "language": "python",
     "metadata": {},
     "outputs": [],
     "prompt_number": 4
    },
    {
     "cell_type": "code",
     "collapsed": false,
     "input": [
      "t2 = np.zeros(m2.num_time_steps, dtype=np.float64)\n",
      "evap2 = np.zeros(m2.num_time_steps, dtype=np.float64)\n",
      "fay_area2 = np.zeros(m2.num_time_steps, dtype=np.float64)\n",
      "area2 = np.zeros(m2.num_time_steps, dtype=np.float64)\n",
      "\n",
      "m2.rewind()\n",
      "sc2 = m2.spills.items()[0]\n",
      "\n",
      "for ix in xrange(m2.num_time_steps):\n",
      "    w2 = m2.step()['WeatheringOutput']\n",
      "\n",
      "    t2[ix] = (m2.model_time - m2.start_time).total_seconds()\n",
      "    evap2[ix] = w2['evaporated']\n",
      "    fay_area2[ix] = np.mean(sc2['fay_area'])\n",
      "    area2[ix] = np.mean(sc2['area'])"
     ],
     "language": "python",
     "metadata": {},
     "outputs": [],
     "prompt_number": 5
    },
    {
     "cell_type": "code",
     "collapsed": false,
     "input": [
      "w_kvis = m1.water.get('kinematic_viscosity')\n",
      "rel_b = m1._weathering_data._init_relative_buoyancy\n",
      "t_max = m1._weathering_data.spreading._time_to_reach_max_area(w_kvis,\n",
      "                                                              rel_b,\n",
      "                                                              sc1['bulk_init_volume'][0])\n",
      "print t_max/3600.0/24.0"
     ],
     "language": "python",
     "metadata": {},
     "outputs": [
      {
       "output_type": "stream",
       "stream": "stdout",
       "text": [
        "1.37920484078\n"
       ]
      }
     ],
     "prompt_number": 6
    },
    {
     "cell_type": "code",
     "collapsed": false,
     "input": [
      "plt.figure()\n",
      "plt.cla()\n",
      "plt.plot(t1/3600., evap1/amount * 100, '.b',\n",
      "         t2/3600., evap2/amount * 100, '.r')\n",
      "plt.xlabel('time [hours]'); plt.ylabel('% Evap')\n",
      "\n",
      "plt.grid()\n",
      "\n",
      "plt.figure()\n",
      "plt.cla()\n",
      "plt.plot(t2/3600., fay_area2, '.b', t2/3600., area2, '.r')\n",
      "plt.xlabel('time [hours]'); plt.ylabel('$m^2$')\n",
      "plt.grid()"
     ],
     "language": "python",
     "metadata": {},
     "outputs": [
      {
       "metadata": {},
       "output_type": "display_data",
       "png": "[encoded data removed]",
       "text": [
        "<matplotlib.figure.Figure at 0x10a4443d0>"
       ]
      },
      {
       "metadata": {},
       "output_type": "display_data",
       "png": "[encoded data removed]",
       "text": [
        "<matplotlib.figure.Figure at 0x10a453410>"
       ]
      }
     ],
     "prompt_number": 7
    },
    {
     "cell_type": "code",
     "collapsed": false,
     "input": [],
     "language": "python",
     "metadata": {},
     "outputs": [],
     "prompt_number": 7
    }
   ],
   "metadata": {}
  }
 ]
}