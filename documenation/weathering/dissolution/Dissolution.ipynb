{
 "metadata": {
  "name": "",
  "signature": "sha256:c939167ed18b974b4173774500f0da1c17ef3693070104784da1816a1561106b"
 },
 "nbformat": 3,
 "nbformat_minor": 0,
 "worksheets": [
  {
   "cells": [
    {
     "cell_type": "heading",
     "level": 1,
     "metadata": {},
     "source": [
      "<center>Dissolution</center>"
     ]
    },
    {
     "cell_type": "heading",
     "level": 3,
     "metadata": {},
     "source": [
      "<center>\n",
      "    From Bill's dissolution algorithm document<br>\n",
      "    August 2015\n",
      "</center>"
     ]
    },
    {
     "cell_type": "heading",
     "level": 2,
     "metadata": {},
     "source": [
      "<u>Summary</u>"
     ]
    },
    {
     "cell_type": "markdown",
     "metadata": {},
     "source": [
      "ADIOS3 replaces the ADIOS2 formulas by an expanded version of the new SOLUTE-SINK or BM model of LSU<br>\n",
      "(Thibodeaux and Overton, 2014; Stevens, 2013; Stevens et al 2015)<br>\n",
      "The BM model separates the spilled oil into volumes that will dissolve and volumes that will not dissolve."
     ]
    },
    {
     "cell_type": "markdown",
     "metadata": {},
     "source": [
      "Based upon Biot number (???), notes from old MacKay papers and discussions with Thibodeaux, practical dissolution is only dependent upon:\n",
      "<ol>\n",
      "    <li>The oil-water surface resistance</li>\n",
      "    <li>Is limited to aromatics</li>\n",
      "    <li>Decreases with increasing carbon number</li>\n",
      "</ol>"
     ]
    },
    {
     "cell_type": "markdown",
     "metadata": {},
     "source": [
      "According to Cohen et al (1980), equation 19, we can estimate mass transfer rate of the soluble component N as:"
     ]
    },
    {
     "cell_type": "markdown",
     "metadata": {},
     "source": [
      "$$\n",
      "\\begin{align}\n",
      "K_{ow} &= \\text{partition coefficient} (C_{oil}/C_w) \\cr\n",
      "C_{oil} &= \\text{saturation concentration in oil} (kg/m^3) \\cr\n",
      "C_w &= \\text{saturation concentration in water} (kg/m^3) \\cr\n",
      "k_w &= \\text{water phase transfer velocity} (m/sec) \\cr\n",
      "\\cr\n",
      "N &= k_w \\cdot C_{oil} / K_{ow} \\cr\n",
      "\\end{align}\n",
      "$$"
     ]
    },
    {
     "cell_type": "markdown",
     "metadata": {},
     "source": [
      "Dissolution may occur from the bottom of the surface slick and from the surface of dispersed oil droplets.\n",
      "If one compares specific saturate hydrocarbons to aromatic hydrocarbons with similar molecular weight,\n",
      "e.g n-octane with mw of 114 and toluene with mw of 92,\n",
      "one finds that the partition coefficient of the saturate is orders of magnitude smaller than that for the weight equivalent aromatic;\n",
      "$ 10^{-6} $ for n-octane versus $ 10^{-3} $ for toluene.<br>\n",
      "Therefore, ADIOS3 treats non-aromatic compounds as essentially insoluble."
     ]
    },
    {
     "cell_type": "markdown",
     "metadata": {},
     "source": [
      "Among aromatics, the partition coefficient decreases with an increase in density.  ADIOS3 combines correlations by Huibers and Katritzky (1998) and Banarjee et al (1980) to estimate the correlation between a specific aromatic hydrocarbon's density and molecular weight with its partition coefficient."
     ]
    },
    {
     "cell_type": "markdown",
     "metadata": {},
     "source": [
      "$$\n",
      "\\begin{align}\n",
      "\\rho_{arom} &= \\text{Aromatic Density} \\cr\n",
      "M_w &= \\text{Molecular Weight} \\cr\n",
      "S &= \\text{Solubility} \\cr\n",
      "\\cr\n",
      "S &= Huibers(\\rho_{arom}, M_w) \\cr\n",
      "K_{ow} &= Banarjee(S) \\cr\n",
      "&= Banarjee(Huibers(\\rho_{arom}, M_w))\n",
      "\\end{align}\n",
      "$$"
     ]
    },
    {
     "cell_type": "markdown",
     "metadata": {},
     "source": [
      "Huibers relates solubility (moles/liter) to molar volume, $ mv $, measured in cubic angstroms.\n",
      "Assuming that molar volume can be expressed as molecular weight, $ molw $, divided by density, $ \\rho $, and using proper mks units for molecular weight $ (kg/kmole) $ and density $ (kg/m^3) $ we get:"
     ]
    },
    {
     "cell_type": "markdown",
     "metadata": {},
     "source": [
      "$$\n",
      "\\begin{align}\n",
      "mv &= \\text{Molar Volume} \\cr\n",
      "\\cr\n",
      "S_w &= \\alpha 10^{-0.038mv} \\cr\n",
      "&= \\alpha \\cdot (10^{-0.038})^{mv} \\cr\n",
      "&= \\alpha \\cdot (e^{-0.087})^{mv} \\cr\n",
      "&= \\alpha \\cdot e^{-0.087mv} \\cr\n",
      "&\\text{and so finally we get...} \\cr\n",
      "&= \\alpha \\cdot exp \\left( -0.087 \\cdot {molw \\over \\rho} \\right) \\cr\n",
      "\\end{align}\n",
      "$$"
     ]
    },
    {
     "cell_type": "markdown",
     "metadata": {},
     "source": [
      "Banarjee relates $ K_{ow} $ (liter/liter???) to $ S_w $ (mole/liter???) as:+ "
     ]
    },
    {
     "cell_type": "markdown",
     "metadata": {},
     "source": [
      "$$\n",
      "\\begin{align}\n",
      "K_{ow} &\\varpropto S_w^{-2/3} \\cr\n",
      "\\end{align}\n",
      "$$"
     ]
    },
    {
     "cell_type": "markdown",
     "metadata": {},
     "source": [
      "And Combining the two equations gives:"
     ]
    },
    {
     "cell_type": "markdown",
     "metadata": {},
     "source": [
      "$$\n",
      "\\begin{align}\n",
      "K_{ow(j)} &= \\left( \\alpha \\cdot e^{-0.087 {molWt_j \\over \\rho_j}} \\right)^{-2/3} \\cr\n",
      "K_{ow(j)} &= A \\cdot e^{{-0.087 \\cdot -2 \\over 3} \\cdot {molWt_j \\over \\rho_j}} \\cr\n",
      "K_{ow(j)} &= A \\cdot e^{0.058 {molWt_j \\over \\rho_j}} \\cr\n",
      "\\end{align}\n",
      "$$"
     ]
    },
    {
     "cell_type": "markdown",
     "metadata": {},
     "source": [
      "ADIOS3 separates the aromatics into distillation cut components.  For any component $ j $, molecular weight and density are part of the ADIOS3 oil property database, usually by approximation from other properties."
     ]
    },
    {
     "cell_type": "markdown",
     "metadata": {},
     "source": [
      "<br><br>\n",
      "Using the measured values of a known aromatic such as toluene, for example, with a molecular weight of 92.1 $ kg/kmole$ , density of 866 $ kg/m^3 $, and $ K_{ow(j)} $ of 1000, the constant $ A $ can be estimated as 994."
     ]
    },
    {
     "cell_type": "code",
     "collapsed": false,
     "input": [
      "import numpy as np\n",
      "mol_wt = 92.1\n",
      "density = 866.0\n",
      "k_ow = 1000.0\n",
      "\n",
      "print 1000 / np.exp(0.058 * mol_wt / density)"
     ],
     "language": "python",
     "metadata": {},
     "outputs": [
      {
       "output_type": "stream",
       "stream": "stdout",
       "text": [
        "993.850625001\n"
       ]
      }
     ],
     "prompt_number": 10
    },
    {
     "cell_type": "markdown",
     "metadata": {},
     "source": [
      "So if we quickly compile the above formula reductions, we get the following:"
     ]
    },
    {
     "cell_type": "code",
     "collapsed": false,
     "input": [
      "class BanarjeeHuibers(object):\n",
      "    @classmethod\n",
      "    def partition_coeff(cls, mol_wt, density):\n",
      "        return 993.85 * exp(0.058 * mol_wt / density)"
     ],
     "language": "python",
     "metadata": {},
     "outputs": [],
     "prompt_number": 11
    },
    {
     "cell_type": "markdown",
     "metadata": {},
     "source": [
      "Given that ADIOS3 will approximate both density and molecular weight from distillation cut temperatures, it makes sense to compute $ K_{ow} $ directly from the distillation cuts."
     ]
    },
    {
     "cell_type": "markdown",
     "metadata": {},
     "source": [
      "Using Riazi (2005), aromatic molecular weight can be approximated from distillation cut temperature $ T_j $ (in Kelvin) as:"
     ]
    },
    {
     "cell_type": "markdown",
     "metadata": {},
     "source": [
      "$$\n",
      "\\begin{align}\n",
      "molWt_j &= 350 \\cdot (6.98 - ln(1070 - T_j))^{3/2}\n",
      "\\end{align}\n",
      "$$"
     ]
    },
    {
     "cell_type": "markdown",
     "metadata": {},
     "source": [
      "and aromatic density $ (kg/m^3) $ as:"
     ]
    },
    {
     "cell_type": "markdown",
     "metadata": {},
     "source": [
      "$$\n",
      "\\begin{align}\n",
      "\\rho_j &= 100 \\cdot T_j^{1/3}\n",
      "\\end{align}\n",
      "$$"
     ]
    },
    {
     "cell_type": "markdown",
     "metadata": {},
     "source": [
      "Setting $ \\lambda_j = {molWt_j \\over \\rho_j} $, the graph of $ \\lambda_j $ over the typical range of distillation cuts looks like the following:"
     ]
    },
    {
     "cell_type": "code",
     "collapsed": false,
     "input": [
      "class Riazi(object):\n",
      "    @classmethod\n",
      "    def mol_wt(cls, temp):\n",
      "        return 350.0 * (6.98 - np.log(1070.0 - temp)) ** (3.0 / 2.0)\n",
      "    \n",
      "    @classmethod\n",
      "    def density(cls, temp):\n",
      "        return 100.0 * temp ** (1.0 / 3.0)\n",
      "    \n",
      "    @classmethod\n",
      "    def lamb(cls, temp):\n",
      "        return cls.mol_wt(temp) / cls.density(temp)\n"
     ],
     "language": "python",
     "metadata": {},
     "outputs": [],
     "prompt_number": 12
    },
    {
     "cell_type": "code",
     "collapsed": false,
     "input": [
      "from pylab import *\n",
      "%matplotlib inline\n",
      "\n",
      "ax = subplot(111)\n",
      "\n",
      "x = np.linspace(300.0, 700.0, 20)\n",
      "y = Riazi.lamb(x)\n",
      "\n",
      "plot(x, y, linewidth=1)\n",
      "\n",
      "figtext(0.3, 0.05, 'distillation cut (in Kelvine)')\n",
      "\n",
      "show()"
     ],
     "language": "python",
     "metadata": {},
     "outputs": [
      {
       "metadata": {},
       "output_type": "display_data",
       "png": "[encoded data removed]",
       "text": [
        "<matplotlib.figure.Figure at 0x108f32c10>"
       ]
      }
     ],
     "prompt_number": 13
    },
    {
     "cell_type": "markdown",
     "metadata": {},
     "source": [
      "and then $ K_{ow} $ then plots as a function of distillation cuts as:"
     ]
    },
    {
     "cell_type": "code",
     "collapsed": false,
     "input": [
      "ax = subplot(111)\n",
      "\n",
      "temps = np.linspace(300.0, 700.0, 20)\n",
      "x = Riazi.lamb(temps)\n",
      "y = BanarjeeHuibers.partition_coeff(Riazi.mol_wt(temps),\n",
      "                                    Riazi.density(temps))\n",
      "\n",
      "plot(x, y, linewidth=1)\n",
      "\n",
      "figtext(0.5, 0.0, 'lambda')\n",
      "figtext(0.0, 0.5, 'Kow')\n",
      "\n",
      "show()"
     ],
     "language": "python",
     "metadata": {},
     "outputs": [
      {
       "metadata": {},
       "output_type": "display_data",
       "png": "[encoded data removed]",
       "text": [
        "<matplotlib.figure.Figure at 0x109270cd0>"
       ]
      }
     ],
     "prompt_number": 14
    },
    {
     "cell_type": "markdown",
     "metadata": {},
     "source": [
      "In order to calculate an overall $ K_{ow} $, it is necessary to do a molar average of the aromatic components.<br>\n",
      "ADIOS3 stores the mass fraction, $ fmass_j $, of each component."
     ]
    },
    {
     "cell_type": "markdown",
     "metadata": {},
     "source": [
      "$$\n",
      "\\begin{align}\n",
      "K_{ow} &= { \\sum\\limits_j {fmass_j \\over molWt_j} \\cdot K_{ow(j)} \\over \\sum\\limits_j {fmass_j \\over molWt_j} }\n",
      "\\end{align}\n",
      "$$"
     ]
    },
    {
     "cell_type": "markdown",
     "metadata": {},
     "source": [
      "and it is convenient to define:"
     ]
    },
    {
     "cell_type": "markdown",
     "metadata": {},
     "source": [
      "$$\n",
      "\\begin{align}\n",
      "\\alpha_j &= { {fmass_j \\over molWt_j} \\over \\sum\\limits_j {fmass_j \\over molWt_j} } \\cr\n",
      "&with... \\cr\n",
      "\\sum\\limits_j \\alpha_j &= 1 \\cr\n",
      "\\end{align}\n",
      "$$"
     ]
    },
    {
     "cell_type": "markdown",
     "metadata": {},
     "source": [
      "The preceding equation can then be written as:"
     ]
    },
    {
     "cell_type": "markdown",
     "metadata": {},
     "source": [
      "$$\n",
      "K_{ow} = \\sum\\limits_j \\alpha_j \\cdot K_{ow(j)}\n",
      "$$"
     ]
    },
    {
     "cell_type": "markdown",
     "metadata": {},
     "source": [
      "The water phase transfer velocity $ k_w $ can be calculated for small buoyant droplets using Stoke's law, assuming steady-state velocity given by: "
     ]
    },
    {
     "cell_type": "markdown",
     "metadata": {},
     "source": [
      "$$\n",
      "\\begin{align}\n",
      "\\Delta_p &= \\text{relative oil-water density difference} \\cr\n",
      "D_{drop} &= \\text{droplet diameter} \\cr\n",
      "A_{drop} &= \\text{droplet surface area} \\cr\n",
      "g &= \\text{acceleration due to gravity} = 9.80665 (m/s^2) \\cr\n",
      "v_w &= \\text{kinematic water viscosity } (m^2/s) \\cr\n",
      "\\cr\n",
      "k_w &= {1 \\over 18\\pi} \\Delta_\\rho \\cdot {g \\cdot A_{drop} \\over v_w} \\cr\n",
      "&= {g \\over 18 \\pi \\cdot v_w} \\cdot \\Delta_\\rho \\cdot A_{drop}  \\cr\n",
      "&\\simeq 1.73 \\cdot 10^5 \\cdot \\Delta_\\rho \\cdot A_{drop} \\cr\n",
      "\\cr\n",
      "&\\text{and if we solve for diameter...} \\cr\n",
      "k_w &= {g \\over 18 \\pi \\cdot v_w} \\cdot \\Delta_\\rho \\cdot A_{drop}  \\cr\n",
      "&= {g \\over 18 \\pi \\cdot v_w} \\cdot \\Delta_\\rho \\cdot 4 \\pi \\left({D_{drop} \\over 2}\\right)^2 \\cr\n",
      "&= {g \\over 4.5 \\cdot v_w} \\cdot \\Delta_\\rho \\cdot \\left({D_{drop} \\over 2}\\right)^2 \\cr\n",
      "\\cr\n",
      "&\\simeq 2.18 \\cdot 10^6 \\cdot \\Delta_\\rho \\cdot \\left({D_{drop} \\over 2}\\right)^2 \\cr\n",
      "\\end{align}\n",
      "$$"
     ]
    },
    {
     "cell_type": "markdown",
     "metadata": {},
     "source": [
      "Kinematic water viscosity $ v_w \\simeq 1 $ centistoke at $ 20^\\circ$C ($293^\\circ$K, $68^\\circ$F)."
     ]
    },
    {
     "cell_type": "markdown",
     "metadata": {},
     "source": [
      "(<b>Note</b>: kinematic water viscosity actually ranges from about 0.8 to 1.7 cSt over a temperature range of $0^\\circ$ to $30^\\circ$ C.  This changes the numeric coefficient above from a range of 2.16e5 to 1.15e5.  This could be a problem as the range is significant.)<br>\n",
      "Ref:<br>\n",
      "http://www.engineeringtoolbox.com/water-dynamic-kinematic-viscosity-d_596.html <br>\n",
      "http://www.engineeringtoolbox.com/sea-water-properties-d_840.html"
     ]
    },
    {
     "cell_type": "markdown",
     "metadata": {},
     "source": [
      "This assumes spherical droplets with a droplet diameter $ \\delta_{drop} $ less than 400 microns.  Droplets bigger than this will be distorted and rise more rapidly (Tkalich and Chan, 2002).  They are presumed by ADIOS3 to rise so quickly that little dissolution takes place for them except as part of the dissolution from the surface slick."
     ]
    },
    {
     "cell_type": "code",
     "collapsed": false,
     "input": [
      "class Stokes(object):\n",
      "    @classmethod\n",
      "    def water_phase_transfer_velocity_1(cls, oil_water_rho_delta,\n",
      "                                      diameter):\n",
      "        surface_area = 4 * np.pi * (diameter / 2.0) ** 2\n",
      "        return 1.73e5 * oil_water_rho_delta * surface_area\n",
      "    \n",
      "    @classmethod\n",
      "    def water_phase_transfer_velocity_2(cls, oil_water_rho_delta,\n",
      "                                        diameter):\n",
      "        return 2.18e6 * oil_water_rho_delta * (diameter / 2.0) ** 2"
     ],
     "language": "python",
     "metadata": {},
     "outputs": [],
     "prompt_number": 15
    },
    {
     "cell_type": "markdown",
     "metadata": {},
     "source": [
      "Below is a plot of $ k_w $ (m/sec) versus droplet diameter (microns) for oil-water density difference equal to {0.1, 0.2, 0.3}."
     ]
    },
    {
     "cell_type": "code",
     "collapsed": false,
     "input": [
      "ax = subplot(111)\n",
      "\n",
      "oil_water_rho_deltas = (0.1, 0.2, 0.3)\n",
      "diameters = np.linspace(0.0, 1000, 10)\n",
      "\n",
      "for rdelta in oil_water_rho_deltas:\n",
      "    k_w = Stokes.water_phase_transfer_velocity_2(rdelta,\n",
      "                                                 diameters / 1.0e6)\n",
      "\n",
      "    plot(diameters, k_w)\n"
     ],
     "language": "python",
     "metadata": {},
     "outputs": [
      {
       "metadata": {},
       "output_type": "display_data",
       "png": "[encoded data removed]",
       "text": [
        "<matplotlib.figure.Figure at 0x109726ed0>"
       ]
      }
     ],
     "prompt_number": 24
    },
    {
     "cell_type": "heading",
     "level": 2,
     "metadata": {},
     "source": [
      "<u>Fate of surface oil in any time step</u>"
     ]
    },
    {
     "cell_type": "markdown",
     "metadata": {},
     "source": [
      "The oil is assumed to be on the surface at the beginning of the time step.  The time step is assumed lon compared to the time between breaking wafe events.  When a breaking wave event occurs, the oil volume will be divided into three different pots, as shown in the figure below:"
     ]
    },
    {
     "cell_type": "code",
     "collapsed": false,
     "input": [
      "ax = subplot(111)\n",
      "ax.set_yticks([])\n",
      "ax.set_xticks([])\n",
      "\n",
      "figtext(0.2, 0.7, 'Oil on\\nSurface',\n",
      "        bbox=dict(boxstyle='round', fc=\"w\", ec=\"k\"))\n",
      "figtext(0.4, 0.7, 'Stays on\\nSurface',\n",
      "        bbox=dict(boxstyle='round', fc=\"w\", ec=\"k\"))\n",
      "figtext(0.4, 0.5, 'Refloats to\\nSurface',\n",
      "        bbox=dict(boxstyle='round', fc=\"w\", ec=\"k\"))\n",
      "figtext(0.4, 0.3, 'Permanently\\nDispersed',\n",
      "        bbox=dict(boxstyle='round', fc=\"w\", ec=\"k\"))\n",
      "\n",
      "arrow(0.22, 0.78, 0.1, 0.0,)\n",
      "arrow(0.22, 0.75, 0.11, -0.15,)\n",
      "arrow(0.215, 0.72, 0.12, -0.37,)\n"
     ],
     "language": "python",
     "metadata": {},
     "outputs": [
      {
       "metadata": {},
       "output_type": "pyout",
       "prompt_number": 17,
       "text": [
        "<matplotlib.patches.FancyArrow at 0x109699850>"
       ]
      },
      {
       "metadata": {},
       "output_type": "display_data",
       "png": "[encoded data removed]",
       "text": [
        "<matplotlib.figure.Figure at 0x109229850>"
       ]
      }
     ],
     "prompt_number": 17
    },
    {
     "cell_type": "heading",
     "level": 2,
     "metadata": {},
     "source": [
      "<u>Droplet size distribution</u>"
     ]
    },
    {
     "cell_type": "markdown",
     "metadata": {},
     "source": [
      "Which pot gets what amount of oil depends upon droplet size.  Surface slicks hit by breaking waves will cause the oil to break into droplets given by a distribution function in size, $ \\Bbb N(\\delta_{drop})$, The total volume of oil insterted into the water column is then:"
     ]
    },
    {
     "cell_type": "markdown",
     "metadata": {},
     "source": [
      "$$\n",
      "\\begin{align}\n",
      "\\delta_{max} &= \\text{maximum droplet size} = 400 \\text{microns} \\cr\n",
      "\\delta_{min} &= \\text{minimum droplet size} \\cr\n",
      "\\cr\n",
      "V_{drop} &= \\int_{\\delta_{min}}^{\\delta_{max}} \\Bbb N(\\delta_{drop}) \\cdot {\\pi \\cdot \\delta_{drop}^3 \\over 6} \\cdot d(\\delta_{drop}) \\cr\n",
      "\\end{align}\n",
      "$$"
     ]
    },
    {
     "cell_type": "markdown",
     "metadata": {},
     "source": [
      "Minimum droplet size is discussed below.  These drops are inserted in a vertically uniform distribution into the water column to a depth of 1.5 times the height of the significant wave, $ H_{1/3} (m) $.<br>\n",
      "ADIOS3 assumes a Pierson-Moskowitz spectrum for fully developed, wind induced, surface waves.  This relates significant wave height to $ U_{10} (m/s) $, which is the wind speed at 10m elevation."
     ]
    },
    {
     "cell_type": "markdown",
     "metadata": {},
     "source": [
      "$$\n",
      "H_{1/3} \\simeq 0.22 {U_{10}^2 \\over g }\n",
      "$$"
     ]
    },
    {
     "cell_type": "markdown",
     "metadata": {},
     "source": [
      " Peak wave period $T_w$(seconds) is given by"
     ]
    },
    {
     "cell_type": "markdown",
     "metadata": {},
     "source": [
      "$$\n",
      "T_w \\simeq {3 \\over 4} \\cdot U_{10}\n",
      "$$"
     ]
    },
    {
     "cell_type": "code",
     "collapsed": false,
     "input": [
      "class PiersonMoskowitz(object):\n",
      "    @classmethod\n",
      "    def significant_wave_height(cls, wind_speed):\n",
      "        return (wind_speed ** 2.0) * 0.22 / 9.80665\n",
      "    \n",
      "    @classmethod\n",
      "    def peak_wave_period(cls, wind_speed):\n",
      "        return wind_speed * 3.0 / 4.0\n"
     ],
     "language": "python",
     "metadata": {},
     "outputs": [],
     "prompt_number": 18
    },
    {
     "cell_type": "markdown",
     "metadata": {},
     "source": [
      "ADIOS3 needs the fraction of waves that break.<br>\n",
      "Ding and Farmer (1993) note that the dependence of breaking wave properties on wind speed is quite scattered.<br>\n",
      "According to Delvigne and Sweeney (1988) (DS), the fraction of breaking waves $f_{bw}$ is given by"
     ]
    },
    {
     "cell_type": "markdown",
     "metadata": {},
     "source": [
      "$$\n",
      "\\begin{align}\n",
      "f_{bw} &= {0.032 (U_{10} - 5) \\over T_w} \\cr\n",
      "\\end{align}\n",
      "$$"
     ]
    },
    {
     "cell_type": "code",
     "collapsed": false,
     "input": [
      "class DelvigneSweeney(object):\n",
      "    @classmethod\n",
      "    def breaking_waves_frac(cls, wind_speed, peak_wave_period):\n",
      "        return (wind_speed - 5.0) / peak_wave_period * 0.032\n"
     ],
     "language": "python",
     "metadata": {},
     "outputs": [],
     "prompt_number": 19
    },
    {
     "cell_type": "markdown",
     "metadata": {},
     "source": [
      "DS assumes no breaking waves for winds less than 10 knots.  Lehr and Simecek-Beatty (2000) developed a slightly different formula that allowed breaking waves for winds as low as 6 knots.<br>\n",
      "All these formulas may be modified as the new Katz experiment results become available and the ADIOS team replaces DS for natural surface dispersion."
     ]
    },
    {
     "cell_type": "markdown",
     "metadata": {},
     "source": [
      "The time period between breaking wave events, $T_{bw}$ (sec) is given by the wave period divided by the fraction of waves that break."
     ]
    },
    {
     "cell_type": "markdown",
     "metadata": {},
     "source": [
      "$$\n",
      "T_{bw} = {T_w \\over f_{bw}}\n",
      "$$"
     ]
    },
    {
     "cell_type": "markdown",
     "metadata": {},
     "source": [
      "Ding & Farmer (1993) note that the duration of the breaking event is about half the wave period, presumably $0.5 T_w$, although this is unclear from their text.<br>\n",
      "Therefore, the time available (calm period) for the droplets to re-float is"
     ]
    },
    {
     "cell_type": "markdown",
     "metadata": {},
     "source": [
      "$$\n",
      "\\begin{align}\n",
      "T_{calm} &= T_{bw} - 0.5 T_w \\cr\n",
      "&= \\left( {1 \\over f_{bw}} - 0.5 \\right) \\cdot T_w\n",
      "\\end{align}\n",
      "$$"
     ]
    },
    {
     "cell_type": "code",
     "collapsed": false,
     "input": [
      "class DingFarmer(object):\n",
      "    @classmethod\n",
      "    def calm_between_wave_breaks(cls, breaking_waves_frac,\n",
      "                                 peak_wave_period):\n",
      "        return (1.0 / breaking_waves_frac - 0.5) * peak_wave_period\n"
     ],
     "language": "python",
     "metadata": {},
     "outputs": [],
     "prompt_number": 20
    },
    {
     "cell_type": "markdown",
     "metadata": {},
     "source": [
      "Assuming that the 'average' droplet is inserted to a depth of $0.75 H_{1/3}$, then the average re-float time $T_{rfl}$ for the droplet is"
     ]
    },
    {
     "cell_type": "markdown",
     "metadata": {},
     "source": [
      "$$\n",
      "T_{rfl} = {3 \\over 4} \\cdot {H_{1/3} \\over k_w}\n",
      "$$"
     ]
    },
    {
     "cell_type": "code",
     "collapsed": false,
     "input": [],
     "language": "python",
     "metadata": {},
     "outputs": [],
     "prompt_number": 20
    }
   ],
   "metadata": {}
  }
 ]
}