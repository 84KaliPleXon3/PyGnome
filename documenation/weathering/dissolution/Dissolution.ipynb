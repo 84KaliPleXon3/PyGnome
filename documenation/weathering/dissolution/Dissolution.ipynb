{
 "cells": [
  {
   "cell_type": "markdown",
   "metadata": {},
   "source": [
    "# <center>Dissolution</center>"
   ]
  },
  {
   "cell_type": "markdown",
   "metadata": {},
   "source": [
    "### <center>     From Bill's dissolution algorithm document<br>     August 2015 </center>"
   ]
  },
  {
   "cell_type": "markdown",
   "metadata": {},
   "source": [
    "## <u>Summary</u>"
   ]
  },
  {
   "cell_type": "markdown",
   "metadata": {},
   "source": [
    "ADIOS3 replaces the ADIOS2 formulas by an expanded version of the new SOLUTE-SINK or BM model of LSU<br>\n",
    "(Thibodeaux and Overton, 2014; Stevens, 2013; Stevens et al 2015)<br>\n",
    "The BM model separates the spilled oil into volumes that will dissolve and volumes that will not dissolve."
   ]
  },
  {
   "cell_type": "markdown",
   "metadata": {},
   "source": [
    "Based upon estimated low Biot numbers, early MacKay studies, and recent LSU research (Loebig, 2015), practical dissolution is only dependent upon:\n",
    "<ol>\n",
    "    <li>The oil-water surface resistance</li>\n",
    "    <li>Is limited to aromatics</li>\n",
    "    <li>Decreases with increasing carbon number</li>\n",
    "</ol>\n",
    "<i>(Note: Assumption 1 may not be true for very viscous, thick oil slicks)</i>"
   ]
  },
  {
   "cell_type": "markdown",
   "metadata": {},
   "source": [
    "According to Cohen et al (1980), equation 19,\n",
    "we can estimate mass transfer rate of the soluble component N $(kg/(m^2 \\cdot sec))$ as:"
   ]
  },
  {
   "cell_type": "markdown",
   "metadata": {},
   "source": [
    "$$\n",
    "\\begin{align}\n",
    "k_w &= \\text{water phase transfer velocity} (m/sec) \\cr\n",
    "& \\hphantom{==} \\text{(taken as the Stokes velocity for the individual droplet)} \\cr\n",
    "K_{ow} &= \\text{partition coefficient} (C_{oil}/C_w) \\cr\n",
    "C_{oil} &= \\text{saturation concentration in oil} (kg/m^3) \\cr\n",
    "C_w &= \\text{saturation concentration in water} (kg/m^3) \\cr\n",
    "\\cr\n",
    "N &= k_w \\cdot C_{oil} / K_{ow} \\cr\n",
    "\\end{align}\n",
    "$$"
   ]
  },
  {
   "cell_type": "markdown",
   "metadata": {},
   "source": [
    "Note that ADIOS3 uses a partition coefficient that compares mass concentration ratios, not mole concentrations.\n",
    "However, mass concentrations are related to the molar concentrations through the component's molecular weight."
   ]
  },
  {
   "cell_type": "markdown",
   "metadata": {},
   "source": [
    "$$ C_{oil} = molWt \\cdot Cmol_{oil} $$"
   ]
  },
  {
   "cell_type": "markdown",
   "metadata": {},
   "source": [
    "so that the two dimensionless partition coefficients are equivalent."
   ]
  },
  {
   "cell_type": "markdown",
   "metadata": {},
   "source": [
    "Lee et al (1992), Eq. 4, relates the partition coefficient to the molar concentration in the oil phase and the molar solubility in the water phase.  However, the same form holds for mass concentrations and mass solubility."
   ]
  },
  {
   "cell_type": "markdown",
   "metadata": {},
   "source": [
    "$$\n",
    "K_{ow} = {C_{oil} \\over X_{oil} \\cdot S_w}\n",
    "$$"
   ]
  },
  {
   "cell_type": "markdown",
   "metadata": {},
   "source": [
    "where:\n",
    "$$\n",
    "\\begin{align}\n",
    "X_{oil} &= \\text{mass fraction of the particular hydrocarbon} \\cr\n",
    "S_w &= \\text{aqueous solubility} (kg / m^3) \\cr\n",
    "\\end{align}\n",
    "$$"
   ]
  },
  {
   "cell_type": "markdown",
   "metadata": {},
   "source": [
    "Dissolution may occur from the bottom of the surface slick and from the surface of dispersed oil droplets.\n",
    "If one compares specific saturate hydrocarbons to aromatic hydrocarbons with similar molecular weight,\n",
    "e.g n-octane with mw of 114 and toluene with mw of 92,\n",
    "one finds that the partition coefficient of the saturate is orders of magnitude smaller than that for the weight equivalent aromatic;\n",
    "$ 10^{-6} $ for n-octane versus $ 10^{-3} $ for toluene.<br>\n",
    "Therefore, ADIOS3 treats non-aromatic compounds as essentially insoluble."
   ]
  },
  {
   "cell_type": "markdown",
   "metadata": {},
   "source": [
    "Among aromatics, the partition coefficient decreases with an increase in density.  ADIOS3 combines correlations by Huibers and Katritzky (1998) and Lee et al (1992) to estimate the correlation between a specific aromatic hydrocarbon's density and molecular weight with its partition coefficient."
   ]
  },
  {
   "cell_type": "markdown",
   "metadata": {},
   "source": [
    "$$\n",
    "\\begin{align}\n",
    "\\rho_{arom} &= \\text{Density of aromatic} \\cr\n",
    "molWt &= \\text{Molecular Weight} \\cr\n",
    "S &= \\text{Solubility} \\cr\n",
    "\\cr\n",
    "S &= Huibers(\\rho_{arom}, molWt) \\cr\n",
    "K_{ow} &= Lee(S) \\cr\n",
    "&= Lee(Huibers(\\rho_{arom}, molWt))\n",
    "\\end{align}\n",
    "$$"
   ]
  },
  {
   "cell_type": "markdown",
   "metadata": {},
   "source": [
    "Huibers relates solubility (moles/liter) to molar volume, $ mv $, measured in cubic angstroms.\n",
    "Assuming that molar volume can be expressed as molecular weight, $ molWt $, divided by density, $ \\rho $, and using proper mks units for molecular weight $ (kg/kmole) $ and density $ (kg/m^3) $ we get:"
   ]
  },
  {
   "cell_type": "markdown",
   "metadata": {},
   "source": [
    "$$\n",
    "\\begin{align}\n",
    "mv &= {molWt \\over \\rho} = \\text{Molar Volume} \\cr\n",
    "\\cr\n",
    "S_w &\\propto 10^{-0.038mv} \\cr\n",
    "&\\propto (10^{-0.038})^{mv} \\cr\n",
    "&\\propto (e^{-0.087})^{mv} \\cr\n",
    "&\\propto e^{-0.087mv} \\cr\n",
    "&\\text{and so finally we get...} \\cr\n",
    "S_w &\\propto exp \\left( -0.087 \\cdot {molWt \\over \\rho} \\right) \\cr\n",
    "\\end{align}\n",
    "$$"
   ]
  },
  {
   "cell_type": "markdown",
   "metadata": {},
   "source": [
    "Lee et al (Eq. 5) relates $ K_{ow} $ to $ S_w $ as:"
   ]
  },
  {
   "cell_type": "markdown",
   "metadata": {},
   "source": [
    "$$\n",
    "\\begin{align}\n",
    "K_{ow} &= {\\rho \\over S_w \\cdot molWt } \\cr\n",
    "\\end{align}\n",
    "$$"
   ]
  },
  {
   "cell_type": "markdown",
   "metadata": {},
   "source": [
    "<br><br><br><br><br><br><br><br>"
   ]
  },
  {
   "cell_type": "markdown",
   "metadata": {},
   "source": [
    "And Combining the two equations gives:"
   ]
  },
  {
   "cell_type": "markdown",
   "metadata": {},
   "source": [
    "$$\n",
    "\\begin{align}\n",
    "K_{ow} &= A \\cdot \\left( {\\rho \\over exp \\left( -0.087 \\cdot {molWt \\over \\rho} \\right) \\cdot molWt } \\right) \\cr\n",
    "&\\text{and solving for A...} \\cr\n",
    "A &= {K_{ow} \\cdot exp \\left( -0.087 \\cdot {molWt \\over \\rho} \\right) \\cdot molWt \\over \\rho} \\cr\n",
    "\\end{align}\n",
    "$$"
   ]
  },
  {
   "cell_type": "markdown",
   "metadata": {},
   "source": [
    "where $A$ is determined empirically."
   ]
  },
  {
   "cell_type": "markdown",
   "metadata": {},
   "source": [
    "ADIOS3 separates the aromatics into distillation cut components.  For any component $ j $, molecular weight and density are part of the ADIOS3 oil property database, usually by approximation from other properties."
   ]
  },
  {
   "cell_type": "markdown",
   "metadata": {},
   "source": [
    "Using the measured values of a known aromatic such as toluene, for example, with a molecular weight of 92.1 $ kg/kmole$ , density of 866 $ kg/m^3 $, and $ K_{ow(j)} $ of 1000, the constant $ A $ can be estimated as 105.37 (as shown below)."
   ]
  },
  {
   "cell_type": "code",
   "execution_count": 1,
   "metadata": {
    "collapsed": false
   },
   "outputs": [
    {
     "name": "stdout",
     "output_type": "stream",
     "text": [
      "105.371560294\n"
     ]
    }
   ],
   "source": [
    "import numpy as np\n",
    "mol_wt = 92.1\n",
    "density = 866.0\n",
    "k_ow = 1000.0\n",
    "\n",
    "print (k_ow * np.exp(-0.087 * mol_wt / density) * mol_wt) / density"
   ]
  },
  {
   "cell_type": "markdown",
   "metadata": {},
   "source": [
    "So if we quickly compile the above formula reductions, we get the following:"
   ]
  },
  {
   "cell_type": "code",
   "execution_count": 2,
   "metadata": {
    "collapsed": false
   },
   "outputs": [
    {
     "name": "stdout",
     "output_type": "stream",
     "text": [
      "1000.00417291\n"
     ]
    }
   ],
   "source": [
    "class LeeHuibers(object):\n",
    "    @classmethod\n",
    "    def partition_coeff(cls, mol_wt, density):\n",
    "        '''\n",
    "            :param mol_wt: Molecular weight in kg/kmole\n",
    "            :param density: Density in kg/m^3\n",
    "        '''\n",
    "        return 105.372 * density / (np.exp(-0.087 * mol_wt / density) * mol_wt)\n",
    "\n",
    "print LeeHuibers.partition_coeff(92.1, 866.0)"
   ]
  },
  {
   "cell_type": "markdown",
   "metadata": {},
   "source": [
    "Given that ADIOS3 will approximate both density and molecular weight from distillation cut temperatures, it makes sense to compute $ K_{ow} $ directly from the distillation cuts."
   ]
  },
  {
   "cell_type": "markdown",
   "metadata": {},
   "source": [
    "Using Riazi (2005), aromatic molecular weight can be approximated from distillation cut temperature $ T_j $ (in Kelvin) as:"
   ]
  },
  {
   "cell_type": "markdown",
   "metadata": {},
   "source": [
    "$$\n",
    "\\begin{align}\n",
    "molWt_j &= 350 \\cdot (6.98 - ln(1070 - T_j))^{3/2}\n",
    "\\end{align}\n",
    "$$"
   ]
  },
  {
   "cell_type": "markdown",
   "metadata": {},
   "source": [
    "and aromatic density $ (kg/m^3) $ as:"
   ]
  },
  {
   "cell_type": "markdown",
   "metadata": {},
   "source": [
    "$$\n",
    "\\begin{align}\n",
    "\\rho_j &= 100 \\cdot T_j^{1/3}\n",
    "\\end{align}\n",
    "$$"
   ]
  },
  {
   "cell_type": "markdown",
   "metadata": {},
   "source": [
    "Setting $ \\lambda_j = {molWt_j \\over \\rho_j} $, the graph of $ \\lambda_j $ over the typical range of distillation cuts looks like the following:"
   ]
  },
  {
   "cell_type": "code",
   "execution_count": 3,
   "metadata": {
    "collapsed": false
   },
   "outputs": [],
   "source": [
    "class Riazi(object):\n",
    "    @classmethod\n",
    "    def mol_wt(cls, temp):\n",
    "        return 350.0 * (6.98 - np.log(1070.0 - temp)) ** (3.0 / 2.0)\n",
    "    \n",
    "    @classmethod\n",
    "    def density(cls, temp):\n",
    "        return 100.0 * temp ** (1.0 / 3.0)\n",
    "    \n",
    "    @classmethod\n",
    "    def lamb(cls, temp):\n",
    "        '''\n",
    "            Here we calculate the molar volume from distillation cut temperature\n",
    "        '''\n",
    "        return cls.mol_wt(temp) / cls.density(temp)\n"
   ]
  },
  {
   "cell_type": "code",
   "execution_count": 4,
   "metadata": {
    "collapsed": false
   },
   "outputs": [
    {
     "data": {
      "image/png": "[encoded data removed]",
      "text/plain": [
       "<matplotlib.figure.Figure at 0x108205d90>"
      ]
     },
     "metadata": {},
     "output_type": "display_data"
    }
   ],
   "source": [
    "from pylab import *\n",
    "%matplotlib inline\n",
    "\n",
    "ax = subplot(111)\n",
    "\n",
    "x = np.linspace(300.0, 700.0, 20)\n",
    "y = Riazi.lamb(x)\n",
    "\n",
    "plot(x, y, linewidth=1)\n",
    "\n",
    "figtext(0.35, 0.0, r'distillation cut (${}^\\circ$ K)')\n",
    "figtext(0.0, 0.5, r'$\\lambda_j$')\n",
    "\n",
    "show()"
   ]
  },
  {
   "cell_type": "markdown",
   "metadata": {},
   "source": [
    "and then $ K_{ow} $ then plots as a function of distillation cuts as:"
   ]
  },
  {
   "cell_type": "code",
   "execution_count": 5,
   "metadata": {
    "collapsed": false
   },
   "outputs": [
    {
     "data": {
      "image/png": "[encoded data removed]",
      "text/plain": [
       "<matplotlib.figure.Figure at 0x1084cb7d0>"
      ]
     },
     "metadata": {},
     "output_type": "display_data"
    }
   ],
   "source": [
    "ax = subplot(111)\n",
    "\n",
    "temps = np.linspace(300.0, 700.0, 20)\n",
    "x = Riazi.lamb(temps)\n",
    "y = LeeHuibers.partition_coeff(Riazi.mol_wt(temps),\n",
    "                               Riazi.density(temps))\n",
    "\n",
    "plot(x, y, linewidth=1)\n",
    "\n",
    "figtext(0.5, 0.0, r'$\\lambda_j$')\n",
    "figtext(0.0, 0.5, r'$K_{ow}$')\n",
    "\n",
    "show()"
   ]
  },
  {
   "cell_type": "markdown",
   "metadata": {},
   "source": [
    "In order to calculate an overall $ K_{ow} $, it is necessary to do a molar average of the aromatic components.<br>\n",
    "ADIOS3 stores the mass fraction, $ fmass_j $, of each component."
   ]
  },
  {
   "cell_type": "markdown",
   "metadata": {},
   "source": [
    "$$\n",
    "\\begin{align}\n",
    "K_{ow} &= { \\sum\\limits_j {fmass_j \\over molWt_j} \\cdot K_{ow(j)} \\over \\sum\\limits_j {fmass_j \\over molWt_j} }\n",
    "\\end{align}\n",
    "$$"
   ]
  },
  {
   "cell_type": "markdown",
   "metadata": {},
   "source": [
    "and it is convenient to define:"
   ]
  },
  {
   "cell_type": "markdown",
   "metadata": {},
   "source": [
    "$$\n",
    "\\begin{align}\n",
    "\\alpha_j &= { {fmass_j \\over molWt_j} \\over \\sum\\limits_j {fmass_j \\over molWt_j} } \\cr\n",
    "&with... \\cr\n",
    "\\sum\\limits_j \\alpha_j &= 1 \\cr\n",
    "\\end{align}\n",
    "$$"
   ]
  },
  {
   "cell_type": "markdown",
   "metadata": {},
   "source": [
    "The preceding equation can then be written as:"
   ]
  },
  {
   "cell_type": "markdown",
   "metadata": {},
   "source": [
    "$$\n",
    "K_{ow} = \\sum\\limits_j \\alpha_j \\cdot K_{ow(j)}\n",
    "$$"
   ]
  },
  {
   "cell_type": "markdown",
   "metadata": {},
   "source": [
    "(TODO: Add a programmatic example here.)"
   ]
  },
  {
   "cell_type": "markdown",
   "metadata": {},
   "source": [
    "The water phase transfer velocity $ k_w $ can be calculated for small buoyant droplets using Stoke's law, assuming steady-state velocity given by: "
   ]
  },
  {
   "cell_type": "markdown",
   "metadata": {},
   "source": [
    "$$\n",
    "\\begin{align}\n",
    "\\Delta_{\\rho} &= \\text{relative oil-water density difference} \\cr\n",
    "\\delta_{drop} &= \\text{droplet diameter} \\cr\n",
    "A_{drop} &= \\text{droplet surface area} \\cr\n",
    "g &= \\text{acceleration due to gravity} = 9.80665 (m/s^2) \\cr\n",
    "v_w &= \\text{kinematic water viscosity } (m^2/s) \\cr\n",
    "\\cr\n",
    "k_w &= {1 \\over 18\\pi} \\Delta_\\rho \\cdot {g \\cdot A_{drop} \\over v_w} \\cr\n",
    "&= {g \\over 18 \\pi \\cdot v_w} \\cdot \\Delta_\\rho \\cdot A_{drop}  \\cr\n",
    "&\\simeq 1.73 \\cdot 10^5 \\cdot \\Delta_\\rho \\cdot A_{drop} \\cr\n",
    "\\cr\n",
    "&\\text{and if we solve for diameter...} \\cr\n",
    "k_w &= {g \\over 18 \\pi \\cdot v_w} \\cdot \\Delta_\\rho \\cdot A_{drop}  \\cr\n",
    "&= {g \\over 18 \\pi \\cdot v_w} \\cdot \\Delta_\\rho \\cdot 4 \\pi \\left({\\delta_{drop} \\over 2}\\right)^2 \\cr\n",
    "&= {g \\over 4.5 \\cdot v_w} \\cdot \\Delta_\\rho \\cdot \\left({\\delta_{drop} \\over 2}\\right)^2 \\cr\n",
    "\\cr\n",
    "&\\simeq 2.18 \\cdot 10^6 \\cdot \\Delta_\\rho \\cdot \\left({\\delta_{drop} \\over 2}\\right)^2 \\cr\n",
    "\\end{align}\n",
    "$$"
   ]
  },
  {
   "cell_type": "markdown",
   "metadata": {},
   "source": [
    "Kinematic water viscosity $ v_w \\simeq 1 $ centistoke at $ 20^\\circ$C ($293^\\circ$K, $68^\\circ$F)."
   ]
  },
  {
   "cell_type": "markdown",
   "metadata": {},
   "source": [
    "(<b>Note</b>: kinematic water viscosity actually ranges from about 0.8 to 1.7 cSt over a temperature range of $0^\\circ$ to $30^\\circ$ C.  This changes the numeric coefficient above from a range of 2.16e5 to 1.15e5.  This could be a problem as the range is significant.)<br>\n",
    "Ref:<br>\n",
    "<ul>\n",
    "<li>http://www.engineeringtoolbox.com/water-dynamic-kinematic-viscosity-d_596.html</li>\n",
    "<li>http://www.engineeringtoolbox.com/sea-water-properties-d_840.html</li>\n",
    "</ul>\n",
    "\n",
    "Some (sea)water viscosity correlations that we might be able to implement can be found here:<br>\n",
    "<ul>\n",
    "<li>http://web.mit.edu/lienhard/www/Thermophysical_properties_of_seawater-DWT-16-354-2010.pdf</li>\n",
    "</ul>"
   ]
  },
  {
   "cell_type": "markdown",
   "metadata": {},
   "source": [
    "This assumes spherical droplets with a droplet diameter $ \\delta_{drop} $ less than 400 microns.  Droplets bigger than this will be distorted and rise more rapidly (Tkalich and Chan, 2002).  They are presumed by ADIOS3 to rise so quickly that little dissolution takes place for them except as part of the dissolution from the surface slick."
   ]
  },
  {
   "cell_type": "code",
   "execution_count": 6,
   "metadata": {
    "collapsed": false
   },
   "outputs": [],
   "source": [
    "class Stokes(object):\n",
    "    @classmethod\n",
    "    def water_phase_transfer_velocity_1(cls, oil_water_rho_delta,\n",
    "                                      diameter):\n",
    "        surface_area = 4 * np.pi * (diameter / 2.0) ** 2\n",
    "        return 1.73e5 * oil_water_rho_delta * surface_area\n",
    "    \n",
    "    @classmethod\n",
    "    def water_phase_transfer_velocity_2(cls, oil_water_rho_delta,\n",
    "                                        diameter):\n",
    "        return 2.18e6 * oil_water_rho_delta * (diameter / 2.0) ** 2"
   ]
  },
  {
   "cell_type": "markdown",
   "metadata": {},
   "source": [
    "Below is a plot of $ k_w $ (m/sec) versus droplet diameter (microns) for oil-water density difference equal to {0.1, 0.2, 0.3}."
   ]
  },
  {
   "cell_type": "code",
   "execution_count": 7,
   "metadata": {
    "collapsed": false
   },
   "outputs": [
    {
     "data": {
      "image/png": "[encoded data removed]",
      "text/plain": [
       "<matplotlib.figure.Figure at 0x108937b10>"
      ]
     },
     "metadata": {},
     "output_type": "display_data"
    }
   ],
   "source": [
    "f, (ax1, ax2) = plt.subplots(1, 2, sharey=True)\n",
    "\n",
    "oil_water_rho_deltas = (0.1, 0.2, 0.3)\n",
    "diameters = np.linspace(0.0, 1000, 10)\n",
    "\n",
    "ax1.figure.text(0.15, 0.95, 'Method 1')\n",
    "ax1.figure.text(0.55, 0.95, 'Method 2')\n",
    "ax1.figure.text(0.5, 0.0, r'$\\delta_{drop}$')\n",
    "ax1.figure.text(0.0, 0.5, r'$k_{w}$')\n",
    "\n",
    "for rdelta in oil_water_rho_deltas:\n",
    "    k_w = Stokes.water_phase_transfer_velocity_1(rdelta,\n",
    "                                                 diameters / 1.0e6)\n",
    "    ax1.plot(diameters, k_w)\n",
    "\n",
    "for rdelta in oil_water_rho_deltas:\n",
    "    k_w = Stokes.water_phase_transfer_velocity_2(rdelta,\n",
    "                                                 diameters / 1.0e6)\n",
    "    ax2.plot(diameters, k_w)\n"
   ]
  },
  {
   "cell_type": "markdown",
   "metadata": {},
   "source": [
    "## <u>Fate of surface oil in any time step</u>"
   ]
  },
  {
   "cell_type": "markdown",
   "metadata": {},
   "source": [
    "The oil is assumed to be on the surface at the beginning of the time step.  The time step is assumed long compared to the time between breaking wave events.  When a breaking wave event occurs, the oil volume will be divided into three different pots, as shown in the figure below:"
   ]
  },
  {
   "cell_type": "code",
   "execution_count": 8,
   "metadata": {
    "collapsed": false
   },
   "outputs": [
    {
     "data": {
      "text/plain": [
       "<matplotlib.patches.FancyArrow at 0x1099be750>"
      ]
     },
     "execution_count": 8,
     "metadata": {},
     "output_type": "execute_result"
    },
    {
     "data": {
      "image/png": "[encoded data removed]",
      "text/plain": [
       "<matplotlib.figure.Figure at 0x108f85510>"
      ]
     },
     "metadata": {},
     "output_type": "display_data"
    }
   ],
   "source": [
    "ax = subplot(111)\n",
    "ax.set_yticks([])\n",
    "ax.set_xticks([])\n",
    "\n",
    "figtext(0.2, 0.7, 'Oil on\\nSurface',\n",
    "        bbox=dict(boxstyle='round', fc=\"w\", ec=\"k\"))\n",
    "figtext(0.4, 0.7, 'Stays on\\nSurface',\n",
    "        bbox=dict(boxstyle='round', fc=\"w\", ec=\"k\"))\n",
    "figtext(0.4, 0.5, 'Refloats to\\nSurface',\n",
    "        bbox=dict(boxstyle='round', fc=\"w\", ec=\"k\"))\n",
    "figtext(0.4, 0.3, 'Permanently\\nDispersed',\n",
    "        bbox=dict(boxstyle='round', fc=\"w\", ec=\"k\"))\n",
    "\n",
    "arrow(0.22, 0.78, 0.1, 0.0,)\n",
    "arrow(0.22, 0.75, 0.11, -0.15,)\n",
    "arrow(0.215, 0.72, 0.12, -0.37,)\n"
   ]
  },
  {
   "cell_type": "markdown",
   "metadata": {},
   "source": [
    "## <u>Droplet size distribution</u>"
   ]
  },
  {
   "cell_type": "markdown",
   "metadata": {},
   "source": [
    "Which pot gets what amount of oil depends upon droplet size.  Surface slicks hit by breaking waves will cause the oil to break into droplets given by a distribution function in size, $ \\Bbb N(\\delta_{drop})$, The total volume of oil insterted into the water column is then:"
   ]
  },
  {
   "cell_type": "markdown",
   "metadata": {},
   "source": [
    "$$\n",
    "\\begin{align}\n",
    "\\delta_{max} &= \\text{maximum droplet size} = 400 \\text{microns} \\cr\n",
    "\\delta_{min} &= \\text{minimum droplet size} \\cr\n",
    "\\cr\n",
    "V_{drop} &= \\int_{\\delta_{min}}^{\\delta_{max}} \\Bbb N(\\delta_{drop}) \\cdot {\\pi \\cdot \\delta_{drop}^3 \\over 6} \\cdot d(\\delta_{drop}) \\cr\n",
    "\\end{align}\n",
    "$$"
   ]
  },
  {
   "cell_type": "markdown",
   "metadata": {},
   "source": [
    "Minimum droplet size is discussed below.  These drops are inserted in a vertically uniform distribution into the water column to a depth of 1.5 times the height of the significant wave, $ H_{1/3} (m) $.<br>\n",
    "ADIOS3 assumes a Pierson-Moskowitz spectrum for fully developed, wind induced, surface waves.  This relates significant wave height to $ U_{10} (m/s) $, which is the wind speed at 10m elevation."
   ]
  },
  {
   "cell_type": "markdown",
   "metadata": {},
   "source": [
    "$$\n",
    "H_{1/3} \\simeq 0.22 {U_{10}^2 \\over g }\n",
    "$$"
   ]
  },
  {
   "cell_type": "markdown",
   "metadata": {},
   "source": [
    " Peak wave period $T_w$(seconds) is given by"
   ]
  },
  {
   "cell_type": "markdown",
   "metadata": {},
   "source": [
    "$$\n",
    "T_w \\simeq {3 \\over 4} \\cdot U_{10}\n",
    "$$"
   ]
  },
  {
   "cell_type": "code",
   "execution_count": 9,
   "metadata": {
    "collapsed": false
   },
   "outputs": [
    {
     "name": "stdout",
     "output_type": "stream",
     "text": [
      "H_13 =  2.24337566855\n",
      "T_w =  7.5\n"
     ]
    }
   ],
   "source": [
    "class PiersonMoskowitz(object):\n",
    "    @classmethod\n",
    "    def significant_wave_height(cls, wind_speed):\n",
    "        return (wind_speed ** 2.0) * 0.22 / 9.80665\n",
    "    \n",
    "    @classmethod\n",
    "    def peak_wave_period(cls, wind_speed):\n",
    "        return wind_speed * 3.0 / 4.0\n",
    "\n",
    "print 'H_13 = ', PiersonMoskowitz.significant_wave_height(10.0)\n",
    "print 'T_w = ', PiersonMoskowitz.peak_wave_period(10.0)"
   ]
  },
  {
   "cell_type": "markdown",
   "metadata": {},
   "source": [
    "ADIOS3 needs the fraction of waves that break.<br>\n",
    "Ding and Farmer (1993) note that the dependence of breaking wave properties on wind speed is quite scattered.<br>\n",
    "According to Delvigne and Sweeney (1988) (DS), the fraction of breaking waves $f_{bw}$ is given by"
   ]
  },
  {
   "cell_type": "markdown",
   "metadata": {},
   "source": [
    "$$\n",
    "\\begin{align}\n",
    "f_{bw} &= {0.032 (U_{10} - 5) \\over T_w} \\cr\n",
    "\\end{align}\n",
    "$$"
   ]
  },
  {
   "cell_type": "code",
   "execution_count": 10,
   "metadata": {
    "collapsed": false
   },
   "outputs": [
    {
     "name": "stdout",
     "output_type": "stream",
     "text": [
      "0.00941176470588\n"
     ]
    }
   ],
   "source": [
    "class DelvigneSweeney(object):\n",
    "    @classmethod\n",
    "    def breaking_waves_frac(cls, wind_speed, peak_wave_period):\n",
    "        return (wind_speed - 5.0) / peak_wave_period * 0.032\n",
    "\n",
    "print DelvigneSweeney.breaking_waves_frac(10.0, 17.0)"
   ]
  },
  {
   "cell_type": "markdown",
   "metadata": {},
   "source": [
    "DS assumes no breaking waves for winds less than 10 knots.  Lehr and Simecek-Beatty (2000) developed a slightly different formula that allowed breaking waves for winds as low as 6 knots.<br>\n",
    "All these formulas may be modified as the new Katz experiment results become available and the ADIOS team replaces DS for natural surface dispersion."
   ]
  },
  {
   "cell_type": "markdown",
   "metadata": {},
   "source": [
    "The time period between breaking wave events, $T_{bw}$ (sec) is given by the wave period divided by the fraction of waves that break."
   ]
  },
  {
   "cell_type": "markdown",
   "metadata": {},
   "source": [
    "$$\n",
    "T_{bw} = {T_w \\over f_{bw}}\n",
    "$$"
   ]
  },
  {
   "cell_type": "markdown",
   "metadata": {},
   "source": [
    "Ding & Farmer (1993) note that the duration of the breaking event is about half the wave period, presumably $0.5 T_w$, although this is unclear from their text.<br>\n",
    "Therefore, the time available (calm period) for the droplets to re-float is"
   ]
  },
  {
   "cell_type": "markdown",
   "metadata": {},
   "source": [
    "$$\n",
    "\\begin{align}\n",
    "T_{calm} &= T_{bw} - 0.5 T_w \\cr\n",
    "&= \\left( {1 \\over f_{bw}} - 0.5 \\right) \\cdot T_w\n",
    "\\end{align}\n",
    "$$"
   ]
  },
  {
   "cell_type": "markdown",
   "metadata": {},
   "source": [
    "Assuming that the 'average' droplet is inserted to a depth of $0.75 H_{1/3}$, then the average re-float time $T_{rfl}$ for the droplet is"
   ]
  },
  {
   "cell_type": "markdown",
   "metadata": {},
   "source": [
    "$$\n",
    "T_{rfl} = {3 \\over 4} \\cdot {H_{1/3} \\over k_w}\n",
    "$$"
   ]
  },
  {
   "cell_type": "code",
   "execution_count": 11,
   "metadata": {
    "collapsed": false
   },
   "outputs": [
    {
     "name": "stdout",
     "output_type": "stream",
     "text": [
      "(wave_height, wave_period) = (2.243375668551442, 7.5)\n",
      "(f_bw, k_w) = (0.021333333333333333, 0.00436)\n",
      "calm between wave breaks = 347.8125\n",
      "refloat time = 385.901777847\n"
     ]
    }
   ],
   "source": [
    "class DingFarmer(object):\n",
    "    @classmethod\n",
    "    def calm_between_wave_breaks(cls, breaking_waves_frac,\n",
    "                                 peak_wave_period):\n",
    "        return (1.0 / breaking_waves_frac - 0.5) * peak_wave_period\n",
    "\n",
    "    @classmethod\n",
    "    def refloat_time(cls, significant_wave_height,\n",
    "                     water_phase_transfer_velocity):\n",
    "        return (significant_wave_height / water_phase_transfer_velocity) * 3.0 / 4.0\n",
    "\n",
    "wind_speed = 10.0 # m/s\n",
    "rdelta = 0.2 # oil/water density difference\n",
    "droplet_diameter = 0.0002 # 200 microns\n",
    "\n",
    "wave_height = PiersonMoskowitz.significant_wave_height(wind_speed)\n",
    "wave_period = PiersonMoskowitz.peak_wave_period(wind_speed)\n",
    "\n",
    "f_bw = DelvigneSweeney.breaking_waves_frac(wind_speed, wave_period)\n",
    "k_w = Stokes.water_phase_transfer_velocity_2(rdelta, droplet_diameter)\n",
    "\n",
    "T_calm = DingFarmer.calm_between_wave_breaks(f_bw, wave_period)\n",
    "T_rfl = DingFarmer.refloat_time(wave_height, k_w)\n",
    "\n",
    "print '(wave_height, wave_period) = {}'.format((wave_height, wave_period))\n",
    "print '(f_bw, k_w) = {}'.format((f_bw, k_w))\n",
    "print ('calm between wave breaks = {}'.format(T_calm))\n",
    "print ('refloat time = {}'.format(T_rfl))"
   ]
  },
  {
   "cell_type": "markdown",
   "metadata": {},
   "source": [
    "The overall time scale is given by"
   ]
  },
  {
   "cell_type": "markdown",
   "metadata": {},
   "source": [
    "$$\n",
    "T_{bw} > T_{calm} > \\left\\{ T_{rfl}, T_w \\right\\}\n",
    "$$"
   ]
  },
  {
   "cell_type": "markdown",
   "metadata": {},
   "source": [
    "The time fraction that the droplet spends in the water column is given by the re-float time divided by the calm period between breaking wave events."
   ]
  },
  {
   "cell_type": "markdown",
   "metadata": {},
   "source": [
    "$$\n",
    "\\begin{align}\n",
    "f_{wc} &= {T_{rfl} \\over T_{calm}} \\cr\n",
    "&= {{3 \\over 4} \\cdot {H_{1/3} \\over k_w} \\over {\\left( {1 \\over f_{bw}} - 0.5 \\right) \\cdot T_w}} \\cr\n",
    "&= {{3 \\over 4} \\cdot {H_{1/3} \\over k_w} \\over {\\left( {1 \\over f_{bw}} - 0.5 \\right) \\cdot {3 \\over 4} \\cdot U_{10}}} \\cr\n",
    "&= {H_{1/3} \\over k_w \\left( {1 \\over f_{bw}} - {1 \\over 2}\\right) \\cdot U_{10}} \\cr\n",
    "\\end{align}\n",
    "$$"
   ]
  },
  {
   "cell_type": "code",
   "execution_count": 12,
   "metadata": {
    "collapsed": false
   },
   "outputs": [
    {
     "name": "stdout",
     "output_type": "stream",
     "text": [
      "1.10951095158\n",
      "1.10951095158\n"
     ]
    }
   ],
   "source": [
    "class Dissolution(Stokes, DingFarmer, DelvigneSweeney, PiersonMoskowitz):\n",
    "    @classmethod\n",
    "    def water_column_time_fraction_1(cls,\n",
    "                                     wind_speed,\n",
    "                                     oil_water_rho_delta,\n",
    "                                     droplet_diameter):\n",
    "        wave_period = cls.peak_wave_period(wind_speed)\n",
    "        wave_height = cls.significant_wave_height(wind_speed)\n",
    "        \n",
    "        k_w = cls.water_phase_transfer_velocity_2(oil_water_rho_delta,\n",
    "                                                  droplet_diameter)\n",
    "        f_bw = cls.breaking_waves_frac(wind_speed, wave_period)\n",
    "\n",
    "        T_rfl = cls.refloat_time(wave_height, k_w)\n",
    "        T_calm = cls.calm_between_wave_breaks(f_bw, wave_period)\n",
    "\n",
    "        return T_rfl / T_calm\n",
    "\n",
    "    @classmethod\n",
    "    def water_column_time_fraction_2(cls,\n",
    "                                     wind_speed,\n",
    "                                     oil_water_rho_delta,\n",
    "                                     droplet_diameter):\n",
    "        wave_period = cls.peak_wave_period(wind_speed)\n",
    "        wave_height = cls.significant_wave_height(wind_speed)\n",
    "\n",
    "        k_w = cls.water_phase_transfer_velocity_2(oil_water_rho_delta,\n",
    "                                                  droplet_diameter)\n",
    "        f_bw = cls.breaking_waves_frac(wind_speed, wave_period)\n",
    "\n",
    "        return (wave_height /\n",
    "                (k_w * (1.0 / f_bw - 0.5) * wind_speed))\n",
    "\n",
    "wind_speed = 10.0 # m/s\n",
    "rdelta = 0.2 # oil/water density difference\n",
    "droplet_diameter = 0.0002 # 200 microns\n",
    "\n",
    "print Dissolution.water_column_time_fraction_1(wind_speed, rdelta, droplet_diameter)\n",
    "print Dissolution.water_column_time_fraction_2(wind_speed, rdelta, droplet_diameter)"
   ]
  },
  {
   "cell_type": "markdown",
   "metadata": {},
   "source": [
    "## <u>Dispersion degression</u>"
   ]
  },
  {
   "cell_type": "markdown",
   "metadata": {},
   "source": [
    "If $f_{wc} \\geq 1 $, then the droplet is permanently dispersed, providing a new formula to define maximum dispersed oil droplet size."
   ]
  },
  {
   "cell_type": "code",
   "execution_count": 13,
   "metadata": {
    "collapsed": false
   },
   "outputs": [
    {
     "data": {
      "image/png": "[encoded data removed]",
      "text/plain": [
       "<matplotlib.figure.Figure at 0x1086f1290>"
      ]
     },
     "metadata": {},
     "output_type": "display_data"
    }
   ],
   "source": [
    "ax = subplot(111)\n",
    "\n",
    "wind_speed = 10.0 # m/s\n",
    "rdelta = 0.2 # oil/water density difference\n",
    "\n",
    "x = np.linspace(0.0001, 0.0006, 50)\n",
    "y = Dissolution.water_column_time_fraction_2(wind_speed, rdelta, x)\n",
    "\n",
    "plot(x, y, linewidth=1)\n",
    "\n",
    "figtext(0.5, 0.75, r'$U_{10}$' + ' = {}'.format(wind_speed))\n",
    "figtext(0.5, 0.7, r'$\\Delta_{\\rho}$' + ' = {}'.format(rdelta))\n",
    "\n",
    "figtext(0.5, 0.0, r'$\\delta_{drop}$')\n",
    "figtext(0.0, 0.5, r'$f_{wc}$')\n",
    "\n",
    "show()"
   ]
  },
  {
   "cell_type": "markdown",
   "metadata": {},
   "source": [
    "<hr size=\"5\" >"
   ]
  },
  {
   "cell_type": "markdown",
   "metadata": {},
   "source": [
    "For dissolution directly from the surface slick, the mean drift velocity of the slick with respect to the water will be approximately 3% of the mean wind speed at 10m elevation $U_{10}$.  The mass transfer coefficient will be less than this due to the fact that much of the slick will be moving over water already containing dissolved oil.<br>\n",
    "In this respect, dissolution is similar, but smaller than surface evaporation.<br><br>\n",
    "A possible formula for the mass transfer rate (per unit area) directly from the slick subsurface would be"
   ]
  },
  {
   "cell_type": "markdown",
   "metadata": {},
   "source": [
    "$$\n",
    "\\begin{align}\n",
    "c_{oil} &= \\text{saturation concentration in oil??} (kg/m^3) \\cr\n",
    "A_{slick} &= \\text{subsurface area of slick} (m^2) \\cr\n",
    "S_c &= \\text{Schmidt number} \\cr\n",
    "N_s &= \\text{slick subsurface mass transfer rate} \\cr\n",
    "\\cr\n",
    "N_s &= 0.03 U_{10} \\cdot {c_{oil}(j) \\over K_{ow}(j)} \\cdot \\left( A_{slick} \\over \\pi \\right)^{-0.11} \\cdot S_c^{-2/3} \\cr\n",
    "\\end{align}\n",
    "$$"
   ]
  },
  {
   "cell_type": "markdown",
   "metadata": {},
   "source": [
    "Louis Thibodeaux has kindly given us advice regarding the estimation of the Schmidt number.<br>\n",
    "The Schmidt Number is equal to the kinematic viscosity of water $v_w (m^2/s)$ divided by the molecular diffusivity of solute in water $D_{sw} (m^2/s)$ at the same temperature.  Typical $S_c$ values are approximately 1000.<br>\n",
    "Some specific values:\n",
    "<ul>\n",
    "    <li>phenol = 1200</li>\n",
    "    <li>butanol = 1310</li>\n",
    "    <li>hydrogen sulfide = 657</li>\n",
    "</ul>"
   ]
  },
  {
   "cell_type": "code",
   "execution_count": 14,
   "metadata": {
    "collapsed": false
   },
   "outputs": [
    {
     "name": "stdout",
     "output_type": "stream",
     "text": [
      "1.78596471203e-05\n"
     ]
    }
   ],
   "source": [
    "def slick_subsurface_mass_transfer_rate(concentration_in_oil,\n",
    "                                        partition_coeffient,\n",
    "                                        slick_area,\n",
    "                                        schmidt_number=1000.0):\n",
    "    c_oil = concentration_in_oil\n",
    "    k_ow = partition_coeffient\n",
    "    s_c = schmidt_number\n",
    "\n",
    "    return 0.03 * wind_speed * (c_oil / k_ow) * (slick_area / np.pi) ** (-0.11) * s_c ** (-2.0/3.0)\n",
    "\n",
    "slick_area = 10000  # m^2\n",
    "c_oil = 10.0  # need a good value here.  Is saturation concentration in oil an input??\n",
    "cut_temperature = 400.0\n",
    "\n",
    "k_ow = LeeHuibers.partition_coeff(Riazi.mol_wt(cut_temperature),\n",
    "                                  Riazi.density(cut_temperature))\n",
    "\n",
    "print slick_subsurface_mass_transfer_rate(c_oil, k_ow, slick_area)"
   ]
  },
  {
   "cell_type": "markdown",
   "metadata": {},
   "source": [
    "Dissolution from the surface slick will only occur during the calm period $T_{calm}$."
   ]
  },
  {
   "cell_type": "markdown",
   "metadata": {},
   "source": [
    "For dissolution from droplets, droplet sizes and densities change due to dissolution. As well as recording the volume of oil that dissolves, the model also adjusts the size and buoyancy of the new droplet for purposes of buoyancy.<br>\n",
    "Define $\\{ V_{dis}, V_{inert} \\}$ as the respective dissolvable and inert volumes of oil, here assumed to be a subsurface droplet of volume $V_{drop}$."
   ]
  },
  {
   "cell_type": "markdown",
   "metadata": {},
   "source": [
    "$$\n",
    "V_{drop} = V_{dis} + V_{inert}\n",
    "$$"
   ]
  },
  {
   "cell_type": "markdown",
   "metadata": {},
   "source": [
    "and"
   ]
  },
  {
   "cell_type": "markdown",
   "metadata": {},
   "source": [
    "$$\n",
    "V_{dis} = \\sum_j V_j\n",
    "$$"
   ]
  },
  {
   "cell_type": "markdown",
   "metadata": {},
   "source": [
    "Where $j$ is the subscript of the jth aromatic distillation cut.<br>\n",
    "All the other SARA cuts (saturates, resins, asphaltenes) make up the inert volume of the drop that does not change over time.<br>\n",
    "A necessary assumption here is that the different volume fractions do not act as solvents for other fractions.\n",
    "This is not strictly true as, for example, the aromatics can act as the solvent for the asphaltenes, and volume may not be conserved in such circumstances."
   ]
  },
  {
   "cell_type": "markdown",
   "metadata": {},
   "source": [
    "Similarly, $\\{ \\rho_{dis}, \\rho_{inert} \\}$ define the respective densities with"
   ]
  },
  {
   "cell_type": "markdown",
   "metadata": {},
   "source": [
    "$$\n",
    "\\rho_{dis} = \\sum_j \\alpha_j \\rho_j\n",
    "$$"
   ]
  },
  {
   "cell_type": "markdown",
   "metadata": {},
   "source": [
    "Since the inert volume is fixed, we can define a new state variable"
   ]
  },
  {
   "cell_type": "markdown",
   "metadata": {},
   "source": [
    "$$\n",
    "\\begin{align}\n",
    "X(t) &= { V_{dis}(t) \\over V_{inert} } \\;\\;\\text{ with}\\;\\; V_{drop} = V_{inert} \\cdot (X + 1) \\cr\n",
    "\\cr\n",
    "m_{drop}(t) &= \\rho_{dis}(t) V_{dis}(t) + \\rho_{inert} V_{inert} \\cr\n",
    "&= V_{inert} \\cdot \\left( \\rho_{dis} \\cdot X(t) + \\rho_{inert} \\right) \\cr\n",
    "\\end{align}\n",
    "$$"
   ]
  },
  {
   "cell_type": "markdown",
   "metadata": {},
   "source": [
    "Then the mass rate equation can be written as"
   ]
  },
  {
   "cell_type": "markdown",
   "metadata": {},
   "source": [
    "$$\n",
    "\\begin{align}\n",
    "{dm_{drop} \\over dt} &= {d \\over dt}(m_{drop}(t)) \\cr\n",
    "&= V_{inert} {d \\over dt} \\left( \\rho_{dis} \\cdot X(t) \\right) \\cr\n",
    "&= -N \\cdot A_{drop} \\cr\n",
    "\\cr\n",
    "A_{drop} &= \\text{droplet surface area} \\cr\n",
    "\\end{align}\n",
    "$$"
   ]
  },
  {
   "cell_type": "markdown",
   "metadata": {},
   "source": [
    "The two time derivative terms, $ \\left\\{ {d \\rho_{dis} \\over dt}, {dX \\over dt} \\right\\} $ vary for different reasons.<br>\n",
    "The first derivative reflects the fact that the dissolvable volume fraction is changing its composition over time.<br>\n",
    "The second derivative reflects the fractional loss of the total dissolvable volume.<br>\n",
    "In the simplest case, the dissolvable fraction density does not change significantly and its derivative can be neglected.  This is the option used by Stevens et al (2015) in their binary mixture model."
   ]
  },
  {
   "cell_type": "markdown",
   "metadata": {},
   "source": [
    "This seems a reasonable approximation if one considers the longer term changes in the oil since"
   ]
  },
  {
   "cell_type": "markdown",
   "metadata": {},
   "source": [
    "$$\n",
    "\\int {d \\rho_{dis} \\over \\rho_{dis}} \\ll \\int {dX \\over X}\n",
    "$$"
   ]
  },
  {
   "cell_type": "markdown",
   "metadata": {},
   "source": [
    "as the dissolvable fraction approaches zero."
   ]
  },
  {
   "cell_type": "markdown",
   "metadata": {},
   "source": [
    "The mass transfer rate, N, is a function of the dissolvable oil concentration."
   ]
  },
  {
   "cell_type": "markdown",
   "metadata": {},
   "source": [
    "$$\n",
    "\\begin{align}\n",
    "C_{dis} &= \\text{dissolvable oil concentration} \\cr\n",
    "N &= {k_w \\over K_{ow}} C_{dis} \\cr\n",
    "&= {k_w \\over K_{ow}} \\cdot { X \\over (X + 1)} \\cdot \\rho_{dis} \\cr\n",
    "& \\text{Soooo...??} \\cr\n",
    "C_{dis} &= { X \\over (X + 1)} \\cdot \\rho_{dis} \\cr\n",
    "\\end{align}\n",
    "$$"
   ]
  },
  {
   "cell_type": "markdown",
   "metadata": {},
   "source": [
    "And combining 1.2(???) and 1.3(???) gives"
   ]
  },
  {
   "cell_type": "markdown",
   "metadata": {},
   "source": [
    "$$\n",
    "{dX \\over dt} = -{k_w \\over K_{ow}} \\cdot {X \\over (X + 1)} \\cdot A_{drop}\n",
    "$$"
   ]
  },
  {
   "cell_type": "markdown",
   "metadata": {},
   "source": [
    "For an oil droplet assumed to approximate a perfect sphere, the surface area can also be related to X as well"
   ]
  },
  {
   "cell_type": "markdown",
   "metadata": {},
   "source": [
    "$$\n",
    "\\begin{align}\n",
    "A_{drop} &= 4 \\pi \\cdot \\left( {3 \\over 4 \\pi} \\right)^{2/3} \\cdot V_{drop}^{2/3} \\cr\n",
    "&\\simeq 4.84 \\cdot V_{drop}^{2/3} \\cr\n",
    "&\\simeq 4.84 \\cdot V_{inert}^{2/3} \\cdot (X + 1)^{2/3} \\cr\n",
    "\\cr\n",
    "{dX(t) \\over dt} &= -{k_w \\over K_{ow}} \\cdot {X \\over (X + 1)} \\cdot A_{drop} \\cr\n",
    "&= -{k_w \\over K_{ow}} \\cdot {X \\over (X + 1)} \\cdot 4.84 \\cdot V_{inert}^{2/3} \\cdot (X + 1)^{2/3} \\cr\n",
    "&= -4.84 {k_w \\over K_{ow}} \\cdot V_{inert}^{2/3} \\cdot {X \\over (X + 1)} \\cdot (X + 1)^{2/3} \\cr\n",
    "&= -4.84 {k_w \\over K_{ow}} \\cdot V_{inert}^{2/3} \\cdot X \\cdot (X + 1)^{-1} \\cdot (X + 1)^{2/3} \\cr\n",
    "&= -4.84 {k_w \\over K_{ow}} \\cdot V_{inert}^{2/3} \\cdot X \\cdot (X + 1)^{-1/3} \\cr\n",
    "\\cr\n",
    "{dX(t) \\over dt} &= \\beta \\cdot {X \\over (X + 1)^{1/3}} \\cr\n",
    "&\\text{where...} \\cr\n",
    "\\beta &= -4.84 {k_w \\over K_{ow}} \\cdot V_{inert}^{2/3} < 0\n",
    "\\end{align}\n",
    "$$"
   ]
  },
  {
   "cell_type": "markdown",
   "metadata": {},
   "source": [
    "## <u>Surface Slicks</u>"
   ]
  },
  {
   "cell_type": "markdown",
   "metadata": {},
   "source": [
    "For surface slicks, the oil droplet size and composition will not change significantly over the model time step, $\\Delta t$."
   ]
  },
  {
   "cell_type": "markdown",
   "metadata": {},
   "source": [
    "The droplets created by the breaking waves will be 'binned' according to their droplet diameter with $N(i)$ representing the number of droplets in bin size $i$ with $i = 1...i_{max}$.<br>\n",
    "$N(i)$ is generated from the surface dispersion formulas (ADIOS2 uses Delvigne-Sweeney)."
   ]
  },
  {
   "cell_type": "markdown",
   "metadata": {},
   "source": [
    "The total oil volume of the sub-surface droplets $V_{sub}$ is given by"
   ]
  },
  {
   "cell_type": "markdown",
   "metadata": {},
   "source": [
    "$$\n",
    "V_{sub} = \\sum_i V_i \\cdot N(i)\n",
    "$$"
   ]
  },
  {
   "cell_type": "markdown",
   "metadata": {},
   "source": [
    "Note that we assume the SARA composition at the beginning of the time step is the same for each drop, regardless of its size.<br>\n",
    "Then"
   ]
  },
  {
   "cell_type": "markdown",
   "metadata": {},
   "source": [
    "$$\n",
    "\\begin{align}\n",
    "X_{sub}(t) &= X_i(t) \\; \\forall i \\cr\n",
    "\\cr\n",
    "&\\text{and}\n",
    "\\cr\n",
    "X_i(t + \\Delta t) &= X_i(t) + f_{wc}(i) \\cdot \\beta_i \\cdot {X_{sub}(t) \\over \\left( X_{sub}(t) + 1 \\right)^{1/3}} \\cdot \\Delta t \\cr\n",
    "\\cr\n",
    "\\Delta V_{drop}(\\Delta t) &= \\sum_i N(i) \\cdot V_{inert}(i) \\cdot \\left[ X_i(t + \\Delta t) - X_{sub}(t) \\right]\n",
    "\\end{align}\n",
    "$$"
   ]
  },
  {
   "cell_type": "markdown",
   "metadata": {},
   "source": [
    "where $\\Delta V_{drop}(\\Delta t)$ represents the oil volume dissolved from droplets in the model time step."
   ]
  },
  {
   "cell_type": "markdown",
   "metadata": {},
   "source": [
    "Volume loss directly from the surface slick can be approximated as"
   ]
  },
  {
   "cell_type": "markdown",
   "metadata": {},
   "source": [
    "$$\n",
    "\\Delta V_{surf} = N_s \\cdot \\rho_{dis} \\cdot \\Delta t\n",
    "$$"
   ]
  },
  {
   "cell_type": "markdown",
   "metadata": {},
   "source": [
    "and the total volume dissolved is"
   ]
  },
  {
   "cell_type": "markdown",
   "metadata": {},
   "source": [
    "$$\n",
    "\\Delta V_{tot} = \\Delta V_{drop} + \\Delta V_{surf}\n",
    "$$"
   ]
  },
  {
   "cell_type": "markdown",
   "metadata": {},
   "source": [
    "## <u>Sub-surface Release</u>"
   ]
  },
  {
   "cell_type": "markdown",
   "metadata": {},
   "source": [
    "For this case, $X_i(t)$ as $t$ gets larger is not the same for all droplet sizes.<br>\n",
    "The Boundary condition is"
   ]
  },
  {
   "cell_type": "markdown",
   "metadata": {},
   "source": [
    "$$\n",
    "X = X_0 \\;\\text{at}\\; t = 0\n",
    "$$"
   ]
  },
  {
   "cell_type": "markdown",
   "metadata": {},
   "source": [
    "with limiting condition that $X \\leq X_0 \\;\\forall\\; t > 0$ and $X \\to 0$ as $t \\to \\infty$"
   ]
  },
  {
   "cell_type": "markdown",
   "metadata": {},
   "source": [
    "The dynamic equation can be written as"
   ]
  },
  {
   "cell_type": "markdown",
   "metadata": {},
   "source": [
    "$$\n",
    "\\int_{X_0}^X {(X + 1)^{1/3} \\over X} \\cdot dX = \\beta t\n",
    "$$"
   ]
  },
  {
   "cell_type": "markdown",
   "metadata": {},
   "source": [
    "An exact, but complex, solution exists for the above equation.  However, since its construction already incorporates many idealizations, added complexity probably does not contribute to a more accurate model.<br>\n",
    "Therefore, rather than using the complex solution, an approximate solution can be found by considering the limits of the integrand."
   ]
  },
  {
   "cell_type": "code",
   "execution_count": 15,
   "metadata": {
    "collapsed": false
   },
   "outputs": [
    {
     "data": {
      "text/plain": [
       "<matplotlib.text.Text at 0x109bc3e90>"
      ]
     },
     "execution_count": 15,
     "metadata": {},
     "output_type": "execute_result"
    },
    {
     "data": {
      "image/png": "[encoded data removed]",
      "text/plain": [
       "<matplotlib.figure.Figure at 0x109aa8b50>"
      ]
     },
     "metadata": {},
     "output_type": "display_data"
    }
   ],
   "source": [
    "ax = subplot(111)\n",
    "\n",
    "x = np.linspace(0.1, 10.0, 30)\n",
    "y = (x + 1) ** (1.0 / 3.0) / x\n",
    "\n",
    "plot(x, y, linewidth=1)\n",
    "ylim([0, 1.6])\n",
    "\n",
    "figtext(0.5, 0.0, r'$x$', fontsize=16)\n",
    "figtext(-0.1, 0.5, r'$\\frac{(x + 1)^{1/3}} {x}$', fontsize=20)\n"
   ]
  },
  {
   "cell_type": "markdown",
   "metadata": {},
   "source": [
    "$$\n",
    "\\begin{align}\n",
    "{(X + 1)^{1/3} \\over X} \\to {1 \\over 0} \\to \\infty \\;as\\; X \\to 0 \\cr\n",
    "{(X + 1)^{1/3} \\over X} \\to {1 \\over X^{2/3}} \\to 0 \\;as\\; X \\to \\infty \\cr\n",
    "\\end{align}\n",
    "$$"
   ]
  },
  {
   "cell_type": "markdown",
   "metadata": {},
   "source": [
    "We can then replace"
   ]
  },
  {
   "cell_type": "markdown",
   "metadata": {},
   "source": [
    "$$\n",
    "{(X + 1)^{1/3} \\over X} \\to {1 \\over 2^{2/3}} \\left({1 \\over X} H(1 - X) + {1 \\over X^{2/3}} H(X - 1) \\right)\n",
    "$$"
   ]
  },
  {
   "cell_type": "markdown",
   "metadata": {},
   "source": [
    "where $H(X)$ is the Heaviside function.  This matches the original and approximate function at $X = 1$."
   ]
  },
  {
   "cell_type": "code",
   "execution_count": 23,
   "metadata": {
    "collapsed": false
   },
   "outputs": [
    {
     "name": "stdout",
     "output_type": "stream",
     "text": [
      "1.0 (1.2599210498948732, 1.2599210498948732)\n",
      "\n",
      "0.01 (100.33222835420892, 62.996052494743658)\n",
      "0.114736842105 (9.0369363958408133, 5.4904816394501355)\n",
      "0.219473684211 (4.867900473084779, 2.870323734772493)\n",
      "0.324210526316 (3.3870782812733755, 1.9430600607144959)\n",
      "0.428947368421 (2.6258388519751166, 1.4686196287118154)\n",
      "0.533684210526 (2.1608649647961906, 1.1803994057200489)\n",
      "0.638421052632 (1.8465793445707264, 0.98674773075031286)\n",
      "0.743157894737 (1.6194385750235742, 0.84768059305958177)\n",
      "0.847894736842 (1.447273033174582, 0.74297020322788931)\n",
      "0.952631578947 (1.312044189588691, 0.66128452895034784)\n",
      "1.05736842105 (1.2028487485716228, 0.60696331874825027)\n",
      "1.16210526316 (1.1127052655395591, 0.56992322785321359)\n",
      "1.26684210526 (1.0369343649104974, 0.53806120099582111)\n",
      "1.37157894737 (0.9722808195449153, 0.51030849257788147)\n",
      "1.47631578947 (0.91640913767356358, 0.48587791569681804)\n",
      "1.58105263158 (0.86759949949942894, 0.46417575374142706)\n",
      "1.68578947368 (0.82455694014772152, 0.44474503769685986)\n",
      "1.79052631579 (0.78628742932439866, 0.42722782547968918)\n",
      "1.89526315789 (0.75201498433454017, 0.41133941171208444)\n",
      "2.0 (0.72112478515370415, 0.3968502629920499)\n"
     ]
    }
   ],
   "source": [
    "def heavi(t, c=0):\n",
    "    return float(t >= c)\n",
    "\n",
    "def heavi_x(x):\n",
    "    return 1.0 / 2.0 ** (2.0 / 3.0) * (1.0 / x * heavi(1.0, x) + 1.0 / x ** (2.0 / 3.0) * heavi(x, 1.0))\n",
    "\n",
    "def norm_x(x):\n",
    "    return (x + 1.0) ** (1./3.) / x\n",
    "\n",
    "# Note: Bill, do these numbers look reasonable??\n",
    "print 1.0, (norm_x(1.0), heavi_x(1.0))\n",
    "print\n",
    "for x in np.linspace(0.01, 2, 20):\n",
    "    print x, (norm_x(x), heavi_x(x))\n"
   ]
  },
  {
   "cell_type": "markdown",
   "metadata": {},
   "source": [
    "Then the equation can be approximately solved for low solubility oils as"
   ]
  },
  {
   "cell_type": "markdown",
   "metadata": {},
   "source": [
    "$$\n",
    "\\begin{align}\n",
    "\\int_{X_0}^X {(X + 1)^{1/3} \\over X} \\cdot dX &\\simeq \\int_{X_0}^X {1 \\over 2^{2/3} X} \\cdot dX \\cr\n",
    "&\\simeq {1 \\over 2^{2/3}} ln \\left( {X \\over X_0} \\right) \\;\\;\\forall\\; X_0 < 1 \\cr\n",
    "\\end{align}\n",
    "$$"
   ]
  },
  {
   "cell_type": "markdown",
   "metadata": {},
   "source": [
    "This yields the solution"
   ]
  },
  {
   "cell_type": "markdown",
   "metadata": {},
   "source": [
    "$$\n",
    "\\begin{align}\n",
    "X &= X_0 e^{2^{2/3} \\beta t} \\cr\n",
    "&= X_0 e^{1.6 \\beta t} \\cr\n",
    "\\end{align}\n",
    "$$"
   ]
  },
  {
   "cell_type": "markdown",
   "metadata": {},
   "source": [
    "If however the initial condition is such that the dissolvable volume is larger than the inert volume (e.g. gasoline spills), then $X_0 > 1$ and we would use"
   ]
  },
  {
   "cell_type": "markdown",
   "metadata": {},
   "source": [
    "$$\n",
    "\\int_{X_0}^X {(X + 1)^{1/3} \\over X} \\cdot dX \\simeq \\int_{X_0}^X X^{-2/3} \\cdot dX \\;\\;\\;\\forall\\; X_0 \\gg 1\n",
    "$$"
   ]
  },
  {
   "cell_type": "markdown",
   "metadata": {},
   "source": [
    "This yields the solution"
   ]
  },
  {
   "cell_type": "markdown",
   "metadata": {},
   "source": [
    "$$\n",
    "X \\simeq \\left( X_0^{1/3} + {1 \\over 5} \\beta t \\right)^3\n",
    "$$"
   ]
  },
  {
   "cell_type": "markdown",
   "metadata": {},
   "source": [
    "<br>\n",
    "For $X$ close to 1, the answer is between the two extremes."
   ]
  },
  {
   "cell_type": "markdown",
   "metadata": {},
   "source": [
    "## <u>Programming Instructions (still in a very draft stage)</u>"
   ]
  },
  {
   "cell_type": "markdown",
   "metadata": {
    "collapsed": false
   },
   "source": [
    "<i>SURFACE SLICKS ONLY (ADIOS3/GNOME2 does not support subsurface spills yet)</i>"
   ]
  },
  {
   "cell_type": "markdown",
   "metadata": {},
   "source": [
    "The calculation of $K_{ow}$ is only weakly time-dependent, changing as the various SARA mass fractions change.\n",
    "Therefore it is probably sufficient to recalculate $K_{ow}$ every $n_{step}$ where a first guess might be $n_{step} = 100$.  Use formula in Equation 1.8."
   ]
  },
  {
   "cell_type": "code",
   "execution_count": null,
   "metadata": {
    "collapsed": true
   },
   "outputs": [],
   "source": []
  }
 ],
 "metadata": {
  "kernelspec": {
   "display_name": "Python 2",
   "language": "python",
   "name": "python2"
  },
  "language_info": {
   "codemirror_mode": {
    "name": "ipython",
    "version": 2
   },
   "file_extension": ".py",
   "mimetype": "text/x-python",
   "name": "python",
   "nbconvert_exporter": "python",
   "pygments_lexer": "ipython2",
   "version": "2.7.10"
  }
 },
 "nbformat": 4,
 "nbformat_minor": 0
}
