{
 "metadata": {
  "name": "",
  "signature": "sha256:18d1891edb3170f4a767d0974edcff9112042b9ddb9cc99693ec309547cb616b"
 },
 "nbformat": 3,
 "nbformat_minor": 0,
 "worksheets": [
  {
   "cells": [
    {
     "cell_type": "heading",
     "level": 1,
     "metadata": {},
     "source": [
      "<center>Dissolution</center>"
     ]
    },
    {
     "cell_type": "heading",
     "level": 3,
     "metadata": {},
     "source": [
      "<center>\n",
      "    From Bill's dissolution algorithm document<br>\n",
      "    August 2015\n",
      "</center>"
     ]
    },
    {
     "cell_type": "heading",
     "level": 2,
     "metadata": {},
     "source": [
      "<u>Summary</u>"
     ]
    },
    {
     "cell_type": "markdown",
     "metadata": {},
     "source": [
      "ADIOS3 replaces the ADIOS2 formulas by an expanded version of the new SOLUTE-SINK or BM model of LSU<br>\n",
      "(Thibodeaux and Overton, 2014; Stevens, 2013; Stevens et al 2015)<br>\n",
      "The BM model separates the spilled oil into volumes that will dissolve and volumes that will not dissolve."
     ]
    },
    {
     "cell_type": "markdown",
     "metadata": {},
     "source": [
      "Based upon Biot number (???), notes from old MacKay papers and discussions with Thibodeaux, practical dissolution is only dependent upon:\n",
      "<ol>\n",
      "    <li>The oil-water surface resistance</li>\n",
      "    <li>Is limited to aromatics</li>\n",
      "    <li>Decreases with increasing carbon number</li>\n",
      "</ol>"
     ]
    },
    {
     "cell_type": "markdown",
     "metadata": {},
     "source": [
      "According to Cohen et al (1980), equation 19, we can estimate mass transfer rate of the soluble component N as:"
     ]
    },
    {
     "cell_type": "markdown",
     "metadata": {},
     "source": [
      "$$\n",
      "\\begin{align}\n",
      "K_{ow} &= \\text{partition coefficient} (C_{oil}/C_w) \\cr\n",
      "C_{oil} &= \\text{saturation concentration in oil} (kg/m^3) \\cr\n",
      "C_w &= \\text{saturation concentration in water} (kg/m^3) \\cr\n",
      "k_w &= \\text{water phase transfer velocity} (m/sec) \\cr\n",
      "\\cr\n",
      "N &= k_w \\cdot C_{oil} / K_{ow} \\cr\n",
      "\\end{align}\n",
      "$$"
     ]
    },
    {
     "cell_type": "markdown",
     "metadata": {},
     "source": [
      "Dissolution may occur from the bottom of the surface slick and from the surface of dispersed oil droplets.\n",
      "If one compares specific saturate hydrocarbons to aromatic hydrocarbons with similar molecular weight,\n",
      "e.g n-octane with mw of 114 and toluene with mw of 92,\n",
      "one finds that the partition coefficient of the saturate is orders of magnitude smaller than that for the weight equivalent aromatic;\n",
      "$ 10^{-6} $ for n-octane versus $ 10^{-3} $ for toluene.<br>\n",
      "Therefore, ADIOS3 treats non-aromatic compounds as essentially insoluble."
     ]
    },
    {
     "cell_type": "markdown",
     "metadata": {},
     "source": [
      "Among aromatics, the partition coefficient decreases with an increase in density.  ADIOS3 combines correlations by Huibers and Katritzky (1998) and Banarjee et al (1980) to estimate the correlation between a specific aromatic hydrocarbon's density and molecular weight with its partition coefficient."
     ]
    },
    {
     "cell_type": "markdown",
     "metadata": {},
     "source": [
      "$$\n",
      "\\begin{align}\n",
      "\\rho_{arom} &= \\text{Aromatic Density} \\cr\n",
      "M_w &= \\text{Molecular Weight} \\cr\n",
      "S &= \\text{Solubility} \\cr\n",
      "\\cr\n",
      "S &= Huibers(\\rho_{arom}, M_w) \\cr\n",
      "K_{ow} &= Banarjee(S) \\cr\n",
      "&= Banarjee(Huibers(\\rho_{arom}, M_w))\n",
      "\\end{align}\n",
      "$$"
     ]
    },
    {
     "cell_type": "markdown",
     "metadata": {},
     "source": [
      "Huibers relates solubility (moles/liter) to molar volume, $ mv $, measured in cubic angstroms.\n",
      "Assuming that molar volume can be expressed as molecular weight, $ molw $, divided by density, $ \\rho $, and using proper mks units for molecular weight $ (kg/kmole) $ and density $ (kg/m^3) $ we get:"
     ]
    },
    {
     "cell_type": "markdown",
     "metadata": {},
     "source": [
      "$$\n",
      "\\begin{align}\n",
      "mv &= \\text{Molar Volume} \\cr\n",
      "\\cr\n",
      "S_w &= \\alpha 10^{-0.038mv} \\cr\n",
      "&= \\alpha \\cdot (10^{-0.038})^{mv} \\cr\n",
      "&= \\alpha \\cdot (e^{-0.087})^{mv} \\cr\n",
      "&= \\alpha \\cdot e^{-0.087mv} \\cr\n",
      "&\\text{and so finally we get...} \\cr\n",
      "&= \\alpha \\cdot exp \\left( -0.087 \\cdot {molw \\over \\rho} \\right) \\cr\n",
      "\\end{align}\n",
      "$$"
     ]
    },
    {
     "cell_type": "markdown",
     "metadata": {},
     "source": [
      "Banarjee relates $ K_{ow} $ (liter/liter???) to $ S_w $ (mole/liter???) as:+ "
     ]
    },
    {
     "cell_type": "markdown",
     "metadata": {},
     "source": [
      "$$\n",
      "\\begin{align}\n",
      "K_{ow} &\\varpropto S_w^{-2/3} \\cr\n",
      "\\end{align}\n",
      "$$"
     ]
    },
    {
     "cell_type": "markdown",
     "metadata": {},
     "source": [
      "And Combining the two equations gives:"
     ]
    },
    {
     "cell_type": "markdown",
     "metadata": {},
     "source": [
      "$$\n",
      "\\begin{align}\n",
      "K_{ow(j)} &= \\left( \\alpha \\cdot e^{-0.087 {molWt_j \\over \\rho_j}} \\right)^{-2/3} \\cr\n",
      "K_{ow(j)} &= A \\cdot e^{{-0.087 \\cdot -2 \\over 3} \\cdot {molWt_j \\over \\rho_j}} \\cr\n",
      "K_{ow(j)} &= A \\cdot e^{0.058 {molWt_j \\over \\rho_j}} \\cr\n",
      "\\end{align}\n",
      "$$"
     ]
    },
    {
     "cell_type": "markdown",
     "metadata": {},
     "source": [
      "ADIOS3 separates the aromatics into distillation cut components.  For any component $ j $, molecular weight and density are part of the ADIOS3 oil property database, usually by approximation from other properties."
     ]
    },
    {
     "cell_type": "markdown",
     "metadata": {},
     "source": [
      "<br><br>\n",
      "Using the measured values of a known aromatic such as toluene, for example, with a molecular weight of 92.1 $ kg/kmole$ , density of 866 $ kg/m^3 $, and $ K_{ow(j)} $ of 1000, the constant $ A $ can be estimated as 994."
     ]
    },
    {
     "cell_type": "code",
     "collapsed": false,
     "input": [
      "import numpy as np\n",
      "mol_wt = 92.1\n",
      "density = 866.0\n",
      "k_ow = 1000.0\n",
      "\n",
      "print 1000 / np.exp(0.058 * mol_wt / density)"
     ],
     "language": "python",
     "metadata": {},
     "outputs": [
      {
       "output_type": "stream",
       "stream": "stdout",
       "text": [
        "993.850625001\n"
       ]
      }
     ],
     "prompt_number": 3
    },
    {
     "cell_type": "markdown",
     "metadata": {},
     "source": [
      "So if we quickly compile the above formula reductions, we get the following:"
     ]
    },
    {
     "cell_type": "code",
     "collapsed": false,
     "input": [
      "class BanarjeeHuibers(object):\n",
      "    @classmethod\n",
      "    def partition_coeff(cls, mol_wt, density):\n",
      "        return 993.85 * exp(0.058 * mol_wt / density)"
     ],
     "language": "python",
     "metadata": {},
     "outputs": [],
     "prompt_number": 17
    },
    {
     "cell_type": "markdown",
     "metadata": {},
     "source": [
      "Given that ADIOS3 will approximate both density and molecular weight from distillation cut temperatures, it makes sense to compute $ K_{ow} $ directly from the distillation cuts."
     ]
    },
    {
     "cell_type": "markdown",
     "metadata": {},
     "source": [
      "Using Riazi (2005), aromatic molecular weight can be approximated from distillation cut temperature $ T_j $ (in Kelvin) as:"
     ]
    },
    {
     "cell_type": "markdown",
     "metadata": {},
     "source": [
      "$$\n",
      "\\begin{align}\n",
      "molWt_j &= 350 \\cdot (6.98 - ln(1070 - T_j))^{3/2}\n",
      "\\end{align}\n",
      "$$"
     ]
    },
    {
     "cell_type": "markdown",
     "metadata": {},
     "source": [
      "and aromatic density $ (kg/m^3) $ as:"
     ]
    },
    {
     "cell_type": "markdown",
     "metadata": {},
     "source": [
      "$$\n",
      "\\begin{align}\n",
      "\\rho_j &= 100 \\cdot T_j^{1/3}\n",
      "\\end{align}\n",
      "$$"
     ]
    },
    {
     "cell_type": "markdown",
     "metadata": {},
     "source": [
      "Setting $ \\lambda_j = {molWt_j \\over \\rho_j} $, the graph of $ \\lambda_j $ over the typical range of distillation cuts looks like the following:"
     ]
    },
    {
     "cell_type": "code",
     "collapsed": false,
     "input": [
      "class Riazi(object):\n",
      "    @classmethod\n",
      "    def mol_wt(cls, temp):\n",
      "        return 350.0 * (6.98 - np.log(1070.0 - temp)) ** (3.0 / 2.0)\n",
      "    \n",
      "    @classmethod\n",
      "    def density(cls, temp):\n",
      "        return 100.0 * temp ** (1.0 / 3.0)\n",
      "    \n",
      "    @classmethod\n",
      "    def lamb(cls, temp):\n",
      "        return cls.mol_wt(temp) / cls.density(temp)\n"
     ],
     "language": "python",
     "metadata": {},
     "outputs": [],
     "prompt_number": 15
    },
    {
     "cell_type": "code",
     "collapsed": false,
     "input": [
      "from pylab import *\n",
      "%matplotlib inline\n",
      "\n",
      "ax = subplot(111)\n",
      "\n",
      "x = np.linspace(300.0, 700.0, 20)\n",
      "y = Riazi.lamb(x)\n",
      "\n",
      "plot(x, y, linewidth=1)\n",
      "\n",
      "figtext(0.3, 0.05, 'distillation cut (in Kelvine)')\n",
      "\n",
      "show()"
     ],
     "language": "python",
     "metadata": {},
     "outputs": [
      {
       "metadata": {},
       "output_type": "display_data",
       "png": "[encoded data removed]",
       "text": [
        "<matplotlib.figure.Figure at 0x1080ad950>"
       ]
      }
     ],
     "prompt_number": 18
    },
    {
     "cell_type": "markdown",
     "metadata": {},
     "source": [
      "and then $ K_{ow} $ then plots as a function of distillation cuts as:"
     ]
    },
    {
     "cell_type": "code",
     "collapsed": false,
     "input": [
      "ax = subplot(111)\n",
      "\n",
      "temps = np.linspace(300.0, 700.0, 20)\n",
      "x = Riazi.lamb(temps)\n",
      "y = BanarjeeHuibers.partition_coeff(Riazi.mol_wt(temps),\n",
      "                                    Riazi.density(temps))\n",
      "\n",
      "plot(x, y, linewidth=1)\n",
      "\n",
      "figtext(0.5, 0.0, 'lambda')\n",
      "figtext(0.0, 0.5, 'Kow')\n",
      "\n",
      "show()"
     ],
     "language": "python",
     "metadata": {},
     "outputs": [
      {
       "metadata": {},
       "output_type": "display_data",
       "png": "[encoded data removed]",
       "text": [
        "<matplotlib.figure.Figure at 0x1081b0290>"
       ]
      }
     ],
     "prompt_number": 28
    },
    {
     "cell_type": "markdown",
     "metadata": {},
     "source": [
      "In order to calculate an overall $ K_{ow} $, it is necessary to do a molar average of the aromatic components.<br>\n",
      "ADIOS3 stores the mass fraction, $ fmass_j $, of each component."
     ]
    },
    {
     "cell_type": "markdown",
     "metadata": {},
     "source": [
      "$$\n",
      "\\begin{align}\n",
      "K_{ow} &= { \\sum\\limits_j {fmass_j \\over molWt_j} \\cdot K_{ow(j)} \\over \\sum\\limits_j {fmass_j \\over molWt_j} }\n",
      "\\end{align}\n",
      "$$"
     ]
    },
    {
     "cell_type": "markdown",
     "metadata": {},
     "source": [
      "and it is convenient to define:"
     ]
    },
    {
     "cell_type": "markdown",
     "metadata": {},
     "source": [
      "$$\n",
      "\\begin{align}\n",
      "\\alpha_j &= { {fmass_j \\over molWt_j} \\over \\sum\\limits_j {fmass_j \\over molWt_j} } \\cr\n",
      "&with... \\cr\n",
      "\\sum\\limits_j \\alpha_j &= 1 \\cr\n",
      "\\end{align}\n",
      "$$"
     ]
    },
    {
     "cell_type": "markdown",
     "metadata": {},
     "source": [
      "The preceding equation can then be written as:"
     ]
    },
    {
     "cell_type": "markdown",
     "metadata": {},
     "source": [
      "$$\n",
      "K_{ow} = \\sum\\limits_j \\alpha_j \\cdot K_{ow(j)}\n",
      "$$"
     ]
    },
    {
     "cell_type": "markdown",
     "metadata": {},
     "source": [
      "The water phase transfer velocity $ k_w $ can be calculated for small buoyant droplets using Stoke's law, assuming steady-state velocity given by: "
     ]
    },
    {
     "cell_type": "markdown",
     "metadata": {},
     "source": [
      "$$\n",
      "\\begin{align}\n",
      "k_w &= {1 \\over 18\\pi} \\Delta_\\rho \\cdot {g \\cdot A_{drop} \\over v_w} \\cr\n",
      "&= {g \\over 18\\pi \\cdot v_w} \\cdot \\Delta_\\rho \\cdot A_{drop}  \\cr\n",
      "&\\simeq 176 \\cdot 10^3 \\cdot \\Delta_\\rho \\cdot A_{drop} \\cr\n",
      "\\end{align}\n",
      "$$"
     ]
    },
    {
     "cell_type": "markdown",
     "metadata": {},
     "source": [
      "where $ \\Delta_\\rho $ is the relative oil-water density difference and $ v_w $ is the kinematic water viscosity $ \\simeq 1 $ centistoke."
     ]
    },
    {
     "cell_type": "markdown",
     "metadata": {},
     "source": [
      "$$\n",
      "\\begin{align}\n",
      "176 \\cdot 10^3 &= {g \\over 18\\pi \\cdot v_w} \\cr\n",
      "176 \\cdot 10^3 \\cdot 18\\pi &= {g \\over v_w} \\cr\n",
      "\\end{align}\n",
      "$$"
     ]
    },
    {
     "cell_type": "markdown",
     "metadata": {},
     "source": [
      "This assumes spherical droplets with a droplet diameter $ \\delta_{drop} $ less than 400 microns.  Droplets bigger than this will be distorted and rise more rapidly (Tkalich and Chan, 2002).  They are presumed by ADIOS3 to rise so quickly that little dissolution takes place for them except as part of the dissolution from the surface slick."
     ]
    },
    {
     "cell_type": "markdown",
     "metadata": {},
     "source": [
      "Below is a plot of $ k_w $ (m/sec) versus droplet diameter (microns) for oil-water density difference equal to {0.1, 0.2, 0.3}."
     ]
    },
    {
     "cell_type": "code",
     "collapsed": false,
     "input": [],
     "language": "python",
     "metadata": {},
     "outputs": []
    }
   ],
   "metadata": {}
  }
 ]
}