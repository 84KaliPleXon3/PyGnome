{
 "cells": [
  {
   "cell_type": "markdown",
   "metadata": {},
   "source": [
    "# <center>Notes on Modified Water Phase Transfer Velocity</center>"
   ]
  },
  {
   "cell_type": "markdown",
   "metadata": {},
   "source": [
    "### <center>In Regards to the Dissolution Weathering Process</center>"
   ]
  },
  {
   "cell_type": "markdown",
   "metadata": {},
   "source": [
    "### <center>By: Bill Lehr</center>"
   ]
  },
  {
   "cell_type": "markdown",
   "metadata": {},
   "source": [
    "## Present Procedure"
   ]
  },
  {
   "cell_type": "markdown",
   "metadata": {},
   "source": [
    "The water phase transfers velocity is taken as the Stokes velocity for the individual droplet."
   ]
  },
  {
   "cell_type": "markdown",
   "metadata": {},
   "source": [
    "$$\n",
    "\\begin{align}\n",
    "k_w &= \\text{water phase transfer velocity} (m/s) \\cr\n",
    "&= { 1 \\over 18 \\pi } \\Delta_\\rho \\cdot { g \\cdot A_{drop} \\over v_w } \\cr\n",
    "&= 1.76 \\cdot 10^5 \\cdot \\Delta_\\rho \\cdot A_{drop} \\cr\n",
    "\\end{align}\n",
    "$$"
   ]
  },
  {
   "cell_type": "markdown",
   "metadata": {},
   "source": [
    "## Revised Procedure"
   ]
  },
  {
   "cell_type": "markdown",
   "metadata": {},
   "source": [
    "As the note from Louis Thibodeaux confirms, not including turbulent velocity will underestimate dissolution from the submerged droplets.  The revised procedure is to replace $k_w$ with a new term $\\bar {k_w}$, which represents the old transfer velocity plus an additional term that accounts for turbulent induced dispersion.  At the scale of the breaking wave layer, turbulence is assumed to be isotropic (average dispersion in all directions is the same).  Adios3 uses the choice of Thorpe (1984, Figure 6) for turbulent diffusion coefficient, $K_{dif}$."
   ]
  },
  {
   "cell_type": "markdown",
   "metadata": {},
   "source": [
    "$$\n",
    "\\begin{align}\n",
    "K_{dif} &= 0.018 \\,\\, m^2 / s \\cr\n",
    "\\end{align}\n",
    "$$"
   ]
  },
  {
   "cell_type": "markdown",
   "metadata": {},
   "source": [
    "As the note from Louis indicates, this is a higher value than the ocean mixed layer, but is reasonable for modeling the breaking wave layer.  To account for this extra velocity term, the following replacement is done in the code:"
   ]
  },
  {
   "cell_type": "markdown",
   "metadata": {},
   "source": [
    "$$\n",
    "\\begin{align}\n",
    "k_w &\\rightarrow \\bar {k_w} \\cr\n",
    "\\bar {k_w} &= k_w + \\sqrt {K_{dif} \\over \\Delta t} \\cr\n",
    "&= k_w + 0.13 \\,\\, m/s \\qquad \\qquad \\qquad \\boldsymbol{(eq. 1.1)} \\cr\n",
    "\\end{align}\n",
    "$$"
   ]
  },
  {
   "cell_type": "markdown",
   "metadata": {},
   "source": [
    "The net vertical displacement of the LE is also modified."
   ]
  },
  {
   "cell_type": "markdown",
   "metadata": {},
   "source": [
    "$$\n",
    "\\begin{align}\n",
    "\\Delta z &= k_w \\Delta t \\cr\n",
    "\\Delta z &\\rightarrow \\bar {\\Delta z} \\cr\n",
    "\\cr\n",
    "\\bar {\\Delta z} &= k_w \\Delta t + \\sqrt{K_{dif} \\Delta t} \\cdot Sin(\\theta_{rnd}) \\qquad \\qquad \\qquad \\boldsymbol{(eq. 1.2)} \\cr\n",
    "\\end{align}\n",
    "$$"
   ]
  },
  {
   "cell_type": "markdown",
   "metadata": {},
   "source": [
    "Where $\\theta_{rnd}$ is a random number with uniform distribution between $0 \\leq \\theta_{rnd} \\leq 2 \\pi$.  As James observed, the net vertical displacement remains the same (distance from original droplet location to the surface) but the actual path the droplet travels is increased due to its zig-zag trajectory.\n",
    "For our model, the refloat time is kept the same (See Subsurface loss notes, July 2016)"
   ]
  },
  {
   "cell_type": "markdown",
   "metadata": {},
   "source": [
    "$$\n",
    "\\begin{align}\n",
    "T_{ref}(le) &= {depth(le) \\over k_w(le)} \\qquad \\qquad \\qquad \\boldsymbol{(eq. 1.3)} \\cr\n",
    "\\end{align}\n",
    "$$"
   ]
  },
  {
   "cell_type": "code",
   "execution_count": null,
   "metadata": {
    "collapsed": true
   },
   "outputs": [],
   "source": []
  }
 ],
 "metadata": {
  "kernelspec": {
   "display_name": "Python 2",
   "language": "python",
   "name": "python2"
  },
  "language_info": {
   "codemirror_mode": {
    "name": "ipython",
    "version": 2
   },
   "file_extension": ".py",
   "mimetype": "text/x-python",
   "name": "python",
   "nbconvert_exporter": "python",
   "pygments_lexer": "ipython2",
   "version": "2.7.11"
  }
 },
 "nbformat": 4,
 "nbformat_minor": 0
}
