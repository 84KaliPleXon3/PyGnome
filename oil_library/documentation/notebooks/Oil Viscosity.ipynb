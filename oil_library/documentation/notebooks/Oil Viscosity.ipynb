{
 "metadata": {
  "name": "",
  "signature": "sha256:0043a72598534e60ecd9e9e6082314386eb98b12a3ef347633eac6a929db71fa"
 },
 "nbformat": 3,
 "nbformat_minor": 0,
 "worksheets": [
  {
   "cells": [
    {
     "cell_type": "heading",
     "level": 1,
     "metadata": {},
     "source": [
      "<center>Oil Viscosity Estimation</center>"
     ]
    },
    {
     "cell_type": "heading",
     "level": 2,
     "metadata": {},
     "source": [
      "<center>\n",
      "    A Description of the Methods Used<br>\n",
      "    Which Includes Some Examples\n",
      "</center>"
     ]
    },
    {
     "cell_type": "markdown",
     "metadata": {},
     "source": [
      "The viscosity of an oil can factor into many calculations that are needed in the response of a spill, such as spreading and dispersion.<br>\n",
      "In the PyGnome oil library, kinematic viscosity is primarily used, although the imported oil records sometimes do contain dynamic viscosity measurements."
     ]
    },
    {
     "cell_type": "markdown",
     "metadata": {},
     "source": [
      "We would like to maintain as much of the useful imported information as we can.  So when we do encounter imported records with dynamic viscosities, we convert them to kinematic for use with the oil library."
     ]
    },
    {
     "cell_type": "markdown",
     "metadata": {},
     "source": [
      "The conversion from dynamic viscosity to kinematic viscosity is:"
     ]
    },
    {
     "cell_type": "markdown",
     "metadata": {},
     "source": [
      "$$\n",
      "\\begin{align}\n",
      "\\eta0_{oil} &= \\text{the dynamic viscosity of our oil in } Pa \\cdot s \\text{ (aka } {kg \\over m \\cdot s} \\text{ )} \\cr\n",
      "\\rho0_{oil} &= \\text{the density of our oil in } kg/m^3 \\cr\n",
      "v0_{oil} &= {\\eta0_{oil} \\over \\rho0_{oil} } = \\text{the kinematic viscosity of our oil in } m^2 / s\n",
      "\\end{align}\n",
      "$$"
     ]
    },
    {
     "cell_type": "heading",
     "level": 3,
     "metadata": {},
     "source": [
      "<center>Some Examples</center>"
     ]
    },
    {
     "cell_type": "markdown",
     "metadata": {},
     "source": [
      "Ok, let's apply this to some examples using records in our oil library.<br>\n",
      "First we will import some things from our oil library that we will need."
     ]
    },
    {
     "cell_type": "code",
     "collapsed": false,
     "input": [
      "from oil_library import get_oil, get_oil_props, _get_db_session\n",
      "from oil_library.models import (Base, ImportedRecord, Oil,\n",
      "                                Density, Toxicity, Category)\n",
      "from oil_library.oil_props import OilProps\n",
      "\n",
      "session = _get_db_session()"
     ],
     "language": "python",
     "metadata": {},
     "outputs": [],
     "prompt_number": 2
    },
    {
     "cell_type": "markdown",
     "metadata": {},
     "source": [
      "Now we can query for an oil that we are interested in."
     ]
    },
    {
     "cell_type": "heading",
     "level": 4,
     "metadata": {},
     "source": [
      "Example 1:  Estimating Kinematic Viscosity"
     ]
    },
    {
     "cell_type": "markdown",
     "metadata": {},
     "source": [
      "For this example, we will examine an oil that has no kinematic viscosities, but does in fact have a measured dynamic viscosity."
     ]
    },
    {
     "cell_type": "code",
     "collapsed": false,
     "input": [
      "oil_obj = (session.query(Oil)\n",
      "           .filter(Oil.name == 'ESCRAVOS SWAMP BLEND, CHEVRON')\n",
      "           .one())\n",
      "print oil_obj\n",
      "print oil_obj.imported.dvis\n",
      "print oil_obj.imported.kvis"
     ],
     "language": "python",
     "metadata": {},
     "outputs": [
      {
       "output_type": "stream",
       "stream": "stdout",
       "text": [
        "<Oil(\"ESCRAVOS SWAMP BLEND, CHEVRON\")>\n",
        "[<DVis(0.00895 kg/ms at 303.0K)>]\n",
        "[]"
       ]
      },
      {
       "output_type": "stream",
       "stream": "stdout",
       "text": [
        "\n"
       ]
      }
     ],
     "prompt_number": 12
    },
    {
     "cell_type": "markdown",
     "metadata": {},
     "source": [
      "The imported record for this oil contains a dynamic viscosity, but no kinematic viscosity.  So we will need to convert it to a kinematic viscosity using the method above.<br>\n",
      "So in order to do that, we need to get the density for this oil."
     ]
    },
    {
     "cell_type": "code",
     "collapsed": false,
     "input": [
      "print oil_obj.imported.densities\n",
      "print oil_obj.imported.api"
     ],
     "language": "python",
     "metadata": {},
     "outputs": [
      {
       "output_type": "stream",
       "stream": "stdout",
       "text": [
        "[]\n",
        "38.0\n"
       ]
      }
     ],
     "prompt_number": 17
    },
    {
     "cell_type": "markdown",
     "metadata": {},
     "source": [
      "Alright, you can see that the imported record for this oil also has no densities, but it does have an API.  So of course we will need to convert the API to a density at $ 15^\\circ C $.<br>\n",
      "Fortunately, the oil object already has this estimated.<br>\n",
      "<i>(For details on this, please see the Oil density discussion )</i>"
     ]
    },
    {
     "cell_type": "code",
     "collapsed": false,
     "input": [
      "print oil_obj.densities"
     ],
     "language": "python",
     "metadata": {},
     "outputs": [
      {
       "output_type": "stream",
       "stream": "stdout",
       "text": [
        "[<Density(834.808259587 kg/m^3 at 288.15K)>]\n"
       ]
      }
     ],
     "prompt_number": 18
    },
    {
     "cell_type": "markdown",
     "metadata": {},
     "source": [
      "Now, is this the density value we want?  Not really, because we would really like to know what the oil density is at $ 303^\\circ K $"
     ]
    },
    {
     "cell_type": "markdown",
     "metadata": {},
     "source": [
      "For a full discussion of calculating the oil density at a temperature, please see the Oil Density notebook document.  But for our purposes, we will use the convienience function get_density() located in the PyGnome oil_library module."
     ]
    },
    {
     "cell_type": "code",
     "collapsed": false,
     "input": [
      "from oil_library.utilities import get_density\n",
      "density_at_303k = get_density(oil_obj, 303.0)\n",
      "print density_at_303k"
     ],
     "language": "python",
     "metadata": {},
     "outputs": [
      {
       "output_type": "stream",
       "stream": "stdout",
       "text": [
        "746.163978894\n"
       ]
      }
     ],
     "prompt_number": 21
    },
    {
     "cell_type": "markdown",
     "metadata": {},
     "source": [
      "Alright, now we have the dynamic viscosity and the density.  Now we can calculate the kinematic viscosity at $ 303^\\circ K $"
     ]
    },
    {
     "cell_type": "code",
     "collapsed": false,
     "input": [
      "dvis = oil_obj.imported.dvis[0]\n",
      "dvis.kg_ms\n",
      "kinematic_viscosity_at_303k = dvis.kg_ms / density_at_303k\n",
      "print kinematic_viscosity_at_303k"
     ],
     "language": "python",
     "metadata": {},
     "outputs": [
      {
       "output_type": "stream",
       "stream": "stdout",
       "text": [
        "1.19946824735e-05\n"
       ]
      }
     ],
     "prompt_number": 26
    },
    {
     "cell_type": "markdown",
     "metadata": {},
     "source": [
      "Ok, let's see if that is what was estimated for our oil."
     ]
    },
    {
     "cell_type": "code",
     "collapsed": false,
     "input": [
      "print oil_obj.kvis"
     ],
     "language": "python",
     "metadata": {},
     "outputs": [
      {
       "output_type": "stream",
       "stream": "stdout",
       "text": [
        "[<KVis(1.19946824735e-05 m^2/s at 303.0K)>]\n"
       ]
      }
     ],
     "prompt_number": 27
    },
    {
     "cell_type": "markdown",
     "metadata": {},
     "source": [
      "Sure enough, the oil object has a kinematic value that matches our work."
     ]
    },
    {
     "cell_type": "heading",
     "level": 4,
     "metadata": {},
     "source": [
      "Example 2:  Dynamic Viscosities must be at unique temperatures."
     ]
    },
    {
     "cell_type": "code",
     "collapsed": false,
     "input": [
      "oil_obj = (session.query(Oil)\n",
      "           .filter(Oil.name == 'DESTIN DOME CIS, MMS')\n",
      "           .one())\n",
      "print oil_obj\n",
      "print oil_obj.imported.dvis\n",
      "print oil_obj.imported.kvis"
     ],
     "language": "python",
     "metadata": {},
     "outputs": [
      {
       "output_type": "stream",
       "stream": "stdout",
       "text": [
        "<Oil(\"DESTIN DOME CIS, MMS\")>\n",
        "[<DVis(0.00274 kg/ms at 313.0K)>]\n",
        "[<KVis(3.16e-06 m^2/s at 313.0K)>]\n"
       ]
      }
     ],
     "prompt_number": 28
    },
    {
     "cell_type": "markdown",
     "metadata": {},
     "source": [
      "This record has both a dynamic and kinematic density at $ 313^\\circ K $. "
     ]
    },
    {
     "cell_type": "markdown",
     "metadata": {},
     "source": [
      "If an oil record has both a kinematic and dynamic viscosity at a particular temperature, we will prefer the kinematic.  "
     ]
    },
    {
     "cell_type": "code",
     "collapsed": false,
     "input": [
      "print oil_obj.kvis"
     ],
     "language": "python",
     "metadata": {},
     "outputs": [
      {
       "output_type": "stream",
       "stream": "stdout",
       "text": [
        "[<KVis(3.16e-06 m^2/s at 313.0K)>]\n"
       ]
      }
     ],
     "prompt_number": 29
    },
    {
     "cell_type": "markdown",
     "metadata": {},
     "source": [
      "However any dynamic viscosities that exist at unique temperatures will be converted to kinematic and used."
     ]
    },
    {
     "cell_type": "code",
     "collapsed": false,
     "input": [
      "oil_obj = (session.query(Oil)\n",
      "           .filter(Oil.name == 'ROSSIIELF, RUSSIAN JOINT STOCK CO')\n",
      "           .one())\n",
      "print oil_obj\n",
      "print oil_obj.imported.dvis\n",
      "print oil_obj.imported.kvis"
     ],
     "language": "python",
     "metadata": {},
     "outputs": [
      {
       "output_type": "stream",
       "stream": "stdout",
       "text": [
        "<Oil(\"ROSSIIELF, RUSSIAN JOINT STOCK CO\")>\n",
        "[<DVis(0.12 kg/ms at 273.0K)>]\n",
        "[<KVis(1.96e-05 m^2/s at 313.0K)>, <KVis(1.4e-05 m^2/s at 323.0K)>]\n"
       ]
      }
     ],
     "prompt_number": 30
    },
    {
     "cell_type": "markdown",
     "metadata": {},
     "source": [
      "This oil has a couple of kinematic viscosities, but also has a dynamic viscosity at a temperature that does not match any of the kinematic viscosities.<br>\n",
      "Here we will convert the dynamic viscosity and add it to the list of kinematic viscosities."
     ]
    },
    {
     "cell_type": "code",
     "collapsed": false,
     "input": [
      "print oil_obj.kvis"
     ],
     "language": "python",
     "metadata": {},
     "outputs": [
      {
       "output_type": "stream",
       "stream": "stdout",
       "text": [
        "[<KVis(0.000115662650602 m^2/s at 273.0K)>, <KVis(1.96e-05 m^2/s at 313.0K)>, <KVis(1.4e-05 m^2/s at 323.0K)>]\n"
       ]
      }
     ],
     "prompt_number": 31
    }
   ],
   "metadata": {}
  }
 ]
}